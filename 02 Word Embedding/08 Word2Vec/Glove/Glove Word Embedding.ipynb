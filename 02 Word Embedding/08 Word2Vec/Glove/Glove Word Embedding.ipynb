{
 "cells": [
  {
   "cell_type": "code",
   "execution_count": 2,
   "metadata": {},
   "outputs": [
    {
     "name": "stdout",
     "output_type": "stream",
     "text": [
      "(25000, 3)\n"
     ]
    },
    {
     "data": {
      "text/html": [
       "<div>\n",
       "<style scoped>\n",
       "    .dataframe tbody tr th:only-of-type {\n",
       "        vertical-align: middle;\n",
       "    }\n",
       "\n",
       "    .dataframe tbody tr th {\n",
       "        vertical-align: top;\n",
       "    }\n",
       "\n",
       "    .dataframe thead th {\n",
       "        text-align: right;\n",
       "    }\n",
       "</style>\n",
       "<table border=\"1\" class=\"dataframe\">\n",
       "  <thead>\n",
       "    <tr style=\"text-align: right;\">\n",
       "      <th></th>\n",
       "      <th>id</th>\n",
       "      <th>sentiment</th>\n",
       "      <th>review</th>\n",
       "    </tr>\n",
       "  </thead>\n",
       "  <tbody>\n",
       "    <tr>\n",
       "      <th>0</th>\n",
       "      <td>\"5814_8\"</td>\n",
       "      <td>1</td>\n",
       "      <td>\"With all this stuff going down at the moment ...</td>\n",
       "    </tr>\n",
       "    <tr>\n",
       "      <th>1</th>\n",
       "      <td>\"2381_9\"</td>\n",
       "      <td>1</td>\n",
       "      <td>\"\\\"The Classic War of the Worlds\\\" by Timothy ...</td>\n",
       "    </tr>\n",
       "    <tr>\n",
       "      <th>2</th>\n",
       "      <td>\"7759_3\"</td>\n",
       "      <td>0</td>\n",
       "      <td>\"The film starts with a manager (Nicholas Bell...</td>\n",
       "    </tr>\n",
       "    <tr>\n",
       "      <th>3</th>\n",
       "      <td>\"3630_4\"</td>\n",
       "      <td>0</td>\n",
       "      <td>\"It must be assumed that those who praised thi...</td>\n",
       "    </tr>\n",
       "    <tr>\n",
       "      <th>4</th>\n",
       "      <td>\"9495_8\"</td>\n",
       "      <td>1</td>\n",
       "      <td>\"Superbly trashy and wondrously unpretentious ...</td>\n",
       "    </tr>\n",
       "  </tbody>\n",
       "</table>\n",
       "</div>"
      ],
      "text/plain": [
       "         id  sentiment                                             review\n",
       "0  \"5814_8\"          1  \"With all this stuff going down at the moment ...\n",
       "1  \"2381_9\"          1  \"\\\"The Classic War of the Worlds\\\" by Timothy ...\n",
       "2  \"7759_3\"          0  \"The film starts with a manager (Nicholas Bell...\n",
       "3  \"3630_4\"          0  \"It must be assumed that those who praised thi...\n",
       "4  \"9495_8\"          1  \"Superbly trashy and wondrously unpretentious ..."
      ]
     },
     "execution_count": 2,
     "metadata": {},
     "output_type": "execute_result"
    }
   ],
   "source": [
    "import pandas as pd\n",
    "\n",
    "df = pd.read_csv(\"labeledTrainData.tsv\",sep='\\t', quoting=3)\n",
    "\n",
    "print(df.shape)\n",
    "\n",
    "df.head()"
   ]
  },
  {
   "cell_type": "code",
   "execution_count": 3,
   "metadata": {},
   "outputs": [],
   "source": [
    "# Pre processing \n",
    "import re\n",
    "\n",
    "def clean_review(text):\n",
    "    # Strip HTML tags\n",
    "    text = re.sub('<[^<]+?>', ' ', text)\n",
    "    \n",
    "    # Strip escaped quotes\n",
    "    text = text.replace('\\\\\"', '')\n",
    "    \n",
    "    # Strip quotes\n",
    "    text = text.replace('\"', '')\n",
    "    \n",
    "    text = text.lower()\n",
    "    \n",
    "    return text"
   ]
  },
  {
   "cell_type": "code",
   "execution_count": 4,
   "metadata": {},
   "outputs": [],
   "source": [
    "df['cleaned_review']= df['review'].apply(clean_review)"
   ]
  },
  {
   "cell_type": "code",
   "execution_count": 5,
   "metadata": {},
   "outputs": [
    {
     "data": {
      "text/html": [
       "<div>\n",
       "<style scoped>\n",
       "    .dataframe tbody tr th:only-of-type {\n",
       "        vertical-align: middle;\n",
       "    }\n",
       "\n",
       "    .dataframe tbody tr th {\n",
       "        vertical-align: top;\n",
       "    }\n",
       "\n",
       "    .dataframe thead th {\n",
       "        text-align: right;\n",
       "    }\n",
       "</style>\n",
       "<table border=\"1\" class=\"dataframe\">\n",
       "  <thead>\n",
       "    <tr style=\"text-align: right;\">\n",
       "      <th></th>\n",
       "      <th>id</th>\n",
       "      <th>sentiment</th>\n",
       "      <th>review</th>\n",
       "      <th>cleaned_review</th>\n",
       "    </tr>\n",
       "  </thead>\n",
       "  <tbody>\n",
       "    <tr>\n",
       "      <th>0</th>\n",
       "      <td>\"5814_8\"</td>\n",
       "      <td>1</td>\n",
       "      <td>\"With all this stuff going down at the moment ...</td>\n",
       "      <td>with all this stuff going down at the moment w...</td>\n",
       "    </tr>\n",
       "    <tr>\n",
       "      <th>1</th>\n",
       "      <td>\"2381_9\"</td>\n",
       "      <td>1</td>\n",
       "      <td>\"\\\"The Classic War of the Worlds\\\" by Timothy ...</td>\n",
       "      <td>the classic war of the worlds by timothy hines...</td>\n",
       "    </tr>\n",
       "    <tr>\n",
       "      <th>2</th>\n",
       "      <td>\"7759_3\"</td>\n",
       "      <td>0</td>\n",
       "      <td>\"The film starts with a manager (Nicholas Bell...</td>\n",
       "      <td>the film starts with a manager (nicholas bell)...</td>\n",
       "    </tr>\n",
       "    <tr>\n",
       "      <th>3</th>\n",
       "      <td>\"3630_4\"</td>\n",
       "      <td>0</td>\n",
       "      <td>\"It must be assumed that those who praised thi...</td>\n",
       "      <td>it must be assumed that those who praised this...</td>\n",
       "    </tr>\n",
       "    <tr>\n",
       "      <th>4</th>\n",
       "      <td>\"9495_8\"</td>\n",
       "      <td>1</td>\n",
       "      <td>\"Superbly trashy and wondrously unpretentious ...</td>\n",
       "      <td>superbly trashy and wondrously unpretentious 8...</td>\n",
       "    </tr>\n",
       "  </tbody>\n",
       "</table>\n",
       "</div>"
      ],
      "text/plain": [
       "         id  sentiment                                             review  \\\n",
       "0  \"5814_8\"          1  \"With all this stuff going down at the moment ...   \n",
       "1  \"2381_9\"          1  \"\\\"The Classic War of the Worlds\\\" by Timothy ...   \n",
       "2  \"7759_3\"          0  \"The film starts with a manager (Nicholas Bell...   \n",
       "3  \"3630_4\"          0  \"It must be assumed that those who praised thi...   \n",
       "4  \"9495_8\"          1  \"Superbly trashy and wondrously unpretentious ...   \n",
       "\n",
       "                                      cleaned_review  \n",
       "0  with all this stuff going down at the moment w...  \n",
       "1  the classic war of the worlds by timothy hines...  \n",
       "2  the film starts with a manager (nicholas bell)...  \n",
       "3  it must be assumed that those who praised this...  \n",
       "4  superbly trashy and wondrously unpretentious 8...  "
      ]
     },
     "execution_count": 5,
     "metadata": {},
     "output_type": "execute_result"
    }
   ],
   "source": [
    "df.head()"
   ]
  },
  {
   "cell_type": "code",
   "execution_count": 6,
   "metadata": {},
   "outputs": [
    {
     "data": {
      "text/plain": [
       "id                0\n",
       "sentiment         0\n",
       "review            0\n",
       "cleaned_review    0\n",
       "dtype: int64"
      ]
     },
     "execution_count": 6,
     "metadata": {},
     "output_type": "execute_result"
    }
   ],
   "source": [
    "df.isnull().sum()"
   ]
  },
  {
   "cell_type": "code",
   "execution_count": 9,
   "metadata": {},
   "outputs": [
    {
     "data": {
      "text/plain": [
       "1    12500\n",
       "0    12500\n",
       "Name: sentiment, dtype: int64"
      ]
     },
     "execution_count": 9,
     "metadata": {},
     "output_type": "execute_result"
    }
   ],
   "source": [
    "import numpy as np\n",
    "import matplotlib.pyplot as plt\n",
    "\n",
    "df['sentiment'].value_counts()"
   ]
  },
  {
   "cell_type": "code",
   "execution_count": 10,
   "metadata": {},
   "outputs": [
    {
     "data": {
      "text/plain": [
       "\"with all this stuff going down at the moment with mj i've started listening to his music, watching the odd documentary here and there, watched the wiz and watched moonwalker again. maybe i just want to get a certain insight into this guy who i thought was really cool in the eighties just to maybe make up my mind whether he is guilty or innocent. moonwalker is part biography, part feature film which i remember going to see at the cinema when it was originally released. some of it has subtle messages about mj's feeling towards the press and also the obvious message of drugs are bad m'kay.  visually impressive but of course this is all about michael jackson so unless you remotely like mj in anyway then you are going to hate this and find it boring. some may call mj an egotist for consenting to the making of this movie but mj and most of his fans would say that he made it for the fans which if true is really nice of him.  the actual feature film bit when it finally starts is only on for 20 minutes or so excluding the smooth criminal sequence and joe pesci is convincing as a psychopathic all powerful drug lord. why he wants mj dead so bad is beyond me. because mj overheard his plans? nah, joe pesci's character ranted that he wanted people to know it is he who is supplying drugs etc so i dunno, maybe he just hates mj's music.  lots of cool things in this like mj turning into a car and a robot and the whole speed demon sequence. also, the director must have had the patience of a saint when it came to filming the kiddy bad sequence as usually directors hate working with one kid let alone a whole bunch of them performing a complex dance scene.  bottom line, this movie is for people who like mj on one level or another (which i think is most people). if not, then stay away. it does try and give off a wholesome message and ironically mj's bestest buddy in this movie is a girl! michael jackson is truly one of the most talented people ever to grace this planet but is he guilty? well, with all the attention i've gave this subject....hmmm well i don't know because people can be different behind closed doors, i know this for a fact. he is either an extremely nice but stupid guy or one of the most sickest liars. i hope he is not the latter.\""
      ]
     },
     "execution_count": 10,
     "metadata": {},
     "output_type": "execute_result"
    }
   ],
   "source": [
    "df['cleaned_review'].values[0]"
   ]
  },
  {
   "cell_type": "code",
   "execution_count": 11,
   "metadata": {},
   "outputs": [],
   "source": [
    "sentences = df['cleaned_review'].values\n",
    "y = df['sentiment'].values"
   ]
  },
  {
   "cell_type": "code",
   "execution_count": 12,
   "metadata": {},
   "outputs": [],
   "source": [
    "from sklearn.model_selection import train_test_split\n",
    "\n",
    "sentences_train,sentences_test,y_train,y_test = train_test_split(sentences, y,test_size=0.25,random_state=1000)"
   ]
  },
  {
   "cell_type": "code",
   "execution_count": 13,
   "metadata": {},
   "outputs": [
    {
     "name": "stdout",
     "output_type": "stream",
     "text": [
      "(18750,)\n",
      "(6250,)\n"
     ]
    }
   ],
   "source": [
    "print(sentences_train.shape)\n",
    "print(sentences_test.shape)"
   ]
  },
  {
   "cell_type": "code",
   "execution_count": 14,
   "metadata": {},
   "outputs": [
    {
     "data": {
      "text/plain": [
       "(18750,)"
      ]
     },
     "execution_count": 14,
     "metadata": {},
     "output_type": "execute_result"
    }
   ],
   "source": [
    "y_train.shape"
   ]
  },
  {
   "cell_type": "code",
   "execution_count": 16,
   "metadata": {},
   "outputs": [
    {
     "data": {
      "text/plain": [
       "array([[   2, 4346,   55, ...,  900, 1791,    8],\n",
       "       [  67, 2121,    1, ...,    8,  121,  124],\n",
       "       [  98,  613,    4, ...,   28,    1,  130],\n",
       "       ...,\n",
       "       [ 595,   60,    4, ...,    0,    0,    0],\n",
       "       [ 259,    1,  818, ...,  702,  458,  160],\n",
       "       [   5, 1471,   33, ..., 2811,    5,  560]])"
      ]
     },
     "execution_count": 16,
     "metadata": {},
     "output_type": "execute_result"
    }
   ],
   "source": [
    "# Word Embeding using : Keras\n",
    "\n",
    "from tensorflow.keras.preprocessing.text import Tokenizer\n",
    "from tensorflow.keras.preprocessing.sequence import pad_sequences\n",
    "\n",
    "tokenizer = Tokenizer(num_words=5000)\n",
    "tokenizer.fit_on_texts(sentences_train)\n",
    "\n",
    "X_train = tokenizer.texts_to_sequences(sentences_train)\n",
    "X_test = tokenizer.texts_to_sequences(sentences_test)\n",
    "\n",
    "# Adding 1 because of  reserved 0 index\n",
    "vocab_size = len(tokenizer.word_index) + 1  \n",
    "\n",
    "maxlen = 100\n",
    "\n",
    "X_train_padding = pad_sequences(X_train, padding='post', maxlen=maxlen)\n",
    "X_test_padding = pad_sequences(X_test, padding='post', maxlen=maxlen)\n",
    "\n",
    "X_train_padding"
   ]
  },
  {
   "cell_type": "code",
   "execution_count": 17,
   "metadata": {},
   "outputs": [
    {
     "name": "stdout",
     "output_type": "stream",
     "text": [
      "[\"what noise fails to do is get us to understand its character. tim robbins plays an obsessive new yorker who can't deal with the obtrusive noises of the city any longer, particularly car alarms. it's an odd idea for a film, which has about as much creative credibility as death wish. it is clever at points; particularly a scene in which our hero is trying to read through hagel, i'm too stupid to be understanding this. he reads and rereads a paragraph in confusion, we read it and don't get it either.just then a car alarm goes off. throughout the movie is constant interference of alarms and city noises. though, all in all it does little to help us understand our hero, who allows this all to ruin his marriage and gets distracted with side plots instead of digging deeper-into his persona.   the film-making itself is too oblivious to notice its own sound problems, shoddy editing, and visible boom mikes. no, noise isn't all-bad. william hurt is at least colorful. at least the ending doesn't fall flat. overall it drives home a logistical point, one you haven't probably thought of. at least i hadn't. though all in all, ninety minutes long, it couldn't have ended sooner. the story dragged on and seemed to be lost as soon as it started.  this is another one of those movies that you might see at a film festival, but probably won't get picked up for distribution. check it out on dvd if you're really partial to someone involved in the project. otherwise skip it.\"\n",
      " 'when i went to watch this movie my expectations were really low, but i was pleasantly surprised.   i thought i was going to watch a boring teen-flick, but in fact the plot is interesting and well executed, the acting was somewhat convincing - especially from melville who really shows his talent in this movie, and the fight scenes were - for a low budget movie - very well done .  i think this movie deserves a broader audience than it has received. it is a movie, which can be seen by the whole family - maybe not the smallest of kids, since it contains some rather rough scenes. a movie about love, and the problems that can occur, when you go against your family traditions.   yes, the movie is very much like bend it like beckham, but i actually think this movie pulls it off better.']\n"
     ]
    }
   ],
   "source": [
    "# Actual input text\n",
    "print(sentences_train[:2])"
   ]
  },
  {
   "cell_type": "code",
   "execution_count": 18,
   "metadata": {},
   "outputs": [
    {
     "name": "stdout",
     "output_type": "stream",
     "text": [
      "[[47, 3336, 991, 5, 76, 6, 74, 175, 5, 380, 91, 105, 1662, 287, 31, 154, 35, 187, 882, 14, 1, 4, 1, 524, 98, 1219, 551, 490, 42, 31, 1014, 325, 15, 3, 18, 61, 44, 40, 13, 72, 1502, 2963, 13, 346, 633, 8, 6, 1091, 29, 767, 551, 3, 133, 7, 61, 262, 620, 6, 266, 5, 329, 139, 143, 94, 369, 5, 26, 1981, 10, 25, 4683, 2, 3, 7, 2964, 70, 329, 8, 2, 88, 74, 8, 347, 39, 90, 3, 490, 267, 121, 468, 1, 16, 6, 1768, 4, 2, 524, 148, 28, 7, 28, 8, 123, 113, 5, 340, 175, 380, 262, 620, 35, 2048, 10, 28, 5, 2570, 22, 1344, 2, 217, 14, 495, 1894, 304, 4, 2718, 80, 22, 3337, 1, 18, 226, 409, 6, 94, 5, 1462, 91, 202, 473, 701, 778, 2, 4346, 55, 3336, 215, 28, 75, 1056, 1470, 6, 29, 221, 3229, 29, 221, 1, 279, 150, 813, 1008, 448, 8, 2979, 337, 3, 211, 27, 21, 750, 237, 194, 4, 29, 221, 9, 1805, 148, 28, 7, 28, 234, 193, 8, 426, 24, 1067, 1, 60, 3273, 19, 2, 457, 5, 26, 407, 13, 501, 13, 8, 634, 10, 6, 155, 27, 4, 144, 97, 11, 21, 235, 63, 29, 3, 18, 1382, 17, 237, 506, 74, 1597, 52, 15, 4684, 783, 8, 41, 19, 278, 43, 330, 62, 5, 291, 565, 7, 1, 1140, 900, 1791, 8], [50, 9, 428, 5, 102, 10, 16, 58, 1400, 69, 62, 359, 17, 9, 12, 3626, 759, 9, 194, 9, 12, 165, 5, 102, 3, 360, 1624, 510, 17, 7, 186, 1, 107, 6, 213, 2, 67, 2121, 1, 114, 12, 642, 1110, 258, 34, 35, 62, 285, 22, 650, 7, 10, 16, 2, 1, 555, 135, 69, 15, 3, 359, 349, 16, 51, 67, 216, 9, 100, 10, 16, 963, 3, 313, 71, 8, 44, 1990, 8, 6, 3, 16, 61, 66, 26, 106, 30, 1, 219, 225, 272, 20, 1, 4, 367, 231, 8, 1401, 45, 240, 2541, 135, 3, 16, 40, 115, 2, 1, 701, 11, 66, 3804, 50, 21, 137, 419, 127, 225, 416, 1, 16, 6, 51, 72, 36, 8, 36, 17, 9, 161, 100, 10, 16, 2719, 8, 121, 124]]\n"
     ]
    }
   ],
   "source": [
    "# convered to sequence of text\n",
    "print(X_train[:2])"
   ]
  },
  {
   "cell_type": "code",
   "execution_count": 19,
   "metadata": {},
   "outputs": [
    {
     "name": "stdout",
     "output_type": "stream",
     "text": [
      "[[   2 4346   55 3336  215   28   75 1056 1470    6   29  221 3229   29\n",
      "   221    1  279  150  813 1008  448    8 2979  337    3  211   27   21\n",
      "   750  237  194    4   29  221    9 1805  148   28    7   28  234  193\n",
      "     8  426   24 1067    1   60 3273   19    2  457    5   26  407   13\n",
      "   501   13    8  634   10    6  155   27    4  144   97   11   21  235\n",
      "    63   29    3   18 1382   17  237  506   74 1597   52   15 4684  783\n",
      "     8   41   19  278   43  330   62    5  291  565    7    1 1140  900\n",
      "  1791    8]\n",
      " [  67 2121    1  114   12  642 1110  258   34   35   62  285   22  650\n",
      "     7   10   16    2    1  555  135   69   15    3  359  349   16   51\n",
      "    67  216    9  100   10   16  963    3  313   71    8   44 1990    8\n",
      "     6    3   16   61   66   26  106   30    1  219  225  272   20    1\n",
      "     4  367  231    8 1401   45  240 2541  135    3   16   40  115    2\n",
      "     1  701   11   66 3804   50   21  137  419  127  225  416    1   16\n",
      "     6   51   72   36    8   36   17    9  161  100   10   16 2719    8\n",
      "   121  124]]\n"
     ]
    }
   ],
   "source": [
    "# post padding\n",
    "print(X_train_padding[:2])"
   ]
  },
  {
   "cell_type": "code",
   "execution_count": 20,
   "metadata": {},
   "outputs": [
    {
     "name": "stdout",
     "output_type": "stream",
     "text": [
      "Vocabulary Size: 78089\n"
     ]
    },
    {
     "data": {
      "text/plain": [
       "4874"
      ]
     },
     "execution_count": 20,
     "metadata": {},
     "output_type": "execute_result"
    }
   ],
   "source": [
    "# Word Embeddings: using pre trained (Glove)\n",
    "word_index = tokenizer.word_index\n",
    "vocab_size = len(word_index) + 1\n",
    "embedding_dim = 50\n",
    "\n",
    "print(\"Vocabulary Size:\",vocab_size)\n",
    "\n",
    "word_index['hello']"
   ]
  },
  {
   "cell_type": "code",
   "execution_count": 21,
   "metadata": {},
   "outputs": [],
   "source": [
    "# Create Embedding matric of shape (78089,50) 78089 : samples and 50: Dimention\n",
    "embedding_matrix = np.zeros((vocab_size, embedding_dim))"
   ]
  },
  {
   "cell_type": "code",
   "execution_count": 22,
   "metadata": {},
   "outputs": [
    {
     "data": {
      "text/plain": [
       "(78089, 50)"
      ]
     },
     "execution_count": 22,
     "metadata": {},
     "output_type": "execute_result"
    }
   ],
   "source": [
    "embedding_matrix.shape"
   ]
  },
  {
   "cell_type": "code",
   "execution_count": 23,
   "metadata": {},
   "outputs": [
    {
     "data": {
      "text/plain": [
       "array([[0., 0., 0., 0., 0., 0., 0., 0., 0., 0., 0., 0., 0., 0., 0., 0.,\n",
       "        0., 0., 0., 0., 0., 0., 0., 0., 0., 0., 0., 0., 0., 0., 0., 0.,\n",
       "        0., 0., 0., 0., 0., 0., 0., 0., 0., 0., 0., 0., 0., 0., 0., 0.,\n",
       "        0., 0.],\n",
       "       [0., 0., 0., 0., 0., 0., 0., 0., 0., 0., 0., 0., 0., 0., 0., 0.,\n",
       "        0., 0., 0., 0., 0., 0., 0., 0., 0., 0., 0., 0., 0., 0., 0., 0.,\n",
       "        0., 0., 0., 0., 0., 0., 0., 0., 0., 0., 0., 0., 0., 0., 0., 0.,\n",
       "        0., 0.],\n",
       "       [0., 0., 0., 0., 0., 0., 0., 0., 0., 0., 0., 0., 0., 0., 0., 0.,\n",
       "        0., 0., 0., 0., 0., 0., 0., 0., 0., 0., 0., 0., 0., 0., 0., 0.,\n",
       "        0., 0., 0., 0., 0., 0., 0., 0., 0., 0., 0., 0., 0., 0., 0., 0.,\n",
       "        0., 0.],\n",
       "       [0., 0., 0., 0., 0., 0., 0., 0., 0., 0., 0., 0., 0., 0., 0., 0.,\n",
       "        0., 0., 0., 0., 0., 0., 0., 0., 0., 0., 0., 0., 0., 0., 0., 0.,\n",
       "        0., 0., 0., 0., 0., 0., 0., 0., 0., 0., 0., 0., 0., 0., 0., 0.,\n",
       "        0., 0.],\n",
       "       [0., 0., 0., 0., 0., 0., 0., 0., 0., 0., 0., 0., 0., 0., 0., 0.,\n",
       "        0., 0., 0., 0., 0., 0., 0., 0., 0., 0., 0., 0., 0., 0., 0., 0.,\n",
       "        0., 0., 0., 0., 0., 0., 0., 0., 0., 0., 0., 0., 0., 0., 0., 0.,\n",
       "        0., 0.],\n",
       "       [0., 0., 0., 0., 0., 0., 0., 0., 0., 0., 0., 0., 0., 0., 0., 0.,\n",
       "        0., 0., 0., 0., 0., 0., 0., 0., 0., 0., 0., 0., 0., 0., 0., 0.,\n",
       "        0., 0., 0., 0., 0., 0., 0., 0., 0., 0., 0., 0., 0., 0., 0., 0.,\n",
       "        0., 0.],\n",
       "       [0., 0., 0., 0., 0., 0., 0., 0., 0., 0., 0., 0., 0., 0., 0., 0.,\n",
       "        0., 0., 0., 0., 0., 0., 0., 0., 0., 0., 0., 0., 0., 0., 0., 0.,\n",
       "        0., 0., 0., 0., 0., 0., 0., 0., 0., 0., 0., 0., 0., 0., 0., 0.,\n",
       "        0., 0.],\n",
       "       [0., 0., 0., 0., 0., 0., 0., 0., 0., 0., 0., 0., 0., 0., 0., 0.,\n",
       "        0., 0., 0., 0., 0., 0., 0., 0., 0., 0., 0., 0., 0., 0., 0., 0.,\n",
       "        0., 0., 0., 0., 0., 0., 0., 0., 0., 0., 0., 0., 0., 0., 0., 0.,\n",
       "        0., 0.],\n",
       "       [0., 0., 0., 0., 0., 0., 0., 0., 0., 0., 0., 0., 0., 0., 0., 0.,\n",
       "        0., 0., 0., 0., 0., 0., 0., 0., 0., 0., 0., 0., 0., 0., 0., 0.,\n",
       "        0., 0., 0., 0., 0., 0., 0., 0., 0., 0., 0., 0., 0., 0., 0., 0.,\n",
       "        0., 0.],\n",
       "       [0., 0., 0., 0., 0., 0., 0., 0., 0., 0., 0., 0., 0., 0., 0., 0.,\n",
       "        0., 0., 0., 0., 0., 0., 0., 0., 0., 0., 0., 0., 0., 0., 0., 0.,\n",
       "        0., 0., 0., 0., 0., 0., 0., 0., 0., 0., 0., 0., 0., 0., 0., 0.,\n",
       "        0., 0.]])"
      ]
     },
     "execution_count": 23,
     "metadata": {},
     "output_type": "execute_result"
    }
   ],
   "source": [
    "embedding_matrix[:10]"
   ]
  },
  {
   "cell_type": "code",
   "execution_count": 25,
   "metadata": {},
   "outputs": [],
   "source": [
    "glove_file = open('glove.6B.100d.txt', encoding=\"utf8\")\n",
    "\n",
    "for line in glove_file:\n",
    "    word, *vector = line.split()\n",
    "    if word in word_index:\n",
    "        idx = word_index[word]\n",
    "        embedding_matrix[idx] = np.array(vector, dtype=np.float32)[:embedding_dim]"
   ]
  },
  {
   "cell_type": "code",
   "execution_count": 26,
   "metadata": {},
   "outputs": [
    {
     "data": {
      "text/plain": [
       "(78089, 50)"
      ]
     },
     "execution_count": 26,
     "metadata": {},
     "output_type": "execute_result"
    }
   ],
   "source": [
    "embedding_matrix.shape"
   ]
  },
  {
   "cell_type": "code",
   "execution_count": 27,
   "metadata": {},
   "outputs": [
    {
     "data": {
      "text/plain": [
       "array([[ 0.        ,  0.        ,  0.        ,  0.        ,  0.        ,\n",
       "         0.        ,  0.        ,  0.        ,  0.        ,  0.        ,\n",
       "         0.        ,  0.        ,  0.        ,  0.        ,  0.        ,\n",
       "         0.        ,  0.        ,  0.        ,  0.        ,  0.        ,\n",
       "         0.        ,  0.        ,  0.        ,  0.        ,  0.        ,\n",
       "         0.        ,  0.        ,  0.        ,  0.        ,  0.        ,\n",
       "         0.        ,  0.        ,  0.        ,  0.        ,  0.        ,\n",
       "         0.        ,  0.        ,  0.        ,  0.        ,  0.        ,\n",
       "         0.        ,  0.        ,  0.        ,  0.        ,  0.        ,\n",
       "         0.        ,  0.        ,  0.        ,  0.        ,  0.        ],\n",
       "       [-0.038194  , -0.24487001,  0.72812003, -0.39961001,  0.083172  ,\n",
       "         0.043953  , -0.39140999,  0.3344    , -0.57545   ,  0.087459  ,\n",
       "         0.28786999, -0.06731   ,  0.30906001, -0.26383999, -0.13231   ,\n",
       "        -0.20757   ,  0.33395001, -0.33848   , -0.31742999, -0.48335999,\n",
       "         0.1464    , -0.37303999,  0.34577   ,  0.052041  ,  0.44946   ,\n",
       "        -0.46970999,  0.02628   , -0.54154998, -0.15518001, -0.14106999,\n",
       "        -0.039722  ,  0.28277001,  0.14393   ,  0.23464   , -0.31020999,\n",
       "         0.086173  ,  0.20397   ,  0.52623999,  0.17163999, -0.082378  ,\n",
       "        -0.71787   , -0.41531   ,  0.20334999, -0.12763   ,  0.41367   ,\n",
       "         0.55186999,  0.57907999, -0.33476999, -0.36559001, -0.54856998],\n",
       "       [-0.071953  ,  0.23127   ,  0.023731  , -0.50638002,  0.33923   ,\n",
       "         0.19589999, -0.32943001,  0.18364   , -0.18057001,  0.28963   ,\n",
       "         0.20448001, -0.54960001,  0.27399001,  0.58327001,  0.20468   ,\n",
       "        -0.49228001,  0.19973999, -0.070237  , -0.88049001,  0.29484999,\n",
       "         0.14071   , -0.1009    ,  0.99449003,  0.36973   ,  0.44554001,\n",
       "         0.28997999, -0.1376    , -0.56365001, -0.029365  , -0.4122    ,\n",
       "        -0.25268999,  0.63181001, -0.44767001,  0.24363001, -0.10813   ,\n",
       "         0.25163999,  0.46967   ,  0.37549999, -0.23613   , -0.14128999,\n",
       "        -0.44536999, -0.65736997, -0.042421  , -0.28636   , -0.28810999,\n",
       "         0.063766  ,  0.20281   , -0.53542   ,  0.41306999, -0.59722   ],\n",
       "       [-0.27085999,  0.044006  , -0.02026   , -0.17395   ,  0.6444    ,\n",
       "         0.71213001,  0.35510001,  0.47138   , -0.29637   ,  0.54426998,\n",
       "        -0.72294003, -0.0047612 ,  0.040611  ,  0.043236  ,  0.29729   ,\n",
       "         0.10725   ,  0.40156001, -0.53662002,  0.033382  ,  0.067396  ,\n",
       "         0.64556003, -0.085523  ,  0.14103   ,  0.094539  ,  0.74947   ,\n",
       "        -0.19400001, -0.68739003, -0.41740999, -0.22807001,  0.12      ,\n",
       "        -0.48999   ,  0.80944997,  0.045138  , -0.11898   ,  0.20161   ,\n",
       "         0.39276001, -0.20121001,  0.31354001,  0.75304002,  0.25907001,\n",
       "        -0.11566   , -0.029319  ,  0.93498999, -0.36067   ,  0.52420002,\n",
       "         0.23706   ,  0.52714998,  0.22869   , -0.51958001, -0.79348999],\n",
       "       [-0.1529    , -0.24279   ,  0.89837003,  0.16996001,  0.53516001,\n",
       "         0.48784   , -0.58825999, -0.17982   , -1.35810006,  0.42541   ,\n",
       "         0.15377   ,  0.24214999,  0.13474   ,  0.41192999,  0.67043   ,\n",
       "        -0.56418002,  0.42985001, -0.012183  , -0.11677   ,  0.31781   ,\n",
       "         0.054177  , -0.054273  ,  0.35516   , -0.30241001,  0.31434   ,\n",
       "        -0.33846   ,  0.71714997, -0.26855001, -0.15837   , -0.47466999,\n",
       "         0.051581  , -0.33252001,  0.15003   , -0.12989999, -0.54617   ,\n",
       "        -0.37843001,  0.64261001,  0.82187003, -0.080006  ,  0.078479  ,\n",
       "        -0.96976   , -0.57740998,  0.56490999, -0.39873001, -0.057099  ,\n",
       "         0.19743   ,  0.065706  , -0.48091999, -0.20125   , -0.40834001],\n",
       "       [-0.18970001,  0.050024  ,  0.19084001, -0.049184  , -0.089737  ,\n",
       "         0.21006   , -0.54952002,  0.098377  , -0.20135   ,  0.34241   ,\n",
       "        -0.092677  ,  0.161     , -0.13268   , -0.2816    ,  0.18737   ,\n",
       "        -0.42958999,  0.96038997,  0.13971999, -1.07809997,  0.40518001,\n",
       "         0.50538999, -0.55063999,  0.4844    ,  0.38044   , -0.0029055 ,\n",
       "        -0.34942001, -0.099696  , -0.78368002,  1.03629994, -0.2314    ,\n",
       "        -0.47121   ,  0.57125998, -0.21454   ,  0.35958001, -0.48319   ,\n",
       "         1.08749998,  0.28523999,  0.12447   , -0.039248  , -0.076732  ,\n",
       "        -0.76343   , -0.32409   , -0.57489997, -1.08930004, -0.41811001,\n",
       "         0.45120001,  0.12112   , -0.51367003, -0.13349   , -1.13779998],\n",
       "       [-0.54263997,  0.41475999,  1.03219998, -0.40244001,  0.46691   ,\n",
       "         0.21816   , -0.074864  ,  0.47332001,  0.080996  , -0.22079   ,\n",
       "        -0.12808   , -0.1144    ,  0.50891   ,  0.11568   ,  0.028211  ,\n",
       "        -0.3628    ,  0.43823001,  0.047511  ,  0.20282   ,  0.49857   ,\n",
       "        -0.10068   ,  0.13269   ,  0.16971999,  0.11653   ,  0.31355   ,\n",
       "         0.25713   ,  0.092783  , -0.56826001, -0.52974999, -0.051456  ,\n",
       "        -0.67325997,  0.92532998,  0.26930001,  0.22734   ,  0.66364998,\n",
       "         0.26221001,  0.19719   ,  0.26089999,  0.18774   , -0.34540001,\n",
       "        -0.42635   ,  0.13975   ,  0.56338   , -0.56906998,  0.12398   ,\n",
       "        -0.12894   ,  0.72483999, -0.26104999, -0.26313999, -0.43605   ],\n",
       "       [ 0.085703  , -0.22201   ,  0.16569   ,  0.13372999,  0.38238999,\n",
       "         0.35400999,  0.01287   ,  0.22461   , -0.43816999,  0.50164002,\n",
       "        -0.35874   , -0.34983   ,  0.055156  ,  0.69647998, -0.17958   ,\n",
       "         0.067926  ,  0.39100999,  0.16039   , -0.26635   , -0.21138   ,\n",
       "         0.53697997,  0.49379   ,  0.93660003,  0.66902   ,  0.21793   ,\n",
       "        -0.46641999,  0.22383   , -0.36204001, -0.17656   ,  0.17479999,\n",
       "        -0.20367   ,  0.13931   ,  0.019832  , -0.10413   , -0.20243999,\n",
       "         0.55002999, -0.15459999,  0.98654997, -0.26863   , -0.29089999,\n",
       "        -0.32866001, -0.34187999, -0.16943   , -0.42001   , -0.046727  ,\n",
       "        -0.16327   ,  0.70823997, -0.74910998, -0.091559  , -0.96178001],\n",
       "       [-0.30664   ,  0.16821   ,  0.98510998, -0.33605999, -0.24160001,\n",
       "         0.16186   , -0.053496  ,  0.43009999,  0.57341999, -0.071569  ,\n",
       "         0.36100999,  0.26729   ,  0.27789   , -0.072268  ,  0.13838001,\n",
       "        -0.26714   ,  0.12999   ,  0.22949   , -0.18311   ,  0.50163001,\n",
       "         0.44920999, -0.020821  ,  0.42642   , -0.068762  ,  0.40336999,\n",
       "         0.095198  , -0.31944001, -0.54650998, -0.13345   , -0.56511003,\n",
       "        -0.20975   ,  1.15919995, -0.19400001,  0.19828001, -0.11924   ,\n",
       "         0.41780999,  0.0068383 , -0.20536999, -0.53375   , -0.52225   ,\n",
       "        -0.38227001, -0.0065833 ,  0.14264999, -0.42502001, -0.31150001,\n",
       "         0.0027352 ,  0.75093001, -0.48218   , -0.18595   , -0.77104002],\n",
       "       [-0.046539  ,  0.61966002,  0.56647003, -0.46584001, -1.18900001,\n",
       "         0.44599   ,  0.066035  ,  0.31909999,  0.14679   , -0.22119001,\n",
       "         0.79238999,  0.29905   ,  0.16073   ,  0.025324  ,  0.18678001,\n",
       "        -0.31000999, -0.28108001,  0.60514998, -1.0654    ,  0.52476001,\n",
       "         0.064152  ,  1.03579998, -0.40779001, -0.38011   ,  0.30801001,\n",
       "         0.59964001, -0.26991001, -0.76034999,  0.94221997, -0.46919   ,\n",
       "        -0.18278   ,  0.90652001,  0.79671001,  0.24824999,  0.25713   ,\n",
       "         0.6232    , -0.44768   ,  0.65357   ,  0.76902002, -0.51229   ,\n",
       "        -0.44332999, -0.21867   ,  0.38370001, -1.14830005, -0.94397998,\n",
       "        -0.15062   ,  0.30012   , -0.57805997,  0.20175   , -1.65910006]])"
      ]
     },
     "execution_count": 27,
     "metadata": {},
     "output_type": "execute_result"
    }
   ],
   "source": [
    "embedding_matrix[:10]"
   ]
  },
  {
   "cell_type": "code",
   "execution_count": 24,
   "metadata": {},
   "outputs": [
    {
     "data": {
      "text/plain": [
       "(10, 50)"
      ]
     },
     "execution_count": 24,
     "metadata": {},
     "output_type": "execute_result"
    }
   ],
   "source": [
    "embedding_matrix[:10].shape"
   ]
  },
  {
   "cell_type": "code",
   "execution_count": null,
   "metadata": {},
   "outputs": [],
   "source": []
  }
 ],
 "metadata": {
  "kernelspec": {
   "display_name": "Python 3",
   "language": "python",
   "name": "python3"
  },
  "language_info": {
   "codemirror_mode": {
    "name": "ipython",
    "version": 3
   },
   "file_extension": ".py",
   "mimetype": "text/x-python",
   "name": "python",
   "nbconvert_exporter": "python",
   "pygments_lexer": "ipython3",
   "version": "3.6.8"
  }
 },
 "nbformat": 4,
 "nbformat_minor": 2
}
