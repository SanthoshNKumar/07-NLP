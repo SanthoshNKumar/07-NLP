{
 "cells": [
  {
   "cell_type": "code",
   "execution_count": null,
   "metadata": {},
   "outputs": [],
   "source": [
    "'''\n",
    "CBOW : Predict a word(Output) from many words(Input)"
   ]
  },
  {
   "cell_type": "code",
   "execution_count": 10,
   "metadata": {},
   "outputs": [
    {
     "name": "stdout",
     "output_type": "stream",
     "text": [
      "Sentence Length=6\n",
      "['The', 'King', 'James', 'Bible', 'london', 'are']\n",
      "\n",
      "\n",
      "Input:['King', 'James'] \t \t Output:The\n",
      "\n",
      "\n",
      "Input:['The', 'James', 'Bible'] \t \t Output:King\n",
      "\n",
      "\n",
      "Input:['The', 'King', 'Bible', 'london'] \t \t Output:James\n",
      "\n",
      "\n",
      "Input:['King', 'James', 'london', 'are'] \t \t Output:Bible\n",
      "\n",
      "\n",
      "Input:['James', 'Bible', 'are'] \t \t Output:london\n",
      "\n",
      "\n",
      "Input:['Bible', 'london'] \t \t Output:are\n",
      "\n",
      "\n"
     ]
    }
   ],
   "source": [
    "window_size=2\n",
    "\n",
    "df = ['The', 'King', 'James', 'Bible',\"london\",'are']\n",
    "\n",
    "sen_length = len(df)\n",
    "print(\"Sentence Length={0}\".format(sen_length))\n",
    "print(df)\n",
    "\n",
    "print(\"\\n\")\n",
    "\n",
    "for index,word in enumerate(df):\n",
    "    \n",
    "    start = index - window_size\n",
    "    end = index + window_size + 1\n",
    "    \n",
    "    #print(\"Start=\",start)\n",
    "    #print(\"End=\",end)\n",
    "    \n",
    "    #print(\"Index={0}\".format(index))\n",
    "    \n",
    "    \n",
    "    print(\"Input:{0} \\t \\t Output:{1}\".format([df[i] for i in range(start,end) if 0<= i < sen_length and i != index],word))\n",
    "    print(\"\\n\")\n",
    "    #print(\"Input:\",[df[i] for i in range(start,end) if 0<= i < sen_length and i != index])\n",
    "    #print(\"\\t\\t\\t\\t\\toutput = \",word)\n",
    "   "
   ]
  }
 ],
 "metadata": {
  "kernelspec": {
   "display_name": "Python 3",
   "language": "python",
   "name": "python3"
  },
  "language_info": {
   "codemirror_mode": {
    "name": "ipython",
    "version": 3
   },
   "file_extension": ".py",
   "mimetype": "text/x-python",
   "name": "python",
   "nbconvert_exporter": "python",
   "pygments_lexer": "ipython3",
   "version": "3.6.8"
  }
 },
 "nbformat": 4,
 "nbformat_minor": 2
}
