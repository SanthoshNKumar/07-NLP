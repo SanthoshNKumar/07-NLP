{
 "cells": [
  {
   "cell_type": "code",
   "execution_count": 1,
   "metadata": {},
   "outputs": [],
   "source": [
    "import nltk\n",
    "import re\n",
    "from nltk.corpus import stopwords\n",
    "from nltk.tokenize import word_tokenize,sent_tokenize\n",
    "import math"
   ]
  },
  {
   "cell_type": "code",
   "execution_count": 2,
   "metadata": {},
   "outputs": [],
   "source": [
    "text = '''If you like tuna and tomato sauce- try combining the two.\n",
    "         It's really not as bad as it sounds.\n",
    "         If the Easter Bunny and the Tooth Fairy had babies would they take your teeth and leave chocolate for you?'''"
   ]
  },
  {
   "cell_type": "code",
   "execution_count": 3,
   "metadata": {},
   "outputs": [
    {
     "name": "stdout",
     "output_type": "stream",
     "text": [
      "['If you like tuna and tomato sauce- try combining the two.', \"It's really not as bad as it sounds.\", 'If the Easter Bunny and the Tooth Fairy had babies would they take your teeth and leave chocolate for you?']\n"
     ]
    }
   ],
   "source": [
    "sentences = sent_tokenize(text)\n",
    "\n",
    "print(sentences)"
   ]
  },
  {
   "cell_type": "code",
   "execution_count": 4,
   "metadata": {},
   "outputs": [],
   "source": [
    "def remove_string_special_characters(s):\n",
    "    \n",
    "    # replace special characters with\n",
    "    stripped = re.sub('[^\\w\\s]', '',s)\n",
    "    stripped = re.sub('_','',stripped)\n",
    "    \n",
    "    # Change any whitespace to one space\n",
    "    stripped = re.sub('\\s+',' ',stripped)\n",
    "    \n",
    "    # Remove start and white space\n",
    "    stripped = stripped.strip()\n",
    "    \n",
    "    return stripped\n",
    "                      "
   ]
  },
  {
   "cell_type": "code",
   "execution_count": 5,
   "metadata": {},
   "outputs": [
    {
     "data": {
      "text/plain": [
       "['If you like tuna and tomato sauce try combining the two',\n",
       " 'Its really not as bad as it sounds',\n",
       " 'If the Easter Bunny and the Tooth Fairy had babies would they take your teeth and leave chocolate for you']"
      ]
     },
     "execution_count": 5,
     "metadata": {},
     "output_type": "execute_result"
    }
   ],
   "source": [
    "sentences = [remove_string_special_characters(s) for s in sentences]\n",
    "\n",
    "sentences"
   ]
  },
  {
   "cell_type": "code",
   "execution_count": 6,
   "metadata": {},
   "outputs": [],
   "source": [
    "doc_info = []\n",
    "\n",
    "i =0\n",
    "\n",
    "for sent in sentences:\n",
    "    i = i+1\n",
    "    count  = len(word_tokenize(sent))\n",
    "    temp = {'dpc_id': i ,'doc_length': count}\n",
    "    doc_info.append(temp)"
   ]
  },
  {
   "cell_type": "code",
   "execution_count": 7,
   "metadata": {},
   "outputs": [
    {
     "data": {
      "text/plain": [
       "[{'dpc_id': 1, 'doc_length': 11},\n",
       " {'dpc_id': 2, 'doc_length': 8},\n",
       " {'dpc_id': 3, 'doc_length': 20}]"
      ]
     },
     "execution_count": 7,
     "metadata": {},
     "output_type": "execute_result"
    }
   ],
   "source": [
    "doc_info"
   ]
  },
  {
   "cell_type": "code",
   "execution_count": 8,
   "metadata": {},
   "outputs": [],
   "source": [
    "i =0;\n",
    "freqDict_list = []\n",
    "for sent in sentences:\n",
    "    i = i+1\n",
    "    freq_dict = {}\n",
    "    words = word_tokenize(sent)\n",
    "    for word in words:\n",
    "        word = word.lower()\n",
    "        if word in freq_dict:\n",
    "            freq_dict[word] +=1\n",
    "        else:\n",
    "            freq_dict[word] = 1\n",
    "        temp = {'doc_id':i,'freq_dict':freq_dict}\n",
    "    freqDict_list.append(temp)"
   ]
  },
  {
   "cell_type": "code",
   "execution_count": 9,
   "metadata": {},
   "outputs": [],
   "source": [
    "# Compute TF: (Total number of times the word occurs in the Text / Total number of words in text)\n",
    "Tf_scores = []\n",
    "\n",
    "for tempDict in freqDict_list:\n",
    "    id = tempDict['doc_id']\n",
    "    for k in tempDict['freq_dict']:\n",
    "        temp = {'doc_id':id,\n",
    "                'Tf_score':tempDict['freq_dict'][k] / doc_info[id-1]['doc_length'],\n",
    "                'key':k}\n",
    "        Tf_scores.append(temp)"
   ]
  },
  {
   "cell_type": "code",
   "execution_count": 10,
   "metadata": {},
   "outputs": [],
   "source": [
    "# Compute IDF : (Total number of documents / Number of documensts with word t in it)\n",
    "\n",
    "TDF_scores = []\n",
    "counter =0\n",
    "for dict in freqDict_list:\n",
    "    counter += 1\n",
    "    "
   ]
  },
  {
   "cell_type": "code",
   "execution_count": 11,
   "metadata": {},
   "outputs": [],
   "source": [
    "import pandas as pd\n",
    "\n",
    "df = pd.DataFrame(sentences,columns=['sentences'])\n",
    "\n",
    "df['sentences_wordTokenize'] = df['sentences'].apply(lambda x : word_tokenize(x) )"
   ]
  },
  {
   "cell_type": "code",
   "execution_count": 12,
   "metadata": {},
   "outputs": [],
   "source": [
    "df['word_lenth'] = df['sentences_wordTokenize'].apply(lambda x : len(x))"
   ]
  },
  {
   "cell_type": "code",
   "execution_count": 13,
   "metadata": {},
   "outputs": [],
   "source": [
    "def getFreq_Dict(sent):\n",
    "    freq_dict = {}\n",
    "    for w in sent:\n",
    "        if w in freq_dict:\n",
    "            freq_dict[w] +=1\n",
    "        else:\n",
    "            freq_dict[w] = 1\n",
    "    return freq_dict"
   ]
  },
  {
   "cell_type": "code",
   "execution_count": 14,
   "metadata": {},
   "outputs": [],
   "source": [
    "df['freq_dict'] = df['sentences_wordTokenize'].apply(lambda x : getFreq_Dict(x))"
   ]
  },
  {
   "cell_type": "code",
   "execution_count": 15,
   "metadata": {},
   "outputs": [],
   "source": [
    "def getTF_Sore(freq_dict):\n",
    "    tf_scores = {}\n",
    "    \n",
    "    total_numbr_words = sum(freq_dict.values())\n",
    "    \n",
    "    words = list(freq_dict.keys())\n",
    "    \n",
    "    for i in range(len(words)):\n",
    "        tf = freq_dict[words[i]] / total_numbr_words\n",
    "        tf_scores[words[i]] = tf\n",
    "        \n",
    "    return tf_scores"
   ]
  },
  {
   "cell_type": "code",
   "execution_count": 16,
   "metadata": {},
   "outputs": [],
   "source": [
    "df['Tf_score'] = df['freq_dict'].apply(lambda x : getTF_Sore(x))"
   ]
  },
  {
   "cell_type": "code",
   "execution_count": 17,
   "metadata": {},
   "outputs": [],
   "source": [
    "def computeIDF(doc_info,freqDict_list):\n",
    "    IDF_scores = {}\n",
    "    counter = 0\n",
    "    for dict in freqDict_list:\n",
    "        counter +=1\n",
    "        for k in dict['freq_dict'].keys():\n",
    "            count = sum([k in tempDict['freq_dict'] for tempDict in freqDict_list])\n",
    "            \n",
    "            IDF_scores[k] = math.log(len(doc_info)/count)\n",
    "            \n",
    "    return IDF_scores\n"
   ]
  },
  {
   "cell_type": "code",
   "execution_count": 18,
   "metadata": {},
   "outputs": [],
   "source": [
    "idf = computeIDF(doc_info,freqDict_list)"
   ]
  },
  {
   "cell_type": "code",
   "execution_count": 19,
   "metadata": {},
   "outputs": [],
   "source": [
    "def IDFCal(sent_words):\n",
    "    idf_scores = {}\n",
    "    words = list(sent_words.keys())\n",
    "    for i in range(len(words)):\n",
    "        idf_scores[words[i]] = idf[words[i].lower()]\n",
    "        \n",
    "    return idf_scores"
   ]
  },
  {
   "cell_type": "code",
   "execution_count": 20,
   "metadata": {},
   "outputs": [],
   "source": [
    "df['IDF_score'] = df['Tf_score'].apply(lambda x : IDFCal(x))"
   ]
  },
  {
   "cell_type": "code",
   "execution_count": null,
   "metadata": {},
   "outputs": [],
   "source": []
  },
  {
   "cell_type": "code",
   "execution_count": 22,
   "metadata": {},
   "outputs": [],
   "source": [
    "idf_score = {}\n",
    "\n",
    "for dict in list(df['IDF_score']):\n",
    "    words = list(dict.keys())\n",
    "    for i in range(len(words)):\n",
    "        idf_score[words[i]] = dict[words[i]]"
   ]
  },
  {
   "cell_type": "code",
   "execution_count": 25,
   "metadata": {},
   "outputs": [],
   "source": [
    "def computeTfIDF(tf_score):\n",
    "    words = list(tf_score.keys())\n",
    "    \n",
    "    tf_idf_score = {}\n",
    "    \n",
    "    for i in range(len(words)):\n",
    "        tf_sre = tf_score[words[i]]\n",
    "        idf_sre = idf_score[words[i]]\n",
    "        \n",
    "        tf_idf_score[words[i]] = tf_sre * idf_sre\n",
    "        \n",
    "    return tf_idf_score"
   ]
  },
  {
   "cell_type": "code",
   "execution_count": 26,
   "metadata": {},
   "outputs": [],
   "source": [
    "df['TF_IDF'] = df['Tf_score'].apply(lambda x : computeTfIDF(x))"
   ]
  },
  {
   "cell_type": "code",
   "execution_count": 27,
   "metadata": {},
   "outputs": [
    {
     "data": {
      "text/html": [
       "<div>\n",
       "<style scoped>\n",
       "    .dataframe tbody tr th:only-of-type {\n",
       "        vertical-align: middle;\n",
       "    }\n",
       "\n",
       "    .dataframe tbody tr th {\n",
       "        vertical-align: top;\n",
       "    }\n",
       "\n",
       "    .dataframe thead th {\n",
       "        text-align: right;\n",
       "    }\n",
       "</style>\n",
       "<table border=\"1\" class=\"dataframe\">\n",
       "  <thead>\n",
       "    <tr style=\"text-align: right;\">\n",
       "      <th></th>\n",
       "      <th>sentences</th>\n",
       "      <th>sentences_wordTokenize</th>\n",
       "      <th>word_lenth</th>\n",
       "      <th>freq_dict</th>\n",
       "      <th>Tf_score</th>\n",
       "      <th>IDF_score</th>\n",
       "      <th>TF_IDF</th>\n",
       "    </tr>\n",
       "  </thead>\n",
       "  <tbody>\n",
       "    <tr>\n",
       "      <td>0</td>\n",
       "      <td>If you like tuna and tomato sauce try combinin...</td>\n",
       "      <td>[If, you, like, tuna, and, tomato, sauce, try,...</td>\n",
       "      <td>11</td>\n",
       "      <td>{'If': 1, 'you': 1, 'like': 1, 'tuna': 1, 'and...</td>\n",
       "      <td>{'If': 0.09090909090909091, 'you': 0.090909090...</td>\n",
       "      <td>{'If': 0.4054651081081644, 'you': 0.4054651081...</td>\n",
       "      <td>{'If': 0.036860464373469494, 'you': 0.03686046...</td>\n",
       "    </tr>\n",
       "    <tr>\n",
       "      <td>1</td>\n",
       "      <td>Its really not as bad as it sounds</td>\n",
       "      <td>[Its, really, not, as, bad, as, it, sounds]</td>\n",
       "      <td>8</td>\n",
       "      <td>{'Its': 1, 'really': 1, 'not': 1, 'as': 2, 'ba...</td>\n",
       "      <td>{'Its': 0.125, 'really': 0.125, 'not': 0.125, ...</td>\n",
       "      <td>{'Its': 1.0986122886681098, 'really': 1.098612...</td>\n",
       "      <td>{'Its': 0.13732653608351372, 'really': 0.13732...</td>\n",
       "    </tr>\n",
       "    <tr>\n",
       "      <td>2</td>\n",
       "      <td>If the Easter Bunny and the Tooth Fairy had ba...</td>\n",
       "      <td>[If, the, Easter, Bunny, and, the, Tooth, Fair...</td>\n",
       "      <td>20</td>\n",
       "      <td>{'If': 1, 'the': 2, 'Easter': 1, 'Bunny': 1, '...</td>\n",
       "      <td>{'If': 0.05, 'the': 0.1, 'Easter': 0.05, 'Bunn...</td>\n",
       "      <td>{'If': 0.4054651081081644, 'the': 0.4054651081...</td>\n",
       "      <td>{'If': 0.02027325540540822, 'the': 0.040546510...</td>\n",
       "    </tr>\n",
       "  </tbody>\n",
       "</table>\n",
       "</div>"
      ],
      "text/plain": [
       "                                           sentences  \\\n",
       "0  If you like tuna and tomato sauce try combinin...   \n",
       "1                 Its really not as bad as it sounds   \n",
       "2  If the Easter Bunny and the Tooth Fairy had ba...   \n",
       "\n",
       "                              sentences_wordTokenize  word_lenth  \\\n",
       "0  [If, you, like, tuna, and, tomato, sauce, try,...          11   \n",
       "1        [Its, really, not, as, bad, as, it, sounds]           8   \n",
       "2  [If, the, Easter, Bunny, and, the, Tooth, Fair...          20   \n",
       "\n",
       "                                           freq_dict  \\\n",
       "0  {'If': 1, 'you': 1, 'like': 1, 'tuna': 1, 'and...   \n",
       "1  {'Its': 1, 'really': 1, 'not': 1, 'as': 2, 'ba...   \n",
       "2  {'If': 1, 'the': 2, 'Easter': 1, 'Bunny': 1, '...   \n",
       "\n",
       "                                            Tf_score  \\\n",
       "0  {'If': 0.09090909090909091, 'you': 0.090909090...   \n",
       "1  {'Its': 0.125, 'really': 0.125, 'not': 0.125, ...   \n",
       "2  {'If': 0.05, 'the': 0.1, 'Easter': 0.05, 'Bunn...   \n",
       "\n",
       "                                           IDF_score  \\\n",
       "0  {'If': 0.4054651081081644, 'you': 0.4054651081...   \n",
       "1  {'Its': 1.0986122886681098, 'really': 1.098612...   \n",
       "2  {'If': 0.4054651081081644, 'the': 0.4054651081...   \n",
       "\n",
       "                                              TF_IDF  \n",
       "0  {'If': 0.036860464373469494, 'you': 0.03686046...  \n",
       "1  {'Its': 0.13732653608351372, 'really': 0.13732...  \n",
       "2  {'If': 0.02027325540540822, 'the': 0.040546510...  "
      ]
     },
     "execution_count": 27,
     "metadata": {},
     "output_type": "execute_result"
    }
   ],
   "source": [
    "df"
   ]
  },
  {
   "cell_type": "code",
   "execution_count": null,
   "metadata": {},
   "outputs": [],
   "source": []
  },
  {
   "cell_type": "code",
   "execution_count": null,
   "metadata": {},
   "outputs": [],
   "source": []
  }
 ],
 "metadata": {
  "kernelspec": {
   "display_name": "Python 3",
   "language": "python",
   "name": "python3"
  },
  "language_info": {
   "codemirror_mode": {
    "name": "ipython",
    "version": 3
   },
   "file_extension": ".py",
   "mimetype": "text/x-python",
   "name": "python",
   "nbconvert_exporter": "python",
   "pygments_lexer": "ipython3",
   "version": "3.7.4"
  }
 },
 "nbformat": 4,
 "nbformat_minor": 2
}
