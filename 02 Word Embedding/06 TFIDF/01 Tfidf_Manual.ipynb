{
 "cells": [
  {
   "cell_type": "code",
   "execution_count": 6,
   "metadata": {},
   "outputs": [],
   "source": [
    "import math\n",
    "\n",
    "# Step 1: Split the document\n",
    "# Step 2: Get the Word_freq of document\n",
    "# Step 3 : tfScore = (frequency of the word / total number of the words in the document )\n",
    "\n",
    "def getTFScore(document):\n",
    "    \n",
    "    print(\"Step 1: Actual Document:\\n\",document)\n",
    "    print(\" \")\n",
    "    \n",
    "    # split the words\n",
    "    document_tokenized = document.split()\n",
    "    print('Step 2: Split the document \\n',document_tokenized)\n",
    "    print(\" \")\n",
    "    \n",
    "    \n",
    "    # Get the word frequency\n",
    "    wordFreq_doc = {}\n",
    "    for w in document_tokenized:\n",
    "        if w in wordFreq_doc:\n",
    "            wordFreq_doc[w] +=1\n",
    "        else:\n",
    "            wordFreq_doc[w] =1\n",
    "        \n",
    "        tf_score = {}\n",
    "    \n",
    "    print(\"Step 3: Word Frequency in the document\\n\",wordFreq_doc)\n",
    "    print(\" \")\n",
    "    \n",
    "    total_words_doc = len(document_tokenized)\n",
    "    \n",
    "    print(\"Step 4: TF_Score = (word frequency of word in document / total number of words in document)\",\"\\n\")\n",
    "    print(\" \")\n",
    "    \n",
    "    \n",
    "    print(\"total_words_doc=\",total_words_doc)\n",
    "    print(\" \")\n",
    "    \n",
    "    for w, count in wordFreq_doc.items():\n",
    "        tf_score[w] = count / total_words_doc\n",
    "        print(\"{0} = {1} / {2} = {3}\".format(w,count,total_words_doc,tf_score[w]))\n",
    "        \n",
    "    return tf_score"
   ]
  },
  {
   "cell_type": "code",
   "execution_count": 7,
   "metadata": {},
   "outputs": [],
   "source": [
    "# IDF : (Total number of documents) / (Number of documents word w exists)\n",
    "\n",
    "\n",
    "def  getIDFScore(documents):\n",
    "    \n",
    "    print(\"Step 1 : Get the documents \\n\",documents)\n",
    "    print(\" \")\n",
    "    \n",
    "    # total number of documents \n",
    "    N = len(documents)\n",
    "    \n",
    "    print(\"Step 2: Total number documents = {0}\".format(N))\n",
    "    print(\" \")\n",
    "    \n",
    "    bag_of_words_doc= [x.split() for x in documents]\n",
    "    \n",
    "    print(\"Step 3 : Generate the bag of word for documents\\n \",bag_of_words_doc)\n",
    "    print(\" \")\n",
    "    \n",
    "    # Get the word frequency\n",
    "    wordFreq_doc = []\n",
    "    \n",
    "    for doc in bag_of_words_doc:\n",
    "        wordFreq = {}\n",
    "        for w in doc:\n",
    "            if w in wordFreq:\n",
    "                wordFreq[w] +=1\n",
    "            else:\n",
    "                wordFreq[w] =1\n",
    "        print(\"Step 5 : Generate Word Frequency for :{0}\".format(doc))\n",
    "        print(wordFreq)\n",
    "        print(\" \")\n",
    "            \n",
    "        wordFreq_doc.append(wordFreq)\n",
    "        print(\"Step 6: Get word Frequency Document for all documents \\n\",wordFreq_doc)\n",
    "        print(\" \")\n",
    "        \n",
    "    tf_score = {}\n",
    "\n",
    "    # Get Uniquewords in the list of list\n",
    "    keys = set([val for sublist in bag_of_words_doc for val in sublist])\n",
    "    print(\"Step 7 : Get all unique words in documents={0} \\n\".format(keys))\n",
    "    print(\" \")\n",
    "\n",
    "    # dict for idf \n",
    "    idfDict = dict.fromkeys(keys,0)\n",
    "    print(\"step 8 : create dictionary for idf value holding \",idfDict)\n",
    "    print(\" \")\n",
    "    \n",
    "    for document in wordFreq_doc:\n",
    "        for word, val in document.items():\n",
    "            if val > 0:\n",
    "                idfDict[word] += 1\n",
    "            \n",
    "    print(\"Step 9 : Generate IDF = (Total number of documents / total number of documents word w exists)\")\n",
    "    print(\" \")\n",
    "    \n",
    "    for word, val in idfDict.items():\n",
    "        idfDict[word] = math.log(N / float(val))\n",
    "        print(\"{0} = math.log({1} / float({2}) = {3})\".format(word,N,val,idfDict[word]))\n",
    "        \n",
    "    return idfDict\n",
    "    "
   ]
  },
  {
   "cell_type": "code",
   "execution_count": 9,
   "metadata": {},
   "outputs": [],
   "source": [
    "documentA = 'the man went out for a walk'\n",
    "documentB = 'the children sat around the fire'\n",
    "\n",
    "document = [documentA,documentB]"
   ]
  },
  {
   "cell_type": "code",
   "execution_count": 10,
   "metadata": {},
   "outputs": [
    {
     "name": "stdout",
     "output_type": "stream",
     "text": [
      "Step 1: Actual Document:\n",
      " the man went out for a walk\n",
      " \n",
      "Step 2: Split the document \n",
      " ['the', 'man', 'went', 'out', 'for', 'a', 'walk']\n",
      " \n",
      "Step 3: Word Frequency in the document\n",
      " {'the': 1, 'man': 1, 'went': 1, 'out': 1, 'for': 1, 'a': 1, 'walk': 1}\n",
      " \n",
      "Step 4: TF_Score = (word frequency of word in document / total number of words in document) \n",
      "\n",
      " \n",
      "total_words_doc= 7\n",
      " \n",
      "the = 1 / 7 = 0.14285714285714285\n",
      "man = 1 / 7 = 0.14285714285714285\n",
      "went = 1 / 7 = 0.14285714285714285\n",
      "out = 1 / 7 = 0.14285714285714285\n",
      "for = 1 / 7 = 0.14285714285714285\n",
      "a = 1 / 7 = 0.14285714285714285\n",
      "walk = 1 / 7 = 0.14285714285714285\n"
     ]
    },
    {
     "data": {
      "text/plain": [
       "{'the': 0.14285714285714285,\n",
       " 'man': 0.14285714285714285,\n",
       " 'went': 0.14285714285714285,\n",
       " 'out': 0.14285714285714285,\n",
       " 'for': 0.14285714285714285,\n",
       " 'a': 0.14285714285714285,\n",
       " 'walk': 0.14285714285714285}"
      ]
     },
     "execution_count": 10,
     "metadata": {},
     "output_type": "execute_result"
    }
   ],
   "source": [
    "getTFScore(documentA)"
   ]
  },
  {
   "cell_type": "code",
   "execution_count": 12,
   "metadata": {},
   "outputs": [
    {
     "name": "stdout",
     "output_type": "stream",
     "text": [
      "Step 1: Actual Document:\n",
      " the children sat around the fire\n",
      " \n",
      "Step 2: Split the document \n",
      " ['the', 'children', 'sat', 'around', 'the', 'fire']\n",
      " \n",
      "Step 3: Word Frequency in the document\n",
      " {'the': 2, 'children': 1, 'sat': 1, 'around': 1, 'fire': 1}\n",
      " \n",
      "Step 4: TF_Score = (word frequency of word in document / total number of words in document) \n",
      "\n",
      " \n",
      "total_words_doc= 6\n",
      " \n",
      "the = 2 / 6 = 0.3333333333333333\n",
      "children = 1 / 6 = 0.16666666666666666\n",
      "sat = 1 / 6 = 0.16666666666666666\n",
      "around = 1 / 6 = 0.16666666666666666\n",
      "fire = 1 / 6 = 0.16666666666666666\n"
     ]
    }
   ],
   "source": [
    "tf_score_documentB = getTFScore(documentB)"
   ]
  },
  {
   "cell_type": "code",
   "execution_count": 13,
   "metadata": {},
   "outputs": [
    {
     "name": "stdout",
     "output_type": "stream",
     "text": [
      "Step 1 : Get the documents \n",
      " ['the man went out for a walk', 'the children sat around the fire']\n",
      " \n",
      "Step 2: Total number documents = 2\n",
      " \n",
      "Step 3 : Generate the bag of word for documents\n",
      "  [['the', 'man', 'went', 'out', 'for', 'a', 'walk'], ['the', 'children', 'sat', 'around', 'the', 'fire']]\n",
      " \n",
      "Step 5 : Generate Word Frequency for :['the', 'man', 'went', 'out', 'for', 'a', 'walk']\n",
      "{'the': 1, 'man': 1, 'went': 1, 'out': 1, 'for': 1, 'a': 1, 'walk': 1}\n",
      " \n",
      "Step 6: Get word Frequency Document for all documents \n",
      " [{'the': 1, 'man': 1, 'went': 1, 'out': 1, 'for': 1, 'a': 1, 'walk': 1}]\n",
      " \n",
      "Step 5 : Generate Word Frequency for :['the', 'children', 'sat', 'around', 'the', 'fire']\n",
      "{'the': 2, 'children': 1, 'sat': 1, 'around': 1, 'fire': 1}\n",
      " \n",
      "Step 6: Get word Frequency Document for all documents \n",
      " [{'the': 1, 'man': 1, 'went': 1, 'out': 1, 'for': 1, 'a': 1, 'walk': 1}, {'the': 2, 'children': 1, 'sat': 1, 'around': 1, 'fire': 1}]\n",
      " \n",
      "Step 7 : Get all unique words in documents={'around', 'sat', 'children', 'fire', 'the', 'man', 'a', 'walk', 'out', 'went', 'for'} \n",
      "\n",
      " \n",
      "step 8 : create dictionary for idf value holding  {'around': 0, 'sat': 0, 'children': 0, 'fire': 0, 'the': 0, 'man': 0, 'a': 0, 'walk': 0, 'out': 0, 'went': 0, 'for': 0}\n",
      " \n",
      "Step 9 : Generate IDF = (Total number of documents / total number of documents word w exists)\n",
      " \n",
      "around = math.log(2 / float(1) = 0.6931471805599453)\n",
      "sat = math.log(2 / float(1) = 0.6931471805599453)\n",
      "children = math.log(2 / float(1) = 0.6931471805599453)\n",
      "fire = math.log(2 / float(1) = 0.6931471805599453)\n",
      "the = math.log(2 / float(2) = 0.0)\n",
      "man = math.log(2 / float(1) = 0.6931471805599453)\n",
      "a = math.log(2 / float(1) = 0.6931471805599453)\n",
      "walk = math.log(2 / float(1) = 0.6931471805599453)\n",
      "out = math.log(2 / float(1) = 0.6931471805599453)\n",
      "went = math.log(2 / float(1) = 0.6931471805599453)\n",
      "for = math.log(2 / float(1) = 0.6931471805599453)\n"
     ]
    }
   ],
   "source": [
    "idfscore = getIDFScore(document)"
   ]
  },
  {
   "cell_type": "code",
   "execution_count": 35,
   "metadata": {},
   "outputs": [],
   "source": [
    "def computeTF_IDF(tfscore,idfScore):\n",
    "    tfidf = {}\n",
    "    print(\"Tfscore: \\n\",tfscore)\n",
    "    print(\" \")\n",
    "    print(\"idfScore: \\n\",idfScore)\n",
    "    \n",
    "    print(\" \")\n",
    "    print(\"Compute IDF for a word  = Tf_score of word * idf_score of word\")\n",
    "    for word,value in tfscore.items():    \n",
    "        tfidf[word] = value * idfScore[word]\n",
    "        print(\"IDF for {0} = {1} * {2} : {3}\".format(word,value,idfScore[word],tfidf[word]))\n",
    "        \n",
    "    return tfidf"
   ]
  },
  {
   "cell_type": "code",
   "execution_count": 36,
   "metadata": {},
   "outputs": [
    {
     "name": "stdout",
     "output_type": "stream",
     "text": [
      "Tfscore: \n",
      " {'the': 0.3333333333333333, 'children': 0.16666666666666666, 'sat': 0.16666666666666666, 'around': 0.16666666666666666, 'fire': 0.16666666666666666}\n",
      " \n",
      "idfScore: \n",
      " {'around': 0.6931471805599453, 'sat': 0.6931471805599453, 'children': 0.6931471805599453, 'fire': 0.6931471805599453, 'the': 0.0, 'man': 0.6931471805599453, 'a': 0.6931471805599453, 'walk': 0.6931471805599453, 'out': 0.6931471805599453, 'went': 0.6931471805599453, 'for': 0.6931471805599453}\n",
      " \n",
      "Compute IDF for a word  = Tf_score of word * idf_score of word\n",
      "IDF for the = 0.3333333333333333 * 0.0 : 0.0\n",
      "IDF for children = 0.16666666666666666 * 0.6931471805599453 : 0.11552453009332421\n",
      "IDF for sat = 0.16666666666666666 * 0.6931471805599453 : 0.11552453009332421\n",
      "IDF for around = 0.16666666666666666 * 0.6931471805599453 : 0.11552453009332421\n",
      "IDF for fire = 0.16666666666666666 * 0.6931471805599453 : 0.11552453009332421\n"
     ]
    },
    {
     "data": {
      "text/plain": [
       "{'the': 0.0,\n",
       " 'children': 0.11552453009332421,\n",
       " 'sat': 0.11552453009332421,\n",
       " 'around': 0.11552453009332421,\n",
       " 'fire': 0.11552453009332421}"
      ]
     },
     "execution_count": 36,
     "metadata": {},
     "output_type": "execute_result"
    }
   ],
   "source": [
    "computeTF_IDF(tf_score_documentB,idfscore)"
   ]
  },
  {
   "cell_type": "code",
   "execution_count": null,
   "metadata": {},
   "outputs": [],
   "source": []
  },
  {
   "cell_type": "code",
   "execution_count": 48,
   "metadata": {},
   "outputs": [
    {
     "data": {
      "text/html": [
       "<div>\n",
       "<style scoped>\n",
       "    .dataframe tbody tr th:only-of-type {\n",
       "        vertical-align: middle;\n",
       "    }\n",
       "\n",
       "    .dataframe tbody tr th {\n",
       "        vertical-align: top;\n",
       "    }\n",
       "\n",
       "    .dataframe thead th {\n",
       "        text-align: right;\n",
       "    }\n",
       "</style>\n",
       "<table border=\"1\" class=\"dataframe\">\n",
       "  <thead>\n",
       "    <tr style=\"text-align: right;\">\n",
       "      <th></th>\n",
       "      <th>around</th>\n",
       "      <th>children</th>\n",
       "      <th>fire</th>\n",
       "      <th>for</th>\n",
       "      <th>man</th>\n",
       "      <th>out</th>\n",
       "      <th>sat</th>\n",
       "      <th>the</th>\n",
       "      <th>walk</th>\n",
       "      <th>went</th>\n",
       "    </tr>\n",
       "  </thead>\n",
       "  <tbody>\n",
       "    <tr>\n",
       "      <td>0</td>\n",
       "      <td>0.000000</td>\n",
       "      <td>0.000000</td>\n",
       "      <td>0.000000</td>\n",
       "      <td>0.42616</td>\n",
       "      <td>0.42616</td>\n",
       "      <td>0.42616</td>\n",
       "      <td>0.000000</td>\n",
       "      <td>0.303216</td>\n",
       "      <td>0.42616</td>\n",
       "      <td>0.42616</td>\n",
       "    </tr>\n",
       "    <tr>\n",
       "      <td>1</td>\n",
       "      <td>0.407401</td>\n",
       "      <td>0.407401</td>\n",
       "      <td>0.407401</td>\n",
       "      <td>0.00000</td>\n",
       "      <td>0.00000</td>\n",
       "      <td>0.00000</td>\n",
       "      <td>0.407401</td>\n",
       "      <td>0.579739</td>\n",
       "      <td>0.00000</td>\n",
       "      <td>0.00000</td>\n",
       "    </tr>\n",
       "  </tbody>\n",
       "</table>\n",
       "</div>"
      ],
      "text/plain": [
       "     around  children      fire      for      man      out       sat  \\\n",
       "0  0.000000  0.000000  0.000000  0.42616  0.42616  0.42616  0.000000   \n",
       "1  0.407401  0.407401  0.407401  0.00000  0.00000  0.00000  0.407401   \n",
       "\n",
       "        the     walk     went  \n",
       "0  0.303216  0.42616  0.42616  \n",
       "1  0.579739  0.00000  0.00000  "
      ]
     },
     "execution_count": 48,
     "metadata": {},
     "output_type": "execute_result"
    }
   ],
   "source": [
    "# Tf-IDF Using SCIKIT\n",
    "\n",
    "import pandas as pd\n",
    "from sklearn.feature_extraction.text import TfidfVectorizer\n",
    "\n",
    "vectorizer = TfidfVectorizer()\n",
    "\n",
    "vectors = vectorizer.fit_transform([documentA,documentB])\n",
    "\n",
    "feature_names = vectorizer.get_feature_names()\n",
    "\n",
    "dense = vectors.todense()\n",
    "\n",
    "denselist = dense.tolist()\n",
    "\n",
    "df = pd.DataFrame(denselist, columns=feature_names)\n",
    "\n",
    "df"
   ]
  },
  {
   "cell_type": "code",
   "execution_count": 49,
   "metadata": {},
   "outputs": [],
   "source": [
    "# The values differ slightly because sklearn uses a smoothed version idf and various other little optimizations. \n",
    "# In an example with more text, the score for the word the would be greatly reduced."
   ]
  },
  {
   "cell_type": "code",
   "execution_count": null,
   "metadata": {},
   "outputs": [],
   "source": []
  }
 ],
 "metadata": {
  "kernelspec": {
   "display_name": "Python 3",
   "language": "python",
   "name": "python3"
  },
  "language_info": {
   "codemirror_mode": {
    "name": "ipython",
    "version": 3
   },
   "file_extension": ".py",
   "mimetype": "text/x-python",
   "name": "python",
   "nbconvert_exporter": "python",
   "pygments_lexer": "ipython3",
   "version": "3.6.8"
  }
 },
 "nbformat": 4,
 "nbformat_minor": 2
}
