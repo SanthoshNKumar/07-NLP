{
 "cells": [
  {
   "cell_type": "code",
   "execution_count": 2,
   "metadata": {},
   "outputs": [
    {
     "data": {
      "text/html": [
       "<div>\n",
       "<style scoped>\n",
       "    .dataframe tbody tr th:only-of-type {\n",
       "        vertical-align: middle;\n",
       "    }\n",
       "\n",
       "    .dataframe tbody tr th {\n",
       "        vertical-align: top;\n",
       "    }\n",
       "\n",
       "    .dataframe thead th {\n",
       "        text-align: right;\n",
       "    }\n",
       "</style>\n",
       "<table border=\"1\" class=\"dataframe\">\n",
       "  <thead>\n",
       "    <tr style=\"text-align: right;\">\n",
       "      <th></th>\n",
       "      <th>review</th>\n",
       "      <th>sentiment</th>\n",
       "    </tr>\n",
       "  </thead>\n",
       "  <tbody>\n",
       "    <tr>\n",
       "      <th>0</th>\n",
       "      <td>Thanks for an excellent report</td>\n",
       "      <td>pos</td>\n",
       "    </tr>\n",
       "    <tr>\n",
       "      <th>1</th>\n",
       "      <td>Your service is very quick and fast</td>\n",
       "      <td>pos</td>\n",
       "    </tr>\n",
       "    <tr>\n",
       "      <th>2</th>\n",
       "      <td>I am pleased with your service</td>\n",
       "      <td>pos</td>\n",
       "    </tr>\n",
       "    <tr>\n",
       "      <th>3</th>\n",
       "      <td>I did not know i was diabetic until you gave m...</td>\n",
       "      <td>neg</td>\n",
       "    </tr>\n",
       "    <tr>\n",
       "      <th>4</th>\n",
       "      <td>Service - Little slow, probably because too ma...</td>\n",
       "      <td>neg</td>\n",
       "    </tr>\n",
       "  </tbody>\n",
       "</table>\n",
       "</div>"
      ],
      "text/plain": [
       "                                              review sentiment\n",
       "0                     Thanks for an excellent report       pos\n",
       "1                Your service is very quick and fast       pos\n",
       "2                     I am pleased with your service       pos\n",
       "3  I did not know i was diabetic until you gave m...       neg\n",
       "4  Service - Little slow, probably because too ma...       neg"
      ]
     },
     "execution_count": 2,
     "metadata": {},
     "output_type": "execute_result"
    }
   ],
   "source": [
    "import pandas as pd\n",
    "\n",
    "train = [(\"Thanks for an excellent report\", \"pos\"),\n",
    "         (\"Your service is very quick and fast\", \"pos\"),\n",
    "        (\"I am pleased with your service\", \"pos\"),\n",
    "        (\"I did not know i was diabetic until you gave me this report\", \"neg\"),\n",
    "        (\"Service - Little slow, probably because too many people.\", \"neg\"),\n",
    "        (\"The place is not easy to locate\", \"neg\"),\n",
    "        (\"The place is very easy to locate\", \"pos\"),\n",
    "        (\"Not satisfied will take a second opinion\", \"neg\"),\n",
    "        (\"No human contact everything is so robotic here\", \"neg\")]\n",
    "\n",
    "df = pd.DataFrame(train,columns=['review','sentiment'])\n",
    "\n",
    "df.head()"
   ]
  },
  {
   "cell_type": "code",
   "execution_count": 3,
   "metadata": {},
   "outputs": [],
   "source": [
    "from nltk.corpus import stopwords\n",
    "from nltk.tokenize import word_tokenize\n",
    "\n",
    "stopwords = stopwords.words('english')"
   ]
  },
  {
   "cell_type": "code",
   "execution_count": 4,
   "metadata": {},
   "outputs": [
    {
     "data": {
      "text/plain": [
       "['Thanks for an excellent report',\n",
       " 'Your service is very quick and fast',\n",
       " 'I am pleased with your service',\n",
       " 'I did not know i was diabetic until you gave me this report',\n",
       " 'Service - Little slow, probably because too many people.',\n",
       " 'The place is not easy to locate',\n",
       " 'The place is very easy to locate',\n",
       " 'Not satisfied will take a second opinion',\n",
       " 'No human contact everything is so robotic here']"
      ]
     },
     "execution_count": 4,
     "metadata": {},
     "output_type": "execute_result"
    }
   ],
   "source": [
    "data = list(df['review'].values)\n",
    "\n",
    "data"
   ]
  },
  {
   "cell_type": "code",
   "execution_count": 8,
   "metadata": {},
   "outputs": [
    {
     "data": {
      "text/plain": [
       "[['thanks', 'excellent', 'report'],\n",
       " ['service', 'quick', 'fast'],\n",
       " ['pleased', 'service'],\n",
       " ['know', 'diabetic', 'gave', 'report'],\n",
       " ['service', 'little', 'slow', 'probably', 'many', 'people'],\n",
       " ['place', 'easy', 'locate'],\n",
       " ['place', 'easy', 'locate'],\n",
       " ['satisfied', 'take', 'second', 'opinion'],\n",
       " ['human', 'contact', 'everything', 'robotic']]"
      ]
     },
     "execution_count": 8,
     "metadata": {},
     "output_type": "execute_result"
    }
   ],
   "source": [
    "data_token = [word_tokenize(x.lower()) for x in data]\n",
    "clean_data = []\n",
    "\n",
    "for sent in data_token:\n",
    "    # print([x for x in sent if (x not in stopwords and x not in \"-.,\")])\n",
    "    clean_data.append([x for x in sent if (x not in stopwords and x not in \"-.,\")])\n",
    "\n",
    "clean_data"
   ]
  },
  {
   "cell_type": "code",
   "execution_count": 9,
   "metadata": {},
   "outputs": [
    {
     "name": "stdout",
     "output_type": "stream",
     "text": [
      "{'everything': 1, 'opinion': 2, 'easy': 3, 'people': 4, 'many': 5, 'slow': 6, 'locate': 7, 'little': 8, 'know': 9, 'fast': 10, 'human': 11, 'gave': 12, 'satisfied': 13, 'second': 14, 'thanks': 15, 'place': 16, 'contact': 17, 'robotic': 18, 'diabetic': 19, 'quick': 20, 'report': 21, 'pleased': 22, 'service': 23, 'probably': 24, 'take': 25, 'excellent': 26}\n",
      "\n",
      "\n",
      "{1: 'everything', 2: 'opinion', 3: 'easy', 4: 'people', 5: 'many', 6: 'slow', 7: 'locate', 8: 'little', 9: 'know', 10: 'fast', 11: 'human', 12: 'gave', 13: 'satisfied', 14: 'second', 15: 'thanks', 16: 'place', 17: 'contact', 18: 'robotic', 19: 'diabetic', 20: 'quick', 21: 'report', 22: 'pleased', 23: 'service', 24: 'probably', 25: 'take', 26: 'excellent'}\n",
      "\n",
      "\n"
     ]
    },
    {
     "data": {
      "text/plain": [
       "[[15, 26, 21],\n",
       " [23, 20, 10],\n",
       " [22, 23],\n",
       " [9, 19, 12, 21],\n",
       " [23, 8, 6, 24, 5, 4],\n",
       " [16, 3, 7],\n",
       " [16, 3, 7],\n",
       " [13, 25, 14, 2],\n",
       " [11, 17, 1, 18]]"
      ]
     },
     "execution_count": 9,
     "metadata": {},
     "output_type": "execute_result"
    }
   ],
   "source": [
    "vocabs = list(set([val for sublist in clean_data for val in sublist]))\n",
    "\n",
    "# Get Word2Id\n",
    "word2id={}\n",
    "\n",
    "i = 1\n",
    "for vocab in vocabs:\n",
    "    case = {vocab:i}\n",
    "    word2id.update(case)\n",
    "    i= i+1\n",
    "    \n",
    "print(word2id)\n",
    "\n",
    "id2word = {v:k for k, v in word2id.items()}\n",
    "\n",
    "print(\"\\n\")\n",
    "print(id2word)\n",
    "\n",
    "print(\"\\n\")\n",
    "wids = [[word2id[y.lower()] for y in x] for x in clean_data]\n",
    "\n",
    "wids"
   ]
  },
  {
   "cell_type": "code",
   "execution_count": 21,
   "metadata": {},
   "outputs": [
    {
     "data": {
      "text/plain": [
       "array([[0., 0., 0., 0., 0., 0., 0., 0., 0., 0., 0., 0., 0., 0., 0., 1.,\n",
       "        0., 0., 0., 0., 0., 1., 0., 0., 0., 0., 1.],\n",
       "       [0., 0., 0., 0., 0., 0., 0., 0., 0., 0., 1., 0., 0., 0., 0., 0.,\n",
       "        0., 0., 0., 0., 1., 0., 0., 1., 0., 0., 0.],\n",
       "       [0., 0., 0., 0., 0., 0., 0., 0., 0., 0., 0., 0., 0., 0., 0., 0.,\n",
       "        0., 0., 0., 0., 0., 0., 1., 1., 0., 0., 0.],\n",
       "       [0., 0., 0., 0., 0., 0., 0., 0., 0., 1., 0., 0., 1., 0., 0., 0.,\n",
       "        0., 0., 0., 1., 0., 1., 0., 0., 0., 0., 0.],\n",
       "       [0., 0., 0., 0., 1., 1., 1., 0., 1., 0., 0., 0., 0., 0., 0., 0.,\n",
       "        0., 0., 0., 0., 0., 0., 0., 1., 1., 0., 0.],\n",
       "       [0., 0., 0., 1., 0., 0., 0., 1., 0., 0., 0., 0., 0., 0., 0., 0.,\n",
       "        1., 0., 0., 0., 0., 0., 0., 0., 0., 0., 0.],\n",
       "       [0., 0., 0., 1., 0., 0., 0., 1., 0., 0., 0., 0., 0., 0., 0., 0.,\n",
       "        1., 0., 0., 0., 0., 0., 0., 0., 0., 0., 0.],\n",
       "       [0., 0., 1., 0., 0., 0., 0., 0., 0., 0., 0., 0., 0., 1., 1., 0.,\n",
       "        0., 0., 0., 0., 0., 0., 0., 0., 0., 1., 0.],\n",
       "       [0., 1., 0., 0., 0., 0., 0., 0., 0., 0., 0., 1., 0., 0., 0., 0.,\n",
       "        0., 1., 1., 0., 0., 0., 0., 0., 0., 0., 0.]])"
      ]
     },
     "execution_count": 21,
     "metadata": {},
     "output_type": "execute_result"
    }
   ],
   "source": [
    "from tensorflow.keras.preprocessing.text import Tokenizer\n",
    "\n",
    "tokenizer = Tokenizer(num_words=27)\n",
    "\n",
    "one_hot = tokenizer.sequences_to_matrix(wids, mode='binary')\n",
    "\n",
    "one_hot"
   ]
  },
  {
   "cell_type": "code",
   "execution_count": null,
   "metadata": {},
   "outputs": [],
   "source": []
  }
 ],
 "metadata": {
  "kernelspec": {
   "display_name": "Python 3",
   "language": "python",
   "name": "python3"
  },
  "language_info": {
   "codemirror_mode": {
    "name": "ipython",
    "version": 3
   },
   "file_extension": ".py",
   "mimetype": "text/x-python",
   "name": "python",
   "nbconvert_exporter": "python",
   "pygments_lexer": "ipython3",
   "version": "3.6.8"
  }
 },
 "nbformat": 4,
 "nbformat_minor": 2
}
