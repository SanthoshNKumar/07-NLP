{
 "cells": [
  {
   "cell_type": "code",
   "execution_count": null,
   "metadata": {},
   "outputs": [],
   "source": []
  },
  {
   "cell_type": "markdown",
   "metadata": {},
   "source": [
    "### Pad Sequences using Numpy"
   ]
  },
  {
   "cell_type": "code",
   "execution_count": 1,
   "metadata": {},
   "outputs": [
    {
     "name": "stdout",
     "output_type": "stream",
     "text": [
      "{'i', 'fast', 'pleased', 'excellent', 'for', 'is', 'very', 'and', 'your', 'am', 'report', 'thanks', 'quick', 'service', 'an', 'with'} \n",
      "\n",
      "{'i': 1, 'fast': 2, 'pleased': 3, 'excellent': 4, 'for': 5, 'is': 6, 'very': 7, 'and': 8, 'your': 9, 'am': 10, 'report': 11, 'thanks': 12, 'quick': 13, 'service': 14, 'an': 15, 'with': 16} \n",
      "\n",
      "row=3 and column=7\n",
      "seq_embedding = \n",
      " [[0. 0. 0. 0. 0. 0. 0.]\n",
      " [0. 0. 0. 0. 0. 0. 0.]\n",
      " [0. 0. 0. 0. 0. 0. 0.]]\n",
      "\n",
      "\n",
      "[[12.  5. 15.  4. 11.  0.  0.]\n",
      " [ 9. 14.  6.  7. 13.  8.  2.]\n",
      " [ 1. 10.  3. 16.  9. 14.  0.]]\n"
     ]
    }
   ],
   "source": [
    "# Example 2:\n",
    "\n",
    "import numpy as np\n",
    "\n",
    "data = [['Thanks', 'for', 'an', 'excellent', 'report'],\n",
    "        ['Your', 'service', 'is', 'very', 'quick', 'and', 'fast'],\n",
    "        ['I', 'am', 'pleased', 'with', 'your', 'service']]\n",
    "\n",
    "wrds = []\n",
    "\n",
    "[[wrds.append(w.lower()) for w in x] for x in data]\n",
    "\n",
    "wrds = set(wrds)\n",
    "\n",
    "print(wrds,\"\\n\")\n",
    "\n",
    "word_id = {}\n",
    "\n",
    "for i,w in enumerate(wrds,1):\n",
    "    word_id[w] = i\n",
    "    \n",
    "print(word_id,\"\\n\")\n",
    "\n",
    "row = len(data)\n",
    "\n",
    "column = np.max([len(x) for x in data])\n",
    "\n",
    "print(\"row={0} and column={1}\".format(row,column))\n",
    "\n",
    "seq_embedding = np.zeros((row,column))\n",
    "\n",
    "print(\"seq_embedding = \\n {0}\".format(seq_embedding))\n",
    "\n",
    "print(\"\\n\")\n",
    "\n",
    "for i in range(len(data)):\n",
    "    doc = data[i]\n",
    "    for j in range(len(doc)):\n",
    "        id = word_id[(doc[j]).lower()]\n",
    "        seq_embedding[i][j] = id\n",
    "        \n",
    "print(seq_embedding)"
   ]
  },
  {
   "cell_type": "code",
   "execution_count": null,
   "metadata": {},
   "outputs": [],
   "source": []
  },
  {
   "cell_type": "code",
   "execution_count": 1,
   "metadata": {},
   "outputs": [
    {
     "name": "stdout",
     "output_type": "stream",
     "text": [
      "maxl:7\n"
     ]
    },
    {
     "data": {
      "text/plain": [
       "array([[ 3, 18,  9,  3, 11,  5, 20],\n",
       "       [ 0,  0,  0,  3,  8,  1, 12],\n",
       "       [ 0,  0,  0, 18,  1,  8,  1],\n",
       "       [ 0,  0,  0,  8,  1,  9, 14],\n",
       "       [ 0,  0,  0, 25,  1,  8,  1],\n",
       "       [ 0,  0,  0,  0,  0,  0,  9]])"
      ]
     },
     "execution_count": 1,
     "metadata": {},
     "output_type": "execute_result"
    }
   ],
   "source": [
    "# Example 1 : using Keras\n",
    "\n",
    "import numpy as np\n",
    "from tensorflow.keras.preprocessing import sequence\n",
    "\n",
    "data_vec = [['3', '18', '9', '3', '11', '5', '20'],\n",
    "            ['3', '8', '1', '12'],\n",
    "            ['18', '1', '8', '1'],\n",
    "            ['8', '1', '9', '14'],\n",
    "            ['25', '1', '8', '1'],\n",
    "            ['9']]\n",
    "\n",
    "maxl=np.max([len(x) for x in data_vec])\n",
    "\n",
    "print('maxl:{0}'.format(maxl))\n",
    "\n",
    "x_data_vec = sequence.pad_sequences(data_vec, maxlen=maxl)\n",
    "\n",
    "x_data_vec"
   ]
  },
  {
   "cell_type": "code",
   "execution_count": 2,
   "metadata": {},
   "outputs": [
    {
     "data": {
      "text/plain": [
       "array([[ 3, 18,  9,  3, 11,  5, 20],\n",
       "       [ 3,  8,  1, 12,  0,  0,  0],\n",
       "       [18,  1,  8,  1,  0,  0,  0],\n",
       "       [ 8,  1,  9, 14,  0,  0,  0],\n",
       "       [25,  1,  8,  1,  0,  0,  0],\n",
       "       [ 9,  0,  0,  0,  0,  0,  0]])"
      ]
     },
     "execution_count": 2,
     "metadata": {},
     "output_type": "execute_result"
    }
   ],
   "source": [
    "# padding = 'post'\n",
    "\n",
    "x_data_vec = sequence.pad_sequences(data_vec, maxlen=maxl,padding='post')\n",
    "\n",
    "x_data_vec"
   ]
  },
  {
   "cell_type": "code",
   "execution_count": 3,
   "metadata": {},
   "outputs": [
    {
     "data": {
      "text/plain": [
       "array([[ 3, 18,  9,  3, 11,  5, 20,  0,  0,  0],\n",
       "       [ 3,  8,  1, 12,  0,  0,  0,  0,  0,  0],\n",
       "       [18,  1,  8,  1,  0,  0,  0,  0,  0,  0],\n",
       "       [ 8,  1,  9, 14,  0,  0,  0,  0,  0,  0],\n",
       "       [25,  1,  8,  1,  0,  0,  0,  0,  0,  0],\n",
       "       [ 9,  0,  0,  0,  0,  0,  0,  0,  0,  0]])"
      ]
     },
     "execution_count": 3,
     "metadata": {},
     "output_type": "execute_result"
    }
   ],
   "source": [
    "# Max Length\n",
    "\n",
    "x_data_vec = sequence.pad_sequences(data_vec, maxlen=10,padding='post')\n",
    "\n",
    "x_data_vec"
   ]
  },
  {
   "cell_type": "code",
   "execution_count": null,
   "metadata": {},
   "outputs": [],
   "source": []
  },
  {
   "cell_type": "markdown",
   "metadata": {},
   "source": [
    "### Get Input and Padded Sequence for Model Training"
   ]
  },
  {
   "cell_type": "code",
   "execution_count": 11,
   "metadata": {},
   "outputs": [],
   "source": [
    "import pandas as pd\n",
    "\n",
    "sent1 = \"Located on the southern tip of Lake Union, the Hilton Garden Inn\""
   ]
  },
  {
   "cell_type": "code",
   "execution_count": 12,
   "metadata": {},
   "outputs": [],
   "source": [
    "sent = [sent1]"
   ]
  },
  {
   "cell_type": "code",
   "execution_count": 13,
   "metadata": {},
   "outputs": [
    {
     "data": {
      "text/html": [
       "<div>\n",
       "<style scoped>\n",
       "    .dataframe tbody tr th:only-of-type {\n",
       "        vertical-align: middle;\n",
       "    }\n",
       "\n",
       "    .dataframe tbody tr th {\n",
       "        vertical-align: top;\n",
       "    }\n",
       "\n",
       "    .dataframe thead th {\n",
       "        text-align: right;\n",
       "    }\n",
       "</style>\n",
       "<table border=\"1\" class=\"dataframe\">\n",
       "  <thead>\n",
       "    <tr style=\"text-align: right;\">\n",
       "      <th></th>\n",
       "      <th>Description</th>\n",
       "    </tr>\n",
       "  </thead>\n",
       "  <tbody>\n",
       "    <tr>\n",
       "      <th>0</th>\n",
       "      <td>Located on the southern tip of Lake Union, the...</td>\n",
       "    </tr>\n",
       "  </tbody>\n",
       "</table>\n",
       "</div>"
      ],
      "text/plain": [
       "                                         Description\n",
       "0  Located on the southern tip of Lake Union, the..."
      ]
     },
     "execution_count": 13,
     "metadata": {},
     "output_type": "execute_result"
    }
   ],
   "source": [
    "data = pd.DataFrame(sent,columns=['Description'])\n",
    "\n",
    "data"
   ]
  },
  {
   "cell_type": "code",
   "execution_count": 14,
   "metadata": {},
   "outputs": [],
   "source": [
    "all_description = list(data.Description)"
   ]
  },
  {
   "cell_type": "code",
   "execution_count": 15,
   "metadata": {},
   "outputs": [
    {
     "data": {
      "text/plain": [
       "['Located on the southern tip of Lake Union, the Hilton Garden Inn']"
      ]
     },
     "execution_count": 15,
     "metadata": {},
     "output_type": "execute_result"
    }
   ],
   "source": [
    "corpus = [x for x in all_description]\n",
    "\n",
    "corpus"
   ]
  },
  {
   "cell_type": "code",
   "execution_count": 16,
   "metadata": {},
   "outputs": [],
   "source": [
    "from tensorflow.keras.preprocessing.text import Tokenizer\n",
    "\n",
    "t = Tokenizer(num_words=None, filters='!\"#$%&()*+,-./:;<=>?@[\\\\]^_`{|}~\\t\\n', lower=True, split=' ', char_level=False,\\\n",
    "              oov_token=None, document_count=0)\n",
    "\n",
    "t.fit_on_texts(corpus)"
   ]
  },
  {
   "cell_type": "code",
   "execution_count": null,
   "metadata": {},
   "outputs": [],
   "source": [
    "# Located on the southern tip of Lake Union, the Hilton Garden Inn\"\n",
    "\n",
    "\n",
    "# Word_Count \n",
    "# ('located', 1)\n",
    "# ('on', 1), \n",
    "# ('the', 2), \n",
    "# ('southern', 1), \n",
    "# ('tip', 1), \n",
    "# ('of', 1), \n",
    "# ('lake', 1), \n",
    "# ('union', 1), \n",
    "# ('hilton', 1), \n",
    "# ('garden', 1), \n",
    "# ('inn', 1)\n",
    "\n",
    "# Word Index\n",
    "# 'the' : 1\n",
    "# 'located': 2, \n",
    "# 'on': 3, \n",
    "# 'southern': 4, \n",
    "# 'tip': 5, \n",
    "# 'of': 6, \n",
    "# 'lake': 7, \n",
    "# 'union': 8, \n",
    "# 'hilton': 9, \n",
    "# 'garden': 10, \n",
    "# 'inn': 11\n",
    "\n",
    "# texts_to_sequences\n",
    "# [Located on the southern tip of Lake Union, the Hilton Garden Inn]\n",
    "# [2,3,1,4,5,6,7,8,1,9,10,11]"
   ]
  },
  {
   "cell_type": "code",
   "execution_count": 17,
   "metadata": {},
   "outputs": [
    {
     "data": {
      "text/plain": [
       "[[2, 3, 1, 4, 5, 6, 7, 8, 1, 9, 10, 11]]"
      ]
     },
     "execution_count": 17,
     "metadata": {},
     "output_type": "execute_result"
    }
   ],
   "source": [
    "# corpus = [Located on the southern tip of Lake Union, the Hilton Garden Inn]\n",
    "\n",
    "token_list = t.texts_to_sequences(corpus)\n",
    "\n",
    "token_list"
   ]
  },
  {
   "cell_type": "code",
   "execution_count": 18,
   "metadata": {},
   "outputs": [
    {
     "data": {
      "text/plain": [
       "[[2, 3],\n",
       " [2, 3, 1],\n",
       " [2, 3, 1, 4],\n",
       " [2, 3, 1, 4, 5],\n",
       " [2, 3, 1, 4, 5, 6],\n",
       " [2, 3, 1, 4, 5, 6, 7],\n",
       " [2, 3, 1, 4, 5, 6, 7, 8],\n",
       " [2, 3, 1, 4, 5, 6, 7, 8, 1],\n",
       " [2, 3, 1, 4, 5, 6, 7, 8, 1, 9],\n",
       " [2, 3, 1, 4, 5, 6, 7, 8, 1, 9, 10],\n",
       " [2, 3, 1, 4, 5, 6, 7, 8, 1, 9, 10, 11]]"
      ]
     },
     "execution_count": 18,
     "metadata": {},
     "output_type": "execute_result"
    }
   ],
   "source": [
    "def get_sequence_of_tokens(corpus):\n",
    "    t.fit_on_texts(corpus)\n",
    "    total_words = len(t.word_index) + 1\n",
    "    \n",
    "    input_sequences = []\n",
    "    for line in corpus:\n",
    "        token_list = t.texts_to_sequences([line])[0]\n",
    "        for i in range(1, len(token_list)):\n",
    "            n_gram_sequence = token_list[:i+1]\n",
    "            input_sequences.append(n_gram_sequence)\n",
    "        \n",
    "    return input_sequences, total_words\n",
    "\n",
    "input_sequences, total_words = get_sequence_of_tokens(corpus)\n",
    "\n",
    "input_sequences"
   ]
  },
  {
   "cell_type": "code",
   "execution_count": 19,
   "metadata": {},
   "outputs": [
    {
     "data": {
      "text/plain": [
       "12"
      ]
     },
     "execution_count": 19,
     "metadata": {},
     "output_type": "execute_result"
    }
   ],
   "source": [
    "total_words"
   ]
  },
  {
   "cell_type": "code",
   "execution_count": 20,
   "metadata": {},
   "outputs": [],
   "source": [
    "import numpy as np\n",
    "from tensorflow.keras.preprocessing.sequence import pad_sequences\n",
    "import tensorflow.keras.utils as ku \n",
    "\n",
    "# pad sequences \n",
    "def generate_padded_sequences(input_sequences):\n",
    "    max_sequence_len = max([len(x) for x in input_sequences])\n",
    "    input_sequences = np.array(pad_sequences(input_sequences, maxlen = max_sequence_len, padding = 'pre'))\n",
    "    predictors, label = input_sequences[:,:-1],input_sequences[:,-1]\n",
    "    label = ku.to_categorical(label, num_classes = total_words)\n",
    "    \n",
    "    return predictors, label, max_sequence_len"
   ]
  },
  {
   "cell_type": "code",
   "execution_count": 21,
   "metadata": {},
   "outputs": [],
   "source": [
    "predictors, label, max_sequence_len = generate_padded_sequences(input_sequences)"
   ]
  },
  {
   "cell_type": "code",
   "execution_count": 22,
   "metadata": {},
   "outputs": [
    {
     "data": {
      "text/plain": [
       "array([[ 0,  0,  0,  0,  0,  0,  0,  0,  0,  0,  2],\n",
       "       [ 0,  0,  0,  0,  0,  0,  0,  0,  0,  2,  3],\n",
       "       [ 0,  0,  0,  0,  0,  0,  0,  0,  2,  3,  1],\n",
       "       [ 0,  0,  0,  0,  0,  0,  0,  2,  3,  1,  4],\n",
       "       [ 0,  0,  0,  0,  0,  0,  2,  3,  1,  4,  5],\n",
       "       [ 0,  0,  0,  0,  0,  2,  3,  1,  4,  5,  6],\n",
       "       [ 0,  0,  0,  0,  2,  3,  1,  4,  5,  6,  7],\n",
       "       [ 0,  0,  0,  2,  3,  1,  4,  5,  6,  7,  8],\n",
       "       [ 0,  0,  2,  3,  1,  4,  5,  6,  7,  8,  1],\n",
       "       [ 0,  2,  3,  1,  4,  5,  6,  7,  8,  1,  9],\n",
       "       [ 2,  3,  1,  4,  5,  6,  7,  8,  1,  9, 10]])"
      ]
     },
     "execution_count": 22,
     "metadata": {},
     "output_type": "execute_result"
    }
   ],
   "source": [
    "predictors"
   ]
  },
  {
   "cell_type": "code",
   "execution_count": 23,
   "metadata": {},
   "outputs": [
    {
     "data": {
      "text/plain": [
       "(11, 11)"
      ]
     },
     "execution_count": 23,
     "metadata": {},
     "output_type": "execute_result"
    }
   ],
   "source": [
    "predictors.shape"
   ]
  },
  {
   "cell_type": "code",
   "execution_count": 24,
   "metadata": {},
   "outputs": [
    {
     "data": {
      "text/plain": [
       "array([[0., 0., 0., 1., 0., 0., 0., 0., 0., 0., 0., 0.],\n",
       "       [0., 1., 0., 0., 0., 0., 0., 0., 0., 0., 0., 0.],\n",
       "       [0., 0., 0., 0., 1., 0., 0., 0., 0., 0., 0., 0.],\n",
       "       [0., 0., 0., 0., 0., 1., 0., 0., 0., 0., 0., 0.],\n",
       "       [0., 0., 0., 0., 0., 0., 1., 0., 0., 0., 0., 0.],\n",
       "       [0., 0., 0., 0., 0., 0., 0., 1., 0., 0., 0., 0.],\n",
       "       [0., 0., 0., 0., 0., 0., 0., 0., 1., 0., 0., 0.],\n",
       "       [0., 1., 0., 0., 0., 0., 0., 0., 0., 0., 0., 0.],\n",
       "       [0., 0., 0., 0., 0., 0., 0., 0., 0., 1., 0., 0.],\n",
       "       [0., 0., 0., 0., 0., 0., 0., 0., 0., 0., 1., 0.],\n",
       "       [0., 0., 0., 0., 0., 0., 0., 0., 0., 0., 0., 1.]], dtype=float32)"
      ]
     },
     "execution_count": 24,
     "metadata": {},
     "output_type": "execute_result"
    }
   ],
   "source": [
    "label"
   ]
  },
  {
   "cell_type": "code",
   "execution_count": 25,
   "metadata": {},
   "outputs": [
    {
     "data": {
      "text/plain": [
       "12"
      ]
     },
     "execution_count": 25,
     "metadata": {},
     "output_type": "execute_result"
    }
   ],
   "source": [
    "max_sequence_len"
   ]
  },
  {
   "cell_type": "code",
   "execution_count": 27,
   "metadata": {},
   "outputs": [
    {
     "name": "stdout",
     "output_type": "stream",
     "text": [
      "Model: \"sequential_1\"\n",
      "_________________________________________________________________\n",
      "Layer (type)                 Output Shape              Param #   \n",
      "=================================================================\n",
      "embedding_1 (Embedding)      (None, 11, 10)            120       \n",
      "_________________________________________________________________\n",
      "lstm_1 (LSTM)                (None, 100)               44400     \n",
      "_________________________________________________________________\n",
      "dropout_1 (Dropout)          (None, 100)               0         \n",
      "_________________________________________________________________\n",
      "dense_1 (Dense)              (None, 12)                1212      \n",
      "=================================================================\n",
      "Total params: 45,732\n",
      "Trainable params: 45,732\n",
      "Non-trainable params: 0\n",
      "_________________________________________________________________\n"
     ]
    }
   ],
   "source": [
    "from tensorflow.keras.models import Sequential\n",
    "from tensorflow.keras.layers import Embedding, LSTM, Dense, Dropout\n",
    "\n",
    "def create_model(max_sequence_len, total_words):\n",
    "    model = Sequential()\n",
    "    # Add Input Embedding Layer\n",
    "    model.add(Embedding(total_words, 10, input_length=max_sequence_len - 1))\n",
    "    \n",
    "    # Add Hidden Layer 1 - LSTM Layer\n",
    "    model.add(LSTM(100))\n",
    "    model.add(Dropout(0.1))\n",
    "    \n",
    "    # Add Output Layer\n",
    "    model.add(Dense(total_words, activation='softmax'))\n",
    "\n",
    "    model.compile(loss='categorical_crossentropy', optimizer='adam')\n",
    "    \n",
    "    return model\n",
    "\n",
    "model = create_model(max_sequence_len, total_words)\n",
    "model.summary()"
   ]
  },
  {
   "cell_type": "code",
   "execution_count": 29,
   "metadata": {},
   "outputs": [
    {
     "name": "stdout",
     "output_type": "stream",
     "text": [
      "Train on 11 samples\n",
      "Epoch 1/100\n",
      "Epoch 2/100\n",
      "Epoch 3/100\n",
      "Epoch 4/100\n",
      "Epoch 5/100\n",
      "Epoch 6/100\n",
      "Epoch 7/100\n",
      "Epoch 8/100\n",
      "Epoch 9/100\n",
      "Epoch 10/100\n",
      "Epoch 11/100\n",
      "Epoch 12/100\n",
      "Epoch 13/100\n",
      "Epoch 14/100\n",
      "Epoch 15/100\n",
      "Epoch 16/100\n",
      "Epoch 17/100\n",
      "Epoch 18/100\n",
      "Epoch 19/100\n",
      "Epoch 20/100\n",
      "Epoch 21/100\n",
      "Epoch 22/100\n",
      "Epoch 23/100\n",
      "Epoch 24/100\n",
      "Epoch 25/100\n",
      "Epoch 26/100\n",
      "Epoch 27/100\n",
      "Epoch 28/100\n",
      "Epoch 29/100\n",
      "Epoch 30/100\n",
      "Epoch 31/100\n",
      "Epoch 32/100\n",
      "Epoch 33/100\n",
      "Epoch 34/100\n",
      "Epoch 35/100\n",
      "Epoch 36/100\n",
      "Epoch 37/100\n",
      "Epoch 38/100\n",
      "Epoch 39/100\n",
      "Epoch 40/100\n",
      "Epoch 41/100\n",
      "Epoch 42/100\n",
      "Epoch 43/100\n",
      "Epoch 44/100\n",
      "Epoch 45/100\n",
      "Epoch 46/100\n",
      "Epoch 47/100\n",
      "Epoch 48/100\n",
      "Epoch 49/100\n",
      "Epoch 50/100\n",
      "Epoch 51/100\n",
      "Epoch 52/100\n",
      "Epoch 53/100\n",
      "Epoch 54/100\n",
      "Epoch 55/100\n",
      "Epoch 56/100\n",
      "Epoch 57/100\n",
      "Epoch 58/100\n",
      "Epoch 59/100\n",
      "Epoch 60/100\n",
      "Epoch 61/100\n",
      "Epoch 62/100\n",
      "Epoch 63/100\n",
      "Epoch 64/100\n",
      "Epoch 65/100\n",
      "Epoch 66/100\n",
      "Epoch 67/100\n",
      "Epoch 68/100\n",
      "Epoch 69/100\n",
      "Epoch 70/100\n",
      "Epoch 71/100\n",
      "Epoch 72/100\n",
      "Epoch 73/100\n",
      "Epoch 74/100\n",
      "Epoch 75/100\n",
      "Epoch 76/100\n",
      "Epoch 77/100\n",
      "Epoch 78/100\n",
      "Epoch 79/100\n",
      "Epoch 80/100\n",
      "Epoch 81/100\n",
      "Epoch 82/100\n",
      "Epoch 83/100\n",
      "Epoch 84/100\n",
      "Epoch 85/100\n",
      "Epoch 86/100\n",
      "Epoch 87/100\n",
      "Epoch 88/100\n",
      "Epoch 89/100\n",
      "Epoch 90/100\n",
      "Epoch 91/100\n",
      "Epoch 92/100\n",
      "Epoch 93/100\n",
      "Epoch 94/100\n",
      "Epoch 95/100\n",
      "Epoch 96/100\n",
      "Epoch 97/100\n",
      "Epoch 98/100\n",
      "Epoch 99/100\n",
      "Epoch 100/100\n"
     ]
    },
    {
     "data": {
      "text/plain": [
       "<tensorflow.python.keras.callbacks.History at 0x2f0794139c8>"
      ]
     },
     "execution_count": 29,
     "metadata": {},
     "output_type": "execute_result"
    }
   ],
   "source": [
    "model.fit(predictors, label, epochs=100, verbose=5)"
   ]
  },
  {
   "cell_type": "code",
   "execution_count": null,
   "metadata": {},
   "outputs": [],
   "source": []
  }
 ],
 "metadata": {
  "kernelspec": {
   "display_name": "Python 3",
   "language": "python",
   "name": "python3"
  },
  "language_info": {
   "codemirror_mode": {
    "name": "ipython",
    "version": 3
   },
   "file_extension": ".py",
   "mimetype": "text/x-python",
   "name": "python",
   "nbconvert_exporter": "python",
   "pygments_lexer": "ipython3",
   "version": "3.7.4"
  }
 },
 "nbformat": 4,
 "nbformat_minor": 2
}
