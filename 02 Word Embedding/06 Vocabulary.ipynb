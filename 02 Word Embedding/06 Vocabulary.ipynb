{
 "cells": [
  {
   "cell_type": "code",
   "execution_count": null,
   "metadata": {},
   "outputs": [],
   "source": []
  },
  {
   "cell_type": "markdown",
   "metadata": {},
   "source": [
    "### List Vocabulary"
   ]
  },
  {
   "cell_type": "code",
   "execution_count": 18,
   "metadata": {},
   "outputs": [
    {
     "name": "stdout",
     "output_type": "stream",
     "text": [
      "{'quantity', 'analytical', 'Although', 'some', 'terms', 'single', 'datum', 'In', 'd', 'units', 'information.', 'or', 'variables.', 'individual', 'object', 'a', 'of', 'by', 'represented', 'A', 'Data', 'describes', 'processes,', 'the', 'quality', 'phenomenon.', 'are', 'ata'}\n"
     ]
    }
   ],
   "source": [
    "import nltk\n",
    "\n",
    "text = '''Data are individual units of information. \n",
    "          A datum describes a single quality or quantity \n",
    "          of some object or phenomenon. In analytical processes, d\n",
    "          ata are represented by variables. Although the terms'''\n",
    "\n",
    "# Vocabulary \n",
    "\n",
    "print(set(text.split()))"
   ]
  },
  {
   "cell_type": "markdown",
   "metadata": {},
   "source": [
    "### List Vocabulary using List Comprehension"
   ]
  },
  {
   "cell_type": "code",
   "execution_count": 49,
   "metadata": {},
   "outputs": [
    {
     "name": "stdout",
     "output_type": "stream",
     "text": [
      "{'first', 'and', 'one', 'final', 'word2vec', 'the', 'sentence', 'another', 'this', 'is', 'yet', 'more', 'second', 'for'}\n"
     ]
    }
   ],
   "source": [
    "# define training data\n",
    "sentences = [['this', 'is', 'the', 'first', 'sentence', 'for', 'word2vec'],\n",
    "            ['this', 'is', 'the', 'second', 'sentence'],\n",
    "            ['yet', 'another', 'sentence'],\n",
    "            ['one', 'more', 'sentence'],\n",
    "            ['and', 'the', 'final', 'sentence']]\n",
    "\n",
    "vocab= []\n",
    "\n",
    "[[vocab.append(w) for w in x] for x in sentences]\n",
    "\n",
    "vocab = set(vocab)\n",
    "\n",
    "print(vocab)"
   ]
  },
  {
   "cell_type": "markdown",
   "metadata": {},
   "source": [
    "### List Vocabulary using CountVectorizer"
   ]
  },
  {
   "cell_type": "code",
   "execution_count": 53,
   "metadata": {},
   "outputs": [
    {
     "name": "stdout",
     "output_type": "stream",
     "text": [
      "dict_keys(['this', 'is', 'the', 'first', 'sentence', 'for', 'word2vec', 'second', 'yet', 'another'])\n"
     ]
    }
   ],
   "source": [
    "from sklearn.feature_extraction.text import CountVectorizer\n",
    "\n",
    "sentences = ['this is the first sentence for word2vec','this is the second sentence','yet another sentence']\n",
    "\n",
    "# create the transform\n",
    "vectorizer = CountVectorizer()\n",
    "\n",
    "# tokenize and build vocab\n",
    "vectorizer.fit(sentences)\n",
    "\n",
    "# summarize\n",
    "# print(vectorizer.vocabulary_)\n",
    "#print(\"\\n\")\n",
    "print(vectorizer.vocabulary_.keys())"
   ]
  },
  {
   "cell_type": "markdown",
   "metadata": {},
   "source": [
    "### List Vocabulary using gensim"
   ]
  },
  {
   "cell_type": "code",
   "execution_count": 58,
   "metadata": {},
   "outputs": [
    {
     "data": {
      "text/plain": [
       "['sentence',\n",
       " 'the',\n",
       " 'is',\n",
       " 'this',\n",
       " 'another',\n",
       " 'yet',\n",
       " 'second',\n",
       " 'word2vec',\n",
       " 'for',\n",
       " 'first']"
      ]
     },
     "execution_count": 58,
     "metadata": {},
     "output_type": "execute_result"
    }
   ],
   "source": [
    "#3 : \n",
    "\n",
    "from gensim.models import Word2Vec\n",
    "\n",
    "# define training data\n",
    "sentences = [['this', 'is', 'the', 'first', 'sentence', 'for', 'word2vec'],\n",
    "            ['this', 'is', 'the', 'second', 'sentence'],\n",
    "            ['yet', 'another', 'sentence']]\n",
    "\n",
    "model = Word2Vec(sentences, min_count=1)\n",
    "\n",
    "model.wv.index_to_key"
   ]
  },
  {
   "cell_type": "code",
   "execution_count": null,
   "metadata": {},
   "outputs": [],
   "source": [
    "### List Vocabulary using Tf IDF"
   ]
  },
  {
   "cell_type": "code",
   "execution_count": 59,
   "metadata": {},
   "outputs": [
    {
     "name": "stdout",
     "output_type": "stream",
     "text": [
      "['awesome', 'funny', 'hate', 'it', 'like', 'love', 'movie', 'nice', 'one', 'this', 'was']\n"
     ]
    }
   ],
   "source": [
    "# 4 : Using Tf IDF\n",
    "\n",
    "documents = [\"I like this movie it's funny.\",\"I hate this movie.\",\"This was awesome! I like it.\",\"Nice one I love it.\"]\n",
    "\n",
    "from sklearn.feature_extraction.text import TfidfVectorizer\n",
    "import pandas as pd\n",
    "\n",
    "tfidf_vectorizer = TfidfVectorizer()\n",
    "\n",
    "values = tfidf_vectorizer.fit_transform(documents)\n",
    "\n",
    "# Show the Model as a pandas DataFrame\n",
    "feature_names = tfidf_vectorizer.get_feature_names()\n",
    "\n",
    "print(feature_names)"
   ]
  },
  {
   "cell_type": "markdown",
   "metadata": {},
   "source": [
    "### List Vocabulary using Keras Tokenizer"
   ]
  },
  {
   "cell_type": "code",
   "execution_count": null,
   "metadata": {},
   "outputs": [],
   "source": [
    "\n",
    "\n",
    "from tensorflow.keras.preprocessing.text import Tokenizer\n",
    "\n",
    "t = Tokenizer()\n",
    "\n",
    "sentences = [\"this is the first sentence for word2vec\",\n",
    "              \"this is the second sentence\",\n",
    "              \"yet another sentence\",\n",
    "              \"one more sentence\",\n",
    "              \"and the final sentence\"]\n",
    "\n",
    "t.fit_on_texts(sentences)\n",
    "\n",
    "print('word_index : ',list(t.word_index.keys()))"
   ]
  },
  {
   "cell_type": "markdown",
   "metadata": {},
   "source": [
    "### Frequency Distribution Manual"
   ]
  },
  {
   "cell_type": "code",
   "execution_count": 33,
   "metadata": {},
   "outputs": [
    {
     "data": {
      "text/plain": [
       "{'Monty': 1, 'Python': 1, '!': 2, 'And': 1, 'the': 1, 'holy': 1, 'Grail': 1}"
      ]
     },
     "execution_count": 33,
     "metadata": {},
     "output_type": "execute_result"
    }
   ],
   "source": [
    "mystring = 'Monty Python ! And the holy Grail ! \\n'\n",
    "\n",
    "word_freq = {}\n",
    "\n",
    "for tok in mystring.split():\n",
    "    if tok in word_freq:\n",
    "        word_freq[tok] +=1\n",
    "    else:\n",
    "        word_freq[tok] = 1\n",
    "\n",
    "word_freq"
   ]
  },
  {
   "cell_type": "markdown",
   "metadata": {},
   "source": [
    "### Frequency Distribution using NLTK"
   ]
  },
  {
   "cell_type": "code",
   "execution_count": 25,
   "metadata": {},
   "outputs": [
    {
     "data": {
      "text/plain": [
       "dict_items([('Data', 1), ('are', 2), ('individual', 1), ('units', 1), ('of', 2), ('information.', 1), ('A', 1), ('datum', 1), ('describes', 1), ('a', 1), ('single', 1), ('quality', 1), ('or', 2), ('quantity', 1), ('some', 1), ('object', 1), ('phenomenon.', 1), ('In', 1), ('analytical', 1), ('processes,', 1), ('d', 1), ('ata', 1), ('represented', 1), ('by', 1), ('variables.', 1), ('Although', 1), ('the', 1), ('terms', 1)])"
      ]
     },
     "execution_count": 25,
     "metadata": {},
     "output_type": "execute_result"
    }
   ],
   "source": [
    "import nltk\n",
    "\n",
    "text = '''Data are individual units of information. \n",
    "          A datum describes a single quality or quantity \n",
    "          of some object or phenomenon. In analytical processes, d\n",
    "          ata are represented by variables. Although the terms'''\n",
    "\n",
    "fdist = nltk.FreqDist(text.split())\n",
    "\n",
    "fdist.items()"
   ]
  },
  {
   "cell_type": "code",
   "execution_count": 28,
   "metadata": {},
   "outputs": [
    {
     "data": {
      "image/png": "[encoded data removed]",
      "text/plain": [
       "<Figure size 432x288 with 1 Axes>"
      ]
     },
     "metadata": {
      "needs_background": "light"
     },
     "output_type": "display_data"
    }
   ],
   "source": [
    "import matplotlib.pyplot as plt\n",
    "fdist.plot(30,cumulative = False)\n",
    "plt.show()"
   ]
  },
  {
   "cell_type": "code",
   "execution_count": 29,
   "metadata": {},
   "outputs": [
    {
     "data": {
      "text/plain": [
       "[('are', 2), ('of', 2)]"
      ]
     },
     "execution_count": 29,
     "metadata": {},
     "output_type": "execute_result"
    }
   ],
   "source": [
    "fdist.most_common(2)"
   ]
  },
  {
   "cell_type": "code",
   "execution_count": null,
   "metadata": {},
   "outputs": [],
   "source": []
  },
  {
   "cell_type": "markdown",
   "metadata": {},
   "source": [
    "### Frequency Distribution using Collection_Counter"
   ]
  },
  {
   "cell_type": "code",
   "execution_count": 31,
   "metadata": {},
   "outputs": [
    {
     "data": {
      "text/plain": [
       "Counter({'Data': 1,\n",
       "         'are': 2,\n",
       "         'individual': 1,\n",
       "         'units': 1,\n",
       "         'of': 2,\n",
       "         'information.': 1,\n",
       "         'A': 1,\n",
       "         'datum': 1,\n",
       "         'describes': 1,\n",
       "         'a': 1,\n",
       "         'single': 1,\n",
       "         'quality': 1,\n",
       "         'or': 2,\n",
       "         'quantity': 1,\n",
       "         'some': 1,\n",
       "         'object': 1,\n",
       "         'phenomenon.': 1,\n",
       "         'In': 1,\n",
       "         'analytical': 1,\n",
       "         'processes,': 1,\n",
       "         'd': 1,\n",
       "         'ata': 1,\n",
       "         'represented': 1,\n",
       "         'by': 1,\n",
       "         'variables.': 1,\n",
       "         'Although': 1,\n",
       "         'the': 1,\n",
       "         'terms': 1})"
      ]
     },
     "execution_count": 31,
     "metadata": {},
     "output_type": "execute_result"
    }
   ],
   "source": [
    "import collections\n",
    "\n",
    "counter = collections.Counter(text.split())\n",
    "\n",
    "counter"
   ]
  },
  {
   "cell_type": "code",
   "execution_count": 32,
   "metadata": {},
   "outputs": [
    {
     "data": {
      "text/plain": [
       "[('are', 2), ('of', 2), ('or', 2)]"
      ]
     },
     "execution_count": 32,
     "metadata": {},
     "output_type": "execute_result"
    }
   ],
   "source": [
    "# Find Most Common word\n",
    "counter.most_common(3)"
   ]
  },
  {
   "cell_type": "markdown",
   "metadata": {},
   "source": [
    "### Frequency Distribution using Keras tokenizer"
   ]
  },
  {
   "cell_type": "code",
   "execution_count": 48,
   "metadata": {},
   "outputs": [
    {
     "data": {
      "text/plain": [
       "OrderedDict([('data', 1),\n",
       "             ('are', 2),\n",
       "             ('individual', 1),\n",
       "             ('units', 1),\n",
       "             ('of', 2),\n",
       "             ('information', 1),\n",
       "             ('a', 2),\n",
       "             ('datum', 1),\n",
       "             ('describes', 1),\n",
       "             ('single', 1),\n",
       "             ('quality', 1),\n",
       "             ('or', 2),\n",
       "             ('quantity', 1),\n",
       "             ('some', 1),\n",
       "             ('object', 1),\n",
       "             ('phenomenon', 1),\n",
       "             ('in', 1),\n",
       "             ('analytical', 1),\n",
       "             ('processes', 1),\n",
       "             ('d', 1),\n",
       "             ('ata', 1),\n",
       "             ('represented', 1),\n",
       "             ('by', 1),\n",
       "             ('variables', 1),\n",
       "             ('although', 1),\n",
       "             ('the', 1),\n",
       "             ('terms', 1)])"
      ]
     },
     "execution_count": 48,
     "metadata": {},
     "output_type": "execute_result"
    }
   ],
   "source": [
    "# Example : Using Keras Tokenizer\n",
    "\n",
    "from tensorflow.keras.preprocessing.text import Tokenizer\n",
    "\n",
    "# create the tokenizer\n",
    "t = Tokenizer()\n",
    "\n",
    "# fit the tokenizer on the documents\n",
    "t.fit_on_texts(text.split())\n",
    "\n",
    "t.word_counts"
   ]
  },
  {
   "cell_type": "markdown",
   "metadata": {},
   "source": [
    "### Word Index"
   ]
  },
  {
   "cell_type": "code",
   "execution_count": 34,
   "metadata": {},
   "outputs": [
    {
     "name": "stdout",
     "output_type": "stream",
     "text": [
      "{'first', 'and', 'one', 'final', 'word2vec', 'the', 'sentence', 'another', 'this', 'is', 'yet', 'more', 'second', 'for'}\n"
     ]
    },
    {
     "data": {
      "text/plain": [
       "{'first': 1,\n",
       " 'and': 2,\n",
       " 'one': 3,\n",
       " 'final': 4,\n",
       " 'word2vec': 5,\n",
       " 'the': 6,\n",
       " 'sentence': 7,\n",
       " 'another': 8,\n",
       " 'this': 9,\n",
       " 'is': 10,\n",
       " 'yet': 11,\n",
       " 'more': 12,\n",
       " 'second': 13,\n",
       " 'for': 14}"
      ]
     },
     "execution_count": 34,
     "metadata": {},
     "output_type": "execute_result"
    }
   ],
   "source": [
    "# Example 1 : Using Enumerate and List Comprehension\n",
    "\n",
    "sentences = [\"this is the first sentence for word2vec\",\n",
    "              \"this is the second sentence\",\n",
    "              \"yet another sentence\",\n",
    "              \"one more sentence\",\n",
    "              \"and the final sentence\"]\n",
    "vocab = []\n",
    "\n",
    "[[vocab.append(w) for w in x.split()] for x in sentences]\n",
    "\n",
    "vocab = set(vocab)\n",
    "\n",
    "print(vocab)\n",
    "\n",
    "word_index = {}\n",
    "\n",
    "for i,word in enumerate(vocab,1):\n",
    "    word_index[word] = i\n",
    "    \n",
    "word_index"
   ]
  },
  {
   "cell_type": "markdown",
   "metadata": {},
   "source": [
    "### Word index using Keras"
   ]
  },
  {
   "cell_type": "code",
   "execution_count": 37,
   "metadata": {},
   "outputs": [
    {
     "data": {
      "text/plain": [
       "{'sentence': 1,\n",
       " 'the': 2,\n",
       " 'this': 3,\n",
       " 'is': 4,\n",
       " 'first': 5,\n",
       " 'for': 6,\n",
       " 'word2vec': 7,\n",
       " 'second': 8,\n",
       " 'yet': 9,\n",
       " 'another': 10,\n",
       " 'one': 11,\n",
       " 'more': 12,\n",
       " 'and': 13,\n",
       " 'final': 14}"
      ]
     },
     "execution_count": 37,
     "metadata": {},
     "output_type": "execute_result"
    }
   ],
   "source": [
    "# Example : using Keras Tokenizer\n",
    "\n",
    "from tensorflow.keras.preprocessing.text import Tokenizer\n",
    "\n",
    "t = Tokenizer()\n",
    "\n",
    "sentences = [\"this is the first sentence for word2vec\",\n",
    "              \"this is the second sentence\",\n",
    "              \"yet another sentence\",\n",
    "              \"one more sentence\",\n",
    "              \"and the final sentence\"]\n",
    "\n",
    "t.fit_on_texts(sentences)\n",
    "\n",
    "t.word_index"
   ]
  },
  {
   "cell_type": "markdown",
   "metadata": {},
   "source": [
    "### Word index using CountVectorizer"
   ]
  },
  {
   "cell_type": "code",
   "execution_count": 39,
   "metadata": {},
   "outputs": [
    {
     "name": "stdout",
     "output_type": "stream",
     "text": [
      "{'this': 11, 'is': 5, 'the': 10, 'first': 3, 'sentence': 9, 'for': 4, 'word2vec': 12, 'second': 8, 'yet': 13, 'another': 1, 'one': 7, 'more': 6, 'and': 0, 'final': 2}\n"
     ]
    }
   ],
   "source": [
    "# Example : using CountVectorizer\n",
    "\n",
    "from sklearn.feature_extraction.text import CountVectorizer\n",
    "\n",
    "# create the transform\n",
    "vectorizer = CountVectorizer()\n",
    "\n",
    "# tokenize and build vocab\n",
    "vectorizer.fit(sentences)\n",
    "\n",
    "# summarize\n",
    "print(vectorizer.vocabulary_)"
   ]
  },
  {
   "cell_type": "markdown",
   "metadata": {},
   "source": [
    "### Word index using TfidfVectorizer"
   ]
  },
  {
   "cell_type": "code",
   "execution_count": 40,
   "metadata": {},
   "outputs": [
    {
     "name": "stdout",
     "output_type": "stream",
     "text": [
      "{'this': 11, 'is': 5, 'the': 10, 'first': 3, 'sentence': 9, 'for': 4, 'word2vec': 12, 'second': 8, 'yet': 13, 'another': 1, 'one': 7, 'more': 6, 'and': 0, 'final': 2}\n"
     ]
    }
   ],
   "source": [
    "# Example : Using TfidfVectorizer\n",
    "\n",
    "from sklearn.feature_extraction.text import TfidfVectorizer\n",
    "\n",
    "# create the transform\n",
    "vectorizer = TfidfVectorizer()\n",
    "\n",
    "# tokenize and build vocab\n",
    "vectorizer.fit(sentences)\n",
    "\n",
    "# summarize\n",
    "print(vectorizer.vocabulary_)"
   ]
  },
  {
   "cell_type": "markdown",
   "metadata": {},
   "source": [
    "### Intersection and Union functions two texts"
   ]
  },
  {
   "cell_type": "code",
   "execution_count": 44,
   "metadata": {},
   "outputs": [
    {
     "name": "stdout",
     "output_type": "stream",
     "text": [
      "Union: {'How', 'am', 'I', 'You'}\n",
      "Intersection {'Hi', 'am', 'Hello', 'I', 'fine', 'You', 'How', 'about', 'are'}\n"
     ]
    }
   ],
   "source": [
    "document1 = ['Hi', 'How','are','You', 'I','am']\n",
    "document2 = ['Hello','I','am','fine','How','about','You']\n",
    "\n",
    "\n",
    "#Intersection : common words across two documents\n",
    "print(\"Union:\",set(document1) & set(document2))\n",
    "\n",
    "#Union : words from two documents\n",
    "print(\"Intersection\",set(document1) | set(document2))\n"
   ]
  },
  {
   "cell_type": "markdown",
   "metadata": {},
   "source": [
    "### Freature Extrcation"
   ]
  },
  {
   "cell_type": "code",
   "execution_count": 45,
   "metadata": {},
   "outputs": [
    {
     "data": {
      "text/plain": [
       "{'how'}"
      ]
     },
     "execution_count": 45,
     "metadata": {},
     "output_type": "execute_result"
    }
   ],
   "source": [
    "\n",
    "# Check whether Wh words present in the sentence\n",
    "wh_words = set(['why','who','which','what','where','when','how'])\n",
    "\n",
    "senetence1 = \"Do you know how much expectation the middle-class working population os having from this budget\"\n",
    "\n",
    "set(senetence1.split(' ')) & set(wh_words)"
   ]
  },
  {
   "cell_type": "markdown",
   "metadata": {},
   "source": [
    "### Finding Common Vocabulary Across Two Stories"
   ]
  },
  {
   "cell_type": "code",
   "execution_count": 42,
   "metadata": {},
   "outputs": [
    {
     "name": "stdout",
     "output_type": "stream",
     "text": [
      "{'months', 'impolite', 'built', 'belongs', 'was', 'lives', 'said', 'too', 'return', 'swans', 'brothers', 'think', 'stop', 'us', 'not', 'cool', 'on', 'humiliated', 'teach', 'would', 'there', 'were', 'decided', 'soon', 'leave', 'please', 'to', 'treasury', 'them', 'bring', 'but', 'king’s', 'so', 'time', 'am', 'every', 'with', 'dreaming', 'be', 'depends', 'had', 'forever', 'shouted', 'begged', 'no', 'how', 'thought', 'use', 'added', 'decide', 'who', 'soldiers', 'your', 'water', 'soothing', 'near', 'insulted', 'shivered', 'purchased', 'down', 'went', 'having', 'flew', 'he', 'my', 'home', 'came', 'lake', 'royal', 'homeless', 'do', 'river', 'live', 'noticed', 'kingdom', 'settled', 'one', 'all', 'using', 'spent', 'most', 'her', 'as', 'his', 'deposit', 'court', 'pay', 'gave', 'upon', 'arrogant', 'she', 'times', 'collect', 'bird', 'can', 'unkind', 'or', 'beheaded', 'feather', 'far', 'banks', 'we', 'happily', 'and', 'make', 'that', 'at', 'shouting', 'of', 'rent', 'a', 'for', 'many', 'by', 'never', 'seems', 'six', 'me', 'in', 'once', 'here', 'are', 'lived', 'i', 'humble', 'o', 'give', 'drove', 'this', 'further', 'lesson', 'fear', 'other', 'have', 'brought', 'day', 'hearing', 'laughing', 'they', 'shelter', 'ordered', 'will', 'golden', 'saw', 'fee', 'you', 'feathers', 'the', 'away', 'angry', 'king', 'birds', 'pleaded', 'their'}\n"
     ]
    }
   ],
   "source": [
    "story1 = \"\"\"In a far away kingdom, there was a river. This river was home to many golden swans. The swans spent most of their time on the banks of the river. Every six months, the swans would leave a golden feather as a fee for using the lake. The soldiers of the kingdom would collect the feathers and deposit them in the royal treasury. \n",
    "One day, a homeless bird saw the river. \"The water in this river seems so cool and soothing. I will make my home here,\" thought the bird. \n",
    "As soon as the bird settled down near the river, the golden swans noticed her. They came shouting. \"This river belongs to us. We pay a golden feather to the King to use this river. You can not live here.\" \n",
    "\"I am homeless, brothers. I too will pay the rent. Please give me shelter,\" the bird pleaded. \"How will you pay the rent? You do not have golden feathers,\" said the swans laughing. They further added, \"Stop dreaming and leave once.\" The humble bird pleaded many times. But the arrogant swans drove the bird away. \n",
    "\"I will teach them a lesson!\" decided the humiliated bird. \n",
    "She went to the King and said, \"O King! The swans in your river are impolite and unkind. I begged for shelter but they said that they had purchased the river with golden feathers.\" \n",
    "The King was angry with the arrogant swans for having insulted the homeless bird. He ordered his soldiers to bring the arrogant swans to his court. In no time, all the golden swans were brought to the King’s court. \n",
    "\"Do you think the royal treasury depends upon your golden feathers? You can not decide who lives by the river. Leave the river at once or you all will be beheaded!\" shouted the King. \n",
    "The swans shivered with fear on hearing the King. They flew away never to return. The bird built her home near the river and lived there happily forever. The bird gave shelter to all other birds in the river. \"\"\"\n",
    "\n",
    "story2 = \"\"\"Long time ago, there lived a King. He was lazy and liked all the comforts of life. He never carried out his duties as a King. “Our King does not take care of our needs. He also ignores the affairs of his kingdom.\" The people complained. \n",
    "One day, the King went into the forest to hunt. After having wandered for quite sometime, he became thirsty. To his relief, he spotted a lake. As he was drinking water, he suddenly saw a golden swan come out of the lake and perch on a stone. “Oh! A golden swan. I must capture it,\" thought the King. \n",
    "But as soon as he held his bow up, the swan disappeared. And the King heard a voice, “I am the Golden Swan. If you want to capture me, you must come to heaven.\" \n",
    "Surprised, the King said, “Please show me the way to heaven.\" “Do good deeds, serve your people and the messenger from heaven would come to fetch you to heaven,\" replied the voice. \n",
    "The selfish King, eager to capture the Swan, tried doing some good deeds in his Kingdom. “Now, I suppose a messenger will come to take me to heaven,\" he thought. But, no messenger came. \n",
    "The King then disguised himself and went out into the street. There he tried helping an old man. But the old man became angry and said, “You need not try to help. I am in this miserable state because of out selfish King. He has done nothing for his people.\" \n",
    "Suddenly, the King heard the golden swan’s voice, “Do good deeds and you will come to heaven.\" It dawned on the King that by doing selfish acts, he will not go to heaven. \n",
    "He realized that his people needed him and carrying out his duties was the only way to heaven. After that day he became a responsible King. \n",
    "\"\"\"\n",
    "\n",
    "story1 = story1.replace(',','').replace('\\n','').replace('.','').replace('\"','').replace('!','').replace('?','').casefold()\n",
    "\n",
    "story2 = story1.replace(',','').replace('\\n','').replace('.','').replace('\"','').replace('!','').replace('?','').casefold()\n",
    "\n",
    "\n",
    "# Split Story1 words\n",
    "story1_words = story1.split()\n",
    "\n",
    "# Split Story2 words\n",
    "story2_words = story2.split()\n",
    "\n",
    "story1_vocab = set(story1_words)\n",
    "\n",
    "story2_vocab = set(story2_words)\n",
    "\n",
    "# Common Vocabulary of two stories\n",
    "common_vocab = story1_vocab & story2_vocab\n",
    "\n",
    "print(common_vocab)"
   ]
  },
  {
   "cell_type": "code",
   "execution_count": null,
   "metadata": {},
   "outputs": [],
   "source": []
  },
  {
   "cell_type": "markdown",
   "metadata": {},
   "source": [
    "### World Clouds"
   ]
  },
  {
   "cell_type": "code",
   "execution_count": null,
   "metadata": {},
   "outputs": [],
   "source": [
    "import pandas as pd\n",
    "\n",
    "df1 = pd.read_csv('Sheet_1.csv', encoding='latin-1')\n",
    "\n",
    "# Drop the unwanted columns\n",
    "df1.drop(['Unnamed: 3','Unnamed: 4','Unnamed: 5','Unnamed: 6','Unnamed: 7'],axis =1)\n",
    "\n",
    "df1['class'].value_counts()\n",
    "\n",
    "df2 = pd.read_csv('Sheet_2.csv', encoding='latin-1')\n",
    "\n",
    "df2['class'].value_counts()\n",
    "\n",
    "from wordcloud import WordCloud, STOPWORDS\n",
    "import matplotlib.pyplot as plt\n",
    "\n",
    "stopwords = set(STOPWORDS)\n",
    "\n",
    "def wordcloud(dataframe):\n",
    "    stopwords = set(STOPWORDS)\n",
    "    wordcloud = WordCloud(background_color=\"white\",stopwords=stopwords).generate(\" \".join([i for i in dataframe.str.upper()]))\n",
    "    plt.imshow(wordcloud)\n",
    "    plt.axis(\"off\")\n",
    "    plt.title(\"bag_composition\")\n",
    "\n",
    "wordcloud(df1['response_text'])\n",
    "\n",
    "\n",
    "# Looks positive overall, 'friend' is largest, because the bot said: 'Describe a time when you\n",
    "# have acted as a resource for someone else.'"
   ]
  },
  {
   "cell_type": "code",
   "execution_count": null,
   "metadata": {},
   "outputs": [],
   "source": [
    "wordcloud(df2['resume_text']) \n",
    "\n",
    "# Looks reasonable, 'data' and 'research' are largest"
   ]
  }
 ],
 "metadata": {
  "kernelspec": {
   "display_name": "Python 3",
   "language": "python",
   "name": "python3"
  },
  "language_info": {
   "codemirror_mode": {
    "name": "ipython",
    "version": 3
   },
   "file_extension": ".py",
   "mimetype": "text/x-python",
   "name": "python",
   "nbconvert_exporter": "python",
   "pygments_lexer": "ipython3",
   "version": "3.6.8"
  }
 },
 "nbformat": 4,
 "nbformat_minor": 2
}
