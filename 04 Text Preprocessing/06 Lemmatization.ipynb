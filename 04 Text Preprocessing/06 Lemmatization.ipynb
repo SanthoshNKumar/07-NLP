{
 "cells": [
  {
   "cell_type": "code",
   "execution_count": null,
   "metadata": {},
   "outputs": [],
   "source": [
    "# Stemming : Stemming is a technique to remove affixes from a word, ending up with the stem.\n",
    "\n",
    "# Lemmatization : problem with stemming is that often, stemmed words do not carry any meaning.\n",
    "# Lemmatization deals with such cases where it returns base form of words that carries dectionary meaning"
   ]
  },
  {
   "cell_type": "code",
   "execution_count": 2,
   "metadata": {},
   "outputs": [
    {
     "name": "stdout",
     "output_type": "stream",
     "text": [
      "rocks : rock\n",
      "corpora : corpus\n"
     ]
    }
   ],
   "source": [
    "from nltk.stem import WordNetLemmatizer\n",
    "\n",
    "# One major difference with stemming is that lemmatize takes a part of speech parameter, \n",
    "# “pos” If not supplied, the default is “noun.”\n",
    "\n",
    "lemmatizer = WordNetLemmatizer()\n",
    "\n",
    "print(\"rocks :\", lemmatizer.lemmatize(\"rocks\")) \n",
    "print(\"corpora :\", lemmatizer.lemmatize(\"corpora\"))"
   ]
  },
  {
   "cell_type": "code",
   "execution_count": 3,
   "metadata": {},
   "outputs": [
    {
     "name": "stdout",
     "output_type": "stream",
     "text": [
      "rock\n",
      "good\n",
      "best\n",
      "car\n",
      "men\n",
      "run\n",
      "sad\n",
      "fancy\n",
      "eat\n"
     ]
    }
   ],
   "source": [
    "# Lemmatization\n",
    "import nltk\n",
    "\n",
    "print(nltk.stem.WordNetLemmatizer().lemmatize(\"rocks\"))\n",
    "print(nltk.stem.WordNetLemmatizer().lemmatize(\"better\", pos = 'a'))\n",
    "print(nltk.stem.WordNetLemmatizer().lemmatize('best',pos = 'a'))\n",
    "print(nltk.stem.WordNetLemmatizer().lemmatize('cars',pos = 'n'))\n",
    "print(nltk.stem.WordNetLemmatizer().lemmatize('men',pos = 'n'))\n",
    "print(nltk.stem.WordNetLemmatizer().lemmatize('running',pos = 'v'))\n",
    "print(nltk.stem.WordNetLemmatizer().lemmatize('saddest',pos = 'a'))\n",
    "print(nltk.stem.WordNetLemmatizer().lemmatize('fancier',pos = 'a'))\n",
    "print(nltk.stem.WordNetLemmatizer().lemmatize('ate',pos = 'v'))"
   ]
  }
 ],
 "metadata": {
  "kernelspec": {
   "display_name": "Python 3",
   "language": "python",
   "name": "python3"
  },
  "language_info": {
   "codemirror_mode": {
    "name": "ipython",
    "version": 3
   },
   "file_extension": ".py",
   "mimetype": "text/x-python",
   "name": "python",
   "nbconvert_exporter": "python",
   "pygments_lexer": "ipython3",
   "version": "3.6.8"
  }
 },
 "nbformat": 4,
 "nbformat_minor": 2
}
