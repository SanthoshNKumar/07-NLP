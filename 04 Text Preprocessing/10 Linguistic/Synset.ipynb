{
 "cells": [
  {
   "cell_type": "code",
   "execution_count": null,
   "metadata": {},
   "outputs": [],
   "source": [
    "'''\n",
    "Synsets: "
   ]
  },
  {
   "cell_type": "code",
   "execution_count": 1,
   "metadata": {},
   "outputs": [
    {
     "name": "stdout",
     "output_type": "stream",
     "text": [
      "Synsets/Senses of Chair: [Synset('chair.n.01'), Synset('professorship.n.01'), Synset('president.n.04'), Synset('electric_chair.n.01'), Synset('chair.n.05'), Synset('chair.v.01'), Synset('moderate.v.01')] \n",
      "\n",
      "\n",
      "Synset('chair.n.01')\n",
      "a seat for one person, with a support for the back\n",
      "['chair']\n",
      "['he put his coat over the back of the chair and sat down']\n"
     ]
    }
   ],
   "source": [
    "from nltk.corpus import wordnet as wn\n",
    "\n",
    "chair = 'chair'\n",
    "\n",
    "chair_synset = wn.synsets(chair)\n",
    "\n",
    "print(\"Synsets/Senses of Chair:\",chair_synset,'\\n\\n')\n",
    "\n",
    "print(chair_synset[0])\n",
    "\n",
    "print(chair_synset[0].definition())\n",
    "print(chair_synset[0].lemma_names())\n",
    "print(chair_synset[0].examples())\n"
   ]
  },
  {
   "cell_type": "code",
   "execution_count": 2,
   "metadata": {},
   "outputs": [
    {
     "name": "stdout",
     "output_type": "stream",
     "text": [
      "[Synset('adult.n.01'), Synset('female.n.02')] \n",
      "\n",
      "\n",
      "[[Synset('entity.n.01'), Synset('physical_entity.n.01'), Synset('causal_agent.n.01'), Synset('person.n.01'), Synset('adult.n.01'), Synset('woman.n.01')], [Synset('entity.n.01'), Synset('physical_entity.n.01'), Synset('object.n.01'), Synset('whole.n.02'), Synset('living_thing.n.01'), Synset('organism.n.01'), Synset('person.n.01'), Synset('adult.n.01'), Synset('woman.n.01')], [Synset('entity.n.01'), Synset('physical_entity.n.01'), Synset('causal_agent.n.01'), Synset('person.n.01'), Synset('female.n.02'), Synset('woman.n.01')], [Synset('entity.n.01'), Synset('physical_entity.n.01'), Synset('object.n.01'), Synset('whole.n.02'), Synset('living_thing.n.01'), Synset('organism.n.01'), Synset('person.n.01'), Synset('female.n.02'), Synset('woman.n.01')]] \n",
      "\n",
      "\n",
      "[Synset('amazon.n.01'), Synset('b-girl.n.01'), Synset('bachelor_girl.n.01'), Synset('baggage.n.02'), Synset('ball-buster.n.01'), Synset('black_woman.n.01'), Synset('bluestocking.n.01'), Synset('bridesmaid.n.01'), Synset('broad.n.01'), Synset('cat.n.03'), Synset('cinderella.n.01'), Synset('coquette.n.01'), Synset('dame.n.02'), Synset('debutante.n.01'), Synset('divorcee.n.01'), Synset('dominatrix.n.01'), Synset('donna.n.01'), Synset('enchantress.n.01'), Synset('ex-wife.n.01'), Synset('eyeful.n.01'), Synset('geisha.n.01'), Synset('girl.n.01'), Synset('girl.n.05'), Synset('girlfriend.n.01'), Synset('girlfriend.n.02'), Synset('gold_digger.n.02'), Synset('gravida.n.02'), Synset('heroine.n.02'), Synset('inamorata.n.01'), Synset('jezebel.n.02'), Synset('jilt.n.01'), Synset('lady.n.01'), Synset('maenad.n.01'), Synset('maenad.n.02'), Synset('matriarch.n.01'), Synset('matriarch.n.02'), Synset('matron.n.03'), Synset('mestiza.n.01'), Synset('mistress.n.01'), Synset('mother_figure.n.01'), Synset('nanny.n.01'), Synset('nullipara.n.01'), Synset('nymph.n.03'), Synset('nymphet.n.01'), Synset('old_woman.n.01'), Synset('prostitute.n.01'), Synset('shiksa.n.01'), Synset('smasher.n.02'), Synset('sylph.n.01'), Synset('unmarried_woman.n.01'), Synset('vestal.n.01'), Synset('wac.n.01'), Synset('wave.n.09'), Synset('white_woman.n.01'), Synset('widow.n.01'), Synset('wife.n.01'), Synset('wonder_woman.n.01'), Synset('yellow_woman.n.01')] \n",
      "\n",
      "\n"
     ]
    }
   ],
   "source": [
    "from nltk.corpus import wordnet as wn\n",
    "\n",
    "woman = wn.synsets('woman')\n",
    "bed = wn.synsets('bed')\n",
    "\n",
    "print(woman[0].hypernyms(),'\\n\\n')\n",
    "print(woman[0].hypernym_paths(),'\\n\\n')\n",
    "print(woman[0].hyponyms(),'\\n\\n')\n"
   ]
  },
  {
   "cell_type": "code",
   "execution_count": 3,
   "metadata": {},
   "outputs": [
    {
     "name": "stdout",
     "output_type": "stream",
     "text": [
      "['large', 'big', 'big']\n"
     ]
    }
   ],
   "source": [
    "# Get Antonyms From WordNet\n",
    "from nltk.corpus import wordnet\n",
    "antonyms = []\n",
    "for syn in wordnet.synsets(\"small\"):\n",
    "    for l in syn.lemmas():\n",
    "        if l.antonyms():\n",
    "            antonyms.append(l.antonyms()[0].name())\n",
    "print(antonyms)"
   ]
  },
  {
   "cell_type": "code",
   "execution_count": 4,
   "metadata": {},
   "outputs": [
    {
     "name": "stdout",
     "output_type": "stream",
     "text": [
      "Synset Name :<bound method Synset.name of Synset('hike.n.01')>\n",
      "POS Tag :n\n",
      "Definition: a long walk usually for exercise or pleasure\n",
      "Example : ['she enjoys a hike in her spare time']\n",
      "\n",
      "Synset Name :<bound method Synset.name of Synset('rise.n.09')>\n",
      "POS Tag :n\n",
      "Definition: an increase in cost\n",
      "Example : ['they asked for a 10% rise in rates']\n",
      "\n",
      "Synset Name :<bound method Synset.name of Synset('raise.n.01')>\n",
      "POS Tag :n\n",
      "Definition: the amount a salary is increased\n",
      "Example : ['he got a 3% raise', 'he got a wage hike']\n",
      "\n",
      "Synset Name :<bound method Synset.name of Synset('hike.v.01')>\n",
      "POS Tag :v\n",
      "Definition: increase\n",
      "Example : ['The landlord hiked up the rents']\n",
      "\n",
      "Synset Name :<bound method Synset.name of Synset('hike.v.02')>\n",
      "POS Tag :v\n",
      "Definition: walk a long way, as for pleasure or physical exercise\n",
      "Example : ['We were hiking in Colorado', 'hike the Rockies']\n",
      "\n"
     ]
    }
   ],
   "source": [
    "# Get Synsets\n",
    "from nltk.corpus import wordnet\n",
    "synsets = wordnet.synsets('hike')\n",
    "\n",
    "for synset in synsets:\n",
    "    print(('Synset Name :{name}\\n' 'POS Tag :{tag}\\n' 'Definition: {defi}\\n' 'Example : {exp}\\n').format(name = synset.name,\n",
    "                    tag = synset.pos(), defi = synset.definition(),exp = synset.examples()))\n"
   ]
  },
  {
   "cell_type": "code",
   "execution_count": 5,
   "metadata": {},
   "outputs": [
    {
     "name": "stdout",
     "output_type": "stream",
     "text": [
      "Synset('bass.n.01') the lowest part of the musical range \n",
      "\n",
      "Synset('bass.n.02') the lowest part in polyphonic music \n",
      "\n",
      "Synset('bass.n.03') an adult male singer with the lowest voice \n",
      "\n",
      "Synset('sea_bass.n.01') the lean flesh of a saltwater fish of the family Serranidae \n",
      "\n",
      "Synset('freshwater_bass.n.01') any of various North American freshwater fish with lean flesh (especially of the genus Micropterus) \n",
      "\n",
      "Synset('bass.n.06') the lowest adult male singing voice \n",
      "\n",
      "Synset('bass.n.07') the member with the lowest range of a family of musical instruments \n",
      "\n",
      "Synset('bass.n.08') nontechnical name for any of numerous edible marine and freshwater spiny-finned fishes \n",
      "\n",
      "Synset('bass.s.01') having or denoting a low vocal or instrumental range \n",
      "\n"
     ]
    }
   ],
   "source": [
    "# Get All the Sysnset Defination for a word\n",
    "\n",
    "from nltk.corpus import wordnet as wn\n",
    "for ss in wn.synsets('bass'):\n",
    "    print(ss,ss.definition(),'\\n')\n"
   ]
  },
  {
   "cell_type": "code",
   "execution_count": 1,
   "metadata": {},
   "outputs": [
    {
     "name": "stdout",
     "output_type": "stream",
     "text": [
      "Synset Name:    beautiful.a.01\n",
      "Synset meaning:  delighting the senses or exciting intellectual or emotional admiration\n",
      "Synset Example ['a beautiful child', 'beautiful country', 'a beautiful painting', 'a beautiful theory', 'a beautiful party']\n"
     ]
    }
   ],
   "source": [
    "from nltk.corpus import wordnet\n",
    "\n",
    "syn = wordnet.synsets(\"beautiful\")[0]\n",
    "\n",
    "print(\"Synset Name:   \",syn.name())\n",
    "\n",
    "# Defining the word \n",
    "print(\"Synset meaning: \",syn.definition())\n",
    "\n",
    "# list of phrases that use the word in context \n",
    "print(\"Synset Example\",syn.examples())\n"
   ]
  },
  {
   "cell_type": "code",
   "execution_count": 2,
   "metadata": {},
   "outputs": [
    {
     "name": "stdout",
     "output_type": "stream",
     "text": [
      "Synset Name:    hello.n.01\n",
      "\n",
      "Synset abstract term :   [Synset('greeting.n.01')]\n",
      "\n",
      "Synset specific term :   [Synset('calling_card.n.02'), Synset('good_afternoon.n.01'), Synset('good_morning.n.01'), Synset('hail.n.03'), Synset('hello.n.01'), Synset('pax.n.01'), Synset('reception.n.01'), Synset('regard.n.03'), Synset('salute.n.02'), Synset('salute.n.03'), Synset('welcome.n.02'), Synset('well-wishing.n.01')]\n"
     ]
    }
   ],
   "source": [
    "from nltk.corpus import wordnet\n",
    "\n",
    "syn = wordnet.synsets(\"hello\")[0]\n",
    "\n",
    "print(\"Synset Name:   \",syn.name())\n",
    "\n",
    "print (\"\\nSynset abstract term :  \", syn.hypernyms()) \n",
    "\n",
    "print (\"\\nSynset specific term :  \",  syn.hypernyms()[0].hyponyms()) "
   ]
  },
  {
   "cell_type": "code",
   "execution_count": null,
   "metadata": {},
   "outputs": [],
   "source": []
  }
 ],
 "metadata": {
  "kernelspec": {
   "display_name": "Python 3",
   "language": "python",
   "name": "python3"
  },
  "language_info": {
   "codemirror_mode": {
    "name": "ipython",
    "version": 3
   },
   "file_extension": ".py",
   "mimetype": "text/x-python",
   "name": "python",
   "nbconvert_exporter": "python",
   "pygments_lexer": "ipython3",
   "version": "3.7.4"
  }
 },
 "nbformat": 4,
 "nbformat_minor": 2
}
