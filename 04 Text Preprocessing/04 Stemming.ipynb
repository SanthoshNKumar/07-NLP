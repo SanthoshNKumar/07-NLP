{
 "cells": [
  {
   "cell_type": "code",
   "execution_count": null,
   "metadata": {},
   "outputs": [],
   "source": [
    "# Stemming : Stemming is the process of producing morphological variants of a root/base word. \n",
    "# Stemming programs are commonly referred to as stemming algorithms or stemmers. \n",
    "\n",
    "# Errors in Stemming:\n",
    "# There are mainly two errors in stemming – Overstemming and Understemming. \n",
    "# Overstemming occurs when two words are stemmed to same root that are of different stems. \n",
    "# Under-stemming occurs when two words are stemmed to same root that are not of different stems.\n",
    "\n"
   ]
  },
  {
   "cell_type": "markdown",
   "metadata": {},
   "source": [
    "### Porter Stemmer\n",
    "\n",
    "##### PorterStemmer removes 's', 'es','e','ed','al', and so on"
   ]
  },
  {
   "cell_type": "code",
   "execution_count": 11,
   "metadata": {},
   "outputs": [
    {
     "name": "stdout",
     "output_type": "stream",
     "text": [
      "['My', 'name', 'is', 'maximum', 'Decimus', 'Meridius', '.', 'Commander', 'of', 'the', 'Armier', 'of', 'the', 'North', ',', 'General', 'of', 'the', 'Felix', 'Legions', 'and', 'loyal', 'servant', 'to', 'the', 'true', 'emperor', ',', 'Mercus', 'Aurelius', '.', 'Father', 'to', 'a', 'murdered', 'son', '.', 'husband', 'to', 'a', 'murdered', 'wife', '.', 'And', 'I', 'will', 'have', 'my', 'vengeance', ',', 'in', 'this'] \n",
      "\n",
      "\n",
      "my name is maximum decimus meridius. commander of the armier of the north, general of the felix legions         and loyal servant to the true emperor, mercus aurelius. \n",
      "father to a murdered son. husband to a murdered        wife. \n",
      "and i will have my vengeance, in thi\n"
     ]
    }
   ],
   "source": [
    "from nltk.stem import PorterStemmer\n",
    "from nltk.tokenize import word_tokenize\n",
    "\n",
    "text = \"My name is maximum Decimus Meridius. Commander of the Armier of the North, General of the Felix Legions \\\n",
    "        and loyal servant to the true emperor, Mercus Aurelius. \\nFather to a murdered son. husband to a murdered\\\n",
    "        wife. \\nAnd I will have my vengeance, in this\"\n",
    "\n",
    "token = [v for v in word_tokenize(text)]\n",
    "\n",
    "print(token,\"\\n\\n\")\n",
    "\n",
    "print(PorterStemmer().stem(text))\n"
   ]
  },
  {
   "cell_type": "code",
   "execution_count": null,
   "metadata": {},
   "outputs": [],
   "source": []
  },
  {
   "cell_type": "markdown",
   "metadata": {},
   "source": [
    "### Lancester Stemmer\n",
    "#### Suffixes are droped biger than Porter .'us', 'e','th','eral','ered'"
   ]
  },
  {
   "cell_type": "code",
   "execution_count": 12,
   "metadata": {},
   "outputs": [
    {
     "name": "stdout",
     "output_type": "stream",
     "text": [
      "['My', 'name', 'is', 'maximum', 'Decimus', 'Meridius', '.', 'Commander', 'of', 'the', 'Armier', 'of', 'the', 'North', ',', 'General', 'of', 'the', 'Felix', 'Legions', 'and', 'loyal', 'servant', 'to', 'the', 'true', 'emperor', ',', 'Mercus', 'Aurelius', '.', 'Father', 'to', 'a', 'murdered', 'son', '.', 'husband', 'to', 'a', 'murdered', 'wife', '.', 'And', 'I', 'will', 'have', 'my', 'vengeance', ',', 'in', 'this'] \n",
      "\n",
      "\n",
      "my name is maximum decimus meridius. commander of the armier of the north, general of the felix legions         and loyal servant to the true emperor, mercus aurelius. \n",
      "father to a murdered son. husband to a murdered        wife. \n",
      "and i will have my vengeance, in this\n"
     ]
    }
   ],
   "source": [
    "from nltk.stem import LancasterStemmer\n",
    "from nltk.tokenize import word_tokenize\n",
    "\n",
    "text = \"My name is maximum Decimus Meridius. Commander of the Armier of the North, General of the Felix Legions \\\n",
    "        and loyal servant to the true emperor, Mercus Aurelius. \\nFather to a murdered son. husband to a murdered\\\n",
    "        wife. \\nAnd I will have my vengeance, in this\"\n",
    "\n",
    "token = [v for v in word_tokenize(text)]\n",
    "\n",
    "print(token,\"\\n\\n\")\n",
    "\n",
    "print(LancasterStemmer().stem(text))"
   ]
  },
  {
   "cell_type": "code",
   "execution_count": null,
   "metadata": {},
   "outputs": [],
   "source": []
  },
  {
   "cell_type": "markdown",
   "metadata": {},
   "source": [
    "### RegexpStemmer :Stemming using Regualr Expression"
   ]
  },
  {
   "cell_type": "code",
   "execution_count": 13,
   "metadata": {},
   "outputs": [
    {
     "name": "stdout",
     "output_type": "stream",
     "text": [
      "fly\n",
      "cap\n",
      "do\n"
     ]
    }
   ],
   "source": [
    "# example 01\n",
    "\n",
    "import nltk\n",
    "\n",
    "from nltk.stem import RegexpStemmer\n",
    "\n",
    "reg_exp_stemmer = RegexpStemmer('able$|ing$') \n",
    "\n",
    "'''removes the suffixes albe and ing, \n",
    "if present in a word and min specifies the minimum\n",
    "length of the stemmed word '''\n",
    "\n",
    "print(reg_exp_stemmer.stem('flying'))\n",
    "\n",
    "print(reg_exp_stemmer.stem('capable'))\n",
    "\n",
    "print(reg_exp_stemmer.stem('doing'))"
   ]
  },
  {
   "cell_type": "code",
   "execution_count": 14,
   "metadata": {},
   "outputs": [
    {
     "data": {
      "text/plain": [
       "'I love Play football'"
      ]
     },
     "execution_count": 14,
     "metadata": {},
     "output_type": "execute_result"
    }
   ],
   "source": [
    "# Example 2\n",
    "\n",
    "from nltk.stem import RegexpStemmer\n",
    "\n",
    "reg_stemmer = RegexpStemmer('ing$',min =4)\n",
    "\n",
    "sentence = 'I love Playing football'\n",
    "\n",
    "' '.join([reg_stemmer.stem(x) for x in sentence.split()])\n"
   ]
  },
  {
   "cell_type": "markdown",
   "metadata": {},
   "source": [
    "### Simple_Stemmer"
   ]
  },
  {
   "cell_type": "code",
   "execution_count": 15,
   "metadata": {},
   "outputs": [
    {
     "data": {
      "text/plain": [
       "'my system keep crash hi crash yesterday, our ctash daili'"
      ]
     },
     "execution_count": 15,
     "metadata": {},
     "output_type": "execute_result"
    }
   ],
   "source": [
    "import nltk\n",
    "def simple_stemmer(text):\n",
    "    stem = [nltk.stem.PorterStemmer().stem(v) for v in text.split()]\n",
    "    stem = ' '.join(stem)\n",
    "    return stem\n",
    "\n",
    "simple_stemmer(\"My system keeps crashing his crashed yesterday, ours ctashed daily\")\n"
   ]
  },
  {
   "cell_type": "code",
   "execution_count": null,
   "metadata": {},
   "outputs": [],
   "source": []
  },
  {
   "cell_type": "markdown",
   "metadata": {},
   "source": [
    "### Snowball Stemmer"
   ]
  },
  {
   "cell_type": "code",
   "execution_count": 10,
   "metadata": {},
   "outputs": [
    {
     "name": "stdout",
     "output_type": "stream",
     "text": [
      "Supported Language: ('arabic', 'danish', 'dutch', 'english', 'finnish', 'french', 'german', 'hungarian', 'italian', 'norwegian', 'porter', 'portuguese', 'romanian', 'russian', 'spanish', 'swedish')\n"
     ]
    },
    {
     "data": {
      "text/plain": [
       "'spring'"
      ]
     },
     "execution_count": 10,
     "metadata": {},
     "output_type": "execute_result"
    }
   ],
   "source": [
    "from nltk.stem import SnowballStemmer\n",
    "\n",
    "ss = SnowballStemmer(\"german\")\n",
    "print(\"Supported Language:\",SnowballStemmer.languages)\n",
    "\n",
    "# Stemming on German language\n",
    "ss.stem('autobahnen')\n",
    "\n",
    "# autobahnen = Cars\n",
    "# springen = jumping\n",
    "ss.stem('springen')\n"
   ]
  },
  {
   "cell_type": "code",
   "execution_count": null,
   "metadata": {},
   "outputs": [],
   "source": []
  }
 ],
 "metadata": {
  "kernelspec": {
   "display_name": "Python 3",
   "language": "python",
   "name": "python3"
  },
  "language_info": {
   "codemirror_mode": {
    "name": "ipython",
    "version": 3
   },
   "file_extension": ".py",
   "mimetype": "text/x-python",
   "name": "python",
   "nbconvert_exporter": "python",
   "pygments_lexer": "ipython3",
   "version": "3.6.8"
  }
 },
 "nbformat": 4,
 "nbformat_minor": 2
}
