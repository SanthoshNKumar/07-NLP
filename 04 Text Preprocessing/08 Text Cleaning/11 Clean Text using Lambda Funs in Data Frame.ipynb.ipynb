{
 "cells": [
  {
   "cell_type": "code",
   "execution_count": 213,
   "metadata": {},
   "outputs": [],
   "source": [
    "import pandas as pd\n",
    "from string import punctuation\n",
    "from nltk.corpus import stopwords\n",
    "stopwords = stopwords.words('english')"
   ]
  },
  {
   "cell_type": "code",
   "execution_count": 214,
   "metadata": {},
   "outputs": [
    {
     "data": {
      "text/plain": [
       "'!\"#$%&\\'()*+,-./:;<=>?@[\\\\]^_`{|}~'"
      ]
     },
     "execution_count": 214,
     "metadata": {},
     "output_type": "execute_result"
    }
   ],
   "source": [
    "punctuation"
   ]
  },
  {
   "cell_type": "code",
   "execution_count": 215,
   "metadata": {},
   "outputs": [],
   "source": [
    "text = open(\"C:\\MyWork\\MyLearning\\Career Growth\\ML\\Files\\DataSet\\SampleText.txt\",'r').read()"
   ]
  },
  {
   "cell_type": "code",
   "execution_count": 216,
   "metadata": {},
   "outputs": [
    {
     "data": {
      "text/plain": [
       "'Women education is a catch all term which refers to the state of primary, secondary, tertiary and health education in girls and women. There are 65 Million girls out of school across the globe; majority of them are in the developing and underdeveloped countries. All the countries of the world, especially the developing and underdeveloped countries must take necessary steps to improve their condition of female education; as women can play a vital role in the nation’s development.\\nIf we consider society as tree, then men are like its strong main stem which supports the tree to face the elements and women are like its roots; most important of them all. The stronger the roots are the bigger and stronger the tree will be spreading its branches; sheltering and protecting the needy.\\nWomen are the soul of a society; a society can well be judged by the way its women are treated. An educated man goes out to make the society better, while an educated woman; whether she goes out or stays at home, makes the house and its occupants better.\\nWomen play many roles in a society- mother, wife, sister, care taker, nurse etc. They are more compassionate towards the needs of others and have a better understanding of social structure. An educated mother will make sure that her children are educated, and will weigh the education of a girl child, same as boys.\\nHistory is replete with evidences, that the societies in which women were treated equally to men and were educated; prospered and grew socially as well as economically. It will be a mistake to leave women behind in our goal of sustainable development, and it could only be achieved if both the genders are allowed equal opportunities in education and other areas.\\nEducation makes women more confident and ambitious; they become more aware of their rights and can raise their voice against exploitation and violence. A society cannot at all progress if its women weep silently. They have to have the weapon of education to carve out a progressive path for their own as well as their families.'"
      ]
     },
     "execution_count": 216,
     "metadata": {},
     "output_type": "execute_result"
    }
   ],
   "source": [
    "# Lower the text\n",
    "#text = text.lower()\n",
    "\n",
    "#text = text.replace(\"[^a-zA-z]\",'')\n",
    "\n",
    "text"
   ]
  },
  {
   "cell_type": "code",
   "execution_count": 217,
   "metadata": {},
   "outputs": [],
   "source": [
    "from nltk.tokenize import sent_tokenize"
   ]
  },
  {
   "cell_type": "code",
   "execution_count": 218,
   "metadata": {},
   "outputs": [],
   "source": [
    "sentences = sent_tokenize(text)"
   ]
  },
  {
   "cell_type": "code",
   "execution_count": 219,
   "metadata": {},
   "outputs": [
    {
     "data": {
      "text/plain": [
       "['Women education is a catch all term which refers to the state of primary, secondary, tertiary and health education in girls and women.',\n",
       " 'There are 65 Million girls out of school across the globe; majority of them are in the developing and underdeveloped countries.',\n",
       " 'All the countries of the world, especially the developing and underdeveloped countries must take necessary steps to improve their condition of female education; as women can play a vital role in the nation’s development.',\n",
       " 'If we consider society as tree, then men are like its strong main stem which supports the tree to face the elements and women are like its roots; most important of them all.',\n",
       " 'The stronger the roots are the bigger and stronger the tree will be spreading its branches; sheltering and protecting the needy.',\n",
       " 'Women are the soul of a society; a society can well be judged by the way its women are treated.',\n",
       " 'An educated man goes out to make the society better, while an educated woman; whether she goes out or stays at home, makes the house and its occupants better.',\n",
       " 'Women play many roles in a society- mother, wife, sister, care taker, nurse etc.',\n",
       " 'They are more compassionate towards the needs of others and have a better understanding of social structure.',\n",
       " 'An educated mother will make sure that her children are educated, and will weigh the education of a girl child, same as boys.',\n",
       " 'History is replete with evidences, that the societies in which women were treated equally to men and were educated; prospered and grew socially as well as economically.',\n",
       " 'It will be a mistake to leave women behind in our goal of sustainable development, and it could only be achieved if both the genders are allowed equal opportunities in education and other areas.',\n",
       " 'Education makes women more confident and ambitious; they become more aware of their rights and can raise their voice against exploitation and violence.',\n",
       " 'A society cannot at all progress if its women weep silently.',\n",
       " 'They have to have the weapon of education to carve out a progressive path for their own as well as their families.']"
      ]
     },
     "execution_count": 219,
     "metadata": {},
     "output_type": "execute_result"
    }
   ],
   "source": [
    "sentences"
   ]
  },
  {
   "cell_type": "code",
   "execution_count": 225,
   "metadata": {},
   "outputs": [
    {
     "data": {
      "text/html": [
       "<div>\n",
       "<style scoped>\n",
       "    .dataframe tbody tr th:only-of-type {\n",
       "        vertical-align: middle;\n",
       "    }\n",
       "\n",
       "    .dataframe tbody tr th {\n",
       "        vertical-align: top;\n",
       "    }\n",
       "\n",
       "    .dataframe thead th {\n",
       "        text-align: right;\n",
       "    }\n",
       "</style>\n",
       "<table border=\"1\" class=\"dataframe\">\n",
       "  <thead>\n",
       "    <tr style=\"text-align: right;\">\n",
       "      <th></th>\n",
       "      <th>Text</th>\n",
       "    </tr>\n",
       "  </thead>\n",
       "  <tbody>\n",
       "    <tr>\n",
       "      <td>0</td>\n",
       "      <td>Women education is a catch all term which refe...</td>\n",
       "    </tr>\n",
       "    <tr>\n",
       "      <td>1</td>\n",
       "      <td>There are 65 Million girls out of school acros...</td>\n",
       "    </tr>\n",
       "    <tr>\n",
       "      <td>2</td>\n",
       "      <td>All the countries of the world, especially the...</td>\n",
       "    </tr>\n",
       "    <tr>\n",
       "      <td>3</td>\n",
       "      <td>If we consider society as tree, then men are l...</td>\n",
       "    </tr>\n",
       "    <tr>\n",
       "      <td>4</td>\n",
       "      <td>The stronger the roots are the bigger and stro...</td>\n",
       "    </tr>\n",
       "    <tr>\n",
       "      <td>5</td>\n",
       "      <td>Women are the soul of a society; a society can...</td>\n",
       "    </tr>\n",
       "    <tr>\n",
       "      <td>6</td>\n",
       "      <td>An educated man goes out to make the society b...</td>\n",
       "    </tr>\n",
       "    <tr>\n",
       "      <td>7</td>\n",
       "      <td>Women play many roles in a society- mother, wi...</td>\n",
       "    </tr>\n",
       "    <tr>\n",
       "      <td>8</td>\n",
       "      <td>They are more compassionate towards the needs ...</td>\n",
       "    </tr>\n",
       "    <tr>\n",
       "      <td>9</td>\n",
       "      <td>An educated mother will make sure that her chi...</td>\n",
       "    </tr>\n",
       "    <tr>\n",
       "      <td>10</td>\n",
       "      <td>History is replete with evidences, that the so...</td>\n",
       "    </tr>\n",
       "    <tr>\n",
       "      <td>11</td>\n",
       "      <td>It will be a mistake to leave women behind in ...</td>\n",
       "    </tr>\n",
       "    <tr>\n",
       "      <td>12</td>\n",
       "      <td>Education makes women more confident and ambit...</td>\n",
       "    </tr>\n",
       "    <tr>\n",
       "      <td>13</td>\n",
       "      <td>A society cannot at all progress if its women ...</td>\n",
       "    </tr>\n",
       "    <tr>\n",
       "      <td>14</td>\n",
       "      <td>They have to have the weapon of education to c...</td>\n",
       "    </tr>\n",
       "  </tbody>\n",
       "</table>\n",
       "</div>"
      ],
      "text/plain": [
       "                                                 Text\n",
       "0   Women education is a catch all term which refe...\n",
       "1   There are 65 Million girls out of school acros...\n",
       "2   All the countries of the world, especially the...\n",
       "3   If we consider society as tree, then men are l...\n",
       "4   The stronger the roots are the bigger and stro...\n",
       "5   Women are the soul of a society; a society can...\n",
       "6   An educated man goes out to make the society b...\n",
       "7   Women play many roles in a society- mother, wi...\n",
       "8   They are more compassionate towards the needs ...\n",
       "9   An educated mother will make sure that her chi...\n",
       "10  History is replete with evidences, that the so...\n",
       "11  It will be a mistake to leave women behind in ...\n",
       "12  Education makes women more confident and ambit...\n",
       "13  A society cannot at all progress if its women ...\n",
       "14  They have to have the weapon of education to c..."
      ]
     },
     "execution_count": 225,
     "metadata": {},
     "output_type": "execute_result"
    }
   ],
   "source": [
    "import pandas as pd\n",
    "\n",
    "df = pd.DataFrame(sentences,columns=['Text'])\n",
    "\n",
    "df"
   ]
  },
  {
   "cell_type": "code",
   "execution_count": 248,
   "metadata": {},
   "outputs": [],
   "source": [
    "import re\n",
    "\n",
    "df['Text'] = [x.lower() for x in df['Text']]\n",
    "\n",
    "#df['Text'] = df['Text'].replace(',','')\n",
    "#df['Text'] = df['Text'].replace(';','')\n",
    "#df['Text'] = df['Text'].replace('\\d','')"
   ]
  },
  {
   "cell_type": "code",
   "execution_count": 269,
   "metadata": {},
   "outputs": [],
   "source": [
    "df['Cleaned_Text'] = df['Text'].apply(lambda x : x.split())\n",
    "\n",
    "df['Cleaned_Text'] = df['Cleaned_Text'].apply(lambda x : [y for y in x if y not in stopwords])\n",
    "\n",
    "df['Cleaned_Text'] = df['Cleaned_Text'].apply(lambda x : [y for y in x if y.isdigit() is False])\n",
    "\n",
    "df['Cleaned_Text'] = df['Cleaned_Text'].apply(lambda x : [y for y in x if y not in [';','-']])\n",
    "\n",
    "\n",
    "cleaned_sentences = []\n",
    "\n",
    "for x in df['Cleaned_Text']:\n",
    "    cleaned_sentences.append(' '.join([y for y in x]))"
   ]
  },
  {
   "cell_type": "code",
   "execution_count": 270,
   "metadata": {},
   "outputs": [
    {
     "data": {
      "text/plain": [
       "['women education catch term refers state primary, secondary, tertiary health education girls women.',\n",
       " 'million girls school across globe; majority developing underdeveloped countries.',\n",
       " 'countries world, especially developing underdeveloped countries must take necessary steps improve condition female education; women play vital role nation’s development.',\n",
       " 'consider society tree, men like strong main stem supports tree face elements women like roots; important all.',\n",
       " 'stronger roots bigger stronger tree spreading branches; sheltering protecting needy.',\n",
       " 'women soul society; society well judged way women treated.',\n",
       " 'educated man goes make society better, educated woman; whether goes stays home, makes house occupants better.',\n",
       " 'women play many roles society- mother, wife, sister, care taker, nurse etc.',\n",
       " 'compassionate towards needs others better understanding social structure.',\n",
       " 'educated mother make sure children educated, weigh education girl child, boys.',\n",
       " 'history replete evidences, societies women treated equally men educated; prospered grew socially well economically.',\n",
       " 'mistake leave women behind goal sustainable development, could achieved genders allowed equal opportunities education areas.',\n",
       " 'education makes women confident ambitious; become aware rights raise voice exploitation violence.',\n",
       " 'society cannot progress women weep silently.',\n",
       " 'weapon education carve progressive path well families.']"
      ]
     },
     "execution_count": 270,
     "metadata": {},
     "output_type": "execute_result"
    }
   ],
   "source": [
    "cleaned_sentences"
   ]
  },
  {
   "cell_type": "code",
   "execution_count": 289,
   "metadata": {},
   "outputs": [
    {
     "data": {
      "text/plain": [
       "181"
      ]
     },
     "execution_count": 289,
     "metadata": {},
     "output_type": "execute_result"
    }
   ],
   "source": [
    "from nltk.tokenize import word_tokenize\n",
    "\n",
    "len([x for x in cleaned_sentences for x in word_tokenize(x) if x not in [',',';','-','.','’']])"
   ]
  },
  {
   "cell_type": "code",
   "execution_count": null,
   "metadata": {},
   "outputs": [],
   "source": [
    "# create the transform\n",
    "vectorizer = CountVectorizer()\n",
    "\n",
    "# tokenize and build vocab\n",
    "vectorizer.fit(cleaned_sentences)"
   ]
  }
 ],
 "metadata": {
  "kernelspec": {
   "display_name": "Python 3",
   "language": "python",
   "name": "python3"
  },
  "language_info": {
   "codemirror_mode": {
    "name": "ipython",
    "version": 3
   },
   "file_extension": ".py",
   "mimetype": "text/x-python",
   "name": "python",
   "nbconvert_exporter": "python",
   "pygments_lexer": "ipython3",
   "version": "3.7.4"
  }
 },
 "nbformat": 4,
 "nbformat_minor": 2
}
