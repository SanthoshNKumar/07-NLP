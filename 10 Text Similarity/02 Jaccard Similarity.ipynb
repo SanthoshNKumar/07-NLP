{
 "cells": [
  {
   "cell_type": "code",
   "execution_count": 6,
   "metadata": {},
   "outputs": [],
   "source": [
    "# Jaccard Similarity : measures similarities between sets. \n",
    "# It is defined as the size of the intersection divided by the size of the union of two sets."
   ]
  },
  {
   "cell_type": "code",
   "execution_count": 26,
   "metadata": {},
   "outputs": [
    {
     "name": "stdout",
     "output_type": "stream",
     "text": [
      "Step 1: Get the corpus Data\n",
      "Set1 What you do defines you\n",
      "Set2 Yours deeds defines you\n",
      "\n",
      "\n",
      "Step 2: Lemmatize and Tokenize the Senetence\n",
      "Tokenized words set1: ['what', 'you', 'do', 'defines', 'you']\n",
      "Tokenized words set2: ['yours', 'deed', 'defines', 'you']\n",
      "\n",
      "\n",
      "Step 3: Find the Intersection of two Set\n",
      "set(words_text1) & set(words_text2) = 2\n",
      "\n",
      "\n",
      "Step 4: Find the Union of two Set\n",
      "set(words_text1) | set(words_text2) = 6\n",
      "\n",
      "\n",
      "Step 5: Find the jaccard Distance\n",
      "Jaccard Distance = Intersection(Set1;Set2)/ Union(Set1;set2) 0.3333333333333333\n"
     ]
    }
   ],
   "source": [
    "# 01\n",
    "\n",
    "pair1 = [\"What you do defines you\",\n",
    "         \"Yours deeds defines you\"]\n",
    "\n",
    "pair2 = [\"Once upon a time there lived a king.\",\n",
    "         \"Who is your queen?\"]\n",
    "\n",
    "from nltk.stem import WordNetLemmatizer\n",
    "from nltk import word_tokenize\n",
    "words_text1 = [WordNetLemmatizer().lemmatize(word.lower()) for word in word_tokenize(pair1[0])]\n",
    "words_text2 = [WordNetLemmatizer().lemmatize(word.lower()) for word in word_tokenize(pair1[1])]\n",
    "\n",
    "print(\"Step 1: Get the corpus Data\")\n",
    "print(\"Set1\",pair1[0])\n",
    "print(\"Set2\",pair1[1])\n",
    "\n",
    "print(\"\\n\")\n",
    "print(\"Step 2: Lemmatize and Tokenize the Senetence\")\n",
    "print(\"Tokenized words set1:\",words_text1)\n",
    "print(\"Tokenized words set2:\",words_text2)\n",
    "\n",
    "print(\"\\n\")\n",
    "print(\"Step 3: Find the Intersection of two Set\")\n",
    "numerator = len(set(words_text1) & set(words_text2))  # Intersection\n",
    "print(\"set(words_text1) & set(words_text2) =\",numerator)\n",
    "\n",
    "print(\"\\n\")\n",
    "print(\"Step 4: Find the Union of two Set\")\n",
    "denominator = len (set(words_text1) | set(words_text2)) # Union\n",
    "print(\"set(words_text1) | set(words_text2) =\",denominator)\n",
    "\n",
    "print(\"\\n\")\n",
    "jaccard_sim = numerator/denominator\n",
    "print(\"Step 5: Find the jaccard Distance\")\n",
    "print(\"Jaccard Distance = Intersection(Set1;Set2)/ Union(Set1;set2)\",jaccard_sim)\n"
   ]
  },
  {
   "cell_type": "code",
   "execution_count": null,
   "metadata": {},
   "outputs": [],
   "source": []
  },
  {
   "cell_type": "code",
   "execution_count": 2,
   "metadata": {},
   "outputs": [
    {
     "name": "stdout",
     "output_type": "stream",
     "text": [
      "Jaccard Similarity of pair1 : 0.3333333333333333\n",
      "Jaccard Similarity of pair2 : 0.0\n",
      "Jaccard Similarity of pair3 : 0.6\n"
     ]
    }
   ],
   "source": [
    "from nltk.stem import WordNetLemmatizer\n",
    "from nltk import word_tokenize\n",
    "\n",
    "def extract_text_similarity_jaccard(text1,text2):\n",
    "    words_text1 = [WordNetLemmatizer().lemmatize(word.lower()) for word in word_tokenize(text1)]\n",
    "    words_text2 = [WordNetLemmatizer().lemmatize(word.lower()) for word in word_tokenize(text2)]\n",
    "    \n",
    "    numerator = len(set(words_text1) & set(words_text2))  # Intersection\n",
    "    \n",
    "    denominator = len (set(words_text1) | set(words_text2)) # Union\n",
    "    \n",
    "    jaccard_sim = numerator/denominator\n",
    "    \n",
    "    return jaccard_sim\n",
    "\n",
    "pair1 = [\"What you do defines you\",\"Yours deeds defines you\"]\n",
    "pair2 = [\"Once upon a time there lived a king.\",\"Who is your queen?\"]\n",
    "pair3 = [\"He is desperate\",\"Is he not desperate?\"]\n",
    "\n",
    "print(\"Jaccard Similarity of pair1 :\",extract_text_similarity_jaccard(pair1[0],pair1[1]))\n",
    "print(\"Jaccard Similarity of pair2 :\",extract_text_similarity_jaccard(pair2[0],pair2[1]))\n",
    "print(\"Jaccard Similarity of pair3 :\",extract_text_similarity_jaccard(pair3[0],pair3[1]))"
   ]
  },
  {
   "cell_type": "code",
   "execution_count": null,
   "metadata": {},
   "outputs": [],
   "source": []
  }
 ],
 "metadata": {
  "kernelspec": {
   "display_name": "Python 3",
   "language": "python",
   "name": "python3"
  },
  "language_info": {
   "codemirror_mode": {
    "name": "ipython",
    "version": 3
   },
   "file_extension": ".py",
   "mimetype": "text/x-python",
   "name": "python",
   "nbconvert_exporter": "python",
   "pygments_lexer": "ipython3",
   "version": "3.6.8"
  }
 },
 "nbformat": 4,
 "nbformat_minor": 2
}
