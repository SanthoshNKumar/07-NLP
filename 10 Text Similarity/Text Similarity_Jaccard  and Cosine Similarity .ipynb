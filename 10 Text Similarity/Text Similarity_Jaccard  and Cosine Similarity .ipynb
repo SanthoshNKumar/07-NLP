{
 "cells": [
  {
   "cell_type": "markdown",
   "metadata": {},
   "source": [
    "### Jaccard  and Cosine Similary between Text"
   ]
  },
  {
   "cell_type": "code",
   "execution_count": 59,
   "metadata": {},
   "outputs": [
    {
     "name": "stdout",
     "output_type": "stream",
     "text": [
      "0.4\n"
     ]
    }
   ],
   "source": [
    "from nltk import word_tokenize\n",
    "from nltk.stem import WordNetLemmatizer\n",
    "from sklearn.feature_extraction.text import TfidfVectorizer\n",
    "from sklearn.metrics.pairwise import cosine_similarity\n",
    "\n",
    "pair1 = [\"What you define you\",\"Your deeds define you\"]\n",
    "\n",
    "lemmatizer = WordNetLemmatizer()\n",
    "\n",
    "word_text1 = [lemmatizer.lemmatize(x.lower()) for x in word_tokenize(pair1[0])]\n",
    "word_text2 = [lemmatizer.lemmatize(x.lower()) for x in word_tokenize(pair1[1])]\n",
    "\n",
    "nr = len(set(word_text1).intersection(set(word_text2)))\n",
    "\n",
    "dr = len(set(word_text1).union(set(word_text2)))\n",
    "\n",
    "jaccard_sim = nr / dr\n",
    "\n",
    "print(jaccard_sim)"
   ]
  },
  {
   "cell_type": "code",
   "execution_count": 58,
   "metadata": {},
   "outputs": [
    {
     "data": {
      "text/plain": [
       "array([[0.46564622]])"
      ]
     },
     "execution_count": 58,
     "metadata": {},
     "output_type": "execute_result"
    }
   ],
   "source": [
    "corpus = [pair1[0],pair1[1]]\n",
    "\n",
    "tfidf_model = TfidfVectorizer()\n",
    "\n",
    "tfidf_results = tfidf_model.fit_transform(corpus).todense()\n",
    "\n",
    "cosine_similarity(tfidf_results[0],tfidf_results[1])"
   ]
  },
  {
   "cell_type": "code",
   "execution_count": null,
   "metadata": {},
   "outputs": [],
   "source": []
  }
 ],
 "metadata": {
  "kernelspec": {
   "display_name": "Python 3",
   "language": "python",
   "name": "python3"
  },
  "language_info": {
   "codemirror_mode": {
    "name": "ipython",
    "version": 3
   },
   "file_extension": ".py",
   "mimetype": "text/x-python",
   "name": "python",
   "nbconvert_exporter": "python",
   "pygments_lexer": "ipython3",
   "version": "3.6.8"
  }
 },
 "nbformat": 4,
 "nbformat_minor": 2
}
