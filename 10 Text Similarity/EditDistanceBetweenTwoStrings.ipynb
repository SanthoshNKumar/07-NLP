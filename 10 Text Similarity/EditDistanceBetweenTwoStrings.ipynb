{
 "cells": [
  {
   "cell_type": "code",
   "execution_count": 1,
   "metadata": {},
   "outputs": [
    {
     "name": "stdout",
     "output_type": "stream",
     "text": [
      "0\n",
      "0\n"
     ]
    }
   ],
   "source": [
    "from nltk.metrics.distance import edit_distance\n",
    "\n",
    "def my_edit_distance(str1,str2):\n",
    "    m = len(str1) + 1\n",
    "    n = len(str2) + 1\n",
    "    \n",
    "    table = {}\n",
    "    for i in range(1,m):\n",
    "        for j in range(1,n):\n",
    "            cost = 0 if str1[i-1] == str2[j-1] else 1\n",
    "            table[i,j] = min(table[i,j-1] + 1,table[i-1,j] + 1,table[i-1,j-1] + cost)\n",
    "            \n",
    "    return table\n",
    "\n",
    "print(edit_distance('and','and'))\n",
    "print(edit_distance(\"andd\",\"andd\"))"
   ]
  }
 ],
 "metadata": {
  "kernelspec": {
   "display_name": "Python 3",
   "language": "python",
   "name": "python3"
  },
  "language_info": {
   "codemirror_mode": {
    "name": "ipython",
    "version": 3
   },
   "file_extension": ".py",
   "mimetype": "text/x-python",
   "name": "python",
   "nbconvert_exporter": "python",
   "pygments_lexer": "ipython3",
   "version": "3.6.8"
  }
 },
 "nbformat": 4,
 "nbformat_minor": 2
}
