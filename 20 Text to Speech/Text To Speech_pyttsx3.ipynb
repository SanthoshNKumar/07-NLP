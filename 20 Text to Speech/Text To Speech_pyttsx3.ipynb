{
 "cells": [
  {
   "cell_type": "code",
   "execution_count": 1,
   "metadata": {},
   "outputs": [],
   "source": [
    "import pyttsx3"
   ]
  },
  {
   "cell_type": "code",
   "execution_count": 2,
   "metadata": {},
   "outputs": [],
   "source": [
    "engine = pyttsx3.init()\n",
    "\n",
    "engine.say(\"hello friend how are you\")\n",
    "engine.setProperty('rate',120)\n",
    "engine.setProperty('volume',0.9)\n",
    "engine.runAndWait()"
   ]
  },
  {
   "cell_type": "code",
   "execution_count": 3,
   "metadata": {},
   "outputs": [],
   "source": [
    "# Male Voice\n",
    "\n",
    "engine1 = pyttsx3.init()\n",
    "\n",
    "sound = engine1.getProperty('voices')\n",
    "engine1.setProperty('voice',sound[0].id)\n",
    "\n",
    "engine1.say(\"hello friend how are you\")\n",
    "\n",
    "engine1.setProperty('volume',0.9)\n",
    "engine1.runAndWait()"
   ]
  },
  {
   "cell_type": "code",
   "execution_count": 4,
   "metadata": {},
   "outputs": [],
   "source": [
    "# female Voice\n",
    "\n",
    "engine1 = pyttsx3.init()\n",
    "\n",
    "sound = engine1.getProperty('voices')\n",
    "engine1.setProperty('voice',sound[1].id)\n",
    "\n",
    "engine1.say(\"hello friend how are you\")\n",
    "\n",
    "engine1.setProperty('volume',0.9)\n",
    "engine1.runAndWait()"
   ]
  },
  {
   "cell_type": "code",
   "execution_count": null,
   "metadata": {},
   "outputs": [],
   "source": []
  },
  {
   "cell_type": "code",
   "execution_count": 5,
   "metadata": {},
   "outputs": [
    {
     "name": "stdout",
     "output_type": "stream",
     "text": [
      "Voice:\n",
      " - ID: HKEY_LOCAL_MACHINE\\SOFTWARE\\Microsoft\\Speech\\Voices\\Tokens\\TTS_MS_EN-US_DAVID_11.0\n",
      " - Name: Microsoft David Desktop - English (United States)\n",
      " - Languages: []\n",
      " - Gender: None\n",
      " - Age: None\n",
      "Voice:\n",
      " - ID: HKEY_LOCAL_MACHINE\\SOFTWARE\\Microsoft\\Speech\\Voices\\Tokens\\TTS_MS_EN-US_ZIRA_11.0\n",
      " - Name: Microsoft Zira Desktop - English (United States)\n",
      " - Languages: []\n",
      " - Gender: None\n",
      " - Age: None\n"
     ]
    }
   ],
   "source": [
    "engine2 = pyttsx3.init()\n",
    "\n",
    "voices = engine2.getProperty('voices')\n",
    "for voice in voices: \n",
    " print(\"Voice:\") \n",
    " print(\" - ID: %s\" % voice.id) \n",
    " print(\" - Name: %s\" % voice.name) \n",
    " print(\" - Languages: %s\" % voice.languages) \n",
    " print(\" - Gender: %s\" % voice.gender) \n",
    " print(\" - Age: %s\" % voice.age)\n",
    "\n",
    "engine2.setProperty('voice',sound[1].id)\n",
    "\n",
    "engine2.say(\"hello friend how are you\")\n",
    "\n",
    "engine2.setProperty('volume',0.9)\n",
    "engine2.runAndWait()"
   ]
  },
  {
   "cell_type": "code",
   "execution_count": null,
   "metadata": {},
   "outputs": [],
   "source": []
  }
 ],
 "metadata": {
  "kernelspec": {
   "display_name": "Python 3",
   "language": "python",
   "name": "python3"
  },
  "language_info": {
   "codemirror_mode": {
    "name": "ipython",
    "version": 3
   },
   "file_extension": ".py",
   "mimetype": "text/x-python",
   "name": "python",
   "nbconvert_exporter": "python",
   "pygments_lexer": "ipython3",
   "version": "3.7.4"
  }
 },
 "nbformat": 4,
 "nbformat_minor": 2
}
