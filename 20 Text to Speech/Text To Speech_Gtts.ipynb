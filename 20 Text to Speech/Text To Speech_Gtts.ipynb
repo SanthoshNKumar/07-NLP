{
 "cells": [
  {
   "cell_type": "code",
   "execution_count": 21,
   "metadata": {},
   "outputs": [],
   "source": [
    "# gtts : Google Text to Speech\n",
    "\n",
    "\n",
    "from gtts import gTTS\n",
    "from playsound import playsound\n",
    "\n",
    "import os"
   ]
  },
  {
   "cell_type": "code",
   "execution_count": 23,
   "metadata": {},
   "outputs": [
    {
     "data": {
      "text/plain": [
       "0"
      ]
     },
     "execution_count": 23,
     "metadata": {},
     "output_type": "execute_result"
    }
   ],
   "source": [
    "# The text that you want to convert to audio\n",
    "mytext = 'Welcome to geeksforgeeks!'\n",
    "\n",
    "# Language in which you want to convert\n",
    "language = 'en'\n",
    "\n",
    "myobj = gTTS(text=mytext, lang=language, slow=False)\n",
    "\n",
    "myobj.save(\"welcome.wav\")\n",
    "\n",
    "# Playing the converted file\n",
    "os.system(\"welcome.wav\")"
   ]
  },
  {
   "cell_type": "code",
   "execution_count": null,
   "metadata": {},
   "outputs": [],
   "source": [
    "# Kannada"
   ]
  },
  {
   "cell_type": "code",
   "execution_count": 16,
   "metadata": {},
   "outputs": [
    {
     "data": {
      "text/plain": [
       "0"
      ]
     },
     "execution_count": 16,
     "metadata": {},
     "output_type": "execute_result"
    }
   ],
   "source": [
    "text_val = \"ಒಮ್ಮೆ ವಿತಂಡವಾದಿಯೊಬ್ಬ ಗುರುವಿನ ಬಳಿಗೆ ಬಂದು ವಿಷಯವೊಂದರ ಬಗ್ಗೆ ಅನವಶ್ಯಕ ವಾದಕ್ಕಿಳಿದ\" \n",
    "\n",
    "language = 'km'  \n",
    "\n",
    "objkannada = gTTS(text=text_val, lang=language, slow=True,)  \n",
    "\n",
    "filename = \"kannada.mp3\"\n",
    "\n",
    "objkannada.save(filename)  \n",
    "\n",
    "os.system(filename)"
   ]
  },
  {
   "cell_type": "code",
   "execution_count": 25,
   "metadata": {},
   "outputs": [
    {
     "data": {
      "text/plain": [
       "0"
      ]
     },
     "execution_count": 25,
     "metadata": {},
     "output_type": "execute_result"
    }
   ],
   "source": [
    "# Tamil\n",
    "\n",
    "text_val = \"யார் அழித்தது என்று விசாரணை.  மூன்றாம் வரிசையில் உட்கார்ந்திருந்த ஓவியா எழுந்ததும் டீச்சருக்கு ஆச்சர்யம். நன்றாகப் படிக்கும் மாணவி ஓவியா\" \n",
    "\n",
    "language = 'ta'  \n",
    "\n",
    "objkannada = gTTS(text=text_val, lang=language, slow=True,)  \n",
    "\n",
    "filename = \"tamil.mp3\"\n",
    "\n",
    "objkannada.save(filename)  \n",
    "\n",
    "os.system(filename)"
   ]
  }
 ],
 "metadata": {
  "kernelspec": {
   "display_name": "Python 3",
   "language": "python",
   "name": "python3"
  },
  "language_info": {
   "codemirror_mode": {
    "name": "ipython",
    "version": 3
   },
   "file_extension": ".py",
   "mimetype": "text/x-python",
   "name": "python",
   "nbconvert_exporter": "python",
   "pygments_lexer": "ipython3",
   "version": "3.7.4"
  }
 },
 "nbformat": 4,
 "nbformat_minor": 2
}
