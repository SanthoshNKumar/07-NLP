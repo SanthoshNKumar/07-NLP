{
 "cells": [
  {
   "cell_type": "code",
   "execution_count": 42,
   "metadata": {},
   "outputs": [],
   "source": [
    "import pandas as pd"
   ]
  },
  {
   "cell_type": "code",
   "execution_count": 43,
   "metadata": {},
   "outputs": [],
   "source": [
    "df = pd.read_csv(\"C:\\\\MyWork\\\\MyLearning\\\\ML\\\\Files\\\\DataSet\\\\SPAM text message 20170820 - Data.csv\")"
   ]
  },
  {
   "cell_type": "code",
   "execution_count": 44,
   "metadata": {},
   "outputs": [
    {
     "data": {
      "text/html": [
       "<div>\n",
       "<style scoped>\n",
       "    .dataframe tbody tr th:only-of-type {\n",
       "        vertical-align: middle;\n",
       "    }\n",
       "\n",
       "    .dataframe tbody tr th {\n",
       "        vertical-align: top;\n",
       "    }\n",
       "\n",
       "    .dataframe thead th {\n",
       "        text-align: right;\n",
       "    }\n",
       "</style>\n",
       "<table border=\"1\" class=\"dataframe\">\n",
       "  <thead>\n",
       "    <tr style=\"text-align: right;\">\n",
       "      <th></th>\n",
       "      <th>Category</th>\n",
       "      <th>Message</th>\n",
       "    </tr>\n",
       "  </thead>\n",
       "  <tbody>\n",
       "    <tr>\n",
       "      <td>0</td>\n",
       "      <td>ham</td>\n",
       "      <td>Go until jurong point, crazy.. Available only ...</td>\n",
       "    </tr>\n",
       "    <tr>\n",
       "      <td>1</td>\n",
       "      <td>ham</td>\n",
       "      <td>Ok lar... Joking wif u oni...</td>\n",
       "    </tr>\n",
       "    <tr>\n",
       "      <td>2</td>\n",
       "      <td>spam</td>\n",
       "      <td>Free entry in 2 a wkly comp to win FA Cup fina...</td>\n",
       "    </tr>\n",
       "    <tr>\n",
       "      <td>3</td>\n",
       "      <td>ham</td>\n",
       "      <td>U dun say so early hor... U c already then say...</td>\n",
       "    </tr>\n",
       "    <tr>\n",
       "      <td>4</td>\n",
       "      <td>ham</td>\n",
       "      <td>Nah I don't think he goes to usf, he lives aro...</td>\n",
       "    </tr>\n",
       "  </tbody>\n",
       "</table>\n",
       "</div>"
      ],
      "text/plain": [
       "  Category                                            Message\n",
       "0      ham  Go until jurong point, crazy.. Available only ...\n",
       "1      ham                      Ok lar... Joking wif u oni...\n",
       "2     spam  Free entry in 2 a wkly comp to win FA Cup fina...\n",
       "3      ham  U dun say so early hor... U c already then say...\n",
       "4      ham  Nah I don't think he goes to usf, he lives aro..."
      ]
     },
     "execution_count": 44,
     "metadata": {},
     "output_type": "execute_result"
    }
   ],
   "source": [
    "df.head()"
   ]
  },
  {
   "cell_type": "code",
   "execution_count": 45,
   "metadata": {},
   "outputs": [],
   "source": [
    "# Convert Categorical output\n",
    "\n",
    "df['Category'] = [1 if x == 'spam' else 0 for x in df['Category']]\n",
    "\n",
    "df['Message'] = [(re.sub(r\"[^a-zA-Z /s]\",'',x).lower()) for x in df['Message']] # Remove "
   ]
  },
  {
   "cell_type": "code",
   "execution_count": 46,
   "metadata": {},
   "outputs": [
    {
     "data": {
      "text/html": [
       "<div>\n",
       "<style scoped>\n",
       "    .dataframe tbody tr th:only-of-type {\n",
       "        vertical-align: middle;\n",
       "    }\n",
       "\n",
       "    .dataframe tbody tr th {\n",
       "        vertical-align: top;\n",
       "    }\n",
       "\n",
       "    .dataframe thead th {\n",
       "        text-align: right;\n",
       "    }\n",
       "</style>\n",
       "<table border=\"1\" class=\"dataframe\">\n",
       "  <thead>\n",
       "    <tr style=\"text-align: right;\">\n",
       "      <th></th>\n",
       "      <th>Category</th>\n",
       "      <th>Message</th>\n",
       "    </tr>\n",
       "  </thead>\n",
       "  <tbody>\n",
       "    <tr>\n",
       "      <td>0</td>\n",
       "      <td>0</td>\n",
       "      <td>go until jurong point crazy available only in ...</td>\n",
       "    </tr>\n",
       "    <tr>\n",
       "      <td>1</td>\n",
       "      <td>0</td>\n",
       "      <td>ok lar joking wif u oni</td>\n",
       "    </tr>\n",
       "    <tr>\n",
       "      <td>2</td>\n",
       "      <td>1</td>\n",
       "      <td>free entry in  a wkly comp to win fa cup final...</td>\n",
       "    </tr>\n",
       "    <tr>\n",
       "      <td>3</td>\n",
       "      <td>0</td>\n",
       "      <td>u dun say so early hor u c already then say</td>\n",
       "    </tr>\n",
       "    <tr>\n",
       "      <td>4</td>\n",
       "      <td>0</td>\n",
       "      <td>nah i dont think he goes to usf he lives aroun...</td>\n",
       "    </tr>\n",
       "  </tbody>\n",
       "</table>\n",
       "</div>"
      ],
      "text/plain": [
       "   Category                                            Message\n",
       "0         0  go until jurong point crazy available only in ...\n",
       "1         0                            ok lar joking wif u oni\n",
       "2         1  free entry in  a wkly comp to win fa cup final...\n",
       "3         0        u dun say so early hor u c already then say\n",
       "4         0  nah i dont think he goes to usf he lives aroun..."
      ]
     },
     "execution_count": 46,
     "metadata": {},
     "output_type": "execute_result"
    }
   ],
   "source": [
    "df.head()"
   ]
  },
  {
   "cell_type": "code",
   "execution_count": 60,
   "metadata": {},
   "outputs": [],
   "source": [
    "from nltk.tokenize import word_tokenize\n",
    "\n",
    "df['NL_words'] = [word_tokenize(x) for x in df['Message']]"
   ]
  },
  {
   "cell_type": "code",
   "execution_count": 64,
   "metadata": {},
   "outputs": [
    {
     "data": {
      "text/plain": [
       "['go',\n",
       " 'until',\n",
       " 'jurong',\n",
       " 'point',\n",
       " 'crazy',\n",
       " 'available',\n",
       " 'only',\n",
       " 'in',\n",
       " 'bugis',\n",
       " 'n',\n",
       " 'great',\n",
       " 'world',\n",
       " 'la',\n",
       " 'e',\n",
       " 'buffet',\n",
       " 'cine',\n",
       " 'there',\n",
       " 'got',\n",
       " 'amore',\n",
       " 'wat']"
      ]
     },
     "execution_count": 64,
     "metadata": {},
     "output_type": "execute_result"
    }
   ],
   "source": [
    "from nltk.stem import WordNetLemmatizer"
   ]
  },
  {
   "cell_type": "code",
   "execution_count": 67,
   "metadata": {},
   "outputs": [],
   "source": [
    "df['NL_words'] = [[WordNetLemmatizer().lemmatize(y) for y in x] for x in df['NL_words']]"
   ]
  },
  {
   "cell_type": "code",
   "execution_count": 74,
   "metadata": {},
   "outputs": [],
   "source": [
    "df['Message'] = [' '.join([y for y in x]) for x in df['NL_words']]"
   ]
  },
  {
   "cell_type": "code",
   "execution_count": 131,
   "metadata": {},
   "outputs": [],
   "source": [
    "from sklearn.feature_extraction.text import CountVectorizer\n",
    "max_features = 3000 #We use the most common word\n",
    "count_vectorizer = CountVectorizer(max_features = max_features, stop_words = \"english\")\n",
    "sparce_matrix = count_vectorizer.fit_transform(df['Message']).toarray()\n"
   ]
  },
  {
   "cell_type": "code",
   "execution_count": 123,
   "metadata": {},
   "outputs": [
    {
     "name": "stdout",
     "output_type": "stream",
     "text": [
      "the most using 3000 words: ['aah', 'aathilove', 'aathiwhere', 'abi', 'ability', 'abiola', 'abj', 'able', 'abt', 'abta', 'aburo', 'ac', 'academic', 'acc', 'accept', 'access', 'accident', 'accidentally', 'accordingly', 'account', 'ache', 'aclpm', 'acoentry', 'acted', 'acting', 'action', 'activate', 'active', 'activity', 'actor', 'actual', 'actually', 'ad', 'adam', 'add', 'addamsfa', 'added', 'addicted', 'addie', 'address', 'admin', 'administrator', 'admirer', 'adore', 'adoring', 'adult', 'advance', 'adventure', 'advice', 'advise', 'ae', 'aeronautics', 'aeroplane', 'affair', 'affection', 'affectionate', 'afraid', 'aft', 'afternoon', 'aftr', 'ag', 'agalla', 'age', 'agent', 'ago', 'agree', 'ah', 'aha', 'ahead', 'ahmad', 'ahsen', 'aid', 'aight', 'aint', 'air', 'airport', 'airtel', 'aiya', 'aiyah', 'aiyar', 'aiyo', 'aj', 'aka', 'al', 'alaipayuthe', 'album', 'alcohol', 'alert', 'alex', 'alfie', 'algarve', 'alive', 'allah', 'allow', 'allowed', 'alright', 'alrite', 'alwys', 'amazing', 'american', 'amp', 'ampm', 'amt', 'amused', 'amy', 'andros', 'angry', 'animation', 'anna', 'annie', 'anniversary', 'announcement', 'annoying', 'anot', 'ansr', 'answer', 'answered', 'answering', 'anthony', 'anti', 'anybody', 'anymore', 'anythin', 'anytime', 'anyways', 'aom', 'apart', 'apartment', 'apologise', 'app', 'apparently', 'applebees', 'application', 'apply', 'appointment', 'appreciate', 'appreciated', 'approx', 'apps', 'appt', 'april', 'aproach', 'ar', 'arcade', 'ard', 'area', 'arent', 'argh', 'argue', 'argument', 'arm', 'armand', 'arng', 'arrange', 'arrested', 'arrive', 'arsenal', 'art', 'arun', 'asap', 'ask', 'askd', 'asked', 'askin', 'asking', 'asks', 'asleep', 'assume', 'ate', 'atlanta', 'atlast', 'atm', 'attached', 'attempt', 'attend', 'auction', 'audition', 'august', 'aunt', 'aunty', 'auto', 'av', 'available', 'avatar', 'ave', 'avent', 'avoid', 'avoiding', 'await', 'awaiting', 'awake', 'award', 'awarded', 'away', 'awesome', 'aww', 'ayn', 'ba', 'babe', 'baby', 'bad', 'bag', 'bagi', 'bahamas', 'bak', 'balance', 'ball', 'bang', 'bank', 'bar', 'barely', 'base', 'basic', 'basically', 'bat', 'batch', 'bath', 'bathe', 'bathing', 'battery', 'bay', 'bb', 'bc', 'bck', 'bcm', 'bcmwcnxx', 'bcoz', 'bcums', 'bday', 'bear', 'beautiful', 'beauty', 'bec', 'becoz', 'bed', 'bedrm', 'bedroom', 'beer', 'befor', 'beg', 'begging', 'begin', 'behave', 'bein', 'believe', 'belive', 'bell', 'belly', 'belovd', 'beloved', 'ben', 'beneath', 'beneficiary', 'benefit', 'best', 'bet', 'better', 'beware', 'bf', 'bid', 'big', 'bigger', 'biggest', 'billed', 'bin', 'bird', 'birla', 'birth', 'birthday', 'bishan', 'bit', 'bitch', 'bite', 'black', 'blackberry', 'blah', 'blake', 'blame', 'blank', 'blessing', 'bloke', 'bloo', 'blood', 'bloodsend', 'bloody', 'blow', 'blue', 'bluetooth', 'bmw', 'boat', 'body', 'bold', 'bonus', 'boo', 'book', 'booked', 'booking', 'boost', 'booty', 'bored', 'boring', 'born', 'bos', 'boston', 'bother', 'bottle', 'bought', 'bout', 'bowl', 'box', 'boxnqp', 'boxqu', 'boy', 'boye', 'boytoy', 'brain', 'brand', 'break', 'breathe', 'bright', 'brilliant', 'bring', 'bringing', 'brings', 'bro', 'broke', 'bros', 'brothas', 'brother', 'brought', 'bslvyl', 'bstfrnd', 'bt', 'btnationalrate', 'btw', 'buck', 'bud', 'budget', 'buff', 'bugis', 'building', 'bun', 'burger', 'burn', 'bus', 'business', 'busy', 'butt', 'buy', 'buying', 'buzy', 'buzz', 'bx', 'bxipwe', 'bye', 'cabin', 'cafe', 'cake', 'caken', 'cal', 'calicut', 'california', 'callback', 'called', 'caller', 'callertune', 'callin', 'calling', 'calloptout', 'calls', 'callsmessagesmissed', 'cam', 'camcorder', 'came', 'camera', 'campus', 'cancel', 'cancelled', 'cancer', 'cannt', 'capital', 'cappuccino', 'captain', 'car', 'card', 'cardiff', 'care', 'cared', 'career', 'careers', 'careful', 'carefully', 'careswt', 'caring', 'carlos', 'caroline', 'carry', 'cartoon', 'case', 'cash', 'cashbalance', 'cashin', 'cashto', 'castor', 'cat', 'catch', 'catching', 'caught', 'cause', 'causing', 'cbe', 'cc', 'cd', 'cdgt', 'celeb', 'celebrate', 'celebration', 'cell', 'center', 'centre', 'certainly', 'cha', 'chain', 'challenge', 'chance', 'change', 'changed', 'channel', 'character', 'charge', 'charged', 'charity', 'charles', 'chart', 'chase', 'chasing', 'chat', 'chatting', 'cheap', 'cheaper', 'cheat', 'cheating', 'chechi', 'check', 'checked', 'checking', 'cheer', 'cheese', 'chennai', 'cherish', 'chest', 'chicken', 'chikku', 'child', 'childish', 'chill', 'chillin', 'china', 'chinese', 'chip', 'chocolate', 'choice', 'choose', 'chosen', 'christ', 'christmas', 'church', 'cine', 'cinema', 'citizen', 'city', 'claim', 'claire', 'class', 'cld', 'clean', 'cleaning', 'clear', 'cleared', 'clearing', 'clearly', 'click', 'clock', 'clos', 'close', 'closedincluding', 'closer', 'club', 'cm', 'cn', 'cock', 'code', 'coffee', 'coin', 'cold', 'colleague', 'collect', 'collected', 'collecting', 'collection', 'college', 'colour', 'come', 'comedy', 'comin', 'coming', 'common', 'community', 'comp', 'company', 'competition', 'complete', 'completely', 'complimentary', 'computer', 'comuk', 'concentrate', 'concert', 'condition', 'confidence', 'confirm', 'confirmed', 'congrats', 'congratulation', 'connect', 'connection', 'considering', 'constantly', 'contact', 'contacted', 'content', 'contract', 'convey', 'cook', 'cooking', 'cool', 'copy', 'cornwall', 'correct', 'cost', 'costa', 'count', 'country', 'couple', 'course', 'cover', 'coz', 'cr', 'crab', 'crack', 'cramp', 'crap', 'crave', 'crazy', 'cream', 'created', 'credit', 'credited', 'cross', 'croydon', 'cruise', 'cud', 'cuddle', 'cum', 'cup', 'current', 'currently', 'cust', 'custcare', 'customer', 'cut', 'cute', 'cutefrnd', 'cuz', 'cwwx', 'da', 'dad', 'daddy', 'dai', 'daily', 'damn', 'dare', 'dark', 'darlin', 'darling', 'darren', 'dat', 'date', 'dating', 'dave', 'day', 'dayno', 'dayu', 'dead', 'deal', 'dear', 'dearer', 'dearly', 'death', 'december', 'decide', 'decided', 'decision', 'deep', 'def', 'definitely', 'del', 'deleted', 'deliver', 'delivered', 'deliveredtomorrow', 'delivery', 'dem', 'den', 'depends', 'derek', 'dey', 'di', 'diamond', 'dick', 'dictionary', 'did', 'didnt', 'didt', 'die', 'died', 'diet', 'diff', 'difference', 'different', 'difficult', 'dificult', 'digital', 'dignity', 'din', 'dinner', 'dint', 'direct', 'directly', 'dirty', 'dis', 'discount', 'discus', 'dislike', 'display', 'distance', 'disturb', 'dload', 'dnt', 'doc', 'doctor', 'doe', 'doesnt', 'dog', 'dogging', 'doggy', 'doin', 'doing', 'dollar', 'don', 'donate', 'donno', 'dont', 'door', 'dorm', 'dot', 'double', 'doubt', 'dough', 'download', 'downloaded', 'downloads', 'dr', 'dracula', 'draw', 'dream', 'dreamsmuah', 'dress', 'dressed', 'dresser', 'drink', 'drinkin', 'drinking', 'drive', 'driver', 'drivin', 'driving', 'drop', 'dropped', 'drpd', 'drug', 'drunk', 'drunken', 'dry', 'dsnt', 'dt', 'dubsack', 'duchess', 'dude', 'dumb', 'dun', 'dunno', 'durban', 'dvd', 'ear', 'earlier', 'early', 'earn', 'earth', 'easier', 'easily', 'east', 'eastenders', 'easter', 'easy', 'eat', 'eaten', 'eatin', 'eating', 'ebay', 'eca', 'edison', 'educational', 'edward', 'ee', 'eek', 'eerie', 'effect', 'egg', 'eh', 'eighth', 'eire', 'ela', 'elaine', 'election', 'electricity', 'em', 'email', 'embarassed', 'en', 'end', 'ended', 'ending', 'enemy', 'energy', 'eng', 'engin', 'england', 'english', 'enjoy', 'enjoyed', 'enjoyin', 'enter', 'entered', 'entitled', 'entry', 'enuff', 'envelope', 'epsilon', 'er', 'ericsson', 'erm', 'error', 'escape', 'ese', 'especially', 'esplanade', 'essential', 'eta', 'ethreats', 'euro', 'eurodisinc', 'europe', 'eva', 'eve', 'evening', 'event', 'everybody', 'evn', 'evng', 'evrey', 'evrydy', 'ex', 'exact', 'exactly', 'exam', 'excellent', 'exciting', 'excuse', 'exe', 'executive', 'exeter', 'exhaust', 'exhausted', 'exmpel', 'exorcist', 'expect', 'expecting', 'expensive', 'experience', 'expires', 'explain', 'explicit', 'explosive', 'express', 'expression', 'expressoffer', 'extra', 'ey', 'eye', 'fa', 'fab', 'face', 'facebook', 'fact', 'faggy', 'failed', 'fails', 'fair', 'fall', 'falling', 'family', 'fan', 'fancy', 'fantastic', 'fantasy', 'far', 'farm', 'fast', 'faster', 'fastest', 'fat', 'father', 'fathima', 'fault', 'fave', 'favor', 'favorite', 'favour', 'favourite', 'fb', 'fear', 'feb', 'february', 'fee', 'feel', 'feelin', 'feeling', 'fell', 'felt', 'female', 'fetch', 'fever', 'fight', 'fighting', 'fightng', 'figure', 'file', 'film', 'final', 'finally', 'fine', 'finger', 'finish', 'finished', 'finishing', 'fish', 'fit', 'fix', 'fixed', 'flag', 'flaked', 'flash', 'flat', 'flight', 'flirt', 'floor', 'flower', 'fly', 'fml', 'follow', 'followed', 'following', 'fone', 'food', 'fool', 'foot', 'football', 'footprint', 'force', 'foreign', 'forever', 'forevr', 'forget', 'forgot', 'forum', 'forward', 'forwarded', 'fr', 'fran', 'freak', 'free', 'freefone', 'freemsg', 'freephone', 'freezing', 'fren', 'frens', 'fri', 'friday', 'friend', 'friendship', 'frm', 'frnd', 'frnds', 'frndship', 'fromm', 'frying', 'fuck', 'fuckin', 'fucking', 'ful', 'fullonsmscom', 'fun', 'funny', 'future', 'fyi', 'gal', 'game', 'games', 'gang', 'gap', 'garage', 'gardener', 'gary', 'gas', 'gautham', 'gave', 'gay', 'gb', 'gbp', 'gd', 'ge', 'gee', 'geeee', 'generally', 'gentle', 'gentleman', 'gently', 'genuine', 'germany', 'gettin', 'getting', 'gift', 'gim', 'girl', 'girlfrnd', 'giv', 'given', 'giving', 'glad', 'gmgngegn', 'goal', 'god', 'godi', 'goin', 'going', 'gon', 'gona', 'gone', 'good', 'goodmorning', 'goodnight', 'goodnite', 'google', 'gorgeous', 'gossip', 'got', 'goto', 'govtinstituitions', 'gr', 'grahmbell', 'gram', 'grand', 'gravity', 'great', 'green', 'greet', 'greeting', 'grin', 'grl', 'group', 'gt', 'guaranteed', 'gud', 'guess', 'guide', 'guilty', 'guy', 'gym', 'ha', 'haf', 'haha', 'hahahause', 'hai', 'hair', 'haiz', 'half', 'halloween', 'hand', 'handed', 'handle', 'handset', 'hanging', 'happen', 'happend', 'happened', 'happening', 'happens', 'happiness', 'happy', 'hard', 'hardcore', 'hardly', 'harry', 'hate', 'hav', 'havent', 'havin', 'having', 'havnt', 'head', 'headache', 'headin', 'heading', 'hear', 'heard', 'heart', 'heartgn', 'heartheart', 'heater', 'heavy', 'hee', 'height', 'held', 'helen', 'hell', 'hella', 'hello', 'helloooo', 'help', 'helpline', 'helpp', 'henry', 'heri', 'herlove', 'hex', 'hey', 'hg', 'hi', 'hide', 'high', 'hill', 'hint', 'hip', 'history', 'hit', 'hiya', 'hl', 'hlp', 'hm', 'hmm', 'hmmm', 'hmv', 'ho', 'hockey', 'hol', 'hold', 'holder', 'holding', 'holiday', 'holidayso', 'holla', 'hols', 'holy', 'home', 'homeowner', 'hon', 'honey', 'honeybee', 'hook', 'hop', 'hope', 'hoped', 'hopefully', 'hoping', 'hor', 'horny', 'horo', 'horrible', 'hospital', 'hostel', 'hot', 'hotel', 'hour', 'house', 'housemaid', 'housewife', 'howard', 'hows', 'howz', 'hp', 'hppnss', 'hr', 'hrishi', 'http', 'hubby', 'hug', 'huge', 'huh', 'hun', 'hungry', 'hunny', 'hurried', 'hurry', 'hurt', 'hurting', 'husband', 'hv', 'hw', 'hyde', 'ia', 'iam', 'ibh', 'ibhltd', 'ibiza', 'ibn', 'ic', 'ice', 'icicibankcom', 'id', 'idea', 'ideal', 'identifier', 'idiot', 'idk', 'ignore', 'ikea', 'il', 'ill', 'illness', 'illspeak', 'im', 'image', 'imagine', 'imma', 'immediately', 'imp', 'impatient', 'important', 'impossible', 'improve', 'improved', 'inch', 'incident', 'include', 'including', 'inclusive', 'inconsiderate', 'incredible', 'increment', 'index', 'india', 'indian', 'indicate', 'indyarockscom', 'infection', 'infernal', 'info', 'inform', 'information', 'informed', 'infowwwpercentrealcom', 'infront', 'inning', 'innocent', 'inr', 'inside', 'installing', 'instantly', 'instead', 'instruction', 'insurance', 'intelligent', 'intention', 'interested', 'interesting', 'interflora', 'internet', 'interview', 'intro', 'invader', 'invest', 'invite', 'invited', 'inviting', 'invnted', 'iouri', 'ip', 'ipad', 'ipod', 'iq', 'irritates', 'irritating', 'iscoming', 'ish', 'island', 'isnt', 'issue', 'italian', 'itcould', 'item', 'itleave', 'itlet', 'itplspls', 'itu', 'itwhichturnedinto', 'itz', 'ive', 'iz', 'izzit', 'ja', 'jacket', 'jackpot', 'jada', 'james', 'jamster', 'jan', 'jane', 'january', 'japanese', 'jason', 'java', 'jay', 'jaya', 'jazz', 'jd', 'jealous', 'jean', 'jen', 'jenny', 'jerry', 'jess', 'jesus', 'jia', 'jiayin', 'jiu', 'jo', 'joanna', 'job', 'jogging', 'john', 'join', 'joined', 'joining', 'joke', 'jokin', 'joking', 'jolly', 'jolt', 'jordan', 'jordantxt', 'journey', 'joy', 'jsco', 'jst', 'jstfrnd', 'jsut', 'juan', 'juicy', 'july', 'june', 'jus', 'just', 'juz', 'kadeem', 'kaiez', 'kallis', 'kano', 'kappa', 'karaoke', 'kate', 'kavalan', 'kay', 'kb', 'ke', 'keeping', 'kegger', 'kent', 'kept', 'kerala', 'keralacircle', 'kettoda', 'key', 'kg', 'ki', 'kick', 'kickoff', 'kid', 'kidding', 'kidz', 'kill', 'killed', 'killing', 'kind', 'kinda', 'kindly', 'king', 'kiss', 'kit', 'kkhow', 'kkim', 'kkwhen', 'kkwhere', 'kkwhy', 'kl', 'knackered', 'knee', 'knew', 'knock', 'know', 'knowing', 'knw', 'konw', 'kothi', 'kr', 'kthen', 'kudiyarasu', 'kusruthi', 'kz', 'la', 'lab', 'lacsthats', 'lacsthere', 'lady', 'lag', 'laid', 'land', 'landline', 'lands', 'lane', 'langport', 'language', 'laptop', 'lar', 'largest', 'late', 'lately', 'later', 'latest', 'latr', 'laugh', 'laughed', 'laughing', 'laundry', 'law', 'lay', 'lazy', 'lccltd', 'ldn', 'ldnwarw', 'ldnwh', 'le', 'lead', 'leaf', 'learn', 'leave', 'leaving', 'lect', 'lecture', 'left', 'leg', 'legal', 'leh', 'lei', 'lem', 'length', 'leona', 'lesson', 'let', 'letter', 'lf', 'liao', 'lib', 'library', 'lick', 'lido', 'lie', 'life', 'lifetime', 'lifpartnr', 'lift', 'light', 'lik', 'like', 'liked', 'likely', 'lil', 'lily', 'limit', 'limiting', 'line', 'linerental', 'link', 'lion', 'lionm', 'lionp', 'lip', 'list', 'listen', 'listening', 'literally', 'little', 'live', 'lived', 'liverpool', 'living', 'lk', 'll', 'lmao', 'lo', 'load', 'loan', 'local', 'location', 'lock', 'log', 'login', 'logo', 'lol', 'london', 'lonely', 'long', 'longer', 'look', 'lookatme', 'looked', 'lookin', 'looking', 'loose', 'lor', 'lose', 'loses', 'losing', 'loss', 'lost', 'lot', 'lotr', 'lotta', 'lotwill', 'lou', 'loud', 'lounge', 'lousy', 'lov', 'lovable', 'love', 'loved', 'lovejen', 'lovely', 'loveme', 'lover', 'loverboy', 'loving', 'lovingly', 'low', 'lower', 'loxahatchee', 'loyal', 'loyalty', 'lp', 'lr', 'lshb', 'lst', 'lt', 'ltdecimalgt', 'ltgt', 'ltr', 'lttimegt', 'lttrs', 'lturlgt', 'luck', 'lucky', 'lucozade', 'lucozadecouk', 'lucy', 'lunch', 'lush', 'luv', 'luvs', 'lux', 'luxury', 'lv', 'lvblefrnd', 'lyf', 'lyfu', 'ma', 'maangalyam', 'mac', 'machan', 'macho', 'mad', 'madam', 'mag', 'maga', 'magical', 'mah', 'mahal', 'mail', 'mailbox', 'main', 'maintain', 'major', 'make', 'makin', 'making', 'malaria', 'male', 'mall', 'man', 'manage', 'managed', 'management', 'manda', 'mandan', 'maneesha', 'map', 'march', 'margaret', 'mark', 'market', 'marriage', 'married', 'marrow', 'marry', 'massive', 'master', 'match', 'mate', 'math', 'mathematics', 'matrix', 'matter', 'matured', 'maturity', 'max', 'maximize', 'maxmins', 'mayb', 'maybe', 'mb', 'mbp', 'mca', 'mcat', 'meal', 'mean', 'meaning', 'meant', 'measure', 'med', 'medical', 'medicine', 'meet', 'meetgreet', 'meetin', 'meeting', 'mega', 'meh', 'mei', 'mel', 'melle', 'melt', 'member', 'membership', 'memory', 'men', 'mental', 'menu', 'merry', 'mesages', 'mess', 'message', 'messaged', 'messageits', 'messageno', 'messagesome', 'messaging', 'messenger', 'messy', 'met', 'mi', 'mid', 'middle', 'midnight', 'mids', 'mila', 'mile', 'milk', 'million', 'min', 'mind', 'mini', 'minimum', 'minmobsmorelkpoboxhpfl', 'minmoremobsemspoboxpowa', 'minnaminunginte', 'minor', 'minute', 'minuts', 'miracle', 'misbehaved', 'miserable', 'miss', 'missed', 'missin', 'missing', 'mistake', 'mite', 'mix', 'mk', 'mm', 'mmm', 'mmmm', 'mnth', 'mo', 'moan', 'mob', 'mobile', 'mobilesdirect', 'mobileupd', 'moby', 'mode', 'model', 'module', 'moji', 'mom', 'moment', 'mon', 'monday', 'money', 'monkey', 'mono', 'month', 'monthly', 'mood', 'moon', 'moral', 'moralone', 'morn', 'morning', 'moro', 'morow', 'morphine', 'morrow', 'mother', 'motorola', 'moved', 'movie', 'mp', 'mr', 'mrng', 'mrt', 'mrw', 'msg', 'msging', 'msgrcvd', 'msgrcvdhg', 'mt', 'mths', 'mtmsg', 'mtmsgrcvd', 'mu', 'mum', 'mummy', 'murder', 'murdered', 'murderer', 'music', 'muz', 'na', 'nagar', 'nah', 'nahi', 'naked', 'named', 'nan', 'nanny', 'nap', 'nasdaq', 'nasty', 'nat', 'natalja', 'national', 'natuition', 'natural', 'nature', 'naughty', 'nb', 'nd', 'ne', 'near', 'nearly', 'necessarily', 'necessary', 'neck', 'necklace', 'ned', 'need', 'needed', 'neft', 'neighbor', 'neighbour', 'net', 'netcollex', 'network', 'networking', 'neva', 'new', 'newest', 'news', 'ni', 'nic', 'nice', 'nicenicehow', 'nichols', 'nigeria', 'night', 'nimya', 'nimyapls', 'niswt', 'nit', 'nite', 'nitros', 'noe', 'nokia', 'nokias', 'noline', 'noon', 'nope', 'norm', 'normal', 'normally', 'normp', 'note', 'notice', 'nt', 'ntt', 'ntwk', 'num', 'number', 'nurungu', 'nvm', 'nw', 'nxt', 'nyc', 'nyt', 'obviously', 'offer', 'office', 'officeunderstand', 'official', 'oh', 'oic', 'ok', 'okay', 'okey', 'okie', 'okok', 'okthenwhats', 'old', 'omg', 'omw', 'oni', 'online', 'onwards', 'oooh', 'oops', 'open', 'opening', 'operator', 'opinion', 'opportunity', 'opt', 'option', 'optout', 'orange', 'orchard', 'order', 'ordered', 'oredi', 'oreo', 'orig', 'original', 'orstoptxt', 'oru', 'oso', 'otside', 'outage', 'outside', 'outstanding', 'outta', 'oz', 'pa', 'pack', 'package', 'page', 'paid', 'pain', 'painful', 'paper', 'parent', 'paris', 'park', 'parked', 'parking', 'partner', 'partnership', 'party', 'pas', 'passed', 'passionate', 'password', 'passwordsatm', 'past', 'path', 'pattern', 'patty', 'pay', 'payee', 'paying', 'payment', 'payoh', 'pc', 'peace', 'peaceful', 'peak', 'pee', 'pending', 'penis', 'penny', 'people', 'perfect', 'period', 'permission', 'person', 'personal', 'personality', 'perwksub', 'pete', 'petrol', 'pg', 'ph', 'philosophy', 'phne', 'phoenix', 'phone', 'phoned', 'photo', 'php', 'pic', 'pick', 'picked', 'picking', 'pickle', 'picsfree', 'picture', 'pie', 'piece', 'pig', 'pilate', 'pin', 'pink', 'piss', 'pissed', 'pix', 'pizza', 'place', 'placement', 'plan', 'plane', 'planned', 'planning', 'play', 'played', 'player', 'playing', 'plaza', 'pleased', 'pleasure', 'plenty', 'plm', 'pls', 'plus', 'plz', 'pm', 'pmsgp', 'po', 'pobox', 'poboxwwq', 'pocketbabecouk', 'pod', 'poem', 'point', 'poker', 'pole', 'police', 'politician', 'polo', 'poly', 'polyh', 'polyph', 'polyphonic', 'polys', 'pongal', 'pongaldo', 'pool', 'poop', 'poor', 'pop', 'popped', 'porn', 'position', 'possession', 'possible', 'post', 'postcard', 'postcode', 'posted', 'potential', 'potter', 'pouch', 'pound', 'pours', 'pout', 'power', 'pp', 'ppermesssubscription', 'ppl', 'pple', 'ppm', 'ppw', 'prabha', 'prabhaim', 'practical', 'practice', 'practicing', 'pray', 'praying', 'prefer', 'preferably', 'prem', 'premier', 'premium', 'prepaid', 'prepare', 'present', 'press', 'pretty', 'previous', 'previously', 'prey', 'price', 'princess', 'private', 'prize', 'pro', 'prob', 'probably', 'problem', 'probs', 'process', 'processed', 'prof', 'professor', 'profile', 'profit', 'program', 'project', 'prolly', 'promise', 'promo', 'prompt', 'proof', 'properly', 'property', 'propose', 'propsd', 'prospect', 'protect', 'prove', 'provided', 'ptbo', 'pub', 'public', 'pull', 'purchase', 'purity', 'purpose', 'push', 'pussy', 'putting', 'qatar', 'quality', 'queen', 'question', 'questioned', 'quick', 'quickly', 'quit', 'quite', 'quiz', 'quote', 'quoting', 'qxj', 'radio', 'railway', 'rain', 'raining', 'raise', 'rajipls', 'rally', 'ran', 'random', 'randomly', 'rang', 'ranjith', 'rate', 'ray', 'rcv', 'rcvd', 'rd', 'reach', 'reached', 'reaching', 'reaction', 'read', 'reader', 'reading', 'ready', 'real', 'realise', 'reality', 'realize', 'realized', 'really', 'realy', 'reason', 'reasonable', 'reboot', 'rec', 'recd', 'receipt', 'receive', 'receivea', 'received', 'receiving', 'recent', 'recently', 'recession', 'reckon', 'recognise', 'record', 'recovery', 'red', 'redred', 'reduce', 'ref', 'reference', 'refilled', 'refused', 'regard', 'regarding', 'register', 'registered', 'regular', 'relation', 'relax', 'released', 'rem', 'remain', 'remains', 'remember', 'remembered', 'remind', 'reminder', 'remove', 'rent', 'rental', 'rentl', 'repair', 'replied', 'reply', 'replying', 'report', 'representative', 'request', 'research', 'respect', 'responcewhat', 'respond', 'responding', 'response', 'responsibility', 'rest', 'restaurant', 'result', 'resume', 'retrieve', 'return', 'returned', 'reveal', 'revealed', 'reverse', 'review', 'revision', 'reward', 'rewarding', 'rhythm', 'rice', 'rich', 'ride', 'right', 'rightly', 'ring', 'ringtone', 'ringtoneget', 'ringtones', 'risk', 'rite', 'river', 'road', 'roast', 'rock', 'rofl', 'roger', 'role', 'romantic', 'ron', 'room', 'roommate', 'rose', 'round', 'row', 'royal', 'rply', 'rreveal', 'rstm', 'ru', 'rub', 'rude', 'ruin', 'ruining', 'rule', 'rum', 'rumour', 'run', 'running', 'rush', 'sac', 'sachin', 'sacrifice', 'sad', 'sae', 'safe', 'said', 'saidif', 'sake', 'salary', 'sale', 'salon', 'sam', 'santa', 'sar', 'sarasota', 'sarcasm', 'sarcastic', 'sary', 'sat', 'sathya', 'satisfied', 'satisfy', 'saturday', 'saucy', 'savamob', 'save', 'saved', 'saw', 'say', 'saying', 'scared', 'scary', 'sch', 'schedule', 'school', 'science', 'scold', 'score', 'scoring', 'scotch', 'scotland', 'scotsman', 'scream', 'screamed', 'screaming', 'screen', 'scrounge', 'se', 'sea', 'search', 'searching', 'season', 'seat', 'sec', 'second', 'secret', 'secretary', 'secretly', 'section', 'sed', 'seed', 'seeing', 'seen', 'select', 'selected', 'selection', 'self', 'sell', 'selling', 'sem', 'semester', 'sen', 'send', 'sendername', 'sending', 'sends', 'sense', 'sensitive', 'sent', 'sentdate', 'sentence', 'senthil', 'sept', 'series', 'seriously', 'service', 'serving', 'set', 'setting', 'settle', 'settled', 'seven', 'sex', 'sexy', 'sha', 'shagged', 'shall', 'shame', 'shampain', 'share', 'shared', 'shd', 'sheet', 'sheffield', 'shelf', 'shell', 'shes', 'shesil', 'shijas', 'shining', 'ship', 'shipped', 'shipping', 'shirt', 'shit', 'shitload', 'shjas', 'shld', 'shocking', 'shoe', 'shoot', 'shop', 'shoppin', 'shopping', 'short', 'shortage', 'shorter', 'shortly', 'shot', 'shouldnt', 'shouted', 'shoving', 'shower', 'showing', 'shracomorsglsuplt', 'shu', 'shuhui', 'shut', 'shy', 'si', 'sian', 'sib', 'sick', 'sigh', 'sight', 'sign', 'signing', 'silence', 'silent', 'silently', 'silver', 'sim', 'simple', 'simpler', 'simply', 'sinco', 'sing', 'singing', 'single', 'sip', 'sipix', 'sir', 'siri', 'sister', 'sit', 'site', 'sitll', 'sitting', 'situation', 'size', 'sk', 'skilgme', 'skillgame', 'skip', 'skxh', 'sky', 'skype', 'skyped', 'slap', 'slave', 'sleep', 'sleepin', 'sleeping', 'sleepingand', 'sleepsweet', 'sleepwellamptake', 'sleepy', 'slept', 'slice', 'slide', 'slightly', 'slip', 'slipper', 'slot', 'slow', 'slowly', 'sm', 'small', 'smart', 'smashed', 'smell', 'smeone', 'smile', 'smiled', 'smiling', 'smoke', 'smoking', 'sms', 'smth', 'sn', 'snake', 'snogs', 'snow', 'snowman', 'social', 'sofa', 'soft', 'software', 'soiree', 'sol', 'solve', 'solved', 'somebody', 'somethin', 'song', 'sony', 'sonyericsson', 'soo', 'soon', 'sooner', 'sooooo', 'sore', 'sorrow', 'sorry', 'sorryin', 'sort', 'sorted', 'sorting', 'sory', 'sorydarealyfrm', 'soul', 'sound', 'soup', 'source', 'south', 'sp', 'space', 'spanish', 'spare', 'speak', 'speaking', 'special', 'specialcall', 'specially', 'specific', 'speechless', 'speed', 'speedchat', 'speeding', 'spell', 'spend', 'spending', 'spent', 'spile', 'spk', 'spl', 'splleing', 'spoiled', 'spoke', 'spoken', 'spook', 'spoon', 'sport', 'spree', 'spring', 'sptv', 'sptyrone', 'st', 'stamp', 'stand', 'standard', 'standing', 'star', 'start', 'started', 'starting', 'starwars', 'statement', 'station', 'stay', 'staying', 'std', 'step', 'stock', 'stockport', 'stomach', 'stomp', 'stone', 'stop', 'stopped', 'stoptxt', 'stoptxtstop', 'store', 'storming', 'story', 'str', 'straight', 'street', 'stress', 'strike', 'strong', 'stuck', 'student', 'study', 'studying', 'stuff', 'stupid', 'stupidits', 'style', 'stylish', 'sub', 'subpoly', 'subscribed', 'subscriber', 'subscription', 'successful', 'successfully', 'suck', 'sugar', 'suggest', 'suite', 'sum', 'summer', 'sun', 'sunday', 'sunny', 'sunshine', 'suntec', 'sup', 'super', 'supervisor', 'supply', 'support', 'supposed', 'suprman', 'sura', 'sure', 'surely', 'surfing', 'surprise', 'surprised', 'sw', 'sweet', 'sweetest', 'swimming', 'swing', 'swtheart', 'symbol', 'ta', 'table', 'tablet', 'takin', 'taking', 'talent', 'talk', 'talking', 'tampa', 'tape', 'tariff', 'taste', 'tat', 'taunton', 'taxi', 'taylor', 'tb', 'tc', 'tcr', 'tctxt', 'tea', 'teach', 'teacher', 'teaching', 'team', 'tear', 'tease', 'teasing', 'tech', 'technical', 'tee', 'teeth', 'tel', 'telephone', 'tell', 'telling', 'telly', 'telphone', 'temp', 'temple', 'tenant', 'tenerife', 'tension', 'term', 'terrible', 'terrific', 'terrorist', 'tessypls', 'test', 'text', 'texted', 'texting', 'textoperator', 'textpod', 'texts', 'th', 'thangam', 'thank', 'thanks', 'thanksgiving', 'thanx', 'thatll', 'thats', 'theatre', 'themob', 'theory', 'therere', 'thesis', 'theyre', 'thgt', 'thing', 'think', 'thinkin', 'thinking', 'thk', 'thm', 'thnk', 'tho', 'thot', 'thought', 'thousand', 'thread', 'threw', 'throat', 'throw', 'tht', 'thts', 'thurs', 'thursday', 'thx', 'thy', 'ti', 'tick', 'ticket', 'tight', 'tihs', 'til', 'till', 'time', 'timing', 'tip', 'tired', 'tirunelvali', 'tirupur', 'title', 'tiwary', 'tkts', 'tlk', 'tm', 'tming', 'tmobile', 'tmr', 'tmrw', 'tms', 'tncs', 'toa', 'toclaim', 'today', 'todaysundaysunday', 'tog', 'told', 'toll', 'tom', 'tomarrow', 'tomo', 'tomorrow', 'tone', 'tonight', 'tonite', 'took', 'torch', 'tot', 'total', 'totally', 'touch', 'touched', 'tough', 'tour', 'town', 'track', 'train', 'training', 'transaction', 'transfered', 'travel', 'treat', 'tree', 'tried', 'trip', 'trouble', 'true', 'truly', 'trust', 'truth', 'try', 'trying', 'tscs', 'tsunami', 'tt', 'ttyl', 'tuesday', 'tuition', 'turn', 'tv', 'twice', 'txt', 'txtauction', 'txtin', 'txting', 'txts', 'tyler', 'type', 'ufind', 'ugh', 'uk', 'ull', 'umma', 'ummmmmaah', 'unable', 'uncle', 'understand', 'understanding', 'understood', 'uni', 'unique', 'university', 'unless', 'unlimited', 'unredeemed', 'unsold', 'unsub', 'unsubscribe', 'update', 'upgrade', 'upload', 'upto', 'ur', 'ure', 'urgent', 'urgentbut', 'urgentlyits', 'urgnt', 'urn', 'urself', 'use', 'used', 'user', 'usf', 'using', 'usual', 'usualiam', 'usually', 'utter', 'uu', 'uve', 'uz', 'vaazhthukkal', 'vale', 'valentine', 'valid', 'validhrs', 'valuable', 'value', 'valued', 'various', 'vary', 'vava', 'vday', 've', 'vega', 'vegetable', 'verified', 'verify', 'version', 'vettam', 'vewy', 'video', 'videochat', 'videophones', 'vijay', 'vikky', 'village', 'violated', 'violence', 'violet', 'vip', 'virgin', 'visit', 'viva', 'vl', 'voda', 'vodafone', 'vodka', 'voice', 'voicemail', 'vomit', 'vomiting', 'vote', 'voucher', 'vry', 'vth', 'vu', 'wa', 'wah', 'wait', 'waitin', 'waiting', 'waitu', 'wake', 'waking', 'walk', 'walked', 'walking', 'wall', 'walmart', 'wan', 'wana', 'want', 'wanted', 'wanting', 'wap', 'warm', 'warner', 'wasnt', 'waste', 'wat', 'watch', 'watching', 'water', 'wats', 'wave', 'way', 'wb', 'wcnxx', 'weak', 'wear', 'wearing', 'weather', 'website', 'wed', 'wedding', 'wednesday', 'weed', 'week', 'weekend', 'weekly', 'weight', 'weird', 'welcome', 'welp', 'wen', 'went', 'wer', 'wet', 'weve', 'whats', 'whenevr', 'whens', 'wheres', 'white', 'whn', 'wicklow', 'wid', 'widelivecom', 'wif', 'wife', 'wifehow', 'wifi', 'wihtuot', 'wil', 'willing', 'win', 'winaweek', 'wind', 'window', 'wine', 'winner', 'winning', 'wisdom', 'wise', 'wish', 'wishin', 'wishing', 'wiskey', 'wit', 'wiv', 'wj', 'wjhl', 'wk', 'wkend', 'wkent', 'wkg', 'wkly', 'wks', 'wld', 'wn', 'wnt', 'wo', 'woke', 'woken', 'woman', 'won', 'wonder', 'wonderful', 'wondering', 'wont', 'woot', 'word', 'wordstart', 'work', 'workin', 'working', 'world', 'worldvery', 'worried', 'worry', 'worse', 'worst', 'worth', 'wot', 'woulda', 'wouldnt', 'wow', 'wp', 'wrc', 'write', 'wrk', 'wrnog', 'wrong', 'wrote', 'wt', 'wtf', 'wu', 'wud', 'wuld', 'wun', 'wwq', 'wwwcom', 'wwwcomuknet', 'wwwdbuknet', 'wwwetlpcouk', 'wwwfullonsmscom', 'wwwgetzedcouk', 'wwwidewcom', 'wwwldewcom', 'wwwldewcomsubswinppmx', 'wwwldewcomwinppmxage', 'wwwmovietriviatv', 'wwwringtonescouk', 'wwwsmsac', 'wwwsmsconet', 'wwwtcbiz', 'wwwtextcompcom', 'wwwtextpodnet', 'wwwtxtcom', 'wwwtxtshopcom', 'wwwtxttowincouk', 'wwwurawinnercom', 'wwwwincouk', 'wwx', 'wylie', 'xam', 'xavier', 'xchat', 'xmas', 'xp', 'xuhui', 'xx', 'xxx', 'xxxx', 'xxxxx', 'xxxxxx', 'xxxxxxx', 'xxxxxxxxx', 'xy', 'ya', 'yahoo', 'yan', 'yar', 'yay', 'yck', 'yeah', 'year', 'yeh', 'yelling', 'yellow', 'yep', 'yer', 'yes', 'yeshe', 'yeshere', 'yest', 'yesterday', 'yetunde', 'yijue', 'ym', 'yo', 'yoga', 'yogasana', 'yor', 'youclean', 'youd', 'youll', 'youre', 'youve', 'yr', 'yummy', 'yun', 'yunny', 'yuo', 'yup', 'zed', 'zoe']\n"
     ]
    }
   ],
   "source": [
    "print(\"the most using {} words: {}\".format(max_features,count_vectorizer.get_feature_names()))"
   ]
  },
  {
   "cell_type": "code",
   "execution_count": 89,
   "metadata": {},
   "outputs": [],
   "source": [
    "y = df.iloc[:,0].values   # male or female classes"
   ]
  },
  {
   "cell_type": "code",
   "execution_count": 91,
   "metadata": {},
   "outputs": [],
   "source": [
    "x = sparce_matrix"
   ]
  },
  {
   "cell_type": "code",
   "execution_count": 92,
   "metadata": {},
   "outputs": [],
   "source": [
    "from sklearn.model_selection import train_test_split\n",
    "x_train, x_test, y_train, y_test = train_test_split(x,y, test_size = 0.1, random_state = 42)"
   ]
  },
  {
   "cell_type": "code",
   "execution_count": 93,
   "metadata": {},
   "outputs": [
    {
     "name": "stdout",
     "output_type": "stream",
     "text": [
      "the accuracy of our model: 0.8691756272401434\n"
     ]
    }
   ],
   "source": [
    "from sklearn.naive_bayes import GaussianNB\n",
    "nb = GaussianNB()\n",
    "nb.fit(x_train,y_train)\n",
    "print(\"the accuracy of our model: {}\".format(nb.score(x_test,y_test)))"
   ]
  },
  {
   "cell_type": "code",
   "execution_count": 208,
   "metadata": {},
   "outputs": [
    {
     "name": "stdout",
     "output_type": "stream",
     "text": [
      "had your mobile month or more u r entitled to update to the latest colour mobile with camera for free call the mobile update co free on\n",
      "Expected : 1\n",
      "Actual: [1]\n"
     ]
    }
   ],
   "source": [
    "msg1 = df['Message'][9]\n",
    "category1 = df['Category'][9]\n",
    "\n",
    "print(msg1)\n",
    "print(\"Expected :\",category1)\n",
    "\n",
    "import numpy as np\n",
    "\n",
    "msg1_vector = count_vectorizer.transform([msg1]).toarray()\n",
    "\n",
    "print(\"Actual:\",nb.predict(msg1_vector))"
   ]
  },
  {
   "cell_type": "code",
   "execution_count": 213,
   "metadata": {},
   "outputs": [
    {
     "name": "stdout",
     "output_type": "stream",
     "text": [
      "im gon na be home soon and i dont want to talk about this stuff anymore tonight k ive cried enough today\n",
      "Expected : 0\n",
      "Actual: [0]\n"
     ]
    }
   ],
   "source": [
    "msg2 = df['Message'][10]\n",
    "category2 = df['Category'][10]\n",
    "\n",
    "print(msg2)\n",
    "print(\"Expected :\",category2)\n",
    "\n",
    "msg2_vector = count_vectorizer.transform([msg2]).toarray()\n",
    "\n",
    "print(\"Actual:\",nb.predict(msg2_vector))\n"
   ]
  },
  {
   "cell_type": "code",
   "execution_count": 94,
   "metadata": {},
   "outputs": [
    {
     "name": "stderr",
     "output_type": "stream",
     "text": [
      "c:\\users\\insakum46\\appdata\\local\\programs\\python\\python37\\lib\\site-packages\\sklearn\\linear_model\\logistic.py:432: FutureWarning: Default solver will be changed to 'lbfgs' in 0.22. Specify a solver to silence this warning.\n",
      "  FutureWarning)\n"
     ]
    },
    {
     "name": "stdout",
     "output_type": "stream",
     "text": [
      "our accuracy is: 0.9802867383512545\n"
     ]
    }
   ],
   "source": [
    "from sklearn.linear_model import LogisticRegression\n",
    "lr = LogisticRegression(max_iter = 200)\n",
    "lr.fit(x_train,y_train)\n",
    "print(\"our accuracy is: {}\".format(lr.score(x_test,y_test)))"
   ]
  },
  {
   "cell_type": "code",
   "execution_count": null,
   "metadata": {},
   "outputs": [],
   "source": []
  },
  {
   "cell_type": "code",
   "execution_count": 102,
   "metadata": {},
   "outputs": [
    {
     "data": {
      "text/plain": [
       "(5014, 3000)"
      ]
     },
     "execution_count": 102,
     "metadata": {},
     "output_type": "execute_result"
    }
   ],
   "source": [
    "x_train.shape"
   ]
  },
  {
   "cell_type": "code",
   "execution_count": 103,
   "metadata": {},
   "outputs": [
    {
     "data": {
      "text/plain": [
       "(558, 3000)"
      ]
     },
     "execution_count": 103,
     "metadata": {},
     "output_type": "execute_result"
    }
   ],
   "source": [
    "x_test.shape"
   ]
  },
  {
   "cell_type": "code",
   "execution_count": 104,
   "metadata": {},
   "outputs": [],
   "source": [
    "# Using Deep learning Keras\n",
    "\n",
    "x_test = x_test.reshape(558,3000,1)\n",
    "x_train = x_train.reshape(5014,3000,1)"
   ]
  },
  {
   "cell_type": "code",
   "execution_count": 109,
   "metadata": {},
   "outputs": [],
   "source": [
    "from keras.models import Sequential\n",
    "from keras.layers import Dense,LSTM,Dropout\n",
    "\n",
    "model = Sequential()\n",
    "model.add(LSTM(50,return_sequences = True, input_shape = (x_train.shape[1], 1)))\n",
    "model.add(Dropout(0.2))\n",
    "\n",
    "model.add(LSTM(units = 50, return_sequences = True))\n",
    "model.add(Dropout(0.2))\n",
    "\n",
    "# Adding a third LSTM layer and some Dropout regularisation\n",
    "model.add(LSTM(units = 50, return_sequences = True))\n",
    "model.add(Dropout(0.2))\n",
    "\n",
    "# Adding a fourth LSTM layer and some Dropout regularisation\n",
    "model.add(LSTM(units = 50))\n",
    "model.add(Dropout(0.2))\n",
    "\n",
    "# Adding the output layer\n",
    "model.add(Dense(units = 1))"
   ]
  },
  {
   "cell_type": "code",
   "execution_count": 111,
   "metadata": {},
   "outputs": [],
   "source": [
    "# Compiling the RNN\n",
    "model.compile(optimizer = 'adam', loss = 'mean_squared_error',metrics=[\"accuracy\"])"
   ]
  },
  {
   "cell_type": "code",
   "execution_count": 113,
   "metadata": {},
   "outputs": [
    {
     "name": "stdout",
     "output_type": "stream",
     "text": [
      "WARNING:tensorflow:From c:\\users\\insakum46\\appdata\\local\\programs\\python\\python37\\lib\\site-packages\\keras\\backend\\tensorflow_backend.py:422: The name tf.global_variables is deprecated. Please use tf.compat.v1.global_variables instead.\n",
      "\n",
      "Epoch 1/3\n",
      "558/558 [==============================] - 309s 554ms/step - loss: 0.1190 - accuracy: 0.8692\n",
      "Epoch 2/3\n",
      "558/558 [==============================] - 353s 632ms/step - loss: 0.1147 - accuracy: 0.8692\n",
      "Epoch 3/3\n",
      "558/558 [==============================] - 333s 597ms/step - loss: 0.1146 - accuracy: 0.8692\n"
     ]
    },
    {
     "data": {
      "text/plain": [
       "<keras.callbacks.callbacks.History at 0x1d39e8d96c8>"
      ]
     },
     "execution_count": 113,
     "metadata": {},
     "output_type": "execute_result"
    }
   ],
   "source": [
    "# Fitting the RNN to the Training set\n",
    "model.fit(x_test, y_test, epochs = 3, batch_size = 32)\n"
   ]
  },
  {
   "cell_type": "code",
   "execution_count": 220,
   "metadata": {},
   "outputs": [],
   "source": [
    "msg1_vector=msg1_vector.reshape(1,3000,1) "
   ]
  },
  {
   "cell_type": "code",
   "execution_count": 221,
   "metadata": {},
   "outputs": [
    {
     "data": {
      "text/plain": [
       "array([[0.125506]], dtype=float32)"
      ]
     },
     "execution_count": 221,
     "metadata": {},
     "output_type": "execute_result"
    }
   ],
   "source": [
    "model.predict(msg1_vector)"
   ]
  },
  {
   "cell_type": "code",
   "execution_count": 218,
   "metadata": {},
   "outputs": [],
   "source": []
  },
  {
   "cell_type": "code",
   "execution_count": null,
   "metadata": {},
   "outputs": [],
   "source": []
  }
 ],
 "metadata": {
  "kernelspec": {
   "display_name": "Python 3",
   "language": "python",
   "name": "python3"
  },
  "language_info": {
   "codemirror_mode": {
    "name": "ipython",
    "version": 3
   },
   "file_extension": ".py",
   "mimetype": "text/x-python",
   "name": "python",
   "nbconvert_exporter": "python",
   "pygments_lexer": "ipython3",
   "version": "3.7.4"
  }
 },
 "nbformat": 4,
 "nbformat_minor": 2
}
