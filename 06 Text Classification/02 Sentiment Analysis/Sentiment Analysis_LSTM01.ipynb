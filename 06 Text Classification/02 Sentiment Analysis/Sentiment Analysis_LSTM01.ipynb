{
 "cells": [
  {
   "cell_type": "code",
   "execution_count": 142,
   "metadata": {},
   "outputs": [],
   "source": [
    "import pandas as pd\n",
    "import numpy as np\n",
    "import matplotlib.pyplot as plt"
   ]
  },
  {
   "cell_type": "code",
   "execution_count": 143,
   "metadata": {},
   "outputs": [],
   "source": [
    "import nltk\n",
    "from nltk.tokenize import word_tokenize\n",
    "\n",
    "train = [(\"Thanks for an excellent report\", \"pos\"),\n",
    "         (\"Your service is very quick and fast\", \"pos\"),\n",
    "        (\"I am pleased with your service\", \"pos\"),\n",
    "        (\"I did not know i was diabetic until you gave me this report\", \"neg\"),\n",
    "        (\"Service - Little slow, probably because too many people.\", \"neg\"),\n",
    "        (\"The place is not easy to locate\", \"neg\"),\n",
    "        (\"The place is very easy to locate\", \"pos\"),\n",
    "        (\"Not satisfied will take a second opinion\", \"neg\"),\n",
    "        (\"No human contact everything is so robotic here\", \"neg\"),\n",
    "        (\"can i talk to a human not convinced with your report\", \"neg\"),\n",
    "        (\"good results\", \"pos\"),\n",
    "        (\"good service\", \"pos\"),\n",
    "        (\"great service\", \"pos\"),\n",
    "        (\"excellent service\", \"pos\"),\n",
    "        (\"amazing technology\", \"pos\"),\n",
    "        (\"fast service and satisfying report\", \"pos\"),\n",
    "        (\"your report sucks\", \"neg\"),\n",
    "        (\"this report will cost me a fortune\", \"neg\"),\n",
    "        (\"I have diabetes\", \"neg\"),\n",
    "        (\"this report will cost me a fortune\", \"neg\"),\n",
    "        (\"this report means i have a dreadful disease\", \"neg\"),\n",
    "        (\"will i need to take new medication\", \"neg\"),\n",
    "        (\"i need to take my insulin injections regularly\", \"neg\"),\n",
    "        (\"my lipids are getting worst need to talk to the doctor\", \"neg\"),\n",
    "        (\"oh my god very bad results\", \"neg\"),\n",
    "        (\"bad service\", \"neg\"),\n",
    "        (\"very bad service\", \"neg\"),\n",
    "        (\"poor service\", \"neg\"),\n",
    "        (\"very bad service\", \"neg\"),\n",
    "        (\"slow service\", \"neg\"),\n",
    "        (\"very slow service\", \"neg\"),\n",
    "        (\"diabetes got worst is this report accurate\", \"neg\"),\n",
    "        (\"i dont believe this report\", \"neg\"),\n",
    "        (\"i dont like this report\", \"neg\"),\n",
    "        (\"i am in a diabetic hell\", \"neg\"),]"
   ]
  },
  {
   "cell_type": "code",
   "execution_count": 144,
   "metadata": {},
   "outputs": [],
   "source": [
    "df = pd.DataFrame(train,columns=['tweet','sentiment'])"
   ]
  },
  {
   "cell_type": "code",
   "execution_count": 145,
   "metadata": {},
   "outputs": [
    {
     "data": {
      "text/html": [
       "<div>\n",
       "<style scoped>\n",
       "    .dataframe tbody tr th:only-of-type {\n",
       "        vertical-align: middle;\n",
       "    }\n",
       "\n",
       "    .dataframe tbody tr th {\n",
       "        vertical-align: top;\n",
       "    }\n",
       "\n",
       "    .dataframe thead th {\n",
       "        text-align: right;\n",
       "    }\n",
       "</style>\n",
       "<table border=\"1\" class=\"dataframe\">\n",
       "  <thead>\n",
       "    <tr style=\"text-align: right;\">\n",
       "      <th></th>\n",
       "      <th>tweet</th>\n",
       "      <th>sentiment</th>\n",
       "    </tr>\n",
       "  </thead>\n",
       "  <tbody>\n",
       "    <tr>\n",
       "      <td>0</td>\n",
       "      <td>Thanks for an excellent report</td>\n",
       "      <td>pos</td>\n",
       "    </tr>\n",
       "    <tr>\n",
       "      <td>1</td>\n",
       "      <td>Your service is very quick and fast</td>\n",
       "      <td>pos</td>\n",
       "    </tr>\n",
       "    <tr>\n",
       "      <td>2</td>\n",
       "      <td>I am pleased with your service</td>\n",
       "      <td>pos</td>\n",
       "    </tr>\n",
       "    <tr>\n",
       "      <td>3</td>\n",
       "      <td>I did not know i was diabetic until you gave m...</td>\n",
       "      <td>neg</td>\n",
       "    </tr>\n",
       "    <tr>\n",
       "      <td>4</td>\n",
       "      <td>Service - Little slow, probably because too ma...</td>\n",
       "      <td>neg</td>\n",
       "    </tr>\n",
       "  </tbody>\n",
       "</table>\n",
       "</div>"
      ],
      "text/plain": [
       "                                               tweet sentiment\n",
       "0                     Thanks for an excellent report       pos\n",
       "1                Your service is very quick and fast       pos\n",
       "2                     I am pleased with your service       pos\n",
       "3  I did not know i was diabetic until you gave m...       neg\n",
       "4  Service - Little slow, probably because too ma...       neg"
      ]
     },
     "execution_count": 145,
     "metadata": {},
     "output_type": "execute_result"
    }
   ],
   "source": [
    "df.head()"
   ]
  },
  {
   "cell_type": "code",
   "execution_count": 146,
   "metadata": {},
   "outputs": [],
   "source": [
    "import re\n",
    "\n",
    "df['tweet'] = df['tweet'].apply(lambda x : x.lower()) # Convert to lower case\n",
    "df['tweet'] = df['tweet'].apply((lambda x : re.sub('[^a-zA-z0-9\\s]','',x)))\n"
   ]
  },
  {
   "cell_type": "code",
   "execution_count": 147,
   "metadata": {},
   "outputs": [],
   "source": [
    "from keras.preprocessing.text import Tokenizer\n",
    "from keras.preprocessing import sequence\n",
    "from keras.preprocessing.sequence import pad_sequences\n",
    "\n",
    "tokenizer = Tokenizer(num_words=1000)\n",
    "tokenizer.fit_on_texts(df['tweet'].values)\n",
    "\n",
    "X = tokenizer.texts_to_sequences(df['tweet'].values)\n",
    "X= pad_sequences(X)"
   ]
  },
  {
   "cell_type": "code",
   "execution_count": 148,
   "metadata": {},
   "outputs": [
    {
     "data": {
      "text/plain": [
       "array([[ 0,  0,  0,  0,  0,  0,  0,  0, 38, 39, 40, 19,  2],\n",
       "       [ 0,  0,  0,  0,  0,  0,  9,  1,  8,  6, 41, 20, 21],\n",
       "       [ 0,  0,  0,  0,  0,  0,  0,  3, 22, 42, 23,  9,  1],\n",
       "       [ 3, 43, 10, 44,  3, 45, 24, 46, 47, 48, 13,  4,  2],\n",
       "       [ 0,  0,  0,  0,  0,  1, 49, 14, 50, 51, 52, 53, 54],\n",
       "       [ 0,  0,  0,  0,  0,  0, 15, 25,  8, 10, 26,  5, 27],\n",
       "       [ 0,  0,  0,  0,  0,  0, 15, 25,  8,  6, 26,  5, 27],\n",
       "       [ 0,  0,  0,  0,  0,  0, 10, 55, 11, 16,  7, 56, 57],\n",
       "       [ 0,  0,  0,  0,  0, 58, 28, 59, 60,  8, 61, 62, 63],\n",
       "       [ 0,  0, 64,  3, 29,  5,  7, 28, 10, 65, 23,  9,  2],\n",
       "       [ 0,  0,  0,  0,  0,  0,  0,  0,  0,  0,  0, 30, 31],\n",
       "       [ 0,  0,  0,  0,  0,  0,  0,  0,  0,  0,  0, 30,  1],\n",
       "       [ 0,  0,  0,  0,  0,  0,  0,  0,  0,  0,  0, 66,  1],\n",
       "       [ 0,  0,  0,  0,  0,  0,  0,  0,  0,  0,  0, 19,  1],\n",
       "       [ 0,  0,  0,  0,  0,  0,  0,  0,  0,  0,  0, 67, 68],\n",
       "       [ 0,  0,  0,  0,  0,  0,  0,  0, 21,  1, 20, 69,  2],\n",
       "       [ 0,  0,  0,  0,  0,  0,  0,  0,  0,  0,  9,  2, 70],\n",
       "       [ 0,  0,  0,  0,  0,  0,  4,  2, 11, 32, 13,  7, 33],\n",
       "       [ 0,  0,  0,  0,  0,  0,  0,  0,  0,  0,  3, 34, 35],\n",
       "       [ 0,  0,  0,  0,  0,  0,  4,  2, 11, 32, 13,  7, 33],\n",
       "       [ 0,  0,  0,  0,  0,  4,  2, 71,  3, 34,  7, 72, 73],\n",
       "       [ 0,  0,  0,  0,  0,  0, 11,  3, 17,  5, 16, 74, 75],\n",
       "       [ 0,  0,  0,  0,  0,  3, 17,  5, 16, 18, 76, 77, 78],\n",
       "       [ 0,  0, 18, 79, 80, 81, 36, 17,  5, 29,  5, 15, 82],\n",
       "       [ 0,  0,  0,  0,  0,  0,  0, 83, 18, 84,  6, 12, 31],\n",
       "       [ 0,  0,  0,  0,  0,  0,  0,  0,  0,  0,  0, 12,  1],\n",
       "       [ 0,  0,  0,  0,  0,  0,  0,  0,  0,  0,  6, 12,  1],\n",
       "       [ 0,  0,  0,  0,  0,  0,  0,  0,  0,  0,  0, 85,  1],\n",
       "       [ 0,  0,  0,  0,  0,  0,  0,  0,  0,  0,  6, 12,  1],\n",
       "       [ 0,  0,  0,  0,  0,  0,  0,  0,  0,  0,  0, 14,  1],\n",
       "       [ 0,  0,  0,  0,  0,  0,  0,  0,  0,  0,  6, 14,  1],\n",
       "       [ 0,  0,  0,  0,  0,  0, 35, 86, 36,  8,  4,  2, 87],\n",
       "       [ 0,  0,  0,  0,  0,  0,  0,  0,  3, 37, 88,  4,  2],\n",
       "       [ 0,  0,  0,  0,  0,  0,  0,  0,  3, 37, 89,  4,  2],\n",
       "       [ 0,  0,  0,  0,  0,  0,  0,  3, 22, 90,  7, 24, 91]])"
      ]
     },
     "execution_count": 148,
     "metadata": {},
     "output_type": "execute_result"
    }
   ],
   "source": [
    "X"
   ]
  },
  {
   "cell_type": "code",
   "execution_count": 149,
   "metadata": {},
   "outputs": [],
   "source": [
    "from keras.models import Sequential\n",
    "from keras.layers import Embedding,Dense,LSTM,SpatialDropout1D\n",
    "\n",
    "model = Sequential()\n",
    "model.add(Embedding(100,8,input_length = 13))\n",
    "model.add(SpatialDropout1D(0.4))\n",
    "model.add(LSTM(126,dropout=0.2,recurrent_dropout=0.2))\n",
    "model.add(Dense(1,activation='sigmoid'))"
   ]
  },
  {
   "cell_type": "code",
   "execution_count": 150,
   "metadata": {},
   "outputs": [],
   "source": [
    "model.compile(loss = 'binary_crossentropy', optimizer='adam',metrics = ['accuracy'])"
   ]
  },
  {
   "cell_type": "code",
   "execution_count": 151,
   "metadata": {},
   "outputs": [],
   "source": [
    "Y = df.sentiment.map({'pos':1,'neg':0})"
   ]
  },
  {
   "cell_type": "code",
   "execution_count": 152,
   "metadata": {},
   "outputs": [
    {
     "name": "stdout",
     "output_type": "stream",
     "text": [
      "Epoch 1/7\n",
      " - 0s - loss: 0.6925 - accuracy: 0.6000\n",
      "Epoch 2/7\n",
      " - 0s - loss: 0.6868 - accuracy: 0.7143\n",
      "Epoch 3/7\n",
      " - 0s - loss: 0.6786 - accuracy: 0.7143\n",
      "Epoch 4/7\n",
      " - 0s - loss: 0.6686 - accuracy: 0.7143\n",
      "Epoch 5/7\n",
      " - 0s - loss: 0.6601 - accuracy: 0.7143\n",
      "Epoch 6/7\n",
      " - 0s - loss: 0.6447 - accuracy: 0.7143\n",
      "Epoch 7/7\n",
      " - 0s - loss: 0.6230 - accuracy: 0.7143\n"
     ]
    },
    {
     "data": {
      "text/plain": [
       "<keras.callbacks.callbacks.History at 0x17091109648>"
      ]
     },
     "execution_count": 152,
     "metadata": {},
     "output_type": "execute_result"
    }
   ],
   "source": [
    "batch_size = 32\n",
    "model.fit(X, Y, epochs = 7, batch_size=batch_size, verbose = 2)"
   ]
  },
  {
   "cell_type": "code",
   "execution_count": 160,
   "metadata": {},
   "outputs": [],
   "source": [
    "xx = [ 0,  0,  0,  0,  0,  0,  0,  0,  0,  0,  6, 12,  1]\n",
    "\n",
    "xx = np.expand_dims(xx,1)"
   ]
  },
  {
   "cell_type": "code",
   "execution_count": 161,
   "metadata": {},
   "outputs": [
    {
     "data": {
      "text/plain": [
       "array([[0.37562364]], dtype=float32)"
      ]
     },
     "execution_count": 161,
     "metadata": {},
     "output_type": "execute_result"
    }
   ],
   "source": [
    "xx = xx.reshape(1,-1)\n",
    "\n",
    "\n",
    "model.predict(xx)"
   ]
  },
  {
   "cell_type": "code",
   "execution_count": null,
   "metadata": {},
   "outputs": [],
   "source": []
  },
  {
   "cell_type": "code",
   "execution_count": null,
   "metadata": {},
   "outputs": [],
   "source": []
  }
 ],
 "metadata": {
  "kernelspec": {
   "display_name": "Python 3",
   "language": "python",
   "name": "python3"
  },
  "language_info": {
   "codemirror_mode": {
    "name": "ipython",
    "version": 3
   },
   "file_extension": ".py",
   "mimetype": "text/x-python",
   "name": "python",
   "nbconvert_exporter": "python",
   "pygments_lexer": "ipython3",
   "version": "3.7.4"
  }
 },
 "nbformat": 4,
 "nbformat_minor": 2
}
