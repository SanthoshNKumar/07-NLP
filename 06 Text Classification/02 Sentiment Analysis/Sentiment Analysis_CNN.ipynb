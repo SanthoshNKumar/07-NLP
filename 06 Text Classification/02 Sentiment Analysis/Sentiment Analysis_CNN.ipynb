{
 "cells": [
  {
   "cell_type": "code",
   "execution_count": 29,
   "metadata": {},
   "outputs": [],
   "source": [
    "# Sentiment Analysis using CNN\n",
    "\n",
    "# Step1 : Read the data and Preprocess it (Remove HTML tags,lower the text ) \n",
    "\n",
    "# Step2:  Split the Data into Train and Test\n",
    "\n",
    "# Step3: Convert data using texts_to_sequences(Keras)\n",
    "\n",
    "# Step4: Add padding sequence matrix( consider max length of 100 and post adding)\n",
    "\n",
    "# Step5: Create Kears Model\n",
    "#          - Add Embedding layer (Voc Size: embedding_dim:50 and input_length =100)\n",
    "#          - Add 1 Dimensional COnvoutional Layer \n",
    "#          - Add GlobalMaxPooling1D\n",
    "#          - Train and COmpile"
   ]
  },
  {
   "cell_type": "code",
   "execution_count": 30,
   "metadata": {},
   "outputs": [
    {
     "name": "stdout",
     "output_type": "stream",
     "text": [
      "(25000, 3)\n"
     ]
    },
    {
     "data": {
      "text/html": [
       "<div>\n",
       "<style scoped>\n",
       "    .dataframe tbody tr th:only-of-type {\n",
       "        vertical-align: middle;\n",
       "    }\n",
       "\n",
       "    .dataframe tbody tr th {\n",
       "        vertical-align: top;\n",
       "    }\n",
       "\n",
       "    .dataframe thead th {\n",
       "        text-align: right;\n",
       "    }\n",
       "</style>\n",
       "<table border=\"1\" class=\"dataframe\">\n",
       "  <thead>\n",
       "    <tr style=\"text-align: right;\">\n",
       "      <th></th>\n",
       "      <th>id</th>\n",
       "      <th>sentiment</th>\n",
       "      <th>review</th>\n",
       "    </tr>\n",
       "  </thead>\n",
       "  <tbody>\n",
       "    <tr>\n",
       "      <td>0</td>\n",
       "      <td>\"5814_8\"</td>\n",
       "      <td>1</td>\n",
       "      <td>\"With all this stuff going down at the moment ...</td>\n",
       "    </tr>\n",
       "    <tr>\n",
       "      <td>1</td>\n",
       "      <td>\"2381_9\"</td>\n",
       "      <td>1</td>\n",
       "      <td>\"\\\"The Classic War of the Worlds\\\" by Timothy ...</td>\n",
       "    </tr>\n",
       "    <tr>\n",
       "      <td>2</td>\n",
       "      <td>\"7759_3\"</td>\n",
       "      <td>0</td>\n",
       "      <td>\"The film starts with a manager (Nicholas Bell...</td>\n",
       "    </tr>\n",
       "    <tr>\n",
       "      <td>3</td>\n",
       "      <td>\"3630_4\"</td>\n",
       "      <td>0</td>\n",
       "      <td>\"It must be assumed that those who praised thi...</td>\n",
       "    </tr>\n",
       "    <tr>\n",
       "      <td>4</td>\n",
       "      <td>\"9495_8\"</td>\n",
       "      <td>1</td>\n",
       "      <td>\"Superbly trashy and wondrously unpretentious ...</td>\n",
       "    </tr>\n",
       "  </tbody>\n",
       "</table>\n",
       "</div>"
      ],
      "text/plain": [
       "         id  sentiment                                             review\n",
       "0  \"5814_8\"          1  \"With all this stuff going down at the moment ...\n",
       "1  \"2381_9\"          1  \"\\\"The Classic War of the Worlds\\\" by Timothy ...\n",
       "2  \"7759_3\"          0  \"The film starts with a manager (Nicholas Bell...\n",
       "3  \"3630_4\"          0  \"It must be assumed that those who praised thi...\n",
       "4  \"9495_8\"          1  \"Superbly trashy and wondrously unpretentious ..."
      ]
     },
     "execution_count": 30,
     "metadata": {},
     "output_type": "execute_result"
    }
   ],
   "source": [
    "import pandas as pd\n",
    "\n",
    "df = pd.read_csv(\"C:\\MyWork\\MyLearning\\Career Growth\\ML\\Files\\DataSet\\labeledTrainData.tsv\",sep='\\t', quoting=3)\n",
    "\n",
    "print(df.shape)\n",
    "\n",
    "df.head()"
   ]
  },
  {
   "cell_type": "code",
   "execution_count": 31,
   "metadata": {},
   "outputs": [],
   "source": [
    "# Pre processing \n",
    "import re\n",
    "\n",
    "def clean_review(text):\n",
    "    # Strip HTML tags\n",
    "    text = re.sub('<[^<]+?>', ' ', text)\n",
    "    \n",
    "    # Strip escaped quotes\n",
    "    text = text.replace('\\\\\"', '')\n",
    "    \n",
    "    # Strip quotes\n",
    "    text = text.replace('\"', '')\n",
    "    \n",
    "    text = text.lower()\n",
    "    \n",
    "    return text"
   ]
  },
  {
   "cell_type": "code",
   "execution_count": 32,
   "metadata": {},
   "outputs": [],
   "source": [
    "df['cleaned_review']= df['review'].apply(clean_review)"
   ]
  },
  {
   "cell_type": "code",
   "execution_count": 33,
   "metadata": {},
   "outputs": [
    {
     "data": {
      "text/html": [
       "<div>\n",
       "<style scoped>\n",
       "    .dataframe tbody tr th:only-of-type {\n",
       "        vertical-align: middle;\n",
       "    }\n",
       "\n",
       "    .dataframe tbody tr th {\n",
       "        vertical-align: top;\n",
       "    }\n",
       "\n",
       "    .dataframe thead th {\n",
       "        text-align: right;\n",
       "    }\n",
       "</style>\n",
       "<table border=\"1\" class=\"dataframe\">\n",
       "  <thead>\n",
       "    <tr style=\"text-align: right;\">\n",
       "      <th></th>\n",
       "      <th>id</th>\n",
       "      <th>sentiment</th>\n",
       "      <th>review</th>\n",
       "      <th>cleaned_review</th>\n",
       "    </tr>\n",
       "  </thead>\n",
       "  <tbody>\n",
       "    <tr>\n",
       "      <td>0</td>\n",
       "      <td>\"5814_8\"</td>\n",
       "      <td>1</td>\n",
       "      <td>\"With all this stuff going down at the moment ...</td>\n",
       "      <td>with all this stuff going down at the moment w...</td>\n",
       "    </tr>\n",
       "    <tr>\n",
       "      <td>1</td>\n",
       "      <td>\"2381_9\"</td>\n",
       "      <td>1</td>\n",
       "      <td>\"\\\"The Classic War of the Worlds\\\" by Timothy ...</td>\n",
       "      <td>the classic war of the worlds by timothy hines...</td>\n",
       "    </tr>\n",
       "    <tr>\n",
       "      <td>2</td>\n",
       "      <td>\"7759_3\"</td>\n",
       "      <td>0</td>\n",
       "      <td>\"The film starts with a manager (Nicholas Bell...</td>\n",
       "      <td>the film starts with a manager (nicholas bell)...</td>\n",
       "    </tr>\n",
       "    <tr>\n",
       "      <td>3</td>\n",
       "      <td>\"3630_4\"</td>\n",
       "      <td>0</td>\n",
       "      <td>\"It must be assumed that those who praised thi...</td>\n",
       "      <td>it must be assumed that those who praised this...</td>\n",
       "    </tr>\n",
       "    <tr>\n",
       "      <td>4</td>\n",
       "      <td>\"9495_8\"</td>\n",
       "      <td>1</td>\n",
       "      <td>\"Superbly trashy and wondrously unpretentious ...</td>\n",
       "      <td>superbly trashy and wondrously unpretentious 8...</td>\n",
       "    </tr>\n",
       "  </tbody>\n",
       "</table>\n",
       "</div>"
      ],
      "text/plain": [
       "         id  sentiment                                             review  \\\n",
       "0  \"5814_8\"          1  \"With all this stuff going down at the moment ...   \n",
       "1  \"2381_9\"          1  \"\\\"The Classic War of the Worlds\\\" by Timothy ...   \n",
       "2  \"7759_3\"          0  \"The film starts with a manager (Nicholas Bell...   \n",
       "3  \"3630_4\"          0  \"It must be assumed that those who praised thi...   \n",
       "4  \"9495_8\"          1  \"Superbly trashy and wondrously unpretentious ...   \n",
       "\n",
       "                                      cleaned_review  \n",
       "0  with all this stuff going down at the moment w...  \n",
       "1  the classic war of the worlds by timothy hines...  \n",
       "2  the film starts with a manager (nicholas bell)...  \n",
       "3  it must be assumed that those who praised this...  \n",
       "4  superbly trashy and wondrously unpretentious 8...  "
      ]
     },
     "execution_count": 33,
     "metadata": {},
     "output_type": "execute_result"
    }
   ],
   "source": [
    "df.head()"
   ]
  },
  {
   "cell_type": "code",
   "execution_count": 34,
   "metadata": {},
   "outputs": [
    {
     "data": {
      "text/plain": [
       "id                0\n",
       "sentiment         0\n",
       "review            0\n",
       "cleaned_review    0\n",
       "dtype: int64"
      ]
     },
     "execution_count": 34,
     "metadata": {},
     "output_type": "execute_result"
    }
   ],
   "source": [
    "df.isnull().sum()"
   ]
  },
  {
   "cell_type": "code",
   "execution_count": 35,
   "metadata": {},
   "outputs": [],
   "source": [
    "import numpy as np"
   ]
  },
  {
   "cell_type": "code",
   "execution_count": 36,
   "metadata": {},
   "outputs": [
    {
     "data": {
      "text/plain": [
       "1    12500\n",
       "0    12500\n",
       "Name: sentiment, dtype: int64"
      ]
     },
     "execution_count": 36,
     "metadata": {},
     "output_type": "execute_result"
    }
   ],
   "source": [
    "import matplotlib.pyplot as plt\n",
    "\n",
    "df['sentiment'].value_counts()"
   ]
  },
  {
   "cell_type": "code",
   "execution_count": 37,
   "metadata": {},
   "outputs": [
    {
     "data": {
      "text/plain": [
       "\"with all this stuff going down at the moment with mj i've started listening to his music, watching the odd documentary here and there, watched the wiz and watched moonwalker again. maybe i just want to get a certain insight into this guy who i thought was really cool in the eighties just to maybe make up my mind whether he is guilty or innocent. moonwalker is part biography, part feature film which i remember going to see at the cinema when it was originally released. some of it has subtle messages about mj's feeling towards the press and also the obvious message of drugs are bad m'kay.  visually impressive but of course this is all about michael jackson so unless you remotely like mj in anyway then you are going to hate this and find it boring. some may call mj an egotist for consenting to the making of this movie but mj and most of his fans would say that he made it for the fans which if true is really nice of him.  the actual feature film bit when it finally starts is only on for 20 minutes or so excluding the smooth criminal sequence and joe pesci is convincing as a psychopathic all powerful drug lord. why he wants mj dead so bad is beyond me. because mj overheard his plans? nah, joe pesci's character ranted that he wanted people to know it is he who is supplying drugs etc so i dunno, maybe he just hates mj's music.  lots of cool things in this like mj turning into a car and a robot and the whole speed demon sequence. also, the director must have had the patience of a saint when it came to filming the kiddy bad sequence as usually directors hate working with one kid let alone a whole bunch of them performing a complex dance scene.  bottom line, this movie is for people who like mj on one level or another (which i think is most people). if not, then stay away. it does try and give off a wholesome message and ironically mj's bestest buddy in this movie is a girl! michael jackson is truly one of the most talented people ever to grace this planet but is he guilty? well, with all the attention i've gave this subject....hmmm well i don't know because people can be different behind closed doors, i know this for a fact. he is either an extremely nice but stupid guy or one of the most sickest liars. i hope he is not the latter.\""
      ]
     },
     "execution_count": 37,
     "metadata": {},
     "output_type": "execute_result"
    }
   ],
   "source": [
    "df['cleaned_review'].values[0]"
   ]
  },
  {
   "cell_type": "code",
   "execution_count": 38,
   "metadata": {},
   "outputs": [],
   "source": [
    "sentences = df['cleaned_review'].values\n",
    "y = df['sentiment'].values"
   ]
  },
  {
   "cell_type": "code",
   "execution_count": 39,
   "metadata": {},
   "outputs": [],
   "source": [
    "from sklearn.model_selection import train_test_split\n",
    "\n",
    "sentences_train,sentences_test,y_train,y_test = train_test_split(sentences, y,test_size=0.25,random_state=1000)"
   ]
  },
  {
   "cell_type": "code",
   "execution_count": 40,
   "metadata": {},
   "outputs": [
    {
     "name": "stdout",
     "output_type": "stream",
     "text": [
      "(18750,)\n",
      "(6250,)\n"
     ]
    }
   ],
   "source": [
    "print(sentences_train.shape)\n",
    "print(sentences_test.shape)"
   ]
  },
  {
   "cell_type": "code",
   "execution_count": 41,
   "metadata": {},
   "outputs": [
    {
     "data": {
      "text/plain": [
       "(18750,)"
      ]
     },
     "execution_count": 41,
     "metadata": {},
     "output_type": "execute_result"
    }
   ],
   "source": [
    "y_train.shape"
   ]
  },
  {
   "cell_type": "code",
   "execution_count": 42,
   "metadata": {},
   "outputs": [],
   "source": [
    "\n",
    "# Word Embeding using : Keras\n",
    "\n",
    "from keras.preprocessing.text import Tokenizer\n",
    "from keras.preprocessing.sequence import pad_sequences\n",
    "\n",
    "tokenizer = Tokenizer(num_words=5000)\n",
    "tokenizer.fit_on_texts(sentences_train)\n",
    "\n",
    "X_train = tokenizer.texts_to_sequences(sentences_train)\n",
    "X_test = tokenizer.texts_to_sequences(sentences_test)\n",
    "\n",
    "# Adding 1 because of  reserved 0 index\n",
    "vocab_size = len(tokenizer.word_index) + 1  \n",
    "\n",
    "maxlen = 100\n",
    "\n",
    "X_train_padding = pad_sequences(X_train, padding='post', maxlen=maxlen)\n",
    "X_test_padding = pad_sequences(X_test, padding='post', maxlen=maxlen)"
   ]
  },
  {
   "cell_type": "code",
   "execution_count": 43,
   "metadata": {},
   "outputs": [
    {
     "name": "stdout",
     "output_type": "stream",
     "text": [
      "[\"what noise fails to do is get us to understand its character. tim robbins plays an obsessive new yorker who can't deal with the obtrusive noises of the city any longer, particularly car alarms. it's an odd idea for a film, which has about as much creative credibility as death wish. it is clever at points; particularly a scene in which our hero is trying to read through hagel, i'm too stupid to be understanding this. he reads and rereads a paragraph in confusion, we read it and don't get it either.just then a car alarm goes off. throughout the movie is constant interference of alarms and city noises. though, all in all it does little to help us understand our hero, who allows this all to ruin his marriage and gets distracted with side plots instead of digging deeper-into his persona.   the film-making itself is too oblivious to notice its own sound problems, shoddy editing, and visible boom mikes. no, noise isn't all-bad. william hurt is at least colorful. at least the ending doesn't fall flat. overall it drives home a logistical point, one you haven't probably thought of. at least i hadn't. though all in all, ninety minutes long, it couldn't have ended sooner. the story dragged on and seemed to be lost as soon as it started.  this is another one of those movies that you might see at a film festival, but probably won't get picked up for distribution. check it out on dvd if you're really partial to someone involved in the project. otherwise skip it.\"\n",
      " 'when i went to watch this movie my expectations were really low, but i was pleasantly surprised.   i thought i was going to watch a boring teen-flick, but in fact the plot is interesting and well executed, the acting was somewhat convincing - especially from melville who really shows his talent in this movie, and the fight scenes were - for a low budget movie - very well done .  i think this movie deserves a broader audience than it has received. it is a movie, which can be seen by the whole family - maybe not the smallest of kids, since it contains some rather rough scenes. a movie about love, and the problems that can occur, when you go against your family traditions.   yes, the movie is very much like bend it like beckham, but i actually think this movie pulls it off better.']\n"
     ]
    }
   ],
   "source": [
    "# Actual input text\n",
    "\n",
    "print(sentences_train[:2])"
   ]
  },
  {
   "cell_type": "code",
   "execution_count": 44,
   "metadata": {},
   "outputs": [
    {
     "name": "stdout",
     "output_type": "stream",
     "text": [
      "[[47, 3336, 991, 5, 76, 6, 74, 175, 5, 380, 91, 105, 1662, 287, 31, 154, 35, 187, 882, 14, 1, 4, 1, 524, 98, 1219, 551, 490, 42, 31, 1014, 325, 15, 3, 18, 61, 44, 40, 13, 72, 1502, 2963, 13, 346, 633, 8, 6, 1091, 29, 767, 551, 3, 133, 7, 61, 262, 620, 6, 266, 5, 329, 139, 143, 94, 369, 5, 26, 1981, 10, 25, 4683, 2, 3, 7, 2964, 70, 329, 8, 2, 88, 74, 8, 347, 39, 90, 3, 490, 267, 121, 468, 1, 16, 6, 1768, 4, 2, 524, 148, 28, 7, 28, 8, 123, 113, 5, 340, 175, 380, 262, 620, 35, 2048, 10, 28, 5, 2570, 22, 1344, 2, 217, 14, 495, 1894, 304, 4, 2718, 80, 22, 3337, 1, 18, 226, 409, 6, 94, 5, 1462, 91, 202, 473, 701, 778, 2, 4346, 55, 3336, 215, 28, 75, 1056, 1470, 6, 29, 221, 3229, 29, 221, 1, 279, 150, 813, 1008, 448, 8, 2979, 337, 3, 211, 27, 21, 750, 237, 194, 4, 29, 221, 9, 1805, 148, 28, 7, 28, 234, 193, 8, 426, 24, 1067, 1, 60, 3273, 19, 2, 457, 5, 26, 407, 13, 501, 13, 8, 634, 10, 6, 155, 27, 4, 144, 97, 11, 21, 235, 63, 29, 3, 18, 1382, 17, 237, 506, 74, 1597, 52, 15, 4684, 783, 8, 41, 19, 278, 43, 330, 62, 5, 291, 565, 7, 1, 1140, 900, 1791, 8], [50, 9, 428, 5, 102, 10, 16, 58, 1400, 69, 62, 359, 17, 9, 12, 3626, 759, 9, 194, 9, 12, 165, 5, 102, 3, 360, 1624, 510, 17, 7, 186, 1, 107, 6, 213, 2, 67, 2121, 1, 114, 12, 642, 1110, 258, 34, 35, 62, 285, 22, 650, 7, 10, 16, 2, 1, 555, 135, 69, 15, 3, 359, 349, 16, 51, 67, 216, 9, 100, 10, 16, 963, 3, 313, 71, 8, 44, 1990, 8, 6, 3, 16, 61, 66, 26, 106, 30, 1, 219, 225, 272, 20, 1, 4, 367, 231, 8, 1401, 45, 240, 2541, 135, 3, 16, 40, 115, 2, 1, 701, 11, 66, 3804, 50, 21, 137, 419, 127, 225, 416, 1, 16, 6, 51, 72, 36, 8, 36, 17, 9, 161, 100, 10, 16, 2719, 8, 121, 124]]\n"
     ]
    }
   ],
   "source": [
    "# convered to sequence of text\n",
    "\n",
    "print(X_train[:2])"
   ]
  },
  {
   "cell_type": "code",
   "execution_count": 45,
   "metadata": {},
   "outputs": [
    {
     "name": "stdout",
     "output_type": "stream",
     "text": [
      "[[   2 4346   55 3336  215   28   75 1056 1470    6   29  221 3229   29\n",
      "   221    1  279  150  813 1008  448    8 2979  337    3  211   27   21\n",
      "   750  237  194    4   29  221    9 1805  148   28    7   28  234  193\n",
      "     8  426   24 1067    1   60 3273   19    2  457    5   26  407   13\n",
      "   501   13    8  634   10    6  155   27    4  144   97   11   21  235\n",
      "    63   29    3   18 1382   17  237  506   74 1597   52   15 4684  783\n",
      "     8   41   19  278   43  330   62    5  291  565    7    1 1140  900\n",
      "  1791    8]\n",
      " [  67 2121    1  114   12  642 1110  258   34   35   62  285   22  650\n",
      "     7   10   16    2    1  555  135   69   15    3  359  349   16   51\n",
      "    67  216    9  100   10   16  963    3  313   71    8   44 1990    8\n",
      "     6    3   16   61   66   26  106   30    1  219  225  272   20    1\n",
      "     4  367  231    8 1401   45  240 2541  135    3   16   40  115    2\n",
      "     1  701   11   66 3804   50   21  137  419  127  225  416    1   16\n",
      "     6   51   72   36    8   36   17    9  161  100   10   16 2719    8\n",
      "   121  124]]\n"
     ]
    }
   ],
   "source": [
    "# post padding\n",
    "\n",
    "print(X_train_padding[:2])"
   ]
  },
  {
   "cell_type": "code",
   "execution_count": 46,
   "metadata": {},
   "outputs": [
    {
     "name": "stdout",
     "output_type": "stream",
     "text": [
      "78089\n"
     ]
    }
   ],
   "source": [
    "vocab_size = len( tokenizer.word_index) + 1\n",
    "embedding_dim = 50 \n",
    "# maxlen = 100 # Sequence Length (padding)\n",
    "\n",
    "print(vocab_size)"
   ]
  },
  {
   "cell_type": "code",
   "execution_count": 24,
   "metadata": {},
   "outputs": [
    {
     "name": "stdout",
     "output_type": "stream",
     "text": [
      "WARNING:tensorflow:From c:\\users\\insakum46\\appdata\\local\\programs\\python\\python37\\lib\\site-packages\\tensorflow_core\\python\\ops\\resource_variable_ops.py:1630: calling BaseResourceVariable.__init__ (from tensorflow.python.ops.resource_variable_ops) with constraint is deprecated and will be removed in a future version.\n",
      "Instructions for updating:\n",
      "If using Keras pass *_constraint arguments to layers.\n",
      "WARNING:tensorflow:From c:\\users\\insakum46\\appdata\\local\\programs\\python\\python37\\lib\\site-packages\\tensorflow_core\\python\\ops\\nn_impl.py:183: where (from tensorflow.python.ops.array_ops) is deprecated and will be removed in a future version.\n",
      "Instructions for updating:\n",
      "Use tf.where in 2.0, which has the same broadcast rule as np.where\n"
     ]
    }
   ],
   "source": [
    "# Training our CNN model:\n",
    "\n",
    "from keras.models import Sequential\n",
    "from keras import layers\n",
    "\n",
    "model = Sequential()\n",
    "model.add(layers.Embedding(vocab_size, embedding_dim, input_length=maxlen)) # vocab_size = 78089;embedding_dim:50;maxlen =100 \n",
    "model.add(layers.Conv1D(128, 5, activation='relu'))\n",
    "model.add(layers.GlobalMaxPooling1D())\n",
    "model.add(layers.Dense(10, activation='relu'))\n",
    "model.add(layers.Dense(1, activation='sigmoid'))\n",
    "\n",
    "model.compile(optimizer='adam',loss='binary_crossentropy',metrics=['accuracy'])\n"
   ]
  },
  {
   "cell_type": "code",
   "execution_count": 25,
   "metadata": {},
   "outputs": [
    {
     "name": "stdout",
     "output_type": "stream",
     "text": [
      "WARNING:tensorflow:From c:\\users\\insakum46\\appdata\\local\\programs\\python\\python37\\lib\\site-packages\\keras\\backend\\tensorflow_backend.py:422: The name tf.global_variables is deprecated. Please use tf.compat.v1.global_variables instead.\n",
      "\n",
      "Train on 18750 samples, validate on 6250 samples\n",
      "Epoch 1/10\n",
      "18750/18750 [==============================] - 145s 8ms/step - loss: 0.4360 - accuracy: 0.7895 - val_loss: 0.3480 - val_accuracy: 0.8525\n",
      "Epoch 2/10\n",
      "18750/18750 [==============================] - 119s 6ms/step - loss: 0.2455 - accuracy: 0.9014 - val_loss: 0.3383 - val_accuracy: 0.8592\n",
      "Epoch 3/10\n",
      "18750/18750 [==============================] - 128s 7ms/step - loss: 0.1222 - accuracy: 0.9581 - val_loss: 0.4176 - val_accuracy: 0.8512\n",
      "Epoch 4/10\n",
      "18750/18750 [==============================] - 124s 7ms/step - loss: 0.0398 - accuracy: 0.9886 - val_loss: 0.5275 - val_accuracy: 0.8510\n",
      "Epoch 5/10\n",
      "18750/18750 [==============================] - 123s 7ms/step - loss: 0.0148 - accuracy: 0.9960 - val_loss: 0.6647 - val_accuracy: 0.8494\n",
      "Epoch 6/10\n",
      "18750/18750 [==============================] - 123s 7ms/step - loss: 0.0154 - accuracy: 0.9948 - val_loss: 0.7833 - val_accuracy: 0.8450\n",
      "Epoch 7/10\n",
      "18750/18750 [==============================] - 124s 7ms/step - loss: 0.0161 - accuracy: 0.9934 - val_loss: 1.0239 - val_accuracy: 0.8258\n",
      "Epoch 8/10\n",
      "18750/18750 [==============================] - 124s 7ms/step - loss: 0.0104 - accuracy: 0.9964 - val_loss: 0.9022 - val_accuracy: 0.8485\n",
      "Epoch 9/10\n",
      "18750/18750 [==============================] - 123s 7ms/step - loss: 0.0092 - accuracy: 0.9965 - val_loss: 1.0244 - val_accuracy: 0.8418\n",
      "Epoch 10/10\n",
      "18750/18750 [==============================] - 180s 10ms/step - loss: 0.0077 - accuracy: 0.9971 - val_loss: 1.0813 - val_accuracy: 0.8435\n"
     ]
    }
   ],
   "source": [
    "history = model.fit(X_train_padding, y_train,epochs=10,validation_data=(X_test_padding, y_test),batch_size=10)"
   ]
  },
  {
   "cell_type": "code",
   "execution_count": 26,
   "metadata": {},
   "outputs": [],
   "source": [
    "sample = X_test_padding[10]\n",
    "\n",
    "sample.resize(1,100)"
   ]
  },
  {
   "cell_type": "code",
   "execution_count": 27,
   "metadata": {},
   "outputs": [
    {
     "data": {
      "text/plain": [
       "array([[0.11730856]], dtype=float32)"
      ]
     },
     "execution_count": 27,
     "metadata": {},
     "output_type": "execute_result"
    }
   ],
   "source": [
    "model.predict(sample)"
   ]
  },
  {
   "cell_type": "code",
   "execution_count": 28,
   "metadata": {},
   "outputs": [
    {
     "data": {
      "text/plain": [
       "1"
      ]
     },
     "execution_count": 28,
     "metadata": {},
     "output_type": "execute_result"
    }
   ],
   "source": [
    "y_test[10]"
   ]
  },
  {
   "cell_type": "code",
   "execution_count": null,
   "metadata": {},
   "outputs": [],
   "source": []
  }
 ],
 "metadata": {
  "kernelspec": {
   "display_name": "Python 3",
   "language": "python",
   "name": "python3"
  },
  "language_info": {
   "codemirror_mode": {
    "name": "ipython",
    "version": 3
   },
   "file_extension": ".py",
   "mimetype": "text/x-python",
   "name": "python",
   "nbconvert_exporter": "python",
   "pygments_lexer": "ipython3",
   "version": "3.6.8"
  }
 },
 "nbformat": 4,
 "nbformat_minor": 2
}
