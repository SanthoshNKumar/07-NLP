{
 "cells": [
  {
   "cell_type": "code",
   "execution_count": 60,
   "metadata": {},
   "outputs": [],
   "source": [
    "import nltk\n",
    "from nltk.tokenize import word_tokenize\n",
    "\n",
    "train = [(\"Thanks for an excellent report\", \"pos\"),\n",
    "         (\"Your service is very quick and fast\", \"pos\"),\n",
    "        (\"I am pleased with your service\", \"pos\"),\n",
    "        (\"I did not know i was diabetic until you gave me this report\", \"neg\"),\n",
    "        (\"Service - Little slow, probably because too many people.\", \"neg\"),\n",
    "        (\"The place is not easy to locate\", \"neg\"),\n",
    "        (\"The place is very easy to locate\", \"pos\"),\n",
    "        (\"Not satisfied will take a second opinion\", \"neg\"),\n",
    "        (\"No human contact everything is so robotic here\", \"neg\"),\n",
    "        (\"can i talk to a human not convinced with your report\", \"neg\"),\n",
    "        (\"good results\", \"pos\"),\n",
    "        (\"good service\", \"pos\"),\n",
    "        (\"great service\", \"pos\"),\n",
    "        (\"excellent service\", \"pos\"),\n",
    "        (\"amazing technology\", \"pos\"),\n",
    "        (\"fast service and satisfying report\", \"pos\"),\n",
    "        (\"your report sucks\", \"neg\"),\n",
    "        (\"this report will cost me a fortune\", \"neg\"),\n",
    "        (\"I have diabetes\", \"neg\"),\n",
    "        (\"this report will cost me a fortune\", \"neg\"),\n",
    "        (\"this report means i have a dreadful disease\", \"neg\"),\n",
    "        (\"will i need to take new medication\", \"neg\"),\n",
    "        (\"i need to take my insulin injections regularly\", \"neg\"),\n",
    "        (\"my lipids are getting worst need to talk to the doctor\", \"neg\"),\n",
    "        (\"oh my god very bad results\", \"neg\"),\n",
    "        (\"bad service\", \"neg\"),\n",
    "        (\"very bad service\", \"neg\"),\n",
    "        (\"poor service\", \"neg\"),\n",
    "        (\"very bad service\", \"neg\"),\n",
    "        (\"slow service\", \"neg\"),\n",
    "        (\"very slow service\", \"neg\"),\n",
    "        (\"diabetes got worst is this report accurate\", \"neg\"),\n",
    "        (\"i dont believe this report\", \"neg\"),\n",
    "        (\"i dont like this report\", \"neg\"),\n",
    "        (\"i am in a diabetic hell\", \"neg\"),]"
   ]
  },
  {
   "cell_type": "code",
   "execution_count": 61,
   "metadata": {},
   "outputs": [
    {
     "data": {
      "text/html": [
       "<div>\n",
       "<style scoped>\n",
       "    .dataframe tbody tr th:only-of-type {\n",
       "        vertical-align: middle;\n",
       "    }\n",
       "\n",
       "    .dataframe tbody tr th {\n",
       "        vertical-align: top;\n",
       "    }\n",
       "\n",
       "    .dataframe thead th {\n",
       "        text-align: right;\n",
       "    }\n",
       "</style>\n",
       "<table border=\"1\" class=\"dataframe\">\n",
       "  <thead>\n",
       "    <tr style=\"text-align: right;\">\n",
       "      <th></th>\n",
       "      <th>review</th>\n",
       "      <th>sentiment</th>\n",
       "    </tr>\n",
       "  </thead>\n",
       "  <tbody>\n",
       "    <tr>\n",
       "      <th>16</th>\n",
       "      <td>your report sucks</td>\n",
       "      <td>neg</td>\n",
       "    </tr>\n",
       "    <tr>\n",
       "      <th>28</th>\n",
       "      <td>very bad service</td>\n",
       "      <td>neg</td>\n",
       "    </tr>\n",
       "    <tr>\n",
       "      <th>14</th>\n",
       "      <td>amazing technology</td>\n",
       "      <td>pos</td>\n",
       "    </tr>\n",
       "    <tr>\n",
       "      <th>3</th>\n",
       "      <td>I did not know i was diabetic until you gave m...</td>\n",
       "      <td>neg</td>\n",
       "    </tr>\n",
       "    <tr>\n",
       "      <th>19</th>\n",
       "      <td>this report will cost me a fortune</td>\n",
       "      <td>neg</td>\n",
       "    </tr>\n",
       "  </tbody>\n",
       "</table>\n",
       "</div>"
      ],
      "text/plain": [
       "                                               review sentiment\n",
       "16                                  your report sucks       neg\n",
       "28                                   very bad service       neg\n",
       "14                                 amazing technology       pos\n",
       "3   I did not know i was diabetic until you gave m...       neg\n",
       "19                 this report will cost me a fortune       neg"
      ]
     },
     "execution_count": 61,
     "metadata": {},
     "output_type": "execute_result"
    }
   ],
   "source": [
    "import pandas as pd\n",
    "\n",
    "df = pd.DataFrame(train,columns=['review','sentiment'])\n",
    "\n",
    "df.head()\n",
    "\n",
    "df = df.sample(frac = 1)\n",
    "\n",
    "df.head()"
   ]
  },
  {
   "cell_type": "code",
   "execution_count": 62,
   "metadata": {},
   "outputs": [],
   "source": [
    "dict = {'pos':1, 'neg':0} "
   ]
  },
  {
   "cell_type": "code",
   "execution_count": 63,
   "metadata": {},
   "outputs": [],
   "source": [
    "df['sentiment'] = [dict[x] for x in df['sentiment']]\n",
    "df['review'] = df['review'].str.lower()\n",
    "\n",
    "X = df['review'].values\n",
    "y = df['sentiment'].values"
   ]
  },
  {
   "cell_type": "code",
   "execution_count": 64,
   "metadata": {},
   "outputs": [],
   "source": [
    "# ML imports\n",
    "from sklearn.naive_bayes import MultinomialNB\n",
    "# from sklearn.naive_bayes import BernoulliNB\n",
    "from sklearn.feature_extraction.text import TfidfVectorizer\n",
    "\n",
    "# from sklearn.ensemble import RandomForestClassifier\n",
    "import pickle"
   ]
  },
  {
   "cell_type": "code",
   "execution_count": 36,
   "metadata": {},
   "outputs": [],
   "source": [
    "clf = MultinomialNB()\n",
    "vectorizer = TfidfVectorizer()"
   ]
  },
  {
   "cell_type": "code",
   "execution_count": 67,
   "metadata": {},
   "outputs": [
    {
     "data": {
      "text/plain": [
       "TfidfVectorizer()"
      ]
     },
     "execution_count": 67,
     "metadata": {},
     "output_type": "execute_result"
    }
   ],
   "source": [
    "vectorizer.fit(X)"
   ]
  },
  {
   "cell_type": "code",
   "execution_count": 68,
   "metadata": {},
   "outputs": [],
   "source": [
    "X_transformed = vectorizer.transform(X)"
   ]
  },
  {
   "cell_type": "code",
   "execution_count": 72,
   "metadata": {},
   "outputs": [],
   "source": [
    "import pickle\n",
    "\n",
    "with open(\"TFIDFVectorizer.pkl\", 'wb') as f:\n",
    "    pickle.dump(vectorizer, f)"
   ]
  },
  {
   "cell_type": "code",
   "execution_count": 74,
   "metadata": {},
   "outputs": [
    {
     "data": {
      "text/plain": [
       "MultinomialNB()"
      ]
     },
     "execution_count": 74,
     "metadata": {},
     "output_type": "execute_result"
    }
   ],
   "source": [
    "# Train\n",
    "clf.fit(X_transformed, y)"
   ]
  },
  {
   "cell_type": "code",
   "execution_count": 75,
   "metadata": {},
   "outputs": [],
   "source": [
    "y_proba = clf.predict_proba(X_transformed)"
   ]
  },
  {
   "cell_type": "code",
   "execution_count": 76,
   "metadata": {},
   "outputs": [],
   "source": [
    "y_pred = clf.predict(X_transformed)"
   ]
  },
  {
   "cell_type": "code",
   "execution_count": 77,
   "metadata": {},
   "outputs": [],
   "source": [
    "with open(\"SentimentClassifier.pkl\", 'wb') as f:\n",
    "    pickle.dump(clf, f)\n",
    "    "
   ]
  },
  {
   "cell_type": "code",
   "execution_count": 44,
   "metadata": {},
   "outputs": [
    {
     "data": {
      "text/plain": [
       "b'<!DOCTYPE HTML PUBLIC \"-//W3C//DTD HTML 4.01 Transitional//EN\"\\n  \"http://www.w3.org/TR/html4/loose.dtd\">\\n<html>\\n  <head>\\n    <title>AttributeError: \\'NoneType\\' object has no attribute \\'lower\\' // Werkzeug Debugger</title>\\n    <link rel=\"stylesheet\" href=\"?__debugger__=yes&amp;cmd=resource&amp;f=style.css\"\\n        type=\"text/css\">\\n    <!-- We need to make sure this has a favicon so that the debugger does\\n         not by accident trigger a request to /favicon.ico which might\\n         change the application state. -->\\n    <link rel=\"shortcut icon\"\\n        href=\"?__debugger__=yes&amp;cmd=resource&amp;f=console.png\">\\n    <script src=\"?__debugger__=yes&amp;cmd=resource&amp;f=jquery.js\"></script>\\n    <script src=\"?__debugger__=yes&amp;cmd=resource&amp;f=debugger.js\"></script>\\n    <script type=\"text/javascript\">\\n      var TRACEBACK = 1709054387016,\\n          CONSOLE_MODE = false,\\n          EVALEX = true,\\n          EVALEX_TRUSTED = false,\\n          SECRET = \"DHlaSgXgbdAy8tZo0lpw\";\\n    </script>\\n  </head>\\n  <body style=\"background-color: #fff\">\\n    <div class=\"debugger\">\\n<h1>AttributeError</h1>\\n<div class=\"detail\">\\n  <p class=\"errormsg\">AttributeError: \\'NoneType\\' object has no attribute \\'lower\\'</p>\\n</div>\\n<h2 class=\"traceback\">Traceback <em>(most recent call last)</em></h2>\\n<div class=\"traceback\">\\n  \\n  <ul><li><div class=\"frame\" id=\"frame-1709054387784\">\\n  <h4>File <cite class=\"filename\">\"C:\\\\Users\\\\INSAKUM46\\\\AppData\\\\Local\\\\Programs\\\\Python\\\\Python37\\\\lib\\\\site-packages\\\\flask\\\\app.py\"</cite>,\\n      line <em class=\"line\">2463</em>,\\n      in <code class=\"function\">__call__</code></h4>\\n  <div class=\"source library\"><pre class=\"line before\"><span class=\"ws\"></span> </pre>\\n<pre class=\"line before\"><span class=\"ws\">    </span>def __call__(self, environ, start_response):</pre>\\n<pre class=\"line before\"><span class=\"ws\">        </span>&quot;&quot;&quot;The WSGI server calls the Flask application object as the</pre>\\n<pre class=\"line before\"><span class=\"ws\">        </span>WSGI application. This calls :meth:`wsgi_app` which can be</pre>\\n<pre class=\"line before\"><span class=\"ws\">        </span>wrapped to applying middleware.&quot;&quot;&quot;</pre>\\n<pre class=\"line current\"><span class=\"ws\">        </span>return self.wsgi_app(environ, start_response)</pre>\\n<pre class=\"line after\"><span class=\"ws\"></span> </pre>\\n<pre class=\"line after\"><span class=\"ws\">    </span>def __repr__(self):</pre>\\n<pre class=\"line after\"><span class=\"ws\">        </span>return &quot;&lt;%s %r&gt;&quot; % (self.__class__.__name__, self.name)</pre></div>\\n</div>\\n\\n<li><div class=\"frame\" id=\"frame-1709054387848\">\\n  <h4>File <cite class=\"filename\">\"C:\\\\Users\\\\INSAKUM46\\\\AppData\\\\Local\\\\Programs\\\\Python\\\\Python37\\\\lib\\\\site-packages\\\\flask\\\\app.py\"</cite>,\\n      line <em class=\"line\">2449</em>,\\n      in <code class=\"function\">wsgi_app</code></h4>\\n  <div class=\"source library\"><pre class=\"line before\"><span class=\"ws\">            </span>try:</pre>\\n<pre class=\"line before\"><span class=\"ws\">                </span>ctx.push()</pre>\\n<pre class=\"line before\"><span class=\"ws\">                </span>response = self.full_dispatch_request()</pre>\\n<pre class=\"line before\"><span class=\"ws\">            </span>except Exception as e:</pre>\\n<pre class=\"line before\"><span class=\"ws\">                </span>error = e</pre>\\n<pre class=\"line current\"><span class=\"ws\">                </span>response = self.handle_exception(e)</pre>\\n<pre class=\"line after\"><span class=\"ws\">            </span>except:  # noqa: B001</pre>\\n<pre class=\"line after\"><span class=\"ws\">                </span>error = sys.exc_info()[1]</pre>\\n<pre class=\"line after\"><span class=\"ws\">                </span>raise</pre>\\n<pre class=\"line after\"><span class=\"ws\">            </span>return response(environ, start_response)</pre>\\n<pre class=\"line after\"><span class=\"ws\">        </span>finally:</pre></div>\\n</div>\\n\\n<li><div class=\"frame\" id=\"frame-1709054387976\">\\n  <h4>File <cite class=\"filename\">\"C:\\\\Users\\\\INSAKUM46\\\\AppData\\\\Local\\\\Programs\\\\Python\\\\Python37\\\\lib\\\\site-packages\\\\flask_restful\\\\__init__.py\"</cite>,\\n      line <em class=\"line\">271</em>,\\n      in <code class=\"function\">error_router</code></h4>\\n  <div class=\"source library\"><pre class=\"line before\"><span class=\"ws\">        </span>if self._has_fr_route():</pre>\\n<pre class=\"line before\"><span class=\"ws\">            </span>try:</pre>\\n<pre class=\"line before\"><span class=\"ws\">                </span>return self.handle_error(e)</pre>\\n<pre class=\"line before\"><span class=\"ws\">            </span>except Exception:</pre>\\n<pre class=\"line before\"><span class=\"ws\">                </span>pass  # Fall through to original handler</pre>\\n<pre class=\"line current\"><span class=\"ws\">        </span>return original_handler(e)</pre>\\n<pre class=\"line after\"><span class=\"ws\"></span> </pre>\\n<pre class=\"line after\"><span class=\"ws\">    </span>def handle_error(self, e):</pre>\\n<pre class=\"line after\"><span class=\"ws\">        </span>&quot;&quot;&quot;Error handler for the API transforms a raised exception into a Flask</pre>\\n<pre class=\"line after\"><span class=\"ws\">        </span>response, with the appropriate HTTP status code and body.</pre>\\n<pre class=\"line after\"><span class=\"ws\"></span> </pre></div>\\n</div>\\n\\n<li><div class=\"frame\" id=\"frame-1709054388104\">\\n  <h4>File <cite class=\"filename\">\"C:\\\\Users\\\\INSAKUM46\\\\AppData\\\\Local\\\\Programs\\\\Python\\\\Python37\\\\lib\\\\site-packages\\\\flask\\\\app.py\"</cite>,\\n      line <em class=\"line\">1866</em>,\\n      in <code class=\"function\">handle_exception</code></h4>\\n  <div class=\"source library\"><pre class=\"line before\"><span class=\"ws\">            </span># if we want to repropagate the exception, we can attempt to</pre>\\n<pre class=\"line before\"><span class=\"ws\">            </span># raise it with the whole traceback in case we can do that</pre>\\n<pre class=\"line before\"><span class=\"ws\">            </span># (the function was actually called from the except part)</pre>\\n<pre class=\"line before\"><span class=\"ws\">            </span># otherwise, we just raise the error again</pre>\\n<pre class=\"line before\"><span class=\"ws\">            </span>if exc_value is e:</pre>\\n<pre class=\"line current\"><span class=\"ws\">                </span>reraise(exc_type, exc_value, tb)</pre>\\n<pre class=\"line after\"><span class=\"ws\">            </span>else:</pre>\\n<pre class=\"line after\"><span class=\"ws\">                </span>raise e</pre>\\n<pre class=\"line after\"><span class=\"ws\"></span> </pre>\\n<pre class=\"line after\"><span class=\"ws\">        </span>self.log_exception((exc_type, exc_value, tb))</pre>\\n<pre class=\"line after\"><span class=\"ws\">        </span>server_error = InternalServerError()</pre></div>\\n</div>\\n\\n<li><div class=\"frame\" id=\"frame-1709054388232\">\\n  <h4>File <cite class=\"filename\">\"C:\\\\Users\\\\INSAKUM46\\\\AppData\\\\Local\\\\Programs\\\\Python\\\\Python37\\\\lib\\\\site-packages\\\\flask\\\\_compat.py\"</cite>,\\n      line <em class=\"line\">38</em>,\\n      in <code class=\"function\">reraise</code></h4>\\n  <div class=\"source library\"><pre class=\"line before\"><span class=\"ws\">    </span>from io import StringIO</pre>\\n<pre class=\"line before\"><span class=\"ws\">    </span>import collections.abc as collections_abc</pre>\\n<pre class=\"line before\"><span class=\"ws\"></span> </pre>\\n<pre class=\"line before\"><span class=\"ws\">    </span>def reraise(tp, value, tb=None):</pre>\\n<pre class=\"line before\"><span class=\"ws\">        </span>if value.__traceback__ is not tb:</pre>\\n<pre class=\"line current\"><span class=\"ws\">            </span>raise value.with_traceback(tb)</pre>\\n<pre class=\"line after\"><span class=\"ws\">        </span>raise value</pre>\\n<pre class=\"line after\"><span class=\"ws\"></span> </pre>\\n<pre class=\"line after\"><span class=\"ws\">    </span>implements_to_string = _identity</pre>\\n<pre class=\"line after\"><span class=\"ws\"></span> </pre>\\n<pre class=\"line after\"><span class=\"ws\"></span>else:</pre></div>\\n</div>\\n\\n<li><div class=\"frame\" id=\"frame-1709054388488\">\\n  <h4>File <cite class=\"filename\">\"C:\\\\Users\\\\INSAKUM46\\\\AppData\\\\Local\\\\Programs\\\\Python\\\\Python37\\\\lib\\\\site-packages\\\\flask\\\\app.py\"</cite>,\\n      line <em class=\"line\">2446</em>,\\n      in <code class=\"function\">wsgi_app</code></h4>\\n  <div class=\"source library\"><pre class=\"line before\"><span class=\"ws\">        </span>ctx = self.request_context(environ)</pre>\\n<pre class=\"line before\"><span class=\"ws\">        </span>error = None</pre>\\n<pre class=\"line before\"><span class=\"ws\">        </span>try:</pre>\\n<pre class=\"line before\"><span class=\"ws\">            </span>try:</pre>\\n<pre class=\"line before\"><span class=\"ws\">                </span>ctx.push()</pre>\\n<pre class=\"line current\"><span class=\"ws\">                </span>response = self.full_dispatch_request()</pre>\\n<pre class=\"line after\"><span class=\"ws\">            </span>except Exception as e:</pre>\\n<pre class=\"line after\"><span class=\"ws\">                </span>error = e</pre>\\n<pre class=\"line after\"><span class=\"ws\">                </span>response = self.handle_exception(e)</pre>\\n<pre class=\"line after\"><span class=\"ws\">            </span>except:  # noqa: B001</pre>\\n<pre class=\"line after\"><span class=\"ws\">                </span>error = sys.exc_info()[1]</pre></div>\\n</div>\\n\\n<li><div class=\"frame\" id=\"frame-1709054388552\">\\n  <h4>File <cite class=\"filename\">\"C:\\\\Users\\\\INSAKUM46\\\\AppData\\\\Local\\\\Programs\\\\Python\\\\Python37\\\\lib\\\\site-packages\\\\flask\\\\app.py\"</cite>,\\n      line <em class=\"line\">1951</em>,\\n      in <code class=\"function\">full_dispatch_request</code></h4>\\n  <div class=\"source library\"><pre class=\"line before\"><span class=\"ws\">            </span>request_started.send(self)</pre>\\n<pre class=\"line before\"><span class=\"ws\">            </span>rv = self.preprocess_request()</pre>\\n<pre class=\"line before\"><span class=\"ws\">            </span>if rv is None:</pre>\\n<pre class=\"line before\"><span class=\"ws\">                </span>rv = self.dispatch_request()</pre>\\n<pre class=\"line before\"><span class=\"ws\">        </span>except Exception as e:</pre>\\n<pre class=\"line current\"><span class=\"ws\">            </span>rv = self.handle_user_exception(e)</pre>\\n<pre class=\"line after\"><span class=\"ws\">        </span>return self.finalize_request(rv)</pre>\\n<pre class=\"line after\"><span class=\"ws\"></span> </pre>\\n<pre class=\"line after\"><span class=\"ws\">    </span>def finalize_request(self, rv, from_error_handler=False):</pre>\\n<pre class=\"line after\"><span class=\"ws\">        </span>&quot;&quot;&quot;Given the return value from a view function this finalizes</pre>\\n<pre class=\"line after\"><span class=\"ws\">        </span>the request by converting it into a response and invoking the</pre></div>\\n</div>\\n\\n<li><div class=\"frame\" id=\"frame-1709054388616\">\\n  <h4>File <cite class=\"filename\">\"C:\\\\Users\\\\INSAKUM46\\\\AppData\\\\Local\\\\Programs\\\\Python\\\\Python37\\\\lib\\\\site-packages\\\\flask_restful\\\\__init__.py\"</cite>,\\n      line <em class=\"line\">271</em>,\\n      in <code class=\"function\">error_router</code></h4>\\n  <div class=\"source library\"><pre class=\"line before\"><span class=\"ws\">        </span>if self._has_fr_route():</pre>\\n<pre class=\"line before\"><span class=\"ws\">            </span>try:</pre>\\n<pre class=\"line before\"><span class=\"ws\">                </span>return self.handle_error(e)</pre>\\n<pre class=\"line before\"><span class=\"ws\">            </span>except Exception:</pre>\\n<pre class=\"line before\"><span class=\"ws\">                </span>pass  # Fall through to original handler</pre>\\n<pre class=\"line current\"><span class=\"ws\">        </span>return original_handler(e)</pre>\\n<pre class=\"line after\"><span class=\"ws\"></span> </pre>\\n<pre class=\"line after\"><span class=\"ws\">    </span>def handle_error(self, e):</pre>\\n<pre class=\"line after\"><span class=\"ws\">        </span>&quot;&quot;&quot;Error handler for the API transforms a raised exception into a Flask</pre>\\n<pre class=\"line after\"><span class=\"ws\">        </span>response, with the appropriate HTTP status code and body.</pre>\\n<pre class=\"line after\"><span class=\"ws\"></span> </pre></div>\\n</div>\\n\\n<li><div class=\"frame\" id=\"frame-1709054388680\">\\n  <h4>File <cite class=\"filename\">\"C:\\\\Users\\\\INSAKUM46\\\\AppData\\\\Local\\\\Programs\\\\Python\\\\Python37\\\\lib\\\\site-packages\\\\flask\\\\app.py\"</cite>,\\n      line <em class=\"line\">1820</em>,\\n      in <code class=\"function\">handle_user_exception</code></h4>\\n  <div class=\"source library\"><pre class=\"line before\"><span class=\"ws\">            </span>return self.handle_http_exception(e)</pre>\\n<pre class=\"line before\"><span class=\"ws\"></span> </pre>\\n<pre class=\"line before\"><span class=\"ws\">        </span>handler = self._find_error_handler(e)</pre>\\n<pre class=\"line before\"><span class=\"ws\"></span> </pre>\\n<pre class=\"line before\"><span class=\"ws\">        </span>if handler is None:</pre>\\n<pre class=\"line current\"><span class=\"ws\">            </span>reraise(exc_type, exc_value, tb)</pre>\\n<pre class=\"line after\"><span class=\"ws\">        </span>return handler(e)</pre>\\n<pre class=\"line after\"><span class=\"ws\"></span> </pre>\\n<pre class=\"line after\"><span class=\"ws\">    </span>def handle_exception(self, e):</pre>\\n<pre class=\"line after\"><span class=\"ws\">        </span>&quot;&quot;&quot;Handle an exception that did not have an error handler</pre>\\n<pre class=\"line after\"><span class=\"ws\">        </span>associated with it, or that was raised from an error handler.</pre></div>\\n</div>\\n\\n<li><div class=\"frame\" id=\"frame-1709054388360\">\\n  <h4>File <cite class=\"filename\">\"C:\\\\Users\\\\INSAKUM46\\\\AppData\\\\Local\\\\Programs\\\\Python\\\\Python37\\\\lib\\\\site-packages\\\\flask\\\\_compat.py\"</cite>,\\n      line <em class=\"line\">38</em>,\\n      in <code class=\"function\">reraise</code></h4>\\n  <div class=\"source library\"><pre class=\"line before\"><span class=\"ws\">    </span>from io import StringIO</pre>\\n<pre class=\"line before\"><span class=\"ws\">    </span>import collections.abc as collections_abc</pre>\\n<pre class=\"line before\"><span class=\"ws\"></span> </pre>\\n<pre class=\"line before\"><span class=\"ws\">    </span>def reraise(tp, value, tb=None):</pre>\\n<pre class=\"line before\"><span class=\"ws\">        </span>if value.__traceback__ is not tb:</pre>\\n<pre class=\"line current\"><span class=\"ws\">            </span>raise value.with_traceback(tb)</pre>\\n<pre class=\"line after\"><span class=\"ws\">        </span>raise value</pre>\\n<pre class=\"line after\"><span class=\"ws\"></span> </pre>\\n<pre class=\"line after\"><span class=\"ws\">    </span>implements_to_string = _identity</pre>\\n<pre class=\"line after\"><span class=\"ws\"></span> </pre>\\n<pre class=\"line after\"><span class=\"ws\"></span>else:</pre></div>\\n</div>\\n\\n<li><div class=\"frame\" id=\"frame-1709054388744\">\\n  <h4>File <cite class=\"filename\">\"C:\\\\Users\\\\INSAKUM46\\\\AppData\\\\Local\\\\Programs\\\\Python\\\\Python37\\\\lib\\\\site-packages\\\\flask\\\\app.py\"</cite>,\\n      line <em class=\"line\">1949</em>,\\n      in <code class=\"function\">full_dispatch_request</code></h4>\\n  <div class=\"source library\"><pre class=\"line before\"><span class=\"ws\">        </span>self.try_trigger_before_first_request_functions()</pre>\\n<pre class=\"line before\"><span class=\"ws\">        </span>try:</pre>\\n<pre class=\"line before\"><span class=\"ws\">            </span>request_started.send(self)</pre>\\n<pre class=\"line before\"><span class=\"ws\">            </span>rv = self.preprocess_request()</pre>\\n<pre class=\"line before\"><span class=\"ws\">            </span>if rv is None:</pre>\\n<pre class=\"line current\"><span class=\"ws\">                </span>rv = self.dispatch_request()</pre>\\n<pre class=\"line after\"><span class=\"ws\">        </span>except Exception as e:</pre>\\n<pre class=\"line after\"><span class=\"ws\">            </span>rv = self.handle_user_exception(e)</pre>\\n<pre class=\"line after\"><span class=\"ws\">        </span>return self.finalize_request(rv)</pre>\\n<pre class=\"line after\"><span class=\"ws\"></span> </pre>\\n<pre class=\"line after\"><span class=\"ws\">    </span>def finalize_request(self, rv, from_error_handler=False):</pre></div>\\n</div>\\n\\n<li><div class=\"frame\" id=\"frame-1709054388424\">\\n  <h4>File <cite class=\"filename\">\"C:\\\\Users\\\\INSAKUM46\\\\AppData\\\\Local\\\\Programs\\\\Python\\\\Python37\\\\lib\\\\site-packages\\\\flask\\\\app.py\"</cite>,\\n      line <em class=\"line\">1935</em>,\\n      in <code class=\"function\">dispatch_request</code></h4>\\n  <div class=\"source library\"><pre class=\"line before\"><span class=\"ws\">            </span>getattr(rule, &quot;provide_automatic_options&quot;, False)</pre>\\n<pre class=\"line before\"><span class=\"ws\">            </span>and req.method == &quot;OPTIONS&quot;</pre>\\n<pre class=\"line before\"><span class=\"ws\">        </span>):</pre>\\n<pre class=\"line before\"><span class=\"ws\">            </span>return self.make_default_options_response()</pre>\\n<pre class=\"line before\"><span class=\"ws\">        </span># otherwise dispatch to the handler for that endpoint</pre>\\n<pre class=\"line current\"><span class=\"ws\">        </span>return self.view_functions[rule.endpoint](**req.view_args)</pre>\\n<pre class=\"line after\"><span class=\"ws\"></span> </pre>\\n<pre class=\"line after\"><span class=\"ws\">    </span>def full_dispatch_request(self):</pre>\\n<pre class=\"line after\"><span class=\"ws\">        </span>&quot;&quot;&quot;Dispatches the request and on top of that performs request</pre>\\n<pre class=\"line after\"><span class=\"ws\">        </span>pre and postprocessing as well as HTTP exception catching and</pre>\\n<pre class=\"line after\"><span class=\"ws\">        </span>error handling.</pre></div>\\n</div>\\n\\n<li><div class=\"frame\" id=\"frame-1709054388936\">\\n  <h4>File <cite class=\"filename\">\"C:\\\\Users\\\\INSAKUM46\\\\AppData\\\\Local\\\\Programs\\\\Python\\\\Python37\\\\lib\\\\site-packages\\\\flask_restful\\\\__init__.py\"</cite>,\\n      line <em class=\"line\">467</em>,\\n      in <code class=\"function\">wrapper</code></h4>\\n  <div class=\"source library\"><pre class=\"line before\"><span class=\"ws\"></span> </pre>\\n<pre class=\"line before\"><span class=\"ws\">        </span>:param resource: The resource as a flask view function</pre>\\n<pre class=\"line before\"><span class=\"ws\">        </span>&quot;&quot;&quot;</pre>\\n<pre class=\"line before\"><span class=\"ws\">        </span>@wraps(resource)</pre>\\n<pre class=\"line before\"><span class=\"ws\">        </span>def wrapper(*args, **kwargs):</pre>\\n<pre class=\"line current\"><span class=\"ws\">            </span>resp = resource(*args, **kwargs)</pre>\\n<pre class=\"line after\"><span class=\"ws\">            </span>if isinstance(resp, ResponseBase):  # There may be a better way to test</pre>\\n<pre class=\"line after\"><span class=\"ws\">                </span>return resp</pre>\\n<pre class=\"line after\"><span class=\"ws\">            </span>data, code, headers = unpack(resp)</pre>\\n<pre class=\"line after\"><span class=\"ws\">            </span>return self.make_response(data, code, headers=headers)</pre>\\n<pre class=\"line after\"><span class=\"ws\">        </span>return wrapper</pre></div>\\n</div>\\n\\n<li><div class=\"frame\" id=\"frame-1709054389000\">\\n  <h4>File <cite class=\"filename\">\"C:\\\\Users\\\\INSAKUM46\\\\AppData\\\\Local\\\\Programs\\\\Python\\\\Python37\\\\lib\\\\site-packages\\\\flask\\\\views.py\"</cite>,\\n      line <em class=\"line\">89</em>,\\n      in <code class=\"function\">view</code></h4>\\n  <div class=\"source library\"><pre class=\"line before\"><span class=\"ws\">        </span>constructor of the class.</pre>\\n<pre class=\"line before\"><span class=\"ws\">        </span>&quot;&quot;&quot;</pre>\\n<pre class=\"line before\"><span class=\"ws\"></span> </pre>\\n<pre class=\"line before\"><span class=\"ws\">        </span>def view(*args, **kwargs):</pre>\\n<pre class=\"line before\"><span class=\"ws\">            </span>self = view.view_class(*class_args, **class_kwargs)</pre>\\n<pre class=\"line current\"><span class=\"ws\">            </span>return self.dispatch_request(*args, **kwargs)</pre>\\n<pre class=\"line after\"><span class=\"ws\"></span> </pre>\\n<pre class=\"line after\"><span class=\"ws\">        </span>if cls.decorators:</pre>\\n<pre class=\"line after\"><span class=\"ws\">            </span>view.__name__ = name</pre>\\n<pre class=\"line after\"><span class=\"ws\">            </span>view.__module__ = cls.__module__</pre>\\n<pre class=\"line after\"><span class=\"ws\">            </span>for decorator in cls.decorators:</pre></div>\\n</div>\\n\\n<li><div class=\"frame\" id=\"frame-1709054389064\">\\n  <h4>File <cite class=\"filename\">\"C:\\\\Users\\\\INSAKUM46\\\\AppData\\\\Local\\\\Programs\\\\Python\\\\Python37\\\\lib\\\\site-packages\\\\flask_restful\\\\__init__.py\"</cite>,\\n      line <em class=\"line\">582</em>,\\n      in <code class=\"function\">dispatch_request</code></h4>\\n  <div class=\"source library\"><pre class=\"line before\"><span class=\"ws\">            </span>decorators = self.method_decorators</pre>\\n<pre class=\"line before\"><span class=\"ws\"></span> </pre>\\n<pre class=\"line before\"><span class=\"ws\">        </span>for decorator in decorators:</pre>\\n<pre class=\"line before\"><span class=\"ws\">            </span>meth = decorator(meth)</pre>\\n<pre class=\"line before\"><span class=\"ws\"></span> </pre>\\n<pre class=\"line current\"><span class=\"ws\">        </span>resp = meth(*args, **kwargs)</pre>\\n<pre class=\"line after\"><span class=\"ws\"></span> </pre>\\n<pre class=\"line after\"><span class=\"ws\">        </span>if isinstance(resp, ResponseBase):  # There may be a better way to test</pre>\\n<pre class=\"line after\"><span class=\"ws\">            </span>return resp</pre>\\n<pre class=\"line after\"><span class=\"ws\"></span> </pre>\\n<pre class=\"line after\"><span class=\"ws\">        </span>representations = self.representations or OrderedDict()</pre></div>\\n</div>\\n\\n<li><div class=\"frame\" id=\"frame-1709054389128\">\\n  <h4>File <cite class=\"filename\">\"C:\\\\Users\\\\INSAKUM46\\\\sentiment-clf\\\\app.py\"</cite>,\\n      line <em class=\"line\">28</em>,\\n      in <code class=\"function\">get</code></h4>\\n  <div class=\"source \"><pre class=\"line before\"><span class=\"ws\">        </span># use parser and find the user\\'s query</pre>\\n<pre class=\"line before\"><span class=\"ws\">        </span>args = parser.parse_args()</pre>\\n<pre class=\"line before\"><span class=\"ws\">        </span>user_query = args[\\'query\\']</pre>\\n<pre class=\"line before\"><span class=\"ws\"></span> </pre>\\n<pre class=\"line before\"><span class=\"ws\">         </span># vectorize the user\\'s query and make a prediction</pre>\\n<pre class=\"line current\"><span class=\"ws\">        </span>uq_vectorized = vectorizer.transform(np.array([user_query]))</pre>\\n<pre class=\"line after\"><span class=\"ws\">        </span>prediction = clf.predict(uq_vectorized)[0]</pre>\\n<pre class=\"line after\"><span class=\"ws\">        </span>pred_proba = clf.predict_proba(uq_vectorized)</pre>\\n<pre class=\"line after\"><span class=\"ws\"></span> </pre>\\n<pre class=\"line after\"><span class=\"ws\">        </span># Output either \\'Negative\\' or \\'Positive\\' along with the score</pre>\\n<pre class=\"line after\"><span class=\"ws\">        </span>if prediction == 0:</pre></div>\\n</div>\\n\\n<li><div class=\"frame\" id=\"frame-1709054388808\">\\n  <h4>File <cite class=\"filename\">\"C:\\\\Users\\\\INSAKUM46\\\\AppData\\\\Local\\\\Programs\\\\Python\\\\Python37\\\\lib\\\\site-packages\\\\sklearn\\\\feature_extraction\\\\text.py\"</cite>,\\n      line <em class=\"line\">1880</em>,\\n      in <code class=\"function\">transform</code></h4>\\n  <div class=\"source library\"><pre class=\"line before\"><span class=\"ws\">        </span>if copy != &quot;deprecated&quot;:</pre>\\n<pre class=\"line before\"><span class=\"ws\">            </span>msg = (&quot;\\'copy\\' param is unused and has been deprecated since &quot;</pre>\\n<pre class=\"line before\"><span class=\"ws\">                   </span>&quot;version 0.22. Backward compatibility for \\'copy\\' will &quot;</pre>\\n<pre class=\"line before\"><span class=\"ws\">                   </span>&quot;be removed in 0.24.&quot;)</pre>\\n<pre class=\"line before\"><span class=\"ws\">            </span>warnings.warn(msg, FutureWarning)</pre>\\n<pre class=\"line current\"><span class=\"ws\">        </span>X = super().transform(raw_documents)</pre>\\n<pre class=\"line after\"><span class=\"ws\">        </span>return self._tfidf.transform(X, copy=False)</pre>\\n<pre class=\"line after\"><span class=\"ws\"></span> </pre>\\n<pre class=\"line after\"><span class=\"ws\">    </span>def _more_tags(self):</pre>\\n<pre class=\"line after\"><span class=\"ws\">        </span>return {\\'X_types\\': [\\'string\\'], \\'_skip_test\\': True}</pre></div>\\n</div>\\n\\n<li><div class=\"frame\" id=\"frame-1709054388872\">\\n  <h4>File <cite class=\"filename\">\"C:\\\\Users\\\\INSAKUM46\\\\AppData\\\\Local\\\\Programs\\\\Python\\\\Python37\\\\lib\\\\site-packages\\\\sklearn\\\\feature_extraction\\\\text.py\"</cite>,\\n      line <em class=\"line\">1250</em>,\\n      in <code class=\"function\">transform</code></h4>\\n  <div class=\"source library\"><pre class=\"line before\"><span class=\"ws\">                </span>&quot;Iterable over raw text documents expected, &quot;</pre>\\n<pre class=\"line before\"><span class=\"ws\">                </span>&quot;string object received.&quot;)</pre>\\n<pre class=\"line before\"><span class=\"ws\">        </span>self._check_vocabulary()</pre>\\n<pre class=\"line before\"><span class=\"ws\"></span> </pre>\\n<pre class=\"line before\"><span class=\"ws\">        </span># use the same matrix-building strategy as fit_transform</pre>\\n<pre class=\"line current\"><span class=\"ws\">        </span>_, X = self._count_vocab(raw_documents, fixed_vocab=True)</pre>\\n<pre class=\"line after\"><span class=\"ws\">        </span>if self.binary:</pre>\\n<pre class=\"line after\"><span class=\"ws\">            </span>X.data.fill(1)</pre>\\n<pre class=\"line after\"><span class=\"ws\">        </span>return X</pre>\\n<pre class=\"line after\"><span class=\"ws\"></span> </pre>\\n<pre class=\"line after\"><span class=\"ws\">    </span>def inverse_transform(self, X):</pre></div>\\n</div>\\n\\n<li><div class=\"frame\" id=\"frame-1709054387912\">\\n  <h4>File <cite class=\"filename\">\"C:\\\\Users\\\\INSAKUM46\\\\AppData\\\\Local\\\\Programs\\\\Python\\\\Python37\\\\lib\\\\site-packages\\\\sklearn\\\\feature_extraction\\\\text.py\"</cite>,\\n      line <em class=\"line\">1110</em>,\\n      in <code class=\"function\">_count_vocab</code></h4>\\n  <div class=\"source library\"><pre class=\"line before\"><span class=\"ws\"></span> </pre>\\n<pre class=\"line before\"><span class=\"ws\">        </span>values = _make_int_array()</pre>\\n<pre class=\"line before\"><span class=\"ws\">        </span>indptr.append(0)</pre>\\n<pre class=\"line before\"><span class=\"ws\">        </span>for doc in raw_documents:</pre>\\n<pre class=\"line before\"><span class=\"ws\">            </span>feature_counter = {}</pre>\\n<pre class=\"line current\"><span class=\"ws\">            </span>for feature in analyze(doc):</pre>\\n<pre class=\"line after\"><span class=\"ws\">                </span>try:</pre>\\n<pre class=\"line after\"><span class=\"ws\">                    </span>feature_idx = vocabulary[feature]</pre>\\n<pre class=\"line after\"><span class=\"ws\">                    </span>if feature_idx not in feature_counter:</pre>\\n<pre class=\"line after\"><span class=\"ws\">                        </span>feature_counter[feature_idx] = 1</pre>\\n<pre class=\"line after\"><span class=\"ws\">                    </span>else:</pre></div>\\n</div>\\n\\n<li><div class=\"frame\" id=\"frame-1709054389320\">\\n  <h4>File <cite class=\"filename\">\"C:\\\\Users\\\\INSAKUM46\\\\AppData\\\\Local\\\\Programs\\\\Python\\\\Python37\\\\lib\\\\site-packages\\\\sklearn\\\\feature_extraction\\\\text.py\"</cite>,\\n      line <em class=\"line\">104</em>,\\n      in <code class=\"function\">_analyze</code></h4>\\n  <div class=\"source library\"><pre class=\"line before\"><span class=\"ws\">        </span>doc = decoder(doc)</pre>\\n<pre class=\"line before\"><span class=\"ws\">    </span>if analyzer is not None:</pre>\\n<pre class=\"line before\"><span class=\"ws\">        </span>doc = analyzer(doc)</pre>\\n<pre class=\"line before\"><span class=\"ws\">    </span>else:</pre>\\n<pre class=\"line before\"><span class=\"ws\">        </span>if preprocessor is not None:</pre>\\n<pre class=\"line current\"><span class=\"ws\">            </span>doc = preprocessor(doc)</pre>\\n<pre class=\"line after\"><span class=\"ws\">        </span>if tokenizer is not None:</pre>\\n<pre class=\"line after\"><span class=\"ws\">            </span>doc = tokenizer(doc)</pre>\\n<pre class=\"line after\"><span class=\"ws\">        </span>if ngrams is not None:</pre>\\n<pre class=\"line after\"><span class=\"ws\">            </span>if stop_words is not None:</pre>\\n<pre class=\"line after\"><span class=\"ws\">                </span>doc = ngrams(doc, stop_words)</pre></div>\\n</div>\\n\\n<li><div class=\"frame\" id=\"frame-1709054389384\">\\n  <h4>File <cite class=\"filename\">\"C:\\\\Users\\\\INSAKUM46\\\\AppData\\\\Local\\\\Programs\\\\Python\\\\Python37\\\\lib\\\\site-packages\\\\sklearn\\\\feature_extraction\\\\text.py\"</cite>,\\n      line <em class=\"line\">69</em>,\\n      in <code class=\"function\">_preprocess</code></h4>\\n  <div class=\"source library\"><pre class=\"line before\"><span class=\"ws\">    </span>-------</pre>\\n<pre class=\"line before\"><span class=\"ws\">    </span>doc: str</pre>\\n<pre class=\"line before\"><span class=\"ws\">        </span>preprocessed string</pre>\\n<pre class=\"line before\"><span class=\"ws\">    </span>&quot;&quot;&quot;</pre>\\n<pre class=\"line before\"><span class=\"ws\">    </span>if lower:</pre>\\n<pre class=\"line current\"><span class=\"ws\">        </span>doc = doc.lower()</pre>\\n<pre class=\"line after\"><span class=\"ws\">    </span>if accent_function is not None:</pre>\\n<pre class=\"line after\"><span class=\"ws\">        </span>doc = accent_function(doc)</pre>\\n<pre class=\"line after\"><span class=\"ws\">    </span>return doc</pre>\\n<pre class=\"line after\"><span class=\"ws\"></span> </pre>\\n<pre class=\"line after\"><span class=\"ws\"></span> </pre></div>\\n</div>\\n</ul>\\n  <blockquote>AttributeError: \\'NoneType\\' object has no attribute \\'lower\\'</blockquote>\\n</div>\\n\\n<div class=\"plain\">\\n  <form action=\"/?__debugger__=yes&amp;cmd=paste\" method=\"post\">\\n    <p>\\n      <input type=\"hidden\" name=\"language\" value=\"pytb\">\\n      This is the Copy/Paste friendly version of the traceback.  <span\\n      class=\"pastemessage\">You can also paste this traceback into\\n      a <a href=\"https://gist.github.com/\">gist</a>:\\n      <input type=\"submit\" value=\"create paste\"></span>\\n    </p>\\n    <textarea cols=\"50\" rows=\"10\" name=\"code\" readonly>Traceback (most recent call last):\\n  File &quot;C:\\\\Users\\\\INSAKUM46\\\\AppData\\\\Local\\\\Programs\\\\Python\\\\Python37\\\\lib\\\\site-packages\\\\flask\\\\app.py&quot;, line 2463, in __call__\\n    return self.wsgi_app(environ, start_response)\\n  File &quot;C:\\\\Users\\\\INSAKUM46\\\\AppData\\\\Local\\\\Programs\\\\Python\\\\Python37\\\\lib\\\\site-packages\\\\flask\\\\app.py&quot;, line 2449, in wsgi_app\\n    response = self.handle_exception(e)\\n  File &quot;C:\\\\Users\\\\INSAKUM46\\\\AppData\\\\Local\\\\Programs\\\\Python\\\\Python37\\\\lib\\\\site-packages\\\\flask_restful\\\\__init__.py&quot;, line 271, in error_router\\n    return original_handler(e)\\n  File &quot;C:\\\\Users\\\\INSAKUM46\\\\AppData\\\\Local\\\\Programs\\\\Python\\\\Python37\\\\lib\\\\site-packages\\\\flask\\\\app.py&quot;, line 1866, in handle_exception\\n    reraise(exc_type, exc_value, tb)\\n  File &quot;C:\\\\Users\\\\INSAKUM46\\\\AppData\\\\Local\\\\Programs\\\\Python\\\\Python37\\\\lib\\\\site-packages\\\\flask\\\\_compat.py&quot;, line 38, in reraise\\n    raise value.with_traceback(tb)\\n  File &quot;C:\\\\Users\\\\INSAKUM46\\\\AppData\\\\Local\\\\Programs\\\\Python\\\\Python37\\\\lib\\\\site-packages\\\\flask\\\\app.py&quot;, line 2446, in wsgi_app\\n    response = self.full_dispatch_request()\\n  File &quot;C:\\\\Users\\\\INSAKUM46\\\\AppData\\\\Local\\\\Programs\\\\Python\\\\Python37\\\\lib\\\\site-packages\\\\flask\\\\app.py&quot;, line 1951, in full_dispatch_request\\n    rv = self.handle_user_exception(e)\\n  File &quot;C:\\\\Users\\\\INSAKUM46\\\\AppData\\\\Local\\\\Programs\\\\Python\\\\Python37\\\\lib\\\\site-packages\\\\flask_restful\\\\__init__.py&quot;, line 271, in error_router\\n    return original_handler(e)\\n  File &quot;C:\\\\Users\\\\INSAKUM46\\\\AppData\\\\Local\\\\Programs\\\\Python\\\\Python37\\\\lib\\\\site-packages\\\\flask\\\\app.py&quot;, line 1820, in handle_user_exception\\n    reraise(exc_type, exc_value, tb)\\n  File &quot;C:\\\\Users\\\\INSAKUM46\\\\AppData\\\\Local\\\\Programs\\\\Python\\\\Python37\\\\lib\\\\site-packages\\\\flask\\\\_compat.py&quot;, line 38, in reraise\\n    raise value.with_traceback(tb)\\n  File &quot;C:\\\\Users\\\\INSAKUM46\\\\AppData\\\\Local\\\\Programs\\\\Python\\\\Python37\\\\lib\\\\site-packages\\\\flask\\\\app.py&quot;, line 1949, in full_dispatch_request\\n    rv = self.dispatch_request()\\n  File &quot;C:\\\\Users\\\\INSAKUM46\\\\AppData\\\\Local\\\\Programs\\\\Python\\\\Python37\\\\lib\\\\site-packages\\\\flask\\\\app.py&quot;, line 1935, in dispatch_request\\n    return self.view_functions[rule.endpoint](**req.view_args)\\n  File &quot;C:\\\\Users\\\\INSAKUM46\\\\AppData\\\\Local\\\\Programs\\\\Python\\\\Python37\\\\lib\\\\site-packages\\\\flask_restful\\\\__init__.py&quot;, line 467, in wrapper\\n    resp = resource(*args, **kwargs)\\n  File &quot;C:\\\\Users\\\\INSAKUM46\\\\AppData\\\\Local\\\\Programs\\\\Python\\\\Python37\\\\lib\\\\site-packages\\\\flask\\\\views.py&quot;, line 89, in view\\n    return self.dispatch_request(*args, **kwargs)\\n  File &quot;C:\\\\Users\\\\INSAKUM46\\\\AppData\\\\Local\\\\Programs\\\\Python\\\\Python37\\\\lib\\\\site-packages\\\\flask_restful\\\\__init__.py&quot;, line 582, in dispatch_request\\n    resp = meth(*args, **kwargs)\\n  File &quot;C:\\\\Users\\\\INSAKUM46\\\\sentiment-clf\\\\app.py&quot;, line 28, in get\\n    uq_vectorized = vectorizer.transform(np.array([user_query]))\\n  File &quot;C:\\\\Users\\\\INSAKUM46\\\\AppData\\\\Local\\\\Programs\\\\Python\\\\Python37\\\\lib\\\\site-packages\\\\sklearn\\\\feature_extraction\\\\text.py&quot;, line 1880, in transform\\n    X = super().transform(raw_documents)\\n  File &quot;C:\\\\Users\\\\INSAKUM46\\\\AppData\\\\Local\\\\Programs\\\\Python\\\\Python37\\\\lib\\\\site-packages\\\\sklearn\\\\feature_extraction\\\\text.py&quot;, line 1250, in transform\\n    _, X = self._count_vocab(raw_documents, fixed_vocab=True)\\n  File &quot;C:\\\\Users\\\\INSAKUM46\\\\AppData\\\\Local\\\\Programs\\\\Python\\\\Python37\\\\lib\\\\site-packages\\\\sklearn\\\\feature_extraction\\\\text.py&quot;, line 1110, in _count_vocab\\n    for feature in analyze(doc):\\n  File &quot;C:\\\\Users\\\\INSAKUM46\\\\AppData\\\\Local\\\\Programs\\\\Python\\\\Python37\\\\lib\\\\site-packages\\\\sklearn\\\\feature_extraction\\\\text.py&quot;, line 104, in _analyze\\n    doc = preprocessor(doc)\\n  File &quot;C:\\\\Users\\\\INSAKUM46\\\\AppData\\\\Local\\\\Programs\\\\Python\\\\Python37\\\\lib\\\\site-packages\\\\sklearn\\\\feature_extraction\\\\text.py&quot;, line 69, in _preprocess\\n    doc = doc.lower()\\nAttributeError: \\'NoneType\\' object has no attribute \\'lower\\'</textarea>\\n  </form>\\n</div>\\n<div class=\"explanation\">\\n  The debugger caught an exception in your WSGI application.  You can now\\n  look at the traceback which led to the error.  <span class=\"nojavascript\">\\n  If you enable JavaScript you can also use additional features such as code\\n  execution (if the evalex feature is enabled), automatic pasting of the\\n  exceptions and much more.</span>\\n</div>\\n      <div class=\"footer\">\\n        Brought to you by <strong class=\"arthur\">DON\\'T PANIC</strong>, your\\n        friendly Werkzeug powered traceback interpreter.\\n      </div>\\n    </div>\\n\\n    <div class=\"pin-prompt\">\\n      <div class=\"inner\">\\n        <h3>Console Locked</h3>\\n        <p>\\n          The console is locked and needs to be unlocked by entering the PIN.\\n          You can find the PIN printed out on the standard output of your\\n          shell that runs the server.\\n        <form>\\n          <p>PIN:\\n            <input type=text name=pin size=14>\\n            <input type=submit name=btn value=\"Confirm Pin\">\\n        </form>\\n      </div>\\n    </div>\\n  </body>\\n</html>\\n\\n<!--\\n\\nTraceback (most recent call last):\\n  File \"C:\\\\Users\\\\INSAKUM46\\\\AppData\\\\Local\\\\Programs\\\\Python\\\\Python37\\\\lib\\\\site-packages\\\\flask\\\\app.py\", line 2463, in __call__\\n    return self.wsgi_app(environ, start_response)\\n  File \"C:\\\\Users\\\\INSAKUM46\\\\AppData\\\\Local\\\\Programs\\\\Python\\\\Python37\\\\lib\\\\site-packages\\\\flask\\\\app.py\", line 2449, in wsgi_app\\n    response = self.handle_exception(e)\\n  File \"C:\\\\Users\\\\INSAKUM46\\\\AppData\\\\Local\\\\Programs\\\\Python\\\\Python37\\\\lib\\\\site-packages\\\\flask_restful\\\\__init__.py\", line 271, in error_router\\n    return original_handler(e)\\n  File \"C:\\\\Users\\\\INSAKUM46\\\\AppData\\\\Local\\\\Programs\\\\Python\\\\Python37\\\\lib\\\\site-packages\\\\flask\\\\app.py\", line 1866, in handle_exception\\n    reraise(exc_type, exc_value, tb)\\n  File \"C:\\\\Users\\\\INSAKUM46\\\\AppData\\\\Local\\\\Programs\\\\Python\\\\Python37\\\\lib\\\\site-packages\\\\flask\\\\_compat.py\", line 38, in reraise\\n    raise value.with_traceback(tb)\\n  File \"C:\\\\Users\\\\INSAKUM46\\\\AppData\\\\Local\\\\Programs\\\\Python\\\\Python37\\\\lib\\\\site-packages\\\\flask\\\\app.py\", line 2446, in wsgi_app\\n    response = self.full_dispatch_request()\\n  File \"C:\\\\Users\\\\INSAKUM46\\\\AppData\\\\Local\\\\Programs\\\\Python\\\\Python37\\\\lib\\\\site-packages\\\\flask\\\\app.py\", line 1951, in full_dispatch_request\\n    rv = self.handle_user_exception(e)\\n  File \"C:\\\\Users\\\\INSAKUM46\\\\AppData\\\\Local\\\\Programs\\\\Python\\\\Python37\\\\lib\\\\site-packages\\\\flask_restful\\\\__init__.py\", line 271, in error_router\\n    return original_handler(e)\\n  File \"C:\\\\Users\\\\INSAKUM46\\\\AppData\\\\Local\\\\Programs\\\\Python\\\\Python37\\\\lib\\\\site-packages\\\\flask\\\\app.py\", line 1820, in handle_user_exception\\n    reraise(exc_type, exc_value, tb)\\n  File \"C:\\\\Users\\\\INSAKUM46\\\\AppData\\\\Local\\\\Programs\\\\Python\\\\Python37\\\\lib\\\\site-packages\\\\flask\\\\_compat.py\", line 38, in reraise\\n    raise value.with_traceback(tb)\\n  File \"C:\\\\Users\\\\INSAKUM46\\\\AppData\\\\Local\\\\Programs\\\\Python\\\\Python37\\\\lib\\\\site-packages\\\\flask\\\\app.py\", line 1949, in full_dispatch_request\\n    rv = self.dispatch_request()\\n  File \"C:\\\\Users\\\\INSAKUM46\\\\AppData\\\\Local\\\\Programs\\\\Python\\\\Python37\\\\lib\\\\site-packages\\\\flask\\\\app.py\", line 1935, in dispatch_request\\n    return self.view_functions[rule.endpoint](**req.view_args)\\n  File \"C:\\\\Users\\\\INSAKUM46\\\\AppData\\\\Local\\\\Programs\\\\Python\\\\Python37\\\\lib\\\\site-packages\\\\flask_restful\\\\__init__.py\", line 467, in wrapper\\n    resp = resource(*args, **kwargs)\\n  File \"C:\\\\Users\\\\INSAKUM46\\\\AppData\\\\Local\\\\Programs\\\\Python\\\\Python37\\\\lib\\\\site-packages\\\\flask\\\\views.py\", line 89, in view\\n    return self.dispatch_request(*args, **kwargs)\\n  File \"C:\\\\Users\\\\INSAKUM46\\\\AppData\\\\Local\\\\Programs\\\\Python\\\\Python37\\\\lib\\\\site-packages\\\\flask_restful\\\\__init__.py\", line 582, in dispatch_request\\n    resp = meth(*args, **kwargs)\\n  File \"C:\\\\Users\\\\INSAKUM46\\\\sentiment-clf\\\\app.py\", line 28, in get\\n    uq_vectorized = vectorizer.transform(np.array([user_query]))\\n  File \"C:\\\\Users\\\\INSAKUM46\\\\AppData\\\\Local\\\\Programs\\\\Python\\\\Python37\\\\lib\\\\site-packages\\\\sklearn\\\\feature_extraction\\\\text.py\", line 1880, in transform\\n    X = super().transform(raw_documents)\\n  File \"C:\\\\Users\\\\INSAKUM46\\\\AppData\\\\Local\\\\Programs\\\\Python\\\\Python37\\\\lib\\\\site-packages\\\\sklearn\\\\feature_extraction\\\\text.py\", line 1250, in transform\\n    _, X = self._count_vocab(raw_documents, fixed_vocab=True)\\n  File \"C:\\\\Users\\\\INSAKUM46\\\\AppData\\\\Local\\\\Programs\\\\Python\\\\Python37\\\\lib\\\\site-packages\\\\sklearn\\\\feature_extraction\\\\text.py\", line 1110, in _count_vocab\\n    for feature in analyze(doc):\\n  File \"C:\\\\Users\\\\INSAKUM46\\\\AppData\\\\Local\\\\Programs\\\\Python\\\\Python37\\\\lib\\\\site-packages\\\\sklearn\\\\feature_extraction\\\\text.py\", line 104, in _analyze\\n    doc = preprocessor(doc)\\n  File \"C:\\\\Users\\\\INSAKUM46\\\\AppData\\\\Local\\\\Programs\\\\Python\\\\Python37\\\\lib\\\\site-packages\\\\sklearn\\\\feature_extraction\\\\text.py\", line 69, in _preprocess\\n    doc = doc.lower()\\nAttributeError: \\'NoneType\\' object has no attribute \\'lower\\'\\n\\n-->\\n'"
      ]
     },
     "execution_count": 44,
     "metadata": {},
     "output_type": "execute_result"
    }
   ],
   "source": [
    "import requests\n",
    "\n",
    "url = 'http://127.0.0.1:5000/'\n",
    "\n",
    "response = requests.get(url)\n",
    "\n",
    "response.content"
   ]
  },
  {
   "cell_type": "code",
   "execution_count": null,
   "metadata": {},
   "outputs": [],
   "source": [
    "import requests\n",
    "\n",
    "url = 'https://sentimentclf.herokuapp.com/'\n",
    "\n",
    "params ={'query': 'that movie was boring'}\n",
    "\n",
    "response = requests.get(url,params).json()\n",
    "\n",
    "response"
   ]
  },
  {
   "cell_type": "code",
   "execution_count": null,
   "metadata": {},
   "outputs": [],
   "source": [
    "print(response['prediction'])\n",
    "print(response['confidence'])"
   ]
  },
  {
   "cell_type": "code",
   "execution_count": 63,
   "metadata": {},
   "outputs": [],
   "source": [
    "\n",
    "import pickle\n",
    "import numpy as np\n",
    "\n",
    "\n",
    "clf_path = \"C:\\\\Users\\\\INSAKUM46\\\\sentiment-clf\\\\SentimentClassifier.pkl\"\n",
    "with open(clf_path, 'rb') as f:\n",
    "    clf = pickle.load(f)\n",
    "    \n",
    "vec_path = 'C:\\\\Users\\\\INSAKUM46\\\\sentiment-clf\\\\TFIDFVectorizer.pkl'\n",
    "with open(vec_path, 'rb') as f:\n",
    "    vectorizer = pickle.load(f)"
   ]
  },
  {
   "cell_type": "code",
   "execution_count": 64,
   "metadata": {},
   "outputs": [],
   "source": [
    "uq_vectorized = vectorizer.transform(np.array([\"good food\"]))\n",
    "prediction = clf.predict(uq_vectorized)\n",
    "pred_proba = clf.predict_proba(uq_vectorized)"
   ]
  },
  {
   "cell_type": "code",
   "execution_count": 65,
   "metadata": {},
   "outputs": [
    {
     "data": {
      "text/plain": [
       "1"
      ]
     },
     "execution_count": 65,
     "metadata": {},
     "output_type": "execute_result"
    }
   ],
   "source": [
    "prediction[0]"
   ]
  },
  {
   "cell_type": "code",
   "execution_count": 59,
   "metadata": {},
   "outputs": [
    {
     "data": {
      "text/plain": [
       "array([[0.41923353, 0.58076647]])"
      ]
     },
     "execution_count": 59,
     "metadata": {},
     "output_type": "execute_result"
    }
   ],
   "source": [
    "pred_proba"
   ]
  },
  {
   "cell_type": "code",
   "execution_count": 60,
   "metadata": {},
   "outputs": [
    {
     "data": {
      "text/plain": [
       "numpy.ndarray"
      ]
     },
     "execution_count": 60,
     "metadata": {},
     "output_type": "execute_result"
    }
   ],
   "source": [
    "type(pred_proba)"
   ]
  },
  {
   "cell_type": "code",
   "execution_count": 61,
   "metadata": {},
   "outputs": [
    {
     "data": {
      "text/plain": [
       "0.581"
      ]
     },
     "execution_count": 61,
     "metadata": {},
     "output_type": "execute_result"
    }
   ],
   "source": [
    "round(pred_proba[0][np.argmax(pred_proba)],3)"
   ]
  },
  {
   "cell_type": "code",
   "execution_count": 62,
   "metadata": {},
   "outputs": [
    {
     "ename": "SyntaxError",
     "evalue": "invalid syntax (<ipython-input-62-3100e3185787>, line 1)",
     "output_type": "error",
     "traceback": [
      "\u001b[1;36m  File \u001b[1;32m\"<ipython-input-62-3100e3185787>\"\u001b[1;36m, line \u001b[1;32m1\u001b[0m\n\u001b[1;33m    http://127.0.0.1:5000/\u001b[0m\n\u001b[1;37m          ^\u001b[0m\n\u001b[1;31mSyntaxError\u001b[0m\u001b[1;31m:\u001b[0m invalid syntax\n"
     ]
    }
   ],
   "source": [
    "http://127.0.0.1:5000/"
   ]
  },
  {
   "cell_type": "code",
   "execution_count": null,
   "metadata": {},
   "outputs": [],
   "source": [
    "people = ['Corey', 'Nitin', 'Pete']\n",
    "\n",
    "data = json.dumps({\n",
    "    'args': { \n",
    "        'person': people\n",
    "    }\n",
    "})\n",
    "\n",
    "requests.get(url='http://localhost:8889/hello/person', data=data).content"
   ]
  }
 ],
 "metadata": {
  "kernelspec": {
   "display_name": "Python 3",
   "language": "python",
   "name": "python3"
  },
  "language_info": {
   "codemirror_mode": {
    "name": "ipython",
    "version": 3
   },
   "file_extension": ".py",
   "mimetype": "text/x-python",
   "name": "python",
   "nbconvert_exporter": "python",
   "pygments_lexer": "ipython3",
   "version": "3.6.8"
  }
 },
 "nbformat": 4,
 "nbformat_minor": 2
}
