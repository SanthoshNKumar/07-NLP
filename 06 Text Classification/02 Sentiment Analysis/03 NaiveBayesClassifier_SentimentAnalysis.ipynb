{
 "cells": [
  {
   "cell_type": "code",
   "execution_count": 1,
   "metadata": {},
   "outputs": [],
   "source": [
    "import warnings\n",
    "warnings.filterwarnings(\"ignore\")"
   ]
  },
  {
   "cell_type": "code",
   "execution_count": 2,
   "metadata": {},
   "outputs": [],
   "source": [
    "import nltk\n",
    "from nltk.tokenize import word_tokenize\n",
    "\n",
    "train = [(\"Thanks for an excellent report\", \"pos\"),\n",
    "         (\"Your service is very quick and fast\", \"pos\"),\n",
    "        (\"I am pleased with your service\", \"pos\"),\n",
    "        (\"I did not know i was diabetic until you gave me this report\", \"neg\"),\n",
    "        (\"Service - Little slow, probably because too many people.\", \"neg\"),\n",
    "        (\"The place is not easy to locate\", \"neg\"),\n",
    "        (\"The place is very easy to locate\", \"pos\"),\n",
    "        (\"Not satisfied will take a second opinion\", \"neg\"),\n",
    "        (\"No human contact everything is so robotic here\", \"neg\"),\n",
    "        (\"can i talk to a human not convinced with your report\", \"neg\"),\n",
    "        (\"good results\", \"pos\"),\n",
    "        (\"good service\", \"pos\"),\n",
    "        (\"great service\", \"pos\"),\n",
    "        (\"excellent service\", \"pos\"),\n",
    "        (\"amazing technology\", \"pos\"),\n",
    "        (\"fast service and satisfying report\", \"pos\"),\n",
    "        (\"your report sucks\", \"neg\"),\n",
    "        (\"this report will cost me a fortune\", \"neg\"),\n",
    "        (\"I have diabetes\", \"neg\"),\n",
    "        (\"this report will cost me a fortune\", \"neg\"),\n",
    "        (\"this report means i have a dreadful disease\", \"neg\"),\n",
    "        (\"will i need to take new medication\", \"neg\"),\n",
    "        (\"i need to take my insulin injections regularly\", \"neg\"),\n",
    "        (\"my lipids are getting worst need to talk to the doctor\", \"neg\"),\n",
    "        (\"oh my god very bad results\", \"neg\"),\n",
    "        (\"bad service\", \"neg\"),\n",
    "        (\"very bad service\", \"neg\"),\n",
    "        (\"poor service\", \"neg\"),\n",
    "        (\"very bad service\", \"neg\"),\n",
    "        (\"slow service\", \"neg\"),\n",
    "        (\"very slow service\", \"neg\"),\n",
    "        (\"diabetes got worst is this report accurate\", \"neg\"),\n",
    "        (\"i dont believe this report\", \"neg\"),\n",
    "        (\"i dont like this report\", \"neg\"),\n",
    "        (\"i am in a diabetic hell\", \"neg\"),]"
   ]
  },
  {
   "cell_type": "code",
   "execution_count": 3,
   "metadata": {},
   "outputs": [
    {
     "name": "stdout",
     "output_type": "stream",
     "text": [
      "{'so', 'hell', 'satisfied', 'probably', 'place', 'doctor', 'god', 'with', 'injections', 'pleased', 'dont', 'cost', 'robotic', 'great', 'sucks', 'am', 'gave', 'and', 'good', 'means', 'this', 'contact', 'human', 'did', 'here', 'take', 'little', 'opinion', 'locate', 'talk', 'an', 'i', 'diabetic', 'getting', 'insulin', 'excellent', 'report', 'in', 'not', 'fast', 'no', 'lipids', 'a', 'quick', 'you', 'fortune', 'have', 'like', 'new', 'for', 'worst', 'are', 'easy', 'believe', 'too', 'know', 'results', 'is', 'very', 'people', 'many', 'until', 'will', 'poor', 'me', 'need', 'thanks', 'technology', 'service', 'regularly', 'diabetes', 'accurate', ',', 'bad', 'can', 'second', 'dreadful', 'satisfying', 'to', 'slow', 'was', 'my', 'because', 'oh', 'disease', 'the', 'everything', 'amazing', 'got', 'convinced', 'your', 'medication', '-', '.'}\n"
     ]
    }
   ],
   "source": [
    "# Step 2 Tokenize the words to dictionary\n",
    "\n",
    "dictionary = set(word.lower() for passage in train for word in word_tokenize(passage[0]))\n",
    "\n",
    "print(dictionary)"
   ]
  },
  {
   "cell_type": "code",
   "execution_count": 4,
   "metadata": {},
   "outputs": [
    {
     "name": "stdout",
     "output_type": "stream",
     "text": [
      "('Thanks for an excellent report', 'pos')\n",
      "({'so': False, 'hell': False, 'satisfied': False, 'probably': False, 'place': False, 'doctor': False, 'god': False, 'with': False, 'injections': False, 'pleased': False, 'dont': False, 'cost': False, 'robotic': False, 'great': False, 'sucks': False, 'am': False, 'gave': False, 'and': False, 'good': False, 'means': False, 'this': False, 'contact': False, 'human': False, 'did': False, 'here': False, 'take': False, 'little': False, 'opinion': False, 'locate': False, 'talk': False, 'an': True, 'i': False, 'diabetic': False, 'getting': False, 'insulin': False, 'excellent': True, 'report': True, 'in': False, 'not': False, 'fast': False, 'no': False, 'lipids': False, 'a': False, 'quick': False, 'you': False, 'fortune': False, 'have': False, 'like': False, 'new': False, 'for': True, 'worst': False, 'are': False, 'easy': False, 'believe': False, 'too': False, 'know': False, 'results': False, 'is': False, 'very': False, 'people': False, 'many': False, 'until': False, 'will': False, 'poor': False, 'me': False, 'need': False, 'thanks': False, 'technology': False, 'service': False, 'regularly': False, 'diabetes': False, 'accurate': False, ',': False, 'bad': False, 'can': False, 'second': False, 'dreadful': False, 'satisfying': False, 'to': False, 'slow': False, 'was': False, 'my': False, 'because': False, 'oh': False, 'disease': False, 'the': False, 'everything': False, 'amazing': False, 'got': False, 'convinced': False, 'your': False, 'medication': False, '-': False, '.': False}, 'pos')\n"
     ]
    }
   ],
   "source": [
    "# Step 3 Locate the word in training data\n",
    "t = [({word: (word in word_tokenize(x[0])) for word in dictionary},x[1]) for x in train]\n",
    "\n",
    "print(train[0])\n",
    "\n",
    "print(t[0])"
   ]
  },
  {
   "cell_type": "code",
   "execution_count": 5,
   "metadata": {},
   "outputs": [],
   "source": [
    "# Step 4 – the classifier is trained with sample data\n",
    "classifier = nltk.NaiveBayesClassifier.train(t)"
   ]
  },
  {
   "cell_type": "code",
   "execution_count": 6,
   "metadata": {},
   "outputs": [
    {
     "name": "stdout",
     "output_type": "stream",
     "text": [
      "Test_data: oh my god what is this\n",
      "{'so': False, 'hell': False, 'satisfied': False, 'probably': False, 'place': False, 'doctor': False, 'god': True, 'with': False, 'injections': False, 'pleased': False, 'dont': False, 'cost': False, 'robotic': False, 'great': False, 'sucks': False, 'am': False, 'gave': False, 'and': False, 'good': False, 'means': False, 'this': True, 'contact': False, 'human': False, 'did': False, 'here': False, 'take': False, 'little': False, 'opinion': False, 'locate': False, 'talk': False, 'an': False, 'i': False, 'diabetic': False, 'getting': False, 'insulin': False, 'excellent': False, 'report': False, 'in': False, 'not': False, 'fast': False, 'no': False, 'lipids': False, 'a': False, 'quick': False, 'you': False, 'fortune': False, 'have': False, 'like': False, 'new': False, 'for': False, 'worst': False, 'are': False, 'easy': False, 'believe': False, 'too': False, 'know': False, 'results': False, 'is': True, 'very': False, 'people': False, 'many': False, 'until': False, 'will': False, 'poor': False, 'me': False, 'need': False, 'thanks': False, 'technology': False, 'service': False, 'regularly': False, 'diabetes': False, 'accurate': False, ',': False, 'bad': False, 'can': False, 'second': False, 'dreadful': False, 'satisfying': False, 'to': False, 'slow': False, 'was': False, 'my': True, 'because': False, 'oh': True, 'disease': False, 'the': False, 'everything': False, 'amazing': False, 'got': False, 'convinced': False, 'your': False, 'medication': False, '-': False, '.': False}\n"
     ]
    }
   ],
   "source": [
    "test_data = \"oh my god what is this\"\n",
    "test_data_features = {word.lower(): (word in word_tokenize(test_data.lower())) for word in dictionary}\n",
    "\n",
    "print(\"Test_data:\",test_data)\n",
    "print(test_data_features)"
   ]
  },
  {
   "cell_type": "code",
   "execution_count": 7,
   "metadata": {},
   "outputs": [
    {
     "name": "stdout",
     "output_type": "stream",
     "text": [
      "neg\n"
     ]
    }
   ],
   "source": [
    "print (classifier.classify(test_data_features))"
   ]
  }
 ],
 "metadata": {
  "kernelspec": {
   "display_name": "Python 3",
   "language": "python",
   "name": "python3"
  },
  "language_info": {
   "codemirror_mode": {
    "name": "ipython",
    "version": 3
   },
   "file_extension": ".py",
   "mimetype": "text/x-python",
   "name": "python",
   "nbconvert_exporter": "python",
   "pygments_lexer": "ipython3",
   "version": "3.6.8"
  }
 },
 "nbformat": 4,
 "nbformat_minor": 2
}
