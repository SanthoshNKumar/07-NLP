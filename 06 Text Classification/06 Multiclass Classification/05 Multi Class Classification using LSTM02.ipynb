{
 "cells": [
  {
   "cell_type": "code",
   "execution_count": 184,
   "metadata": {},
   "outputs": [],
   "source": [
    "import pandas as pd\n",
    "import numpy as np\n",
    "\n",
    "from keras.utils.np_utils import to_categorical"
   ]
  },
  {
   "cell_type": "code",
   "execution_count": 185,
   "metadata": {},
   "outputs": [],
   "source": [
    "df = pd.read_csv(\"C:\\\\MyWork\\\\MyLearning\\\\ML\\\\Files\\\\DataSet\\\\uci-news-aggregator.csv\",usecols=['TITLE','CATEGORY'])"
   ]
  },
  {
   "cell_type": "code",
   "execution_count": 186,
   "metadata": {},
   "outputs": [
    {
     "data": {
      "text/html": [
       "<div>\n",
       "<style scoped>\n",
       "    .dataframe tbody tr th:only-of-type {\n",
       "        vertical-align: middle;\n",
       "    }\n",
       "\n",
       "    .dataframe tbody tr th {\n",
       "        vertical-align: top;\n",
       "    }\n",
       "\n",
       "    .dataframe thead th {\n",
       "        text-align: right;\n",
       "    }\n",
       "</style>\n",
       "<table border=\"1\" class=\"dataframe\">\n",
       "  <thead>\n",
       "    <tr style=\"text-align: right;\">\n",
       "      <th></th>\n",
       "      <th>TITLE</th>\n",
       "      <th>CATEGORY</th>\n",
       "    </tr>\n",
       "  </thead>\n",
       "  <tbody>\n",
       "    <tr>\n",
       "      <td>0</td>\n",
       "      <td>Fed official says weak data caused by weather,...</td>\n",
       "      <td>b</td>\n",
       "    </tr>\n",
       "    <tr>\n",
       "      <td>1</td>\n",
       "      <td>Fed's Charles Plosser sees high bar for change...</td>\n",
       "      <td>b</td>\n",
       "    </tr>\n",
       "    <tr>\n",
       "      <td>2</td>\n",
       "      <td>US open: Stocks fall after Fed official hints ...</td>\n",
       "      <td>b</td>\n",
       "    </tr>\n",
       "    <tr>\n",
       "      <td>3</td>\n",
       "      <td>Fed risks falling 'behind the curve', Charles ...</td>\n",
       "      <td>b</td>\n",
       "    </tr>\n",
       "    <tr>\n",
       "      <td>4</td>\n",
       "      <td>Fed's Plosser: Nasty Weather Has Curbed Job Gr...</td>\n",
       "      <td>b</td>\n",
       "    </tr>\n",
       "  </tbody>\n",
       "</table>\n",
       "</div>"
      ],
      "text/plain": [
       "                                               TITLE CATEGORY\n",
       "0  Fed official says weak data caused by weather,...        b\n",
       "1  Fed's Charles Plosser sees high bar for change...        b\n",
       "2  US open: Stocks fall after Fed official hints ...        b\n",
       "3  Fed risks falling 'behind the curve', Charles ...        b\n",
       "4  Fed's Plosser: Nasty Weather Has Curbed Job Gr...        b"
      ]
     },
     "execution_count": 186,
     "metadata": {},
     "output_type": "execute_result"
    }
   ],
   "source": [
    "df.head()"
   ]
  },
  {
   "cell_type": "code",
   "execution_count": 187,
   "metadata": {},
   "outputs": [],
   "source": [
    "# Shuffle the DataFrame\n",
    "\n",
    "df = df.reindex(np.random.permutation(df.index))"
   ]
  },
  {
   "cell_type": "code",
   "execution_count": 188,
   "metadata": {},
   "outputs": [],
   "source": [
    "df = df[:1000]"
   ]
  },
  {
   "cell_type": "code",
   "execution_count": 189,
   "metadata": {},
   "outputs": [
    {
     "data": {
      "text/plain": [
       "e    401\n",
       "t    265\n",
       "b    241\n",
       "m     93\n",
       "Name: CATEGORY, dtype: int64"
      ]
     },
     "execution_count": 189,
     "metadata": {},
     "output_type": "execute_result"
    }
   ],
   "source": [
    "df.CATEGORY.value_counts()"
   ]
  },
  {
   "cell_type": "code",
   "execution_count": 190,
   "metadata": {},
   "outputs": [
    {
     "data": {
      "text/plain": [
       "{'b', 'e', 'm', 't'}"
      ]
     },
     "execution_count": 190,
     "metadata": {},
     "output_type": "execute_result"
    }
   ],
   "source": [
    "set(df['CATEGORY'])"
   ]
  },
  {
   "cell_type": "code",
   "execution_count": 191,
   "metadata": {},
   "outputs": [],
   "source": [
    "from sklearn.preprocessing import LabelEncoder\n",
    "\n",
    "le = LabelEncoder()\n",
    "Y = le.fit_transform(df['CATEGORY'])"
   ]
  },
  {
   "cell_type": "code",
   "execution_count": 192,
   "metadata": {},
   "outputs": [],
   "source": [
    "from sklearn.preprocessing import OneHotEncoder"
   ]
  },
  {
   "cell_type": "code",
   "execution_count": 193,
   "metadata": {},
   "outputs": [
    {
     "data": {
      "text/plain": [
       "array([[0., 1., 0., 0.],\n",
       "       [0., 0., 1., 0.],\n",
       "       [0., 0., 0., 1.],\n",
       "       ...,\n",
       "       [0., 1., 0., 0.],\n",
       "       [0., 0., 0., 1.],\n",
       "       [0., 0., 0., 1.]])"
      ]
     },
     "execution_count": 193,
     "metadata": {},
     "output_type": "execute_result"
    }
   ],
   "source": [
    "ohe = OneHotEncoder()\n",
    "y = ohe.fit_transform(df[['CATEGORY']]).toarray()\n",
    "\n",
    "y"
   ]
  },
  {
   "cell_type": "code",
   "execution_count": 194,
   "metadata": {},
   "outputs": [],
   "source": [
    "from keras.preprocessing.text import Tokenizer\n",
    "from keras.preprocessing.sequence import sequence\n",
    "from keras.preprocessing.sequence import pad_sequences\n",
    "\n",
    "tokenizer = Tokenizer(num_words = 8000,filters='!\"#$%&()*+,-./:;<=>?@[\\]^_`{|}~', lower=True)\n",
    "\n",
    "tokenizer.fit_on_texts(df['TITLE'].values)\n",
    "sequence = tokenizer.texts_to_sequences(df['TITLE'].values)\n",
    "word_index = tokenizer.word_index"
   ]
  },
  {
   "cell_type": "code",
   "execution_count": 195,
   "metadata": {},
   "outputs": [],
   "source": [
    "X = pad_sequences(sequence,maxlen=130)"
   ]
  },
  {
   "cell_type": "code",
   "execution_count": 205,
   "metadata": {},
   "outputs": [],
   "source": [
    "from keras.models import Sequential\n",
    "from keras.layers import Embedding,Dense,LSTM,SpatialDropout1D\n",
    "from keras.callbacks import EarlyStopping"
   ]
  },
  {
   "cell_type": "code",
   "execution_count": 201,
   "metadata": {},
   "outputs": [],
   "source": [
    "model = Sequential()\n",
    "model.add(Embedding(8000,128,input_length = X.shape[1]))\n",
    "model.add(SpatialDropout1D(0.7))\n",
    "model.add(LSTM(64,dropout=0.7,recurrent_dropout=0.7))\n",
    "model.add(Dense(4,activation='softmax'))\n",
    "\n",
    "model.compile(optimizer='adam', loss='categorical_crossentropy', metrics=['acc'])\n",
    "\n"
   ]
  },
  {
   "cell_type": "code",
   "execution_count": 203,
   "metadata": {},
   "outputs": [
    {
     "name": "stdout",
     "output_type": "stream",
     "text": [
      "Model: \"sequential_2\"\n",
      "_________________________________________________________________\n",
      "Layer (type)                 Output Shape              Param #   \n",
      "=================================================================\n",
      "embedding_2 (Embedding)      (None, 130, 128)          1024000   \n",
      "_________________________________________________________________\n",
      "spatial_dropout1d_2 (Spatial (None, 130, 128)          0         \n",
      "_________________________________________________________________\n",
      "lstm_2 (LSTM)                (None, 64)                49408     \n",
      "_________________________________________________________________\n",
      "dense_1 (Dense)              (None, 4)                 260       \n",
      "=================================================================\n",
      "Total params: 1,073,668\n",
      "Trainable params: 1,073,668\n",
      "Non-trainable params: 0\n",
      "_________________________________________________________________\n"
     ]
    }
   ],
   "source": [
    "model.summary()"
   ]
  },
  {
   "cell_type": "code",
   "execution_count": 209,
   "metadata": {},
   "outputs": [
    {
     "name": "stdout",
     "output_type": "stream",
     "text": [
      "Train on 800 samples, validate on 200 samples\n",
      "Epoch 1/30\n",
      "800/800 [==============================] - 4s 5ms/step - loss: 0.9065 - acc: 0.7088 - val_loss: 1.1003 - val_acc: 0.5900\n",
      "Epoch 2/30\n",
      "800/800 [==============================] - 3s 4ms/step - loss: 0.8559 - acc: 0.7588 - val_loss: 1.0748 - val_acc: 0.6250\n",
      "Epoch 3/30\n",
      "800/800 [==============================] - 3s 4ms/step - loss: 0.8249 - acc: 0.7625 - val_loss: 1.0519 - val_acc: 0.6250\n",
      "Epoch 4/30\n",
      "800/800 [==============================] - 3s 4ms/step - loss: 0.7694 - acc: 0.7800 - val_loss: 1.0290 - val_acc: 0.6400\n",
      "Epoch 5/30\n",
      "800/800 [==============================] - 3s 4ms/step - loss: 0.7391 - acc: 0.8087 - val_loss: 1.0075 - val_acc: 0.6400\n",
      "Epoch 6/30\n",
      "800/800 [==============================] - 3s 4ms/step - loss: 0.6968 - acc: 0.8112 - val_loss: 0.9916 - val_acc: 0.6450\n",
      "Epoch 7/30\n",
      "800/800 [==============================] - 3s 4ms/step - loss: 0.6551 - acc: 0.8213 - val_loss: 0.9801 - val_acc: 0.6550\n",
      "Epoch 8/30\n",
      "800/800 [==============================] - 3s 4ms/step - loss: 0.6395 - acc: 0.8338 - val_loss: 0.9688 - val_acc: 0.6650\n",
      "Epoch 9/30\n",
      "800/800 [==============================] - 3s 4ms/step - loss: 0.5815 - acc: 0.8562 - val_loss: 0.9541 - val_acc: 0.6700\n",
      "Epoch 10/30\n",
      "800/800 [==============================] - 3s 4ms/step - loss: 0.5450 - acc: 0.8537 - val_loss: 0.9366 - val_acc: 0.6750\n",
      "Epoch 11/30\n",
      "800/800 [==============================] - 3s 4ms/step - loss: 0.5074 - acc: 0.8525 - val_loss: 0.9166 - val_acc: 0.6700\n",
      "Epoch 12/30\n",
      "800/800 [==============================] - 3s 4ms/step - loss: 0.5001 - acc: 0.8500 - val_loss: 0.8945 - val_acc: 0.6900\n",
      "Epoch 13/30\n",
      "800/800 [==============================] - 4s 4ms/step - loss: 0.4585 - acc: 0.8600 - val_loss: 0.8769 - val_acc: 0.6950\n",
      "Epoch 14/30\n",
      "800/800 [==============================] - 4s 5ms/step - loss: 0.4479 - acc: 0.8675 - val_loss: 0.8635 - val_acc: 0.7100\n",
      "Epoch 15/30\n",
      "800/800 [==============================] - 3s 4ms/step - loss: 0.4070 - acc: 0.8950 - val_loss: 0.8534 - val_acc: 0.7000\n",
      "Epoch 16/30\n",
      "800/800 [==============================] - 3s 4ms/step - loss: 0.3856 - acc: 0.8888 - val_loss: 0.8445 - val_acc: 0.6900\n",
      "Epoch 17/30\n",
      "800/800 [==============================] - 4s 5ms/step - loss: 0.3767 - acc: 0.8975 - val_loss: 0.8385 - val_acc: 0.6950\n",
      "Epoch 18/30\n",
      "800/800 [==============================] - 3s 4ms/step - loss: 0.3397 - acc: 0.9100 - val_loss: 0.8303 - val_acc: 0.6900\n",
      "Epoch 19/30\n",
      "800/800 [==============================] - 3s 4ms/step - loss: 0.3241 - acc: 0.9100 - val_loss: 0.8246 - val_acc: 0.6900\n",
      "Epoch 20/30\n",
      "800/800 [==============================] - 4s 4ms/step - loss: 0.3110 - acc: 0.9237 - val_loss: 0.8215 - val_acc: 0.6900\n",
      "Epoch 21/30\n",
      "800/800 [==============================] - 4s 5ms/step - loss: 0.2925 - acc: 0.9225 - val_loss: 0.8179 - val_acc: 0.7000\n",
      "Epoch 22/30\n",
      "800/800 [==============================] - 3s 4ms/step - loss: 0.2662 - acc: 0.9388 - val_loss: 0.8164 - val_acc: 0.7050\n",
      "Epoch 23/30\n",
      "800/800 [==============================] - 3s 4ms/step - loss: 0.2565 - acc: 0.9513 - val_loss: 0.8134 - val_acc: 0.7000\n",
      "Epoch 24/30\n",
      "800/800 [==============================] - 3s 4ms/step - loss: 0.2310 - acc: 0.9513 - val_loss: 0.8097 - val_acc: 0.7150\n",
      "Epoch 25/30\n",
      "800/800 [==============================] - 3s 4ms/step - loss: 0.2266 - acc: 0.9550 - val_loss: 0.8060 - val_acc: 0.7100\n",
      "Epoch 26/30\n",
      "800/800 [==============================] - 3s 4ms/step - loss: 0.2145 - acc: 0.9538 - val_loss: 0.8011 - val_acc: 0.7100\n",
      "Epoch 27/30\n",
      "800/800 [==============================] - 3s 4ms/step - loss: 0.2055 - acc: 0.9600 - val_loss: 0.7963 - val_acc: 0.7050\n",
      "Epoch 28/30\n",
      "800/800 [==============================] - 4s 5ms/step - loss: 0.1823 - acc: 0.9625 - val_loss: 0.7933 - val_acc: 0.7200\n",
      "Epoch 29/30\n",
      "800/800 [==============================] - 3s 4ms/step - loss: 0.1777 - acc: 0.9638 - val_loss: 0.7907 - val_acc: 0.7200\n",
      "Epoch 30/30\n",
      "800/800 [==============================] - 3s 4ms/step - loss: 0.1785 - acc: 0.9525 - val_loss: 0.7886 - val_acc: 0.7200\n"
     ]
    }
   ],
   "source": [
    "history = model.fit(X, y, epochs=30, batch_size=256,validation_split=0.2,callbacks=[EarlyStopping(monitor='val_loss',patience=7, min_delta=0.0001)])"
   ]
  },
  {
   "cell_type": "code",
   "execution_count": 213,
   "metadata": {},
   "outputs": [
    {
     "data": {
      "text/plain": [
       "array([[   0,    0,    0,    0,    0,    0,    0,    0,    0,    0,    0,\n",
       "           0,    0,    0,    0,    0,    0,    0,    0,    0,    0,    0,\n",
       "           0,    0,    0,    0,    0,    0,    0,    0,    0,    0,    0,\n",
       "           0,    0,    0,    0,    0,    0,    0,    0,    0,    0,    0,\n",
       "           0,    0,    0,    0,    0,    0,    0,    0,    0,    0,    0,\n",
       "           0,    0,    0,    0,    0,    0,    0,    0,    0,    0,    0,\n",
       "           0,    0,    0,    0,    0,    0,    0,    0,    0,    0,    0,\n",
       "           0,    0,    0,    0,    0,    0,    0,    0,    0,    0,    0,\n",
       "           0,    0,    0,    0,    0,    0,    0,    0,    0,    0,    0,\n",
       "           0,    0,    0,    0,    0,    0,    0,    0,    0,    0,    0,\n",
       "           0,    0,    0,    0,    0,    0,    0,    0,    0,    0,    0,\n",
       "           0, 2104,  413, 1406,  435,    1, 3231,    2, 1005]])"
      ]
     },
     "execution_count": 213,
     "metadata": {},
     "output_type": "execute_result"
    }
   ],
   "source": [
    "txt = [\"Regular fast food eating linked to fertility issues in women\"]\n",
    "seq = tokenizer.texts_to_sequences(txt)\n",
    "padded = pad_sequences(seq, maxlen=130)\n",
    "\n",
    "padded"
   ]
  },
  {
   "cell_type": "code",
   "execution_count": 215,
   "metadata": {},
   "outputs": [
    {
     "data": {
      "text/plain": [
       "array([[0.20239931, 0.09898496, 0.55342865, 0.145187  ]], dtype=float32)"
      ]
     },
     "execution_count": 215,
     "metadata": {},
     "output_type": "execute_result"
    }
   ],
   "source": [
    "pred = model.predict(padded)\n",
    "\n",
    "pred"
   ]
  },
  {
   "cell_type": "code",
   "execution_count": 216,
   "metadata": {},
   "outputs": [
    {
     "name": "stdout",
     "output_type": "stream",
     "text": [
      "[[0.20239931 0.09898496 0.55342865 0.145187  ]] science/tech\n"
     ]
    }
   ],
   "source": [
    "labels = ['entertainment', 'bussiness', 'science/tech', 'health']\n",
    "print(pred, labels[np.argmax(pred)])"
   ]
  },
  {
   "cell_type": "code",
   "execution_count": null,
   "metadata": {},
   "outputs": [],
   "source": [
    "ohe."
   ]
  }
 ],
 "metadata": {
  "kernelspec": {
   "display_name": "Python 3",
   "language": "python",
   "name": "python3"
  },
  "language_info": {
   "codemirror_mode": {
    "name": "ipython",
    "version": 3
   },
   "file_extension": ".py",
   "mimetype": "text/x-python",
   "name": "python",
   "nbconvert_exporter": "python",
   "pygments_lexer": "ipython3",
   "version": "3.7.4"
  }
 },
 "nbformat": 4,
 "nbformat_minor": 2
}
