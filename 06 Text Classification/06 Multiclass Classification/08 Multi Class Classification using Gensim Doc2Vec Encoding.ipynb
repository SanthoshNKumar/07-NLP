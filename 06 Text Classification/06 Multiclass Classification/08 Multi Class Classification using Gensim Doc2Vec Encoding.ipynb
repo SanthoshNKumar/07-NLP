{
 "cells": [
  {
   "cell_type": "code",
   "execution_count": 5,
   "metadata": {},
   "outputs": [],
   "source": [
    "# Multi class CLassification\n",
    "\n",
    "# Embedding : Gensim Doc2Vec EMbedding\n",
    "# ALgorithm : Logistic Regression\n",
    "\n",
    "# How Embedding works\n",
    "\n",
    "# Step 1: Clean The data (Lower; stop word removeval;tags replace;)\n",
    "# Step 2: Split sentence and Create  taggeddocument \n",
    "#       Ex : TaggedDocument(words=['false', 'statements', 'or', 'representation'], tags=['Debt collection'])\n",
    "# Step 3: Building Doc2Vec\n",
    "#             -  Distributed Bag of Words (DBOW)\n",
    "#             -  Distributed Memory (DM)\n",
    "# Step 4: Build Final Vector Feature for the Classifier by unzipping target values and encoded vales for input data from model(gensim)\n",
    "# Step 5: Train Model using Losgitic Regression\n",
    "\n",
    "# Note : Here we have builtmodel using different types alogorithms in gensim (DBOW) and (DM) also clubbing or by merging both"
   ]
  },
  {
   "cell_type": "code",
   "execution_count": null,
   "metadata": {},
   "outputs": [],
   "source": [
    "import pandas as pd\n",
    "\n",
    "data = pd.read_csv(\"C:\\MyWork\\MyLearning\\Career Growth\\ML\\Files\\DataSet\\Consumer Complaint.csv\")\n",
    "\n",
    "data = data[['Product','Issue']]"
   ]
  },
  {
   "cell_type": "code",
   "execution_count": 6,
   "metadata": {},
   "outputs": [],
   "source": [
    "data = data[pd.notnull(data['Issue'])]"
   ]
  },
  {
   "cell_type": "code",
   "execution_count": 11,
   "metadata": {},
   "outputs": [
    {
     "data": {
      "text/plain": [
       "Product    0\n",
       "Issue      0\n",
       "dtype: int64"
      ]
     },
     "execution_count": 11,
     "metadata": {},
     "output_type": "execute_result"
    }
   ],
   "source": [
    "# No null values\n",
    "data.isnull().sum()"
   ]
  },
  {
   "cell_type": "code",
   "execution_count": 12,
   "metadata": {},
   "outputs": [
    {
     "data": {
      "text/html": [
       "<div>\n",
       "<style scoped>\n",
       "    .dataframe tbody tr th:only-of-type {\n",
       "        vertical-align: middle;\n",
       "    }\n",
       "\n",
       "    .dataframe tbody tr th {\n",
       "        vertical-align: top;\n",
       "    }\n",
       "\n",
       "    .dataframe thead th {\n",
       "        text-align: right;\n",
       "    }\n",
       "</style>\n",
       "<table border=\"1\" class=\"dataframe\">\n",
       "  <thead>\n",
       "    <tr style=\"text-align: right;\">\n",
       "      <th></th>\n",
       "      <th>Product</th>\n",
       "      <th>Issue</th>\n",
       "    </tr>\n",
       "  </thead>\n",
       "  <tbody>\n",
       "    <tr>\n",
       "      <td>0</td>\n",
       "      <td>Debt collection</td>\n",
       "      <td>Communication tactics</td>\n",
       "    </tr>\n",
       "    <tr>\n",
       "      <td>1</td>\n",
       "      <td>Debt collection</td>\n",
       "      <td>Cont'd attempts collect debt not owed</td>\n",
       "    </tr>\n",
       "    <tr>\n",
       "      <td>2</td>\n",
       "      <td>Mortgage</td>\n",
       "      <td>Application, originator, mortgage broker</td>\n",
       "    </tr>\n",
       "    <tr>\n",
       "      <td>3</td>\n",
       "      <td>Credit card</td>\n",
       "      <td>Other</td>\n",
       "    </tr>\n",
       "    <tr>\n",
       "      <td>4</td>\n",
       "      <td>Debt collection</td>\n",
       "      <td>Cont'd attempts collect debt not owed</td>\n",
       "    </tr>\n",
       "  </tbody>\n",
       "</table>\n",
       "</div>"
      ],
      "text/plain": [
       "           Product                                     Issue\n",
       "0  Debt collection                     Communication tactics\n",
       "1  Debt collection     Cont'd attempts collect debt not owed\n",
       "2         Mortgage  Application, originator, mortgage broker\n",
       "3      Credit card                                     Other\n",
       "4  Debt collection     Cont'd attempts collect debt not owed"
      ]
     },
     "execution_count": 12,
     "metadata": {},
     "output_type": "execute_result"
    }
   ],
   "source": [
    "data.head()"
   ]
  },
  {
   "cell_type": "code",
   "execution_count": 13,
   "metadata": {},
   "outputs": [
    {
     "data": {
      "text/plain": [
       "(28154, 2)"
      ]
     },
     "execution_count": 13,
     "metadata": {},
     "output_type": "execute_result"
    }
   ],
   "source": [
    "data.shape"
   ]
  },
  {
   "cell_type": "code",
   "execution_count": 14,
   "metadata": {},
   "outputs": [
    {
     "data": {
      "text/plain": [
       "122193"
      ]
     },
     "execution_count": 14,
     "metadata": {},
     "output_type": "execute_result"
    }
   ],
   "source": [
    "data['Issue'].apply(lambda x: len(x.split(' '))).sum()"
   ]
  },
  {
   "cell_type": "code",
   "execution_count": 15,
   "metadata": {},
   "outputs": [],
   "source": [
    "# We have over 122193 words, it is a relatively large data set."
   ]
  },
  {
   "cell_type": "code",
   "execution_count": 19,
   "metadata": {},
   "outputs": [
    {
     "data": {
      "image/png": "[encoded data removed]",
      "text/plain": [
       "<Figure size 864x288 with 1 Axes>"
      ]
     },
     "metadata": {
      "needs_background": "light"
     },
     "output_type": "display_data"
    }
   ],
   "source": [
    "import matplotlib.pyplot as plt\n",
    "import seaborn as sns\n",
    "\n",
    "cnt_pro = data['Product'].value_counts()\n",
    "\n",
    "plt.figure(figsize=(12,4))\n",
    "sns.barplot(cnt_pro.index, cnt_pro.values, alpha=0.8)\n",
    "plt.ylabel('Number of Occurrences', fontsize=12)\n",
    "plt.xlabel('Product', fontsize=12)\n",
    "plt.xticks(rotation=90)\n",
    "plt.show();"
   ]
  },
  {
   "cell_type": "code",
   "execution_count": 28,
   "metadata": {},
   "outputs": [],
   "source": [
    "# Lets look at the 'Issue' and Associated 'Product'\n",
    "\n",
    "def print_compaints(index):\n",
    "    \n",
    "    column_values = data [data.index == index][['Product','Issue']].values[0]\n",
    "\n",
    "    print(\"Issue:\",column_values[0])\n",
    "    print(\"Product:\",column_values[1])\n",
    "    "
   ]
  },
  {
   "cell_type": "code",
   "execution_count": 30,
   "metadata": {},
   "outputs": [
    {
     "name": "stdout",
     "output_type": "stream",
     "text": [
      "Issue: Debt collection\n",
      "Product: False statements or representation\n"
     ]
    }
   ],
   "source": [
    "print_compaints(10)"
   ]
  },
  {
   "cell_type": "code",
   "execution_count": 36,
   "metadata": {},
   "outputs": [],
   "source": [
    "from bs4 import BeautifulSoup\n",
    "import re\n",
    "\n",
    "def cleanText(text):\n",
    "    text = BeautifulSoup(text, \"lxml\").text\n",
    "    text = re.sub(r'\\|\\|\\|', r' ', text) \n",
    "    text = re.sub(r'http\\S+', r'<URL>', text)\n",
    "    text = text.lower()\n",
    "    text = text.replace('x', '')\n",
    "    return text"
   ]
  },
  {
   "cell_type": "code",
   "execution_count": 37,
   "metadata": {},
   "outputs": [
    {
     "data": {
      "text/html": [
       "<div>\n",
       "<style scoped>\n",
       "    .dataframe tbody tr th:only-of-type {\n",
       "        vertical-align: middle;\n",
       "    }\n",
       "\n",
       "    .dataframe tbody tr th {\n",
       "        vertical-align: top;\n",
       "    }\n",
       "\n",
       "    .dataframe thead th {\n",
       "        text-align: right;\n",
       "    }\n",
       "</style>\n",
       "<table border=\"1\" class=\"dataframe\">\n",
       "  <thead>\n",
       "    <tr style=\"text-align: right;\">\n",
       "      <th></th>\n",
       "      <th>Product</th>\n",
       "      <th>Issue</th>\n",
       "    </tr>\n",
       "  </thead>\n",
       "  <tbody>\n",
       "    <tr>\n",
       "      <td>0</td>\n",
       "      <td>Debt collection</td>\n",
       "      <td>Communication tactics</td>\n",
       "    </tr>\n",
       "    <tr>\n",
       "      <td>1</td>\n",
       "      <td>Debt collection</td>\n",
       "      <td>Cont'd attempts collect debt not owed</td>\n",
       "    </tr>\n",
       "    <tr>\n",
       "      <td>2</td>\n",
       "      <td>Mortgage</td>\n",
       "      <td>Application, originator, mortgage broker</td>\n",
       "    </tr>\n",
       "  </tbody>\n",
       "</table>\n",
       "</div>"
      ],
      "text/plain": [
       "           Product                                     Issue\n",
       "0  Debt collection                     Communication tactics\n",
       "1  Debt collection     Cont'd attempts collect debt not owed\n",
       "2         Mortgage  Application, originator, mortgage broker"
      ]
     },
     "execution_count": 37,
     "metadata": {},
     "output_type": "execute_result"
    }
   ],
   "source": [
    "data.head(3)"
   ]
  },
  {
   "cell_type": "code",
   "execution_count": 38,
   "metadata": {},
   "outputs": [],
   "source": [
    "data['Issue'] = data['Issue'].apply(cleanText)"
   ]
  },
  {
   "cell_type": "code",
   "execution_count": 39,
   "metadata": {},
   "outputs": [
    {
     "data": {
      "text/html": [
       "<div>\n",
       "<style scoped>\n",
       "    .dataframe tbody tr th:only-of-type {\n",
       "        vertical-align: middle;\n",
       "    }\n",
       "\n",
       "    .dataframe tbody tr th {\n",
       "        vertical-align: top;\n",
       "    }\n",
       "\n",
       "    .dataframe thead th {\n",
       "        text-align: right;\n",
       "    }\n",
       "</style>\n",
       "<table border=\"1\" class=\"dataframe\">\n",
       "  <thead>\n",
       "    <tr style=\"text-align: right;\">\n",
       "      <th></th>\n",
       "      <th>Product</th>\n",
       "      <th>Issue</th>\n",
       "    </tr>\n",
       "  </thead>\n",
       "  <tbody>\n",
       "    <tr>\n",
       "      <td>0</td>\n",
       "      <td>Debt collection</td>\n",
       "      <td>communication tactics</td>\n",
       "    </tr>\n",
       "    <tr>\n",
       "      <td>1</td>\n",
       "      <td>Debt collection</td>\n",
       "      <td>cont'd attempts collect debt not owed</td>\n",
       "    </tr>\n",
       "    <tr>\n",
       "      <td>2</td>\n",
       "      <td>Mortgage</td>\n",
       "      <td>application, originator, mortgage broker</td>\n",
       "    </tr>\n",
       "    <tr>\n",
       "      <td>3</td>\n",
       "      <td>Credit card</td>\n",
       "      <td>other</td>\n",
       "    </tr>\n",
       "    <tr>\n",
       "      <td>4</td>\n",
       "      <td>Debt collection</td>\n",
       "      <td>cont'd attempts collect debt not owed</td>\n",
       "    </tr>\n",
       "  </tbody>\n",
       "</table>\n",
       "</div>"
      ],
      "text/plain": [
       "           Product                                     Issue\n",
       "0  Debt collection                     communication tactics\n",
       "1  Debt collection     cont'd attempts collect debt not owed\n",
       "2         Mortgage  application, originator, mortgage broker\n",
       "3      Credit card                                     other\n",
       "4  Debt collection     cont'd attempts collect debt not owed"
      ]
     },
     "execution_count": 39,
     "metadata": {},
     "output_type": "execute_result"
    }
   ],
   "source": [
    "data.head()"
   ]
  },
  {
   "cell_type": "code",
   "execution_count": 41,
   "metadata": {},
   "outputs": [
    {
     "data": {
      "text/plain": [
       "(19707, 2)"
      ]
     },
     "execution_count": 41,
     "metadata": {},
     "output_type": "execute_result"
    }
   ],
   "source": [
    "# Split data into train and test\n",
    "\n",
    "from sklearn.model_selection import train_test_split\n",
    "\n",
    "train, test = train_test_split(data, test_size=0.3, random_state=42)\n",
    "\n",
    "train.shape"
   ]
  },
  {
   "cell_type": "code",
   "execution_count": 46,
   "metadata": {},
   "outputs": [],
   "source": [
    "import nltk\n",
    "from nltk.corpus import stopwords\n",
    "from gensim.models.doc2vec import TaggedDocument\n",
    "\n",
    "def tokenize_text(text):\n",
    "    tokens = []\n",
    "    for sent in nltk.sent_tokenize(text):\n",
    "        for word in nltk.word_tokenize(sent):\n",
    "            if len(word) < 2:\n",
    "                continue\n",
    "            tokens.append(word.lower())\n",
    "    return tokens"
   ]
  },
  {
   "cell_type": "code",
   "execution_count": 48,
   "metadata": {},
   "outputs": [],
   "source": [
    "# Train the Doc2Vec \n",
    "# In order to train the model, we need the tagged document which can be created by using models.doc2vec.TaggedDcument()\n",
    "\n",
    "train_tagged = train.apply(lambda r: TaggedDocument(words=tokenize_text(r['Issue']), tags=[r.Product]), axis=1)"
   ]
  },
  {
   "cell_type": "code",
   "execution_count": 51,
   "metadata": {},
   "outputs": [
    {
     "data": {
      "text/plain": [
       "TaggedDocument(words=['false', 'statements', 'or', 'representation'], tags=['Debt collection'])"
      ]
     },
     "execution_count": 51,
     "metadata": {},
     "output_type": "execute_result"
    }
   ],
   "source": [
    "train_tagged[10]"
   ]
  },
  {
   "cell_type": "code",
   "execution_count": 53,
   "metadata": {},
   "outputs": [],
   "source": [
    "test_tagged = test.apply( lambda r: TaggedDocument(words=tokenize_text(r['Issue']), tags=[r.Product]), axis=1)"
   ]
  },
  {
   "cell_type": "code",
   "execution_count": 56,
   "metadata": {},
   "outputs": [
    {
     "data": {
      "text/plain": [
       "TaggedDocument(words=['cont', \"'d\", 'attempts', 'collect', 'debt', 'not', 'owed'], tags=['Debt collection'])"
      ]
     },
     "execution_count": 56,
     "metadata": {},
     "output_type": "execute_result"
    }
   ],
   "source": [
    "test_tagged[5160]"
   ]
  },
  {
   "cell_type": "code",
   "execution_count": 57,
   "metadata": {},
   "outputs": [],
   "source": [
    "import multiprocessing\n",
    "cores = multiprocessing.cpu_count()"
   ]
  },
  {
   "cell_type": "code",
   "execution_count": 60,
   "metadata": {},
   "outputs": [
    {
     "name": "stderr",
     "output_type": "stream",
     "text": [
      "100%|███████████████████████████████████████████████████████████████████████| 19707/19707 [00:00<00:00, 1628616.02it/s]\n"
     ]
    }
   ],
   "source": [
    "# Word2Vec : Building Distributed Bag of Words (DBOW)\n",
    "# Building a Vocabulary\n",
    "\n",
    "# If dm=0, distributed bag of words (PV-DBOW) is used; if dm=1,‘distributed memory’ (PV-DM) is used\n",
    "# 300- dimensional feature vectors.\n",
    "# min_count=2, ignores all words with total frequency lower than this.\n",
    "# negative=5 , specifies how many “noise words” should be drawn\n",
    "# hs=0 , and negative is non-zero, negative sampling will be used.\n",
    "# sample=0 , the threshold for configuring which higher-frequency words are randomly down sampled\n",
    "# workers=cores , use these many worker threads to train the model (=faster training with multicore machines)\n",
    "\n",
    "from gensim.models import Doc2Vec\n",
    "from tqdm import tqdm\n",
    "\n",
    "model_dbow = Doc2Vec(dm=0, vector_size=300, negative=5, hs=0, min_count=2, sample = 0, workers=cores)\n",
    "model_dbow.build_vocab([x for x in tqdm(train_tagged.values)])"
   ]
  },
  {
   "cell_type": "code",
   "execution_count": 63,
   "metadata": {},
   "outputs": [
    {
     "name": "stderr",
     "output_type": "stream",
     "text": [
      "100%|███████████████████████████████████████████████████████████████████████| 19707/19707 [00:00<00:00, 1116023.29it/s]\n",
      "100%|███████████████████████████████████████████████████████████████████████| 19707/19707 [00:00<00:00, 1426475.95it/s]\n",
      "100%|███████████████████████████████████████████████████████████████████████| 19707/19707 [00:00<00:00, 1111879.86it/s]\n",
      "100%|███████████████████████████████████████████████████████████████████████| 19707/19707 [00:00<00:00, 1099910.16it/s]\n",
      "100%|███████████████████████████████████████████████████████████████████████| 19707/19707 [00:00<00:00, 1358799.77it/s]\n",
      "100%|███████████████████████████████████████████████████████████████████████| 19707/19707 [00:00<00:00, 1571368.94it/s]\n",
      "100%|███████████████████████████████████████████████████████████████████████| 19707/19707 [00:00<00:00, 1561778.91it/s]\n",
      "100%|███████████████████████████████████████████████████████████████████████| 19707/19707 [00:00<00:00, 1300376.77it/s]\n",
      "100%|███████████████████████████████████████████████████████████████████████| 19707/19707 [00:00<00:00, 1542053.45it/s]\n",
      "100%|███████████████████████████████████████████████████████████████████████| 19707/19707 [00:00<00:00, 1401847.75it/s]\n",
      "100%|███████████████████████████████████████████████████████████████████████| 19707/19707 [00:00<00:00, 1312518.24it/s]\n",
      "100%|███████████████████████████████████████████████████████████████████████| 19707/19707 [00:00<00:00, 1004534.89it/s]\n",
      "100%|███████████████████████████████████████████████████████████████████████| 19707/19707 [00:00<00:00, 1095696.45it/s]\n",
      "100%|███████████████████████████████████████████████████████████████████████| 19707/19707 [00:00<00:00, 2023430.82it/s]\n",
      "100%|███████████████████████████████████████████████████████████████████████| 19707/19707 [00:00<00:00, 1898113.51it/s]\n",
      "100%|███████████████████████████████████████████████████████████████████████| 19707/19707 [00:00<00:00, 1530801.34it/s]\n",
      "100%|███████████████████████████████████████████████████████████████████████| 19707/19707 [00:00<00:00, 1117169.66it/s]\n",
      "100%|████████████████████████████████████████████████████████████████████████| 19707/19707 [00:00<00:00, 830191.12it/s]\n",
      "100%|███████████████████████████████████████████████████████████████████████| 19707/19707 [00:00<00:00, 1138010.94it/s]\n",
      "100%|███████████████████████████████████████████████████████████████████████| 19707/19707 [00:00<00:00, 1214153.60it/s]\n",
      "100%|███████████████████████████████████████████████████████████████████████| 19707/19707 [00:00<00:00, 1614113.71it/s]\n",
      "100%|███████████████████████████████████████████████████████████████████████| 19707/19707 [00:00<00:00, 2171302.64it/s]\n",
      "100%|███████████████████████████████████████████████████████████████████████| 19707/19707 [00:00<00:00, 1485463.82it/s]\n",
      "100%|███████████████████████████████████████████████████████████████████████| 19707/19707 [00:00<00:00, 1301810.39it/s]\n",
      "100%|███████████████████████████████████████████████████████████████████████| 19707/19707 [00:00<00:00, 1349680.76it/s]\n",
      "100%|███████████████████████████████████████████████████████████████████████| 19707/19707 [00:00<00:00, 1268759.58it/s]\n",
      "100%|███████████████████████████████████████████████████████████████████████| 19707/19707 [00:00<00:00, 1341989.33it/s]\n",
      "100%|███████████████████████████████████████████████████████████████████████| 19707/19707 [00:00<00:00, 1468494.48it/s]\n",
      "100%|████████████████████████████████████████████████████████████████████████| 19707/19707 [00:00<00:00, 972768.93it/s]\n",
      "100%|████████████████████████████████████████████████████████████████████████| 19707/19707 [00:00<00:00, 817659.01it/s]\n"
     ]
    }
   ],
   "source": [
    "\n",
    "# Building Distributed Bag of Words (DBOW)\n",
    "# Training a doc2vec model is rather straight-forward in Gensim, we initialize the model and train for 30 epochs.\n",
    "\n",
    "from sklearn import utils\n",
    "\n",
    "for epoch in range(30):\n",
    "    model_dbow.train(utils.shuffle([x for x in tqdm(train_tagged.values)]), total_examples=len(train_tagged.values), epochs=1)\n",
    "    model_dbow.alpha -= 0.002\n",
    "    model_dbow.min_alpha = model_dbow.alpha"
   ]
  },
  {
   "cell_type": "code",
   "execution_count": 68,
   "metadata": {},
   "outputs": [],
   "source": [
    "# Building the Final Vector Feature for the Classifier\n",
    "\n",
    "def vec_for_learning(model, tagged_docs):\n",
    "    sents = tagged_docs.values\n",
    "    targets, regressors = zip(*[(doc.tags[0], model.infer_vector(doc.words, steps=20)) for doc in sents])\n",
    "    return targets, regressors"
   ]
  },
  {
   "cell_type": "code",
   "execution_count": 69,
   "metadata": {},
   "outputs": [],
   "source": [
    "y_train, X_train = vec_for_learning(model_dbow, train_tagged)\n",
    "y_test, X_test = vec_for_learning(model_dbow, test_tagged)"
   ]
  },
  {
   "cell_type": "code",
   "execution_count": 81,
   "metadata": {},
   "outputs": [
    {
     "data": {
      "text/plain": [
       "TaggedDocument(words=['incorrect', 'information', 'on', 'credit', 'report'], tags=['Credit reporting'])"
      ]
     },
     "execution_count": 81,
     "metadata": {},
     "output_type": "execute_result"
    }
   ],
   "source": [
    "train_tagged[:1].values[0]"
   ]
  },
  {
   "cell_type": "code",
   "execution_count": 82,
   "metadata": {},
   "outputs": [
    {
     "data": {
      "text/plain": [
       "(array([-4.11707163e-03, -3.35101113e-02,  1.89794287e-01,  1.33210674e-01,\n",
       "        -5.08054376e-01, -2.15626284e-01, -8.44884813e-02, -2.26897970e-01,\n",
       "        -1.52584180e-01, -1.50820851e-01, -1.66513994e-01,  1.61644846e-01,\n",
       "         5.73121868e-02,  7.80496970e-02,  3.53914350e-02, -2.07831711e-01,\n",
       "         2.62558274e-02, -1.07675426e-01, -1.93543330e-01, -1.20990679e-01,\n",
       "        -3.58578749e-03,  9.37103108e-02, -6.00408204e-02,  4.78244096e-01,\n",
       "         4.34925139e-01,  3.50125104e-01,  2.95598917e-02, -2.68027544e-01,\n",
       "         7.17263967e-02, -9.85541791e-02,  6.58692047e-02,  5.49423173e-02,\n",
       "        -1.30152553e-01, -1.03839234e-01,  2.59279162e-02, -1.67078435e-01,\n",
       "        -6.82538673e-02,  1.42046049e-01, -6.01838119e-02, -9.38142985e-02,\n",
       "         4.97903340e-02,  1.98072940e-02, -2.30624065e-01, -6.09951541e-02,\n",
       "         6.35908395e-02, -1.18210085e-01,  1.58235639e-01,  1.33410975e-01,\n",
       "        -2.06009790e-01, -5.07132374e-02, -6.69877604e-02,  1.40011922e-01,\n",
       "        -1.90124005e-01, -2.69595534e-01,  1.70061961e-01,  1.29216298e-01,\n",
       "         1.51237071e-01,  1.87759340e-01, -2.56527867e-03, -1.82810575e-01,\n",
       "         8.98782611e-02,  6.52801543e-02,  2.16835946e-01,  1.15428925e-01,\n",
       "         1.83537662e-01, -9.80478302e-02,  1.44489914e-01, -3.90958115e-02,\n",
       "        -3.21472101e-02,  2.36065641e-01,  8.43836442e-02, -2.72078127e-01,\n",
       "         1.46172747e-01,  9.64560360e-02, -2.61114150e-01, -3.03391337e-01,\n",
       "        -8.74790549e-02, -2.28045061e-01,  9.01112258e-02, -1.54507533e-01,\n",
       "        -3.48878682e-01,  1.21125698e-01, -5.14630526e-02,  8.37412253e-02,\n",
       "        -1.45854101e-01,  4.20156866e-04, -2.47318238e-01, -1.69846520e-01,\n",
       "         1.51755556e-01, -6.12423047e-02,  1.27344668e-01, -1.87710196e-01,\n",
       "         2.70750016e-01,  2.05341578e-02,  2.00522751e-01, -4.31900583e-02,\n",
       "         6.46772385e-01, -1.16393417e-01,  2.00972855e-01,  7.24115297e-02,\n",
       "         2.29218483e-01, -1.76764578e-01, -2.91950852e-01,  9.04668868e-02,\n",
       "         2.00324189e-02,  2.35243306e-01,  1.24707602e-01, -4.38856274e-01,\n",
       "         4.29901421e-01,  1.29627839e-01,  5.06672919e-01,  3.34359974e-01,\n",
       "        -8.09143018e-03, -1.01581819e-01, -6.95136711e-02,  2.86833197e-01,\n",
       "        -4.45663601e-01,  5.69707826e-02,  2.40178108e-01,  1.19317725e-01,\n",
       "        -9.23570320e-02, -1.02789760e-01,  4.46806967e-01, -8.71264786e-02,\n",
       "        -9.17576104e-02,  1.53379902e-01,  7.64203593e-02,  2.37710223e-01,\n",
       "         1.99139729e-01,  1.24948576e-01, -4.97319698e-02, -3.15213293e-01,\n",
       "        -6.78278655e-02,  1.24025106e-01,  6.35711402e-02, -2.63792098e-01,\n",
       "         1.49912000e-01,  1.39474720e-01, -3.33544791e-01, -1.98194012e-03,\n",
       "         2.40938216e-02,  9.49304923e-02, -1.65524051e-01, -3.36245537e-01,\n",
       "        -3.41763228e-01,  1.89273983e-01,  3.35680582e-02, -8.99294764e-02,\n",
       "         1.34743243e-01,  3.84598494e-01,  4.31314170e-01,  1.95174918e-01,\n",
       "        -5.56760728e-02, -2.19181508e-01,  1.52882963e-01, -1.25069305e-01,\n",
       "        -4.08211529e-01,  2.40418538e-01, -2.92439967e-01, -1.18094385e-01,\n",
       "         3.73477638e-01, -1.42704472e-01,  2.15004563e-01, -1.82902351e-01,\n",
       "         2.14178748e-02,  4.49060695e-03, -1.36526197e-01, -3.61681683e-03,\n",
       "         1.57004803e-01, -2.36866698e-02,  1.20289467e-01,  8.32490325e-02,\n",
       "         2.91758347e-02,  1.16761550e-01,  1.16237693e-01,  9.26474333e-02,\n",
       "         2.99411714e-01, -1.01113087e-03,  2.04649419e-01,  1.29125223e-01,\n",
       "         3.12050492e-01,  1.71388626e-01,  1.65482238e-01, -1.50922224e-01,\n",
       "        -1.27243921e-01, -8.97522494e-02,  6.82033896e-02, -3.14576834e-01,\n",
       "         2.39474863e-01,  7.74153024e-02, -3.53562608e-02, -5.50133288e-02,\n",
       "        -1.94136232e-01, -2.38034368e-01, -2.84735560e-01, -1.66402057e-01,\n",
       "        -3.48622590e-01, -9.05021951e-02, -1.31574050e-01,  1.86724186e-01,\n",
       "         5.50069846e-03,  1.39964148e-01,  1.15692355e-01, -1.45849600e-01,\n",
       "        -5.93006313e-02, -1.93426982e-01, -2.70256013e-01, -1.30789772e-01,\n",
       "        -1.79268450e-01,  2.37685964e-02, -1.72831804e-01, -4.42038924e-02,\n",
       "        -2.71454547e-03,  2.39187554e-02,  3.43981445e-01,  3.01052239e-02,\n",
       "        -1.14427835e-01,  2.14841530e-01, -2.15319932e-01,  2.01597422e-01,\n",
       "         1.67309657e-01,  1.66377485e-01, -3.24710608e-02, -1.77571103e-01,\n",
       "        -2.13957250e-01,  3.96496318e-02,  9.08637270e-02,  1.21875823e-01,\n",
       "        -1.00503363e-01,  1.28022715e-01,  6.41474351e-02, -4.23760228e-02,\n",
       "        -1.57396078e-01,  7.07533509e-02, -1.02273002e-01,  1.79395173e-03,\n",
       "        -2.15193018e-01, -9.95319635e-02,  1.50317783e-02,  8.93022567e-02,\n",
       "        -1.96892470e-02,  7.02191889e-02,  2.45549798e-01,  2.32413977e-01,\n",
       "         4.03823443e-02,  1.00898109e-02, -2.69453377e-01, -1.30599469e-01,\n",
       "         1.28002718e-01, -4.53486443e-02,  2.35162482e-01,  2.99491137e-01,\n",
       "         2.54049391e-01,  1.99800208e-01, -2.52941757e-01, -3.61912787e-01,\n",
       "        -5.49785160e-02,  8.60865340e-02, -2.07004473e-02,  7.67941400e-02,\n",
       "         1.87251553e-01, -2.30314925e-01,  4.16183732e-02,  3.23196441e-01,\n",
       "        -3.90481912e-02, -1.09316163e-01,  7.10672187e-03,  9.70439985e-02,\n",
       "         2.00289294e-01,  1.94114909e-01, -1.89858630e-01, -4.66788746e-02,\n",
       "        -3.40749659e-02,  1.06295548e-01,  1.75966308e-01, -2.95570701e-01,\n",
       "         1.47992119e-01,  1.45585537e-01,  2.06944615e-01, -3.17018837e-01,\n",
       "         2.86713153e-01, -1.30336255e-01,  3.32882144e-02, -3.10600363e-03,\n",
       "        -2.66679943e-01, -3.56039792e-01,  2.11742297e-01, -1.13839500e-01,\n",
       "         1.55799598e-01, -8.98184329e-02, -8.32530037e-02,  4.11599278e-01,\n",
       "        -5.58158495e-02, -1.03818677e-01, -8.19269102e-03,  3.18203300e-01,\n",
       "         2.83105940e-01,  1.46560833e-01, -2.51994699e-01, -1.88557595e-01],\n",
       "       dtype=float32),)"
      ]
     },
     "execution_count": 82,
     "metadata": {},
     "output_type": "execute_result"
    }
   ],
   "source": [
    "X_train[:1]"
   ]
  },
  {
   "cell_type": "code",
   "execution_count": 84,
   "metadata": {},
   "outputs": [
    {
     "data": {
      "text/plain": [
       "('Credit reporting',)"
      ]
     },
     "execution_count": 84,
     "metadata": {},
     "output_type": "execute_result"
    }
   ],
   "source": [
    "y_train[:1]"
   ]
  },
  {
   "cell_type": "code",
   "execution_count": 86,
   "metadata": {},
   "outputs": [
    {
     "name": "stderr",
     "output_type": "stream",
     "text": [
      "c:\\users\\insakum46\\appdata\\local\\programs\\python\\python37\\lib\\site-packages\\sklearn\\linear_model\\logistic.py:432: FutureWarning: Default solver will be changed to 'lbfgs' in 0.22. Specify a solver to silence this warning.\n",
      "  FutureWarning)\n",
      "c:\\users\\insakum46\\appdata\\local\\programs\\python\\python37\\lib\\site-packages\\sklearn\\linear_model\\logistic.py:469: FutureWarning: Default multi_class will be changed to 'auto' in 0.22. Specify the multi_class option to silence this warning.\n",
      "  \"this warning.\", FutureWarning)\n"
     ]
    },
    {
     "name": "stdout",
     "output_type": "stream",
     "text": [
      "Testing accuracy 0.9952645909790458\n",
      "Testing F1 score: 0.9951904401564695\n"
     ]
    }
   ],
   "source": [
    "from sklearn.linear_model import LogisticRegression\n",
    "\n",
    "logreg = LogisticRegression(n_jobs=1, C=1e5)\n",
    "logreg.fit(X_train, y_train)\n",
    "\n",
    "y_pred = logreg.predict(X_test)\n",
    "\n",
    "from sklearn.metrics import accuracy_score, f1_score\n",
    "print('Testing accuracy %s' % accuracy_score(y_test, y_pred))\n",
    "print('Testing F1 score: {}'.format(f1_score(y_test, y_pred, average='weighted')))\n"
   ]
  },
  {
   "cell_type": "code",
   "execution_count": null,
   "metadata": {},
   "outputs": [],
   "source": []
  },
  {
   "cell_type": "code",
   "execution_count": 88,
   "metadata": {},
   "outputs": [
    {
     "name": "stderr",
     "output_type": "stream",
     "text": [
      "100%|███████████████████████████████████████████████████████████████████████| 19707/19707 [00:00<00:00, 1480461.90it/s]\n"
     ]
    }
   ],
   "source": [
    "# Word2Vec : Building Distributed Memory (DM)\n",
    "\n",
    "model_dmm = Doc2Vec(dm=1, dm_mean=1, vector_size=300, window=10, negative=5, min_count=1, workers=5, alpha=0.065, min_alpha=0.065)\n",
    "model_dmm.build_vocab([x for x in tqdm(train_tagged.values)])"
   ]
  },
  {
   "cell_type": "code",
   "execution_count": 89,
   "metadata": {},
   "outputs": [
    {
     "name": "stderr",
     "output_type": "stream",
     "text": [
      "100%|███████████████████████████████████████████████████████████████████████| 19707/19707 [00:00<00:00, 2474024.21it/s]\n",
      "100%|███████████████████████████████████████████████████████████████████████| 19707/19707 [00:00<00:00, 1016105.68it/s]\n",
      "100%|███████████████████████████████████████████████████████████████████████| 19707/19707 [00:00<00:00, 1258118.83it/s]\n",
      "100%|███████████████████████████████████████████████████████████████████████| 19707/19707 [00:00<00:00, 1252779.66it/s]\n",
      "100%|███████████████████████████████████████████████████████████████████████| 19707/19707 [00:00<00:00, 2355038.72it/s]\n",
      "100%|████████████████████████████████████████████████████████████████████████| 19707/19707 [00:00<00:00, 951164.53it/s]\n",
      "100%|████████████████████████████████████████████████████████████████████████| 19707/19707 [00:00<00:00, 748780.67it/s]\n",
      "100%|███████████████████████████████████████████████████████████████████████| 19707/19707 [00:00<00:00, 1519321.17it/s]\n",
      "100%|███████████████████████████████████████████████████████████████████████| 19707/19707 [00:00<00:00, 1262943.85it/s]\n",
      "100%|███████████████████████████████████████████████████████████████████████| 19707/19707 [00:00<00:00, 1202023.54it/s]\n",
      "100%|████████████████████████████████████████████████████████████████████████| 19707/19707 [00:00<00:00, 870157.69it/s]\n",
      "100%|████████████████████████████████████████████████████████████████████████| 19707/19707 [00:00<00:00, 734730.21it/s]\n",
      "100%|███████████████████████████████████████████████████████████████████████| 19707/19707 [00:00<00:00, 1346668.22it/s]\n",
      "100%|████████████████████████████████████████████████████████████████████████| 19707/19707 [00:00<00:00, 965530.66it/s]\n",
      "100%|███████████████████████████████████████████████████████████████████████| 19707/19707 [00:00<00:00, 1103051.30it/s]\n",
      "100%|███████████████████████████████████████████████████████████████████████| 19707/19707 [00:00<00:00, 1160703.09it/s]\n",
      "100%|███████████████████████████████████████████████████████████████████████| 19707/19707 [00:00<00:00, 1298599.38it/s]\n",
      "100%|███████████████████████████████████████████████████████████████████████| 19707/19707 [00:00<00:00, 1323530.85it/s]\n",
      "100%|███████████████████████████████████████████████████████████████████████| 19707/19707 [00:00<00:00, 1606178.32it/s]\n",
      "100%|███████████████████████████████████████████████████████████████████████| 19707/19707 [00:00<00:00, 1276223.21it/s]\n",
      "100%|███████████████████████████████████████████████████████████████████████| 19707/19707 [00:00<00:00, 1345156.05it/s]\n",
      "100%|████████████████████████████████████████████████████████████████████████| 19707/19707 [00:00<00:00, 984541.11it/s]\n",
      "100%|████████████████████████████████████████████████████████████████████████| 19707/19707 [00:00<00:00, 814299.99it/s]\n",
      "100%|███████████████████████████████████████████████████████████████████████| 19707/19707 [00:00<00:00, 1163169.47it/s]\n",
      "100%|███████████████████████████████████████████████████████████████████████| 19707/19707 [00:00<00:00, 1404038.47it/s]\n",
      "100%|███████████████████████████████████████████████████████████████████████| 19707/19707 [00:00<00:00, 1282241.73it/s]\n",
      "100%|███████████████████████████████████████████████████████████████████████| 19707/19707 [00:00<00:00, 1522539.54it/s]\n",
      "100%|███████████████████████████████████████████████████████████████████████| 19707/19707 [00:00<00:00, 3548735.57it/s]\n",
      "100%|████████████████████████████████████████████████████████████████████████| 19707/19707 [00:00<00:00, 799121.66it/s]\n",
      "100%|███████████████████████████████████████████████████████████████████████| 19707/19707 [00:00<00:00, 1430623.76it/s]\n"
     ]
    },
    {
     "name": "stdout",
     "output_type": "stream",
     "text": [
      "Wall time: 40.7 s\n"
     ]
    }
   ],
   "source": [
    "%%time\n",
    "for epoch in range(30):\n",
    "    model_dmm.train(utils.shuffle([x for x in tqdm(train_tagged.values)]), total_examples=len(train_tagged.values), epochs=1)\n",
    "    model_dmm.alpha -= 0.002\n",
    "    model_dmm.min_alpha = model_dmm.alpha"
   ]
  },
  {
   "cell_type": "code",
   "execution_count": null,
   "metadata": {},
   "outputs": [],
   "source": [
    "# Train the Logistic Regression Classifier\n",
    "\n",
    "y_train, X_train = vec_for_learning(model_dmm, train_tagged)\n",
    "y_test, X_test = vec_for_learning(model_dmm, test_tagged)\n",
    "logreg.fit(X_train, y_train)\n",
    "y_pred = logreg.predict(X_test)\n",
    "print('Testing accuracy %s' % accuracy_score(y_test, y_pred))\n",
    "print('Testing F1 score: {}'.format(f1_score(y_test, y_pred, average='weighted')))"
   ]
  },
  {
   "cell_type": "code",
   "execution_count": null,
   "metadata": {},
   "outputs": [],
   "source": []
  },
  {
   "cell_type": "code",
   "execution_count": 95,
   "metadata": {},
   "outputs": [],
   "source": [
    "# Model Pairing: Few told combining a paragraph vector from Distributed Bag of Words (DBOW) and Distributed Memory (DM) \n",
    "# improves performance.\n",
    "\n",
    "model_dbow.delete_temporary_training_data(keep_doctags_vectors=True, keep_inference=True)\n",
    "model_dmm.delete_temporary_training_data(keep_doctags_vectors=True, keep_inference=True)\n",
    "\n"
   ]
  },
  {
   "cell_type": "code",
   "execution_count": 97,
   "metadata": {},
   "outputs": [],
   "source": [
    "# Concatenate two models\n",
    "\n",
    "from gensim.test.test_doc2vec import ConcatenatedDoc2Vec\n",
    "\n",
    "new_model = ConcatenatedDoc2Vec([model_dbow, model_dmm])"
   ]
  },
  {
   "cell_type": "code",
   "execution_count": 98,
   "metadata": {},
   "outputs": [],
   "source": [
    "def get_vectors(model, tagged_docs):\n",
    "    sents = tagged_docs.values\n",
    "    targets, regressors = zip(*[(doc.tags[0], model.infer_vector(doc.words, steps=20)) for doc in sents])\n",
    "    return targets, regressors"
   ]
  },
  {
   "cell_type": "code",
   "execution_count": 99,
   "metadata": {},
   "outputs": [
    {
     "name": "stderr",
     "output_type": "stream",
     "text": [
      "c:\\users\\insakum46\\appdata\\local\\programs\\python\\python37\\lib\\site-packages\\sklearn\\linear_model\\logistic.py:432: FutureWarning: Default solver will be changed to 'lbfgs' in 0.22. Specify a solver to silence this warning.\n",
      "  FutureWarning)\n",
      "c:\\users\\insakum46\\appdata\\local\\programs\\python\\python37\\lib\\site-packages\\sklearn\\linear_model\\logistic.py:469: FutureWarning: Default multi_class will be changed to 'auto' in 0.22. Specify the multi_class option to silence this warning.\n",
      "  \"this warning.\", FutureWarning)\n"
     ]
    },
    {
     "name": "stdout",
     "output_type": "stream",
     "text": [
      "Testing accuracy 0.9932520421451403\n",
      "Testing F1 score: 0.9931010347025356\n"
     ]
    }
   ],
   "source": [
    "y_train, X_train = get_vectors(new_model, train_tagged)\n",
    "y_test, X_test = get_vectors(new_model, test_tagged)\n",
    "logreg.fit(X_train, y_train)\n",
    "y_pred = logreg.predict(X_test)\n",
    "\n",
    "print('Testing accuracy %s' % accuracy_score(y_test, y_pred))\n",
    "print('Testing F1 score: {}'.format(f1_score(y_test, y_pred, average='weighted')))"
   ]
  },
  {
   "cell_type": "code",
   "execution_count": 107,
   "metadata": {},
   "outputs": [
    {
     "data": {
      "text/plain": [
       "array(['Bank account or service', 'Debt collection',\n",
       "       'Bank account or service', 'Debt collection', 'Debt collection',\n",
       "       'Debt collection', 'Payday loan', 'Mortgage', 'Credit reporting',\n",
       "       'Debt collection'], dtype='<U23')"
      ]
     },
     "execution_count": 107,
     "metadata": {},
     "output_type": "execute_result"
    }
   ],
   "source": [
    "logreg.predict(X_test[:10])"
   ]
  },
  {
   "cell_type": "code",
   "execution_count": null,
   "metadata": {},
   "outputs": [],
   "source": []
  }
 ],
 "metadata": {
  "kernelspec": {
   "display_name": "Python 3",
   "language": "python",
   "name": "python3"
  },
  "language_info": {
   "codemirror_mode": {
    "name": "ipython",
    "version": 3
   },
   "file_extension": ".py",
   "mimetype": "text/x-python",
   "name": "python",
   "nbconvert_exporter": "python",
   "pygments_lexer": "ipython3",
   "version": "3.7.4"
  }
 },
 "nbformat": 4,
 "nbformat_minor": 2
}
