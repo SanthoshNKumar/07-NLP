{
 "cells": [
  {
   "cell_type": "code",
   "execution_count": null,
   "metadata": {},
   "outputs": [],
   "source": [
    "# Embedding : Glove\n",
    "# Input : Padded Sequence of Interger Vlaues from Keras tokenizer\n",
    "# Output : One hot Encoder of the classes"
   ]
  },
  {
   "cell_type": "code",
   "execution_count": 1,
   "metadata": {},
   "outputs": [],
   "source": [
    "import pandas as pd\n",
    "\n",
    "data = pd.read_csv(\"C:\\MyWork\\MyLearning\\Career Growth\\ML\\Files\\DataSet\\Consumer Complaint.csv\")\n",
    "\n",
    "data = data[['Product','Issue']]"
   ]
  },
  {
   "cell_type": "code",
   "execution_count": 2,
   "metadata": {},
   "outputs": [
    {
     "data": {
      "text/html": [
       "<div>\n",
       "<style scoped>\n",
       "    .dataframe tbody tr th:only-of-type {\n",
       "        vertical-align: middle;\n",
       "    }\n",
       "\n",
       "    .dataframe tbody tr th {\n",
       "        vertical-align: top;\n",
       "    }\n",
       "\n",
       "    .dataframe thead th {\n",
       "        text-align: right;\n",
       "    }\n",
       "</style>\n",
       "<table border=\"1\" class=\"dataframe\">\n",
       "  <thead>\n",
       "    <tr style=\"text-align: right;\">\n",
       "      <th></th>\n",
       "      <th>Product</th>\n",
       "      <th>Issue</th>\n",
       "    </tr>\n",
       "  </thead>\n",
       "  <tbody>\n",
       "    <tr>\n",
       "      <td>0</td>\n",
       "      <td>Debt collection</td>\n",
       "      <td>Communication tactics</td>\n",
       "    </tr>\n",
       "    <tr>\n",
       "      <td>1</td>\n",
       "      <td>Debt collection</td>\n",
       "      <td>Cont'd attempts collect debt not owed</td>\n",
       "    </tr>\n",
       "    <tr>\n",
       "      <td>2</td>\n",
       "      <td>Mortgage</td>\n",
       "      <td>Application, originator, mortgage broker</td>\n",
       "    </tr>\n",
       "    <tr>\n",
       "      <td>3</td>\n",
       "      <td>Credit card</td>\n",
       "      <td>Other</td>\n",
       "    </tr>\n",
       "    <tr>\n",
       "      <td>4</td>\n",
       "      <td>Debt collection</td>\n",
       "      <td>Cont'd attempts collect debt not owed</td>\n",
       "    </tr>\n",
       "  </tbody>\n",
       "</table>\n",
       "</div>"
      ],
      "text/plain": [
       "           Product                                     Issue\n",
       "0  Debt collection                     Communication tactics\n",
       "1  Debt collection     Cont'd attempts collect debt not owed\n",
       "2         Mortgage  Application, originator, mortgage broker\n",
       "3      Credit card                                     Other\n",
       "4  Debt collection     Cont'd attempts collect debt not owed"
      ]
     },
     "execution_count": 2,
     "metadata": {},
     "output_type": "execute_result"
    }
   ],
   "source": [
    "data.head()"
   ]
  },
  {
   "cell_type": "code",
   "execution_count": 3,
   "metadata": {},
   "outputs": [],
   "source": [
    "# Choose Not null values\n",
    "data = data[pd.notnull(data['Issue'])]"
   ]
  },
  {
   "cell_type": "code",
   "execution_count": 4,
   "metadata": {},
   "outputs": [
    {
     "data": {
      "text/plain": [
       "Product    0\n",
       "Issue      0\n",
       "dtype: int64"
      ]
     },
     "execution_count": 4,
     "metadata": {},
     "output_type": "execute_result"
    }
   ],
   "source": [
    "# No null values\n",
    "data.isnull().sum()"
   ]
  },
  {
   "cell_type": "code",
   "execution_count": 5,
   "metadata": {},
   "outputs": [
    {
     "data": {
      "text/plain": [
       "(28154, 2)"
      ]
     },
     "execution_count": 5,
     "metadata": {},
     "output_type": "execute_result"
    }
   ],
   "source": [
    "data.shape"
   ]
  },
  {
   "cell_type": "code",
   "execution_count": 6,
   "metadata": {},
   "outputs": [],
   "source": [
    "from bs4 import BeautifulSoup\n",
    "import re\n",
    "from string import punctuation\n",
    "\n",
    "punctns = punctuation + \"'\"\n",
    "\n",
    "def cleanText(text):\n",
    "    text = ''.join([x for x in text if x not in punctuation])\n",
    "    text = BeautifulSoup(text, \"lxml\").text\n",
    "    text = re.sub(r'\\|\\|\\|', r' ', text) \n",
    "    text = re.sub(r'http\\S+', r'<URL>', text)\n",
    "    text = text.lower()\n",
    "    text = text.replace('x', '')\n",
    "    return text"
   ]
  },
  {
   "cell_type": "code",
   "execution_count": 7,
   "metadata": {},
   "outputs": [],
   "source": [
    "data['Issue'] = data['Issue'].apply(cleanText)"
   ]
  },
  {
   "cell_type": "code",
   "execution_count": 8,
   "metadata": {},
   "outputs": [
    {
     "data": {
      "text/plain": [
       "122193"
      ]
     },
     "execution_count": 8,
     "metadata": {},
     "output_type": "execute_result"
    }
   ],
   "source": [
    "# Find Vocabulary Size\n",
    "data['Issue'].apply(lambda x: len(x.split(' '))).sum()"
   ]
  },
  {
   "cell_type": "code",
   "execution_count": 9,
   "metadata": {},
   "outputs": [
    {
     "data": {
      "text/html": [
       "<div>\n",
       "<style scoped>\n",
       "    .dataframe tbody tr th:only-of-type {\n",
       "        vertical-align: middle;\n",
       "    }\n",
       "\n",
       "    .dataframe tbody tr th {\n",
       "        vertical-align: top;\n",
       "    }\n",
       "\n",
       "    .dataframe thead th {\n",
       "        text-align: right;\n",
       "    }\n",
       "</style>\n",
       "<table border=\"1\" class=\"dataframe\">\n",
       "  <thead>\n",
       "    <tr style=\"text-align: right;\">\n",
       "      <th></th>\n",
       "      <th>Product</th>\n",
       "      <th>Issue</th>\n",
       "    </tr>\n",
       "  </thead>\n",
       "  <tbody>\n",
       "    <tr>\n",
       "      <td>0</td>\n",
       "      <td>Debt collection</td>\n",
       "      <td>communication tactics</td>\n",
       "    </tr>\n",
       "    <tr>\n",
       "      <td>1</td>\n",
       "      <td>Debt collection</td>\n",
       "      <td>contd attempts collect debt not owed</td>\n",
       "    </tr>\n",
       "    <tr>\n",
       "      <td>2</td>\n",
       "      <td>Mortgage</td>\n",
       "      <td>application originator mortgage broker</td>\n",
       "    </tr>\n",
       "    <tr>\n",
       "      <td>3</td>\n",
       "      <td>Credit card</td>\n",
       "      <td>other</td>\n",
       "    </tr>\n",
       "    <tr>\n",
       "      <td>4</td>\n",
       "      <td>Debt collection</td>\n",
       "      <td>contd attempts collect debt not owed</td>\n",
       "    </tr>\n",
       "  </tbody>\n",
       "</table>\n",
       "</div>"
      ],
      "text/plain": [
       "           Product                                   Issue\n",
       "0  Debt collection                   communication tactics\n",
       "1  Debt collection    contd attempts collect debt not owed\n",
       "2         Mortgage  application originator mortgage broker\n",
       "3      Credit card                                   other\n",
       "4  Debt collection    contd attempts collect debt not owed"
      ]
     },
     "execution_count": 9,
     "metadata": {},
     "output_type": "execute_result"
    }
   ],
   "source": [
    "data.head()"
   ]
  },
  {
   "cell_type": "code",
   "execution_count": 10,
   "metadata": {},
   "outputs": [
    {
     "data": {
      "text/plain": [
       "Debt collection            7494\n",
       "Mortgage                   6612\n",
       "Credit reporting           5717\n",
       "Credit card                2830\n",
       "Bank account or service    2607\n",
       "Consumer loan              1314\n",
       "Student loan                785\n",
       "Payday loan                 348\n",
       "Money transfers             232\n",
       "Prepaid card                175\n",
       "Other financial service      40\n",
       "Name: Product, dtype: int64"
      ]
     },
     "execution_count": 10,
     "metadata": {},
     "output_type": "execute_result"
    }
   ],
   "source": [
    "data.Product.value_counts()"
   ]
  },
  {
   "cell_type": "code",
   "execution_count": 53,
   "metadata": {},
   "outputs": [
    {
     "data": {
      "text/plain": [
       "40"
      ]
     },
     "execution_count": 53,
     "metadata": {},
     "output_type": "execute_result"
    }
   ],
   "source": [
    "doc = [x.split() for x in data['Issue']]\n",
    "\n",
    "max_seq_length = max([len(x) for x in data['Issue']])\n",
    "\n",
    "max_seq_length"
   ]
  },
  {
   "cell_type": "code",
   "execution_count": 37,
   "metadata": {},
   "outputs": [
    {
     "data": {
      "text/plain": [
       "186"
      ]
     },
     "execution_count": 37,
     "metadata": {},
     "output_type": "execute_result"
    }
   ],
   "source": [
    "# Find the Vocabulari size\n",
    "len(set([x for y in doc for x in y]))"
   ]
  },
  {
   "cell_type": "code",
   "execution_count": 84,
   "metadata": {},
   "outputs": [],
   "source": [
    "from keras.preprocessing.text import Tokenizer\n",
    "from keras.preprocessing.sequence import sequence\n",
    "from keras.preprocessing.sequence import pad_sequences\n",
    "\n",
    "tokenizer = Tokenizer(num_words = 8000,filters='!\"#$%&()*+,-./:;<=>?@[\\]^_`{|}~', lower=True)\n",
    "tokenizer.fit_on_texts(data['Issue'].values)\n",
    "sequence = tokenizer.texts_to_sequences(data['Issue'].values)\n",
    "word2idx_ = tokenizer.word_index"
   ]
  },
  {
   "cell_type": "code",
   "execution_count": 85,
   "metadata": {},
   "outputs": [
    {
     "data": {
      "text/plain": [
       "[('loan', 1),\n",
       " ('credit', 2),\n",
       " ('debt', 3),\n",
       " ('or', 4),\n",
       " ('account', 5),\n",
       " ('report', 6),\n",
       " ('incorrect', 7),\n",
       " ('information', 8),\n",
       " ('on', 9),\n",
       " ('not', 10)]"
      ]
     },
     "execution_count": 85,
     "metadata": {},
     "output_type": "execute_result"
    }
   ],
   "source": [
    "list(word2idx_.items())[:10]"
   ]
  },
  {
   "cell_type": "code",
   "execution_count": 86,
   "metadata": {},
   "outputs": [
    {
     "data": {
      "text/plain": [
       "[[23, 24],\n",
       " [11, 12, 13, 3, 10, 14],\n",
       " [56, 58, 59, 60],\n",
       " [52],\n",
       " [11, 12, 13, 3, 10, 14],\n",
       " [23, 24],\n",
       " [37, 32, 1, 4, 31],\n",
       " [23, 24],\n",
       " [11, 12, 13, 3, 10, 14],\n",
       " [63, 64, 65, 66]]"
      ]
     },
     "execution_count": 86,
     "metadata": {},
     "output_type": "execute_result"
    }
   ],
   "source": [
    "sequence[:10]"
   ]
  },
  {
   "cell_type": "code",
   "execution_count": 63,
   "metadata": {},
   "outputs": [],
   "source": [
    "X = pad_sequences(sequence,maxlen=130)"
   ]
  },
  {
   "cell_type": "code",
   "execution_count": 64,
   "metadata": {},
   "outputs": [
    {
     "data": {
      "text/plain": [
       "(28154, 130)"
      ]
     },
     "execution_count": 64,
     "metadata": {},
     "output_type": "execute_result"
    }
   ],
   "source": [
    "X.shape"
   ]
  },
  {
   "cell_type": "code",
   "execution_count": 65,
   "metadata": {},
   "outputs": [
    {
     "data": {
      "text/plain": [
       "(28154, 11)"
      ]
     },
     "execution_count": 65,
     "metadata": {},
     "output_type": "execute_result"
    }
   ],
   "source": [
    "from sklearn.preprocessing import OneHotEncoder\n",
    "\n",
    "ohe = OneHotEncoder()\n",
    "y = ohe.fit_transform(data[['Product']]).toarray()\n",
    "\n",
    "y.shape"
   ]
  },
  {
   "cell_type": "code",
   "execution_count": 66,
   "metadata": {},
   "outputs": [],
   "source": [
    "from numpy import array\n",
    "from numpy import asarray\n",
    "from numpy import zeros\n",
    "\n",
    "embeddings_dictionary = dict()\n",
    "\n",
    "glove_file = open(r'C:\\MyWork\\MyLearning\\Career Growth\\ML\\Files\\DataSet\\glove.6B.100d.txt', encoding=\"utf8\")\n",
    "\n",
    "for line in glove_file:\n",
    "    records = line.split()\n",
    "    word = records[0]\n",
    "    vector_dimensions = asarray(records[1:], dtype='float32')    \n",
    "    embeddings_dictionary[word] = vector_dimensions\n",
    "glove_file.close()"
   ]
  },
  {
   "cell_type": "code",
   "execution_count": 67,
   "metadata": {},
   "outputs": [
    {
     "data": {
      "text/plain": [
       "187"
      ]
     },
     "execution_count": 67,
     "metadata": {},
     "output_type": "execute_result"
    }
   ],
   "source": [
    "num_words = len(word2idx_) + 1\n",
    "\n",
    "num_words"
   ]
  },
  {
   "cell_type": "code",
   "execution_count": 68,
   "metadata": {},
   "outputs": [
    {
     "data": {
      "text/plain": [
       "(187, 100)"
      ]
     },
     "execution_count": 68,
     "metadata": {},
     "output_type": "execute_result"
    }
   ],
   "source": [
    "import numpy as np\n",
    "\n",
    "EMBEDDING_SIZE = 100\n",
    "embedding_matrix = np.zeros((num_words, EMBEDDING_SIZE))\n",
    "\n",
    "embedding_matrix.shape"
   ]
  },
  {
   "cell_type": "code",
   "execution_count": 89,
   "metadata": {},
   "outputs": [
    {
     "data": {
      "text/plain": [
       "array([[ 0,  0,  0,  0,  0,  0,  0,  0,  0,  0,  0,  0,  0,  0,  0,  0,\n",
       "         0,  0,  0,  0,  0,  0,  0,  0,  0,  0,  0,  0,  0,  0,  0,  0,\n",
       "         0,  0,  0,  0,  0,  0,  0,  0,  0,  0,  0,  0,  0,  0,  0,  0,\n",
       "         0,  0,  0,  0,  0,  0,  0,  0,  0,  0,  0,  0,  0,  0,  0,  0,\n",
       "         0,  0,  0,  0,  0,  0,  0,  0,  0,  0,  0,  0,  0,  0,  0,  0,\n",
       "         0,  0,  0,  0,  0,  0,  0,  0,  0,  0,  0,  0,  0,  0,  0,  0,\n",
       "         0,  0,  0,  0,  0,  0,  0,  0,  0,  0,  0,  0,  0,  0,  0,  0,\n",
       "         0,  0,  0,  0,  0,  0,  0,  0,  0,  0,  0,  0,  0,  0,  0,  0,\n",
       "        23, 24]])"
      ]
     },
     "execution_count": 89,
     "metadata": {},
     "output_type": "execute_result"
    }
   ],
   "source": [
    "X[:1]"
   ]
  },
  {
   "cell_type": "code",
   "execution_count": 69,
   "metadata": {},
   "outputs": [],
   "source": [
    "for word, index in word2idx_.items():\n",
    "    embedding_vector = embeddings_dictionary.get(word)\n",
    "    if embedding_vector is not None:\n",
    "        embedding_matrix[index] = embedding_vector"
   ]
  },
  {
   "cell_type": "code",
   "execution_count": 72,
   "metadata": {},
   "outputs": [
    {
     "data": {
      "text/plain": [
       "(187, 100)"
      ]
     },
     "execution_count": 72,
     "metadata": {},
     "output_type": "execute_result"
    }
   ],
   "source": [
    "embedding_matrix.shape"
   ]
  },
  {
   "cell_type": "code",
   "execution_count": 75,
   "metadata": {},
   "outputs": [],
   "source": [
    "from keras.models import Sequential\n",
    "from keras.layers import Embedding\n",
    "\n",
    "model = Sequential()\n",
    "# weights = [embedding_matrix] : Using Pretrained Model\n",
    "model.add(Embedding(num_words,100,weights = [embedding_matrix],input_length=130,trainable = False))\n",
    "model.add(LSTM(64,dropout=0.7,recurrent_dropout=0.7))\n",
    "model.add(Dense(11,activation='softmax'))\n",
    "\n",
    "model.compile(optimizer='adam', loss='categorical_crossentropy', metrics=['acc'])"
   ]
  },
  {
   "cell_type": "code",
   "execution_count": 76,
   "metadata": {},
   "outputs": [
    {
     "name": "stdout",
     "output_type": "stream",
     "text": [
      "WARNING:tensorflow:From c:\\users\\insakum46\\appdata\\local\\programs\\python\\python37\\lib\\site-packages\\keras\\backend\\tensorflow_backend.py:422: The name tf.global_variables is deprecated. Please use tf.compat.v1.global_variables instead.\n",
      "\n",
      "Train on 22523 samples, validate on 5631 samples\n",
      "Epoch 1/30\n",
      "22523/22523 [==============================] - 21s 913us/step - loss: 1.3847 - acc: 0.6029 - val_loss: 0.5644 - val_acc: 0.8521\n",
      "Epoch 2/30\n",
      "22523/22523 [==============================] - 38s 2ms/step - loss: 0.5519 - acc: 0.8632 - val_loss: 0.2155 - val_acc: 0.9666\n",
      "Epoch 3/30\n",
      "22523/22523 [==============================] - 42s 2ms/step - loss: 0.3337 - acc: 0.9213 - val_loss: 0.1315 - val_acc: 0.9691\n",
      "Epoch 4/30\n",
      "22523/22523 [==============================] - 41s 2ms/step - loss: 0.2396 - acc: 0.9432 - val_loss: 0.0961 - val_acc: 0.9741\n",
      "Epoch 5/30\n",
      "22523/22523 [==============================] - 39s 2ms/step - loss: 0.1863 - acc: 0.9555 - val_loss: 0.0745 - val_acc: 0.9780\n",
      "Epoch 6/30\n",
      "22523/22523 [==============================] - 41s 2ms/step - loss: 0.1469 - acc: 0.9644 - val_loss: 0.0610 - val_acc: 0.9794\n",
      "Epoch 7/30\n",
      "22523/22523 [==============================] - 41s 2ms/step - loss: 0.1246 - acc: 0.9691 - val_loss: 0.0504 - val_acc: 0.9861\n",
      "Epoch 8/30\n",
      "22523/22523 [==============================] - 41s 2ms/step - loss: 0.1062 - acc: 0.9750 - val_loss: 0.0463 - val_acc: 0.9895\n",
      "Epoch 9/30\n",
      "22523/22523 [==============================] - 41s 2ms/step - loss: 0.0906 - acc: 0.9790 - val_loss: 0.0414 - val_acc: 0.9909\n",
      "Epoch 10/30\n",
      "22523/22523 [==============================] - 41s 2ms/step - loss: 0.0809 - acc: 0.9821 - val_loss: 0.0374 - val_acc: 0.9909\n",
      "Epoch 11/30\n",
      "22523/22523 [==============================] - 41s 2ms/step - loss: 0.0748 - acc: 0.9823 - val_loss: 0.0348 - val_acc: 0.9909\n",
      "Epoch 12/30\n",
      "22523/22523 [==============================] - 42s 2ms/step - loss: 0.0676 - acc: 0.9843 - val_loss: 0.0339 - val_acc: 0.9917\n",
      "Epoch 13/30\n",
      "22523/22523 [==============================] - 41s 2ms/step - loss: 0.0623 - acc: 0.9867 - val_loss: 0.0314 - val_acc: 0.9909\n",
      "Epoch 14/30\n",
      "22523/22523 [==============================] - 41s 2ms/step - loss: 0.0578 - acc: 0.9868 - val_loss: 0.0300 - val_acc: 0.9918\n",
      "Epoch 15/30\n",
      "22523/22523 [==============================] - 42s 2ms/step - loss: 0.0544 - acc: 0.9872 - val_loss: 0.0288 - val_acc: 0.9918\n",
      "Epoch 16/30\n",
      "22523/22523 [==============================] - 41s 2ms/step - loss: 0.0500 - acc: 0.9885 - val_loss: 0.0277 - val_acc: 0.9920\n",
      "Epoch 17/30\n",
      "22523/22523 [==============================] - 42s 2ms/step - loss: 0.0476 - acc: 0.9884 - val_loss: 0.0270 - val_acc: 0.9920\n",
      "Epoch 18/30\n",
      "22523/22523 [==============================] - 42s 2ms/step - loss: 0.0449 - acc: 0.9893 - val_loss: 0.0261 - val_acc: 0.9922\n",
      "Epoch 19/30\n",
      "22523/22523 [==============================] - 42s 2ms/step - loss: 0.0420 - acc: 0.9901 - val_loss: 0.0260 - val_acc: 0.9922\n",
      "Epoch 20/30\n",
      "22523/22523 [==============================] - 42s 2ms/step - loss: 0.0412 - acc: 0.9903 - val_loss: 0.0249 - val_acc: 0.9922\n",
      "Epoch 21/30\n",
      "22523/22523 [==============================] - 42s 2ms/step - loss: 0.0397 - acc: 0.9899 - val_loss: 0.0243 - val_acc: 0.9925\n",
      "Epoch 22/30\n",
      "22523/22523 [==============================] - 41s 2ms/step - loss: 0.0387 - acc: 0.9904 - val_loss: 0.0237 - val_acc: 0.9925\n",
      "Epoch 23/30\n",
      "22523/22523 [==============================] - 42s 2ms/step - loss: 0.0378 - acc: 0.9902 - val_loss: 0.0228 - val_acc: 0.9925\n",
      "Epoch 24/30\n",
      "22523/22523 [==============================] - 42s 2ms/step - loss: 0.0368 - acc: 0.9906 - val_loss: 0.0221 - val_acc: 0.9925\n",
      "Epoch 25/30\n",
      "22523/22523 [==============================] - 42s 2ms/step - loss: 0.0346 - acc: 0.9910 - val_loss: 0.0222 - val_acc: 0.9925\n",
      "Epoch 26/30\n",
      "22523/22523 [==============================] - 41s 2ms/step - loss: 0.0336 - acc: 0.9911 - val_loss: 0.0218 - val_acc: 0.9925\n",
      "Epoch 27/30\n",
      "22523/22523 [==============================] - 42s 2ms/step - loss: 0.0336 - acc: 0.9910 - val_loss: 0.0213 - val_acc: 0.9925\n",
      "Epoch 28/30\n",
      "22523/22523 [==============================] - 41s 2ms/step - loss: 0.0321 - acc: 0.9913 - val_loss: 0.0211 - val_acc: 0.9925\n",
      "Epoch 29/30\n",
      "22523/22523 [==============================] - 41s 2ms/step - loss: 0.0300 - acc: 0.9917 - val_loss: 0.0203 - val_acc: 0.9925\n",
      "Epoch 30/30\n",
      "22523/22523 [==============================] - 40s 2ms/step - loss: 0.0301 - acc: 0.9917 - val_loss: 0.0204 - val_acc: 0.9925\n"
     ]
    }
   ],
   "source": [
    "history = model.fit(X, y, epochs=30, batch_size=256,validation_split=0.2,\n",
    "                    callbacks=[EarlyStopping(monitor='val_loss',patience=7, min_delta=0.0001)])"
   ]
  },
  {
   "cell_type": "code",
   "execution_count": 90,
   "metadata": {},
   "outputs": [
    {
     "name": "stdout",
     "output_type": "stream",
     "text": [
      "Model: \"sequential_7\"\n",
      "_________________________________________________________________\n",
      "Layer (type)                 Output Shape              Param #   \n",
      "=================================================================\n",
      "embedding_7 (Embedding)      (None, 130, 100)          18700     \n",
      "_________________________________________________________________\n",
      "lstm_5 (LSTM)                (None, 64)                42240     \n",
      "_________________________________________________________________\n",
      "dense_5 (Dense)              (None, 11)                715       \n",
      "=================================================================\n",
      "Total params: 61,655\n",
      "Trainable params: 42,955\n",
      "Non-trainable params: 18,700\n",
      "_________________________________________________________________\n"
     ]
    }
   ],
   "source": [
    "model.summary()"
   ]
  },
  {
   "cell_type": "code",
   "execution_count": 77,
   "metadata": {},
   "outputs": [],
   "source": [
    "product_wordIndex = {\n",
    "                    0:\"Bank account or service\",\n",
    "                    1:\"Consumer loan\",\n",
    "                    2:\"Credit card\",\n",
    "                    3:\"Credit reporting\",\n",
    "                    4:\"Debt collection\",\n",
    "                    5:\"Money transfers\",\n",
    "                    6:\"Mortgage\",\n",
    "                    7:\"Other financial service\",\n",
    "                    8:\"Payday loan\",\n",
    "                    9:\"Prepaid card\",\n",
    "                    10:\"Student loan\"\n",
    "                    }\n",
    "\n",
    "def generate_Padsequence(text,maxlen):\n",
    "    \n",
    "    # Tokenize the doc\n",
    "    token = [x for x in text.split()]\n",
    "    \n",
    "    # Text to Sequence Converter\n",
    "    token = [word_index[t] for t in token]\n",
    "    \n",
    "    # Sequrnce to padding\n",
    "    pad_seq = pad_sequences([token],maxlen)\n",
    "    \n",
    "    return pad_seq\n",
    "\n",
    "\n",
    "def predictProduct(model,issue):\n",
    "    \n",
    "    issue = cleanText(issue)\n",
    "    \n",
    "    # Generate Padded Sequennce\n",
    "    text_padSequence = generate_Padsequence(issue,130)\n",
    "    \n",
    "    # Predict from the model\n",
    "    pred = model.predict(text_padSequence)\n",
    "    \n",
    "    # Flattern the array\n",
    "    pred = pred.flatten().tolist()\n",
    "    \n",
    "    # Get the Max Value\n",
    "    max_value = max(pred)\n",
    "    \n",
    "    # find max value index\n",
    "    product_index = pred.index(max_value)\n",
    "    \n",
    "    return product_wordIndex[product_index]"
   ]
  },
  {
   "cell_type": "code",
   "execution_count": 78,
   "metadata": {},
   "outputs": [],
   "source": [
    "# choose a random element from a list\n",
    "from random import seed\n",
    "from random import choice\n",
    "# seed random number generator\n",
    "seed(1)\n",
    "# prepare a sequence\n",
    "sequence = [i for i in range(20)]\n",
    "# make choices from the sequence\n",
    "\n",
    "index = []\n",
    "\n",
    "for _ in range(10):\n",
    "    selection = choice(sequence)\n",
    "    index.append(selection)\n",
    "    \n",
    "actual_output = []\n",
    "predicted_output = []\n",
    "\n",
    "df = data.iloc[index,:]"
   ]
  },
  {
   "cell_type": "code",
   "execution_count": 79,
   "metadata": {},
   "outputs": [
    {
     "data": {
      "text/html": [
       "<div>\n",
       "<style scoped>\n",
       "    .dataframe tbody tr th:only-of-type {\n",
       "        vertical-align: middle;\n",
       "    }\n",
       "\n",
       "    .dataframe tbody tr th {\n",
       "        vertical-align: top;\n",
       "    }\n",
       "\n",
       "    .dataframe thead th {\n",
       "        text-align: right;\n",
       "    }\n",
       "</style>\n",
       "<table border=\"1\" class=\"dataframe\">\n",
       "  <thead>\n",
       "    <tr style=\"text-align: right;\">\n",
       "      <th></th>\n",
       "      <th>Product</th>\n",
       "      <th>Issue</th>\n",
       "    </tr>\n",
       "  </thead>\n",
       "  <tbody>\n",
       "    <tr>\n",
       "      <td>4</td>\n",
       "      <td>Debt collection</td>\n",
       "      <td>contd attempts collect debt not owed</td>\n",
       "    </tr>\n",
       "    <tr>\n",
       "      <td>18</td>\n",
       "      <td>Debt collection</td>\n",
       "      <td>communication tactics</td>\n",
       "    </tr>\n",
       "    <tr>\n",
       "      <td>2</td>\n",
       "      <td>Mortgage</td>\n",
       "      <td>application originator mortgage broker</td>\n",
       "    </tr>\n",
       "    <tr>\n",
       "      <td>8</td>\n",
       "      <td>Debt collection</td>\n",
       "      <td>contd attempts collect debt not owed</td>\n",
       "    </tr>\n",
       "    <tr>\n",
       "      <td>3</td>\n",
       "      <td>Credit card</td>\n",
       "      <td>other</td>\n",
       "    </tr>\n",
       "    <tr>\n",
       "      <td>15</td>\n",
       "      <td>Debt collection</td>\n",
       "      <td>disclosure verification of debt</td>\n",
       "    </tr>\n",
       "    <tr>\n",
       "      <td>14</td>\n",
       "      <td>Debt collection</td>\n",
       "      <td>disclosure verification of debt</td>\n",
       "    </tr>\n",
       "    <tr>\n",
       "      <td>15</td>\n",
       "      <td>Debt collection</td>\n",
       "      <td>disclosure verification of debt</td>\n",
       "    </tr>\n",
       "    <tr>\n",
       "      <td>12</td>\n",
       "      <td>Debt collection</td>\n",
       "      <td>contd attempts collect debt not owed</td>\n",
       "    </tr>\n",
       "    <tr>\n",
       "      <td>6</td>\n",
       "      <td>Consumer loan</td>\n",
       "      <td>managing the loan or lease</td>\n",
       "    </tr>\n",
       "  </tbody>\n",
       "</table>\n",
       "</div>"
      ],
      "text/plain": [
       "            Product                                   Issue\n",
       "4   Debt collection    contd attempts collect debt not owed\n",
       "18  Debt collection                   communication tactics\n",
       "2          Mortgage  application originator mortgage broker\n",
       "8   Debt collection    contd attempts collect debt not owed\n",
       "3       Credit card                                   other\n",
       "15  Debt collection         disclosure verification of debt\n",
       "14  Debt collection         disclosure verification of debt\n",
       "15  Debt collection         disclosure verification of debt\n",
       "12  Debt collection    contd attempts collect debt not owed\n",
       "6     Consumer loan              managing the loan or lease"
      ]
     },
     "execution_count": 79,
     "metadata": {},
     "output_type": "execute_result"
    }
   ],
   "source": [
    "df"
   ]
  },
  {
   "cell_type": "code",
   "execution_count": 80,
   "metadata": {},
   "outputs": [],
   "source": [
    "\n",
    "for index, row in df.iterrows():\n",
    "    \n",
    "    actual_output.append(row['Product'])\n",
    "    \n",
    "    issue = row['Issue']\n",
    "    \n",
    "    predicted_output.append(predictProduct(model,issue))"
   ]
  },
  {
   "cell_type": "code",
   "execution_count": 81,
   "metadata": {},
   "outputs": [
    {
     "data": {
      "text/html": [
       "<div>\n",
       "<style scoped>\n",
       "    .dataframe tbody tr th:only-of-type {\n",
       "        vertical-align: middle;\n",
       "    }\n",
       "\n",
       "    .dataframe tbody tr th {\n",
       "        vertical-align: top;\n",
       "    }\n",
       "\n",
       "    .dataframe thead th {\n",
       "        text-align: right;\n",
       "    }\n",
       "</style>\n",
       "<table border=\"1\" class=\"dataframe\">\n",
       "  <thead>\n",
       "    <tr style=\"text-align: right;\">\n",
       "      <th></th>\n",
       "      <th>Actual</th>\n",
       "      <th>Predicted</th>\n",
       "    </tr>\n",
       "  </thead>\n",
       "  <tbody>\n",
       "    <tr>\n",
       "      <td>0</td>\n",
       "      <td>Debt collection</td>\n",
       "      <td>Debt collection</td>\n",
       "    </tr>\n",
       "    <tr>\n",
       "      <td>1</td>\n",
       "      <td>Debt collection</td>\n",
       "      <td>Debt collection</td>\n",
       "    </tr>\n",
       "    <tr>\n",
       "      <td>2</td>\n",
       "      <td>Mortgage</td>\n",
       "      <td>Mortgage</td>\n",
       "    </tr>\n",
       "    <tr>\n",
       "      <td>3</td>\n",
       "      <td>Debt collection</td>\n",
       "      <td>Debt collection</td>\n",
       "    </tr>\n",
       "    <tr>\n",
       "      <td>4</td>\n",
       "      <td>Credit card</td>\n",
       "      <td>Credit card</td>\n",
       "    </tr>\n",
       "    <tr>\n",
       "      <td>5</td>\n",
       "      <td>Debt collection</td>\n",
       "      <td>Debt collection</td>\n",
       "    </tr>\n",
       "    <tr>\n",
       "      <td>6</td>\n",
       "      <td>Debt collection</td>\n",
       "      <td>Debt collection</td>\n",
       "    </tr>\n",
       "    <tr>\n",
       "      <td>7</td>\n",
       "      <td>Debt collection</td>\n",
       "      <td>Debt collection</td>\n",
       "    </tr>\n",
       "    <tr>\n",
       "      <td>8</td>\n",
       "      <td>Debt collection</td>\n",
       "      <td>Debt collection</td>\n",
       "    </tr>\n",
       "    <tr>\n",
       "      <td>9</td>\n",
       "      <td>Consumer loan</td>\n",
       "      <td>Consumer loan</td>\n",
       "    </tr>\n",
       "  </tbody>\n",
       "</table>\n",
       "</div>"
      ],
      "text/plain": [
       "            Actual        Predicted\n",
       "0  Debt collection  Debt collection\n",
       "1  Debt collection  Debt collection\n",
       "2         Mortgage         Mortgage\n",
       "3  Debt collection  Debt collection\n",
       "4      Credit card      Credit card\n",
       "5  Debt collection  Debt collection\n",
       "6  Debt collection  Debt collection\n",
       "7  Debt collection  Debt collection\n",
       "8  Debt collection  Debt collection\n",
       "9    Consumer loan    Consumer loan"
      ]
     },
     "execution_count": 81,
     "metadata": {},
     "output_type": "execute_result"
    }
   ],
   "source": [
    "pd.DataFrame({\"Actual\":actual_output,\"Predicted\":predicted_output})"
   ]
  }
 ],
 "metadata": {
  "kernelspec": {
   "display_name": "Python 3",
   "language": "python",
   "name": "python3"
  },
  "language_info": {
   "codemirror_mode": {
    "name": "ipython",
    "version": 3
   },
   "file_extension": ".py",
   "mimetype": "text/x-python",
   "name": "python",
   "nbconvert_exporter": "python",
   "pygments_lexer": "ipython3",
   "version": "3.7.4"
  }
 },
 "nbformat": 4,
 "nbformat_minor": 2
}
