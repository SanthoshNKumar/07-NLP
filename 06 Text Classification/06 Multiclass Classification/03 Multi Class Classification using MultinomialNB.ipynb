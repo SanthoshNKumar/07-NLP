{
 "cells": [
  {
   "cell_type": "code",
   "execution_count": 63,
   "metadata": {},
   "outputs": [],
   "source": [
    "import pandas as pd\n",
    "\n",
    "# Step 1: Read the data\n",
    "# step 2: Choose input features : Issue and \n",
    "#                output : Product\n",
    "#                        {'Debt collection','Mortgage','Credit card','Consumer loan','Bank account or service',\n",
    "#                         'Payday loan','Credit reporting','Money transfers','Student loan','Prepaid card',\n",
    "#                         'Other financial service'}\n",
    "\n",
    "# Feature Extraction : Count Vectorizer and TfIDF\n",
    "# Algorith : MultinomialNB"
   ]
  },
  {
   "cell_type": "code",
   "execution_count": 64,
   "metadata": {},
   "outputs": [],
   "source": [
    "data = pd.read_csv(\"C:\\MyWork\\MyLearning\\Career Growth\\ML\\Files\\DataSet\\Consumer Complaint.csv\")"
   ]
  },
  {
   "cell_type": "code",
   "execution_count": 65,
   "metadata": {},
   "outputs": [
    {
     "data": {
      "text/plain": [
       "(28156, 14)"
      ]
     },
     "execution_count": 65,
     "metadata": {},
     "output_type": "execute_result"
    }
   ],
   "source": [
    "data.shape"
   ]
  },
  {
   "cell_type": "code",
   "execution_count": 66,
   "metadata": {},
   "outputs": [
    {
     "data": {
      "text/html": [
       "<div>\n",
       "<style scoped>\n",
       "    .dataframe tbody tr th:only-of-type {\n",
       "        vertical-align: middle;\n",
       "    }\n",
       "\n",
       "    .dataframe tbody tr th {\n",
       "        vertical-align: top;\n",
       "    }\n",
       "\n",
       "    .dataframe thead th {\n",
       "        text-align: right;\n",
       "    }\n",
       "</style>\n",
       "<table border=\"1\" class=\"dataframe\">\n",
       "  <thead>\n",
       "    <tr style=\"text-align: right;\">\n",
       "      <th></th>\n",
       "      <th>Unnamed: 0</th>\n",
       "      <th>Complaint ID</th>\n",
       "      <th>Product</th>\n",
       "      <th>Sub-product</th>\n",
       "      <th>Issue</th>\n",
       "      <th>Sub-issue</th>\n",
       "      <th>State</th>\n",
       "      <th>ZIP code</th>\n",
       "      <th>Date received</th>\n",
       "      <th>Date sent to company</th>\n",
       "      <th>Company</th>\n",
       "      <th>Company response</th>\n",
       "      <th>Timely response?</th>\n",
       "      <th>Consumer disputed?</th>\n",
       "    </tr>\n",
       "  </thead>\n",
       "  <tbody>\n",
       "    <tr>\n",
       "      <td>0</td>\n",
       "      <td>0</td>\n",
       "      <td>1291006</td>\n",
       "      <td>Debt collection</td>\n",
       "      <td>NaN</td>\n",
       "      <td>Communication tactics</td>\n",
       "      <td>Frequent or repeated calls</td>\n",
       "      <td>TX</td>\n",
       "      <td>76119.0</td>\n",
       "      <td>2015-03-19</td>\n",
       "      <td>2015-03-19</td>\n",
       "      <td>Premium Asset Services, LLC</td>\n",
       "      <td>In progress</td>\n",
       "      <td>Yes</td>\n",
       "      <td>NaN</td>\n",
       "    </tr>\n",
       "    <tr>\n",
       "      <td>1</td>\n",
       "      <td>1</td>\n",
       "      <td>1290580</td>\n",
       "      <td>Debt collection</td>\n",
       "      <td>Medical</td>\n",
       "      <td>Cont'd attempts collect debt not owed</td>\n",
       "      <td>Debt is not mine</td>\n",
       "      <td>TX</td>\n",
       "      <td>77479.0</td>\n",
       "      <td>2015-03-19</td>\n",
       "      <td>2015-03-19</td>\n",
       "      <td>Accounts Receivable Consultants Inc.</td>\n",
       "      <td>Closed with explanation</td>\n",
       "      <td>Yes</td>\n",
       "      <td>NaN</td>\n",
       "    </tr>\n",
       "    <tr>\n",
       "      <td>2</td>\n",
       "      <td>2</td>\n",
       "      <td>1290564</td>\n",
       "      <td>Mortgage</td>\n",
       "      <td>FHA mortgage</td>\n",
       "      <td>Application, originator, mortgage broker</td>\n",
       "      <td>NaN</td>\n",
       "      <td>MA</td>\n",
       "      <td>2127.0</td>\n",
       "      <td>2015-03-19</td>\n",
       "      <td>2015-03-19</td>\n",
       "      <td>RBS Citizens</td>\n",
       "      <td>Closed with explanation</td>\n",
       "      <td>Yes</td>\n",
       "      <td>Yes</td>\n",
       "    </tr>\n",
       "    <tr>\n",
       "      <td>3</td>\n",
       "      <td>3</td>\n",
       "      <td>1291615</td>\n",
       "      <td>Credit card</td>\n",
       "      <td>NaN</td>\n",
       "      <td>Other</td>\n",
       "      <td>NaN</td>\n",
       "      <td>CA</td>\n",
       "      <td>92592.0</td>\n",
       "      <td>2015-03-19</td>\n",
       "      <td>2015-03-19</td>\n",
       "      <td>Navy FCU</td>\n",
       "      <td>In progress</td>\n",
       "      <td>Yes</td>\n",
       "      <td>NaN</td>\n",
       "    </tr>\n",
       "    <tr>\n",
       "      <td>4</td>\n",
       "      <td>4</td>\n",
       "      <td>1292165</td>\n",
       "      <td>Debt collection</td>\n",
       "      <td>Non-federal student loan</td>\n",
       "      <td>Cont'd attempts collect debt not owed</td>\n",
       "      <td>Debt resulted from identity theft</td>\n",
       "      <td>NaN</td>\n",
       "      <td>43068.0</td>\n",
       "      <td>2015-03-19</td>\n",
       "      <td>2015-03-19</td>\n",
       "      <td>Transworld Systems Inc.</td>\n",
       "      <td>In progress</td>\n",
       "      <td>Yes</td>\n",
       "      <td>NaN</td>\n",
       "    </tr>\n",
       "  </tbody>\n",
       "</table>\n",
       "</div>"
      ],
      "text/plain": [
       "   Unnamed: 0  Complaint ID          Product               Sub-product  \\\n",
       "0           0       1291006  Debt collection                       NaN   \n",
       "1           1       1290580  Debt collection                   Medical   \n",
       "2           2       1290564         Mortgage              FHA mortgage   \n",
       "3           3       1291615      Credit card                       NaN   \n",
       "4           4       1292165  Debt collection  Non-federal student loan   \n",
       "\n",
       "                                      Issue  \\\n",
       "0                     Communication tactics   \n",
       "1     Cont'd attempts collect debt not owed   \n",
       "2  Application, originator, mortgage broker   \n",
       "3                                     Other   \n",
       "4     Cont'd attempts collect debt not owed   \n",
       "\n",
       "                           Sub-issue State  ZIP code Date received  \\\n",
       "0         Frequent or repeated calls    TX   76119.0    2015-03-19   \n",
       "1                   Debt is not mine    TX   77479.0    2015-03-19   \n",
       "2                                NaN    MA    2127.0    2015-03-19   \n",
       "3                                NaN    CA   92592.0    2015-03-19   \n",
       "4  Debt resulted from identity theft   NaN   43068.0    2015-03-19   \n",
       "\n",
       "  Date sent to company                               Company  \\\n",
       "0           2015-03-19           Premium Asset Services, LLC   \n",
       "1           2015-03-19  Accounts Receivable Consultants Inc.   \n",
       "2           2015-03-19                          RBS Citizens   \n",
       "3           2015-03-19                              Navy FCU   \n",
       "4           2015-03-19               Transworld Systems Inc.   \n",
       "\n",
       "          Company response Timely response? Consumer disputed?  \n",
       "0              In progress              Yes                NaN  \n",
       "1  Closed with explanation              Yes                NaN  \n",
       "2  Closed with explanation              Yes                Yes  \n",
       "3              In progress              Yes                NaN  \n",
       "4              In progress              Yes                NaN  "
      ]
     },
     "execution_count": 66,
     "metadata": {},
     "output_type": "execute_result"
    }
   ],
   "source": [
    "data.head()"
   ]
  },
  {
   "cell_type": "code",
   "execution_count": 67,
   "metadata": {},
   "outputs": [
    {
     "data": {
      "text/plain": [
       "array(['Debt collection', 'Mortgage', 'Credit card', 'Consumer loan',\n",
       "       'Bank account or service', 'Payday loan', 'Credit reporting',\n",
       "       'Money transfers', 'Student loan', 'Prepaid card',\n",
       "       'Other financial service'], dtype=object)"
      ]
     },
     "execution_count": 67,
     "metadata": {},
     "output_type": "execute_result"
    }
   ],
   "source": [
    "data['Product'].unique()"
   ]
  },
  {
   "cell_type": "code",
   "execution_count": 68,
   "metadata": {},
   "outputs": [
    {
     "data": {
      "text/plain": [
       "0                           Communication tactics\n",
       "1           Cont'd attempts collect debt not owed\n",
       "2        Application, originator, mortgage broker\n",
       "3                                           Other\n",
       "4           Cont'd attempts collect debt not owed\n",
       "                           ...                   \n",
       "28151       Cont'd attempts collect debt not owed\n",
       "28152                Taking out the loan or lease\n",
       "28153    Loan servicing, payments, escrow account\n",
       "28154          Can't stop charges to bank account\n",
       "28155                    Other transaction issues\n",
       "Name: Issue, Length: 28156, dtype: object"
      ]
     },
     "execution_count": 68,
     "metadata": {},
     "output_type": "execute_result"
    }
   ],
   "source": [
    "data['Issue']"
   ]
  },
  {
   "cell_type": "code",
   "execution_count": 69,
   "metadata": {},
   "outputs": [],
   "source": [
    "# Drop the null \n",
    "\n",
    "data = data.dropna(subset=['Issue'])"
   ]
  },
  {
   "cell_type": "code",
   "execution_count": 70,
   "metadata": {},
   "outputs": [
    {
     "data": {
      "text/plain": [
       "Unnamed: 0                  0\n",
       "Complaint ID                0\n",
       "Product                     0\n",
       "Sub-product             10574\n",
       "Issue                       0\n",
       "Sub-issue               14943\n",
       "State                     421\n",
       "ZIP code                  280\n",
       "Date received               0\n",
       "Date sent to company        0\n",
       "Company                     0\n",
       "Company response            0\n",
       "Timely response?            0\n",
       "Consumer disputed?      22148\n",
       "dtype: int64"
      ]
     },
     "execution_count": 70,
     "metadata": {},
     "output_type": "execute_result"
    }
   ],
   "source": [
    "data.isnull().sum()\n",
    "\n",
    "# There is no null values at 'Product' and 'Issue'"
   ]
  },
  {
   "cell_type": "code",
   "execution_count": 71,
   "metadata": {},
   "outputs": [],
   "source": [
    "data['category_id'] = data['Product'].factorize()[0]\n",
    "\n",
    "category_id_df = data[['Product', 'category_id']].drop_duplicates().sort_values('category_id')"
   ]
  },
  {
   "cell_type": "code",
   "execution_count": 72,
   "metadata": {},
   "outputs": [
    {
     "data": {
      "text/html": [
       "<div>\n",
       "<style scoped>\n",
       "    .dataframe tbody tr th:only-of-type {\n",
       "        vertical-align: middle;\n",
       "    }\n",
       "\n",
       "    .dataframe tbody tr th {\n",
       "        vertical-align: top;\n",
       "    }\n",
       "\n",
       "    .dataframe thead th {\n",
       "        text-align: right;\n",
       "    }\n",
       "</style>\n",
       "<table border=\"1\" class=\"dataframe\">\n",
       "  <thead>\n",
       "    <tr style=\"text-align: right;\">\n",
       "      <th></th>\n",
       "      <th>Product</th>\n",
       "      <th>category_id</th>\n",
       "    </tr>\n",
       "  </thead>\n",
       "  <tbody>\n",
       "    <tr>\n",
       "      <td>0</td>\n",
       "      <td>Debt collection</td>\n",
       "      <td>0</td>\n",
       "    </tr>\n",
       "    <tr>\n",
       "      <td>2</td>\n",
       "      <td>Mortgage</td>\n",
       "      <td>1</td>\n",
       "    </tr>\n",
       "    <tr>\n",
       "      <td>3</td>\n",
       "      <td>Credit card</td>\n",
       "      <td>2</td>\n",
       "    </tr>\n",
       "    <tr>\n",
       "      <td>6</td>\n",
       "      <td>Consumer loan</td>\n",
       "      <td>3</td>\n",
       "    </tr>\n",
       "    <tr>\n",
       "      <td>11</td>\n",
       "      <td>Bank account or service</td>\n",
       "      <td>4</td>\n",
       "    </tr>\n",
       "    <tr>\n",
       "      <td>13</td>\n",
       "      <td>Payday loan</td>\n",
       "      <td>5</td>\n",
       "    </tr>\n",
       "    <tr>\n",
       "      <td>26</td>\n",
       "      <td>Credit reporting</td>\n",
       "      <td>6</td>\n",
       "    </tr>\n",
       "    <tr>\n",
       "      <td>39</td>\n",
       "      <td>Money transfers</td>\n",
       "      <td>7</td>\n",
       "    </tr>\n",
       "    <tr>\n",
       "      <td>103</td>\n",
       "      <td>Student loan</td>\n",
       "      <td>8</td>\n",
       "    </tr>\n",
       "    <tr>\n",
       "      <td>730</td>\n",
       "      <td>Prepaid card</td>\n",
       "      <td>9</td>\n",
       "    </tr>\n",
       "    <tr>\n",
       "      <td>1134</td>\n",
       "      <td>Other financial service</td>\n",
       "      <td>10</td>\n",
       "    </tr>\n",
       "  </tbody>\n",
       "</table>\n",
       "</div>"
      ],
      "text/plain": [
       "                      Product  category_id\n",
       "0             Debt collection            0\n",
       "2                    Mortgage            1\n",
       "3                 Credit card            2\n",
       "6               Consumer loan            3\n",
       "11    Bank account or service            4\n",
       "13                Payday loan            5\n",
       "26           Credit reporting            6\n",
       "39            Money transfers            7\n",
       "103              Student loan            8\n",
       "730              Prepaid card            9\n",
       "1134  Other financial service           10"
      ]
     },
     "execution_count": 72,
     "metadata": {},
     "output_type": "execute_result"
    }
   ],
   "source": [
    "category_id_df"
   ]
  },
  {
   "cell_type": "code",
   "execution_count": 73,
   "metadata": {},
   "outputs": [],
   "source": [
    "category_to_id = dict(category_id_df.values)\n",
    "\n",
    "id_to_category = dict(category_id_df[['category_id', 'Product']].values)"
   ]
  },
  {
   "cell_type": "code",
   "execution_count": 74,
   "metadata": {},
   "outputs": [
    {
     "data": {
      "text/plain": [
       "{'Debt collection': 0,\n",
       " 'Mortgage': 1,\n",
       " 'Credit card': 2,\n",
       " 'Consumer loan': 3,\n",
       " 'Bank account or service': 4,\n",
       " 'Payday loan': 5,\n",
       " 'Credit reporting': 6,\n",
       " 'Money transfers': 7,\n",
       " 'Student loan': 8,\n",
       " 'Prepaid card': 9,\n",
       " 'Other financial service': 10}"
      ]
     },
     "execution_count": 74,
     "metadata": {},
     "output_type": "execute_result"
    }
   ],
   "source": [
    "category_to_id"
   ]
  },
  {
   "cell_type": "code",
   "execution_count": 75,
   "metadata": {},
   "outputs": [
    {
     "data": {
      "text/plain": [
       "{0: 'Debt collection',\n",
       " 1: 'Mortgage',\n",
       " 2: 'Credit card',\n",
       " 3: 'Consumer loan',\n",
       " 4: 'Bank account or service',\n",
       " 5: 'Payday loan',\n",
       " 6: 'Credit reporting',\n",
       " 7: 'Money transfers',\n",
       " 8: 'Student loan',\n",
       " 9: 'Prepaid card',\n",
       " 10: 'Other financial service'}"
      ]
     },
     "execution_count": 75,
     "metadata": {},
     "output_type": "execute_result"
    }
   ],
   "source": [
    "id_to_category"
   ]
  },
  {
   "cell_type": "code",
   "execution_count": 76,
   "metadata": {},
   "outputs": [
    {
     "data": {
      "text/html": [
       "<div>\n",
       "<style scoped>\n",
       "    .dataframe tbody tr th:only-of-type {\n",
       "        vertical-align: middle;\n",
       "    }\n",
       "\n",
       "    .dataframe tbody tr th {\n",
       "        vertical-align: top;\n",
       "    }\n",
       "\n",
       "    .dataframe thead th {\n",
       "        text-align: right;\n",
       "    }\n",
       "</style>\n",
       "<table border=\"1\" class=\"dataframe\">\n",
       "  <thead>\n",
       "    <tr style=\"text-align: right;\">\n",
       "      <th></th>\n",
       "      <th>Unnamed: 0</th>\n",
       "      <th>Complaint ID</th>\n",
       "      <th>Product</th>\n",
       "      <th>Sub-product</th>\n",
       "      <th>Issue</th>\n",
       "      <th>Sub-issue</th>\n",
       "      <th>State</th>\n",
       "      <th>ZIP code</th>\n",
       "      <th>Date received</th>\n",
       "      <th>Date sent to company</th>\n",
       "      <th>Company</th>\n",
       "      <th>Company response</th>\n",
       "      <th>Timely response?</th>\n",
       "      <th>Consumer disputed?</th>\n",
       "      <th>category_id</th>\n",
       "    </tr>\n",
       "  </thead>\n",
       "  <tbody>\n",
       "    <tr>\n",
       "      <td>0</td>\n",
       "      <td>0</td>\n",
       "      <td>1291006</td>\n",
       "      <td>Debt collection</td>\n",
       "      <td>NaN</td>\n",
       "      <td>Communication tactics</td>\n",
       "      <td>Frequent or repeated calls</td>\n",
       "      <td>TX</td>\n",
       "      <td>76119.0</td>\n",
       "      <td>2015-03-19</td>\n",
       "      <td>2015-03-19</td>\n",
       "      <td>Premium Asset Services, LLC</td>\n",
       "      <td>In progress</td>\n",
       "      <td>Yes</td>\n",
       "      <td>NaN</td>\n",
       "      <td>0</td>\n",
       "    </tr>\n",
       "    <tr>\n",
       "      <td>1</td>\n",
       "      <td>1</td>\n",
       "      <td>1290580</td>\n",
       "      <td>Debt collection</td>\n",
       "      <td>Medical</td>\n",
       "      <td>Cont'd attempts collect debt not owed</td>\n",
       "      <td>Debt is not mine</td>\n",
       "      <td>TX</td>\n",
       "      <td>77479.0</td>\n",
       "      <td>2015-03-19</td>\n",
       "      <td>2015-03-19</td>\n",
       "      <td>Accounts Receivable Consultants Inc.</td>\n",
       "      <td>Closed with explanation</td>\n",
       "      <td>Yes</td>\n",
       "      <td>NaN</td>\n",
       "      <td>0</td>\n",
       "    </tr>\n",
       "  </tbody>\n",
       "</table>\n",
       "</div>"
      ],
      "text/plain": [
       "   Unnamed: 0  Complaint ID          Product Sub-product  \\\n",
       "0           0       1291006  Debt collection         NaN   \n",
       "1           1       1290580  Debt collection     Medical   \n",
       "\n",
       "                                   Issue                   Sub-issue State  \\\n",
       "0                  Communication tactics  Frequent or repeated calls    TX   \n",
       "1  Cont'd attempts collect debt not owed            Debt is not mine    TX   \n",
       "\n",
       "   ZIP code Date received Date sent to company  \\\n",
       "0   76119.0    2015-03-19           2015-03-19   \n",
       "1   77479.0    2015-03-19           2015-03-19   \n",
       "\n",
       "                                Company         Company response  \\\n",
       "0           Premium Asset Services, LLC              In progress   \n",
       "1  Accounts Receivable Consultants Inc.  Closed with explanation   \n",
       "\n",
       "  Timely response? Consumer disputed?  category_id  \n",
       "0              Yes                NaN            0  \n",
       "1              Yes                NaN            0  "
      ]
     },
     "execution_count": 76,
     "metadata": {},
     "output_type": "execute_result"
    }
   ],
   "source": [
    "data.head(2)"
   ]
  },
  {
   "cell_type": "code",
   "execution_count": 79,
   "metadata": {},
   "outputs": [
    {
     "data": {
      "text/html": [
       "<div>\n",
       "<style scoped>\n",
       "    .dataframe tbody tr th:only-of-type {\n",
       "        vertical-align: middle;\n",
       "    }\n",
       "\n",
       "    .dataframe tbody tr th {\n",
       "        vertical-align: top;\n",
       "    }\n",
       "\n",
       "    .dataframe thead th {\n",
       "        text-align: right;\n",
       "    }\n",
       "</style>\n",
       "<table border=\"1\" class=\"dataframe\">\n",
       "  <thead>\n",
       "    <tr style=\"text-align: right;\">\n",
       "      <th></th>\n",
       "      <th>Unnamed: 0</th>\n",
       "      <th>Complaint ID</th>\n",
       "      <th>Product</th>\n",
       "      <th>Sub-product</th>\n",
       "      <th>Issue</th>\n",
       "      <th>Sub-issue</th>\n",
       "      <th>State</th>\n",
       "      <th>ZIP code</th>\n",
       "      <th>Date received</th>\n",
       "      <th>Date sent to company</th>\n",
       "      <th>Company</th>\n",
       "      <th>Company response</th>\n",
       "      <th>Timely response?</th>\n",
       "      <th>Consumer disputed?</th>\n",
       "      <th>category_id</th>\n",
       "    </tr>\n",
       "  </thead>\n",
       "  <tbody>\n",
       "  </tbody>\n",
       "</table>\n",
       "</div>"
      ],
      "text/plain": [
       "Empty DataFrame\n",
       "Columns: [Unnamed: 0, Complaint ID, Product, Sub-product, Issue, Sub-issue, State, ZIP code, Date received, Date sent to company, Company, Company response, Timely response?, Consumer disputed?, category_id]\n",
       "Index: []"
      ]
     },
     "execution_count": 79,
     "metadata": {},
     "output_type": "execute_result"
    }
   ],
   "source": [
    "data[data['Issue'].isnull()]"
   ]
  },
  {
   "cell_type": "code",
   "execution_count": 80,
   "metadata": {},
   "outputs": [
    {
     "data": {
      "text/html": [
       "<div>\n",
       "<style scoped>\n",
       "    .dataframe tbody tr th:only-of-type {\n",
       "        vertical-align: middle;\n",
       "    }\n",
       "\n",
       "    .dataframe tbody tr th {\n",
       "        vertical-align: top;\n",
       "    }\n",
       "\n",
       "    .dataframe thead th {\n",
       "        text-align: right;\n",
       "    }\n",
       "</style>\n",
       "<table border=\"1\" class=\"dataframe\">\n",
       "  <thead>\n",
       "    <tr style=\"text-align: right;\">\n",
       "      <th></th>\n",
       "      <th>Unnamed: 0</th>\n",
       "      <th>Complaint ID</th>\n",
       "      <th>Product</th>\n",
       "      <th>Sub-product</th>\n",
       "      <th>Issue</th>\n",
       "      <th>Sub-issue</th>\n",
       "      <th>State</th>\n",
       "      <th>ZIP code</th>\n",
       "      <th>Date received</th>\n",
       "      <th>Date sent to company</th>\n",
       "      <th>Company</th>\n",
       "      <th>Company response</th>\n",
       "      <th>Timely response?</th>\n",
       "      <th>Consumer disputed?</th>\n",
       "      <th>category_id</th>\n",
       "    </tr>\n",
       "  </thead>\n",
       "  <tbody>\n",
       "  </tbody>\n",
       "</table>\n",
       "</div>"
      ],
      "text/plain": [
       "Empty DataFrame\n",
       "Columns: [Unnamed: 0, Complaint ID, Product, Sub-product, Issue, Sub-issue, State, ZIP code, Date received, Date sent to company, Company, Company response, Timely response?, Consumer disputed?, category_id]\n",
       "Index: []"
      ]
     },
     "execution_count": 80,
     "metadata": {},
     "output_type": "execute_result"
    }
   ],
   "source": [
    "# No null Values\n",
    "\n",
    "data[data['Product'].isnull()]"
   ]
  },
  {
   "cell_type": "code",
   "execution_count": 81,
   "metadata": {},
   "outputs": [],
   "source": [
    "# Drop the null \n",
    "\n",
    "data = data.dropna(subset=['Issue'])"
   ]
  },
  {
   "cell_type": "code",
   "execution_count": 82,
   "metadata": {},
   "outputs": [
    {
     "data": {
      "text/plain": [
       "(28154, 15)"
      ]
     },
     "execution_count": 82,
     "metadata": {},
     "output_type": "execute_result"
    }
   ],
   "source": [
    "data.shape"
   ]
  },
  {
   "cell_type": "code",
   "execution_count": 83,
   "metadata": {},
   "outputs": [
    {
     "data": {
      "image/png": "[encoded data removed]",
      "text/plain": [
       "<Figure size 576x432 with 1 Axes>"
      ]
     },
     "metadata": {
      "needs_background": "light"
     },
     "output_type": "display_data"
    }
   ],
   "source": [
    "import matplotlib.pyplot as plt\n",
    "fig = plt.figure(figsize=(8,6))\n",
    "data.groupby('Product').Issue.count().plot.bar(ylim=0)\n",
    "plt.show()"
   ]
  },
  {
   "cell_type": "code",
   "execution_count": 84,
   "metadata": {},
   "outputs": [
    {
     "data": {
      "text/plain": [
       "0"
      ]
     },
     "execution_count": 84,
     "metadata": {},
     "output_type": "execute_result"
    }
   ],
   "source": [
    "data['Issue'].isnull().sum()"
   ]
  },
  {
   "cell_type": "code",
   "execution_count": 85,
   "metadata": {},
   "outputs": [
    {
     "data": {
      "text/plain": [
       "0                           Communication tactics\n",
       "1           Cont'd attempts collect debt not owed\n",
       "2        Application, originator, mortgage broker\n",
       "3                                           Other\n",
       "4           Cont'd attempts collect debt not owed\n",
       "                           ...                   \n",
       "28151       Cont'd attempts collect debt not owed\n",
       "28152                Taking out the loan or lease\n",
       "28153    Loan servicing, payments, escrow account\n",
       "28154          Can't stop charges to bank account\n",
       "28155                    Other transaction issues\n",
       "Name: Issue, Length: 28154, dtype: object"
      ]
     },
     "execution_count": 85,
     "metadata": {},
     "output_type": "execute_result"
    }
   ],
   "source": [
    "data.Issue"
   ]
  },
  {
   "cell_type": "code",
   "execution_count": 86,
   "metadata": {},
   "outputs": [
    {
     "data": {
      "text/plain": [
       "(28154, 304)"
      ]
     },
     "execution_count": 86,
     "metadata": {},
     "output_type": "execute_result"
    }
   ],
   "source": [
    "# Text Representation\n",
    "\n",
    "from sklearn.feature_extraction.text import TfidfVectorizer\n",
    "\n",
    "\n",
    "# sublinear_df is set to True to use a logarithmic form for frequency.\n",
    "\n",
    "# min_df is the minimum numbers of documents a word must be present in to be kept\n",
    "\n",
    "# norm is set to l2, to ensure all our feature vectors have a euclidian norm of 1.\n",
    "\n",
    "# ngram_range is set to (1, 2) to indicate that we want to consider both unigrams and bigrams.\n",
    "\n",
    "# stop_words is set to \"english\" to remove all common pronouns (\"a\", \"the\", ...) to reduce the number of noisy features.\n",
    "\n",
    "tfidf = TfidfVectorizer(sublinear_tf=True, min_df=5, norm='l2', encoding='latin-1', ngram_range=(1, 2), stop_words='english')\n",
    "\n",
    "features = tfidf.fit_transform(data.Issue).toarray()\n",
    "\n",
    "labels = data.Product\n",
    "\n",
    "features.shape"
   ]
  },
  {
   "cell_type": "code",
   "execution_count": 87,
   "metadata": {},
   "outputs": [],
   "source": [
    "# Now, each of 28154 consumer complaint narratives is represented by 304 features,\n",
    "# representing the tf-idf score for different unigrams and bigrams.\n",
    "\n",
    "# We can use sklearn.feature_selection.chi2 to find the terms that are the most correlated with each of the products"
   ]
  },
  {
   "cell_type": "code",
   "execution_count": 88,
   "metadata": {},
   "outputs": [
    {
     "name": "stdout",
     "output_type": "stream",
     "text": [
      "# 'Bank account or service':\n",
      "  . Most correlated unigrams:\n",
      ". decision\n",
      ". deposits\n",
      "  . Most correlated bigrams:\n",
      ". debt protection\n",
      ". wrong day\n",
      "# 'Consumer loan':\n",
      "  . Most correlated unigrams:\n",
      ". decision\n",
      ". deposits\n",
      "  . Most correlated bigrams:\n",
      ". debt protection\n",
      ". wrong day\n",
      "# 'Credit card':\n",
      "  . Most correlated unigrams:\n",
      ". decision\n",
      ". deposits\n",
      "  . Most correlated bigrams:\n",
      ". debt protection\n",
      ". wrong day\n",
      "# 'Credit reporting':\n",
      "  . Most correlated unigrams:\n",
      ". decision\n",
      ". deposits\n",
      "  . Most correlated bigrams:\n",
      ". debt protection\n",
      ". wrong day\n",
      "# 'Debt collection':\n",
      "  . Most correlated unigrams:\n",
      ". decision\n",
      ". deposits\n",
      "  . Most correlated bigrams:\n",
      ". debt protection\n",
      ". wrong day\n",
      "# 'Money transfers':\n",
      "  . Most correlated unigrams:\n",
      ". decision\n",
      ". deposits\n",
      "  . Most correlated bigrams:\n",
      ". debt protection\n",
      ". wrong day\n",
      "# 'Mortgage':\n",
      "  . Most correlated unigrams:\n",
      ". decision\n",
      ". deposits\n",
      "  . Most correlated bigrams:\n",
      ". debt protection\n",
      ". wrong day\n",
      "# 'Other financial service':\n",
      "  . Most correlated unigrams:\n",
      ". decision\n",
      ". deposits\n",
      "  . Most correlated bigrams:\n",
      ". debt protection\n",
      ". wrong day\n",
      "# 'Payday loan':\n",
      "  . Most correlated unigrams:\n",
      ". decision\n",
      ". deposits\n",
      "  . Most correlated bigrams:\n",
      ". debt protection\n",
      ". wrong day\n",
      "# 'Prepaid card':\n",
      "  . Most correlated unigrams:\n",
      ". decision\n",
      ". deposits\n",
      "  . Most correlated bigrams:\n",
      ". debt protection\n",
      ". wrong day\n",
      "# 'Student loan':\n",
      "  . Most correlated unigrams:\n",
      ". decision\n",
      ". deposits\n",
      "  . Most correlated bigrams:\n",
      ". debt protection\n",
      ". wrong day\n"
     ]
    }
   ],
   "source": [
    "from sklearn.feature_selection import chi2\n",
    "import numpy as np\n",
    "\n",
    "N = 2\n",
    "\n",
    "for Product, category_id in sorted(category_to_id.items()):\n",
    "    features_chi2 = chi2(features, labels == category_id)\n",
    "    indices = np.argsort(features_chi2[0])\n",
    "    feature_names = np.array(tfidf.get_feature_names())[indices]\n",
    "    \n",
    "    unigrams = [v for v in feature_names if len(v.split(' ')) == 1]\n",
    "    bigrams = [v for v in feature_names if len(v.split(' ')) == 2]\n",
    "    \n",
    "    print(\"# '{}':\".format(Product))\n",
    "    print(\"  . Most correlated unigrams:\\n. {}\".format('\\n. '.join(unigrams[-N:])))\n",
    "    print(\"  . Most correlated bigrams:\\n. {}\".format('\\n. '.join(bigrams[-N:])))"
   ]
  },
  {
   "cell_type": "code",
   "execution_count": 90,
   "metadata": {},
   "outputs": [],
   "source": [
    "from sklearn.model_selection import train_test_split\n",
    "from sklearn.feature_extraction.text import CountVectorizer\n",
    "from sklearn.feature_extraction.text import TfidfTransformer\n",
    "from sklearn.naive_bayes import MultinomialNB\n",
    "\n",
    "X_train, X_test, y_train, y_test = train_test_split(data['Issue'], data['Product'], random_state = 0)\n",
    "\n",
    "count_vect = CountVectorizer()\n",
    "X_train_counts = count_vect.fit_transform(X_train)\n",
    "\n",
    "tfidf_transformer = TfidfTransformer()\n",
    "\n",
    "X_train_tfidf = tfidf_transformer.fit_transform(X_train_counts)\n",
    "\n",
    "clf = MultinomialNB().fit(X_train_tfidf, y_train)"
   ]
  },
  {
   "cell_type": "code",
   "execution_count": 92,
   "metadata": {},
   "outputs": [
    {
     "data": {
      "text/plain": [
       "'Disclosure verification of debt'"
      ]
     },
     "execution_count": 92,
     "metadata": {},
     "output_type": "execute_result"
    }
   ],
   "source": [
    "X_test[2692]"
   ]
  },
  {
   "cell_type": "code",
   "execution_count": 93,
   "metadata": {},
   "outputs": [
    {
     "data": {
      "text/plain": [
       "array(['Debt collection'], dtype='<U23')"
      ]
     },
     "execution_count": 93,
     "metadata": {},
     "output_type": "execute_result"
    }
   ],
   "source": [
    "clf.predict(count_vect.transform([X_test[2692]]))"
   ]
  },
  {
   "cell_type": "code",
   "execution_count": 94,
   "metadata": {},
   "outputs": [
    {
     "data": {
      "text/plain": [
       "'Debt collection'"
      ]
     },
     "execution_count": 94,
     "metadata": {},
     "output_type": "execute_result"
    }
   ],
   "source": [
    "y_test[2692]"
   ]
  },
  {
   "cell_type": "code",
   "execution_count": 100,
   "metadata": {},
   "outputs": [
    {
     "data": {
      "text/plain": [
       "'Settlement process and costs'"
      ]
     },
     "execution_count": 100,
     "metadata": {},
     "output_type": "execute_result"
    }
   ],
   "source": [
    "X_test[13291]"
   ]
  },
  {
   "cell_type": "code",
   "execution_count": 102,
   "metadata": {},
   "outputs": [
    {
     "data": {
      "text/plain": [
       "array(['Mortgage'], dtype='<U23')"
      ]
     },
     "execution_count": 102,
     "metadata": {},
     "output_type": "execute_result"
    }
   ],
   "source": [
    "clf.predict(count_vect.transform([X_test[13291]]))"
   ]
  },
  {
   "cell_type": "code",
   "execution_count": 103,
   "metadata": {},
   "outputs": [
    {
     "data": {
      "text/plain": [
       "'Mortgage'"
      ]
     },
     "execution_count": 103,
     "metadata": {},
     "output_type": "execute_result"
    }
   ],
   "source": [
    "y_test[13291]"
   ]
  }
 ],
 "metadata": {
  "kernelspec": {
   "display_name": "Python 3",
   "language": "python",
   "name": "python3"
  },
  "language_info": {
   "codemirror_mode": {
    "name": "ipython",
    "version": 3
   },
   "file_extension": ".py",
   "mimetype": "text/x-python",
   "name": "python",
   "nbconvert_exporter": "python",
   "pygments_lexer": "ipython3",
   "version": "3.6.8"
  }
 },
 "nbformat": 4,
 "nbformat_minor": 2
}
