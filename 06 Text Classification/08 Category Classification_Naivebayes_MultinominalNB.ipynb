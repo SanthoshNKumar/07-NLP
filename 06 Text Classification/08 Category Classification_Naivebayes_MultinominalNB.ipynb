{
 "cells": [
  {
   "cell_type": "code",
   "execution_count": 34,
   "metadata": {},
   "outputs": [],
   "source": [
    "from sklearn.datasets import fetch_20newsgroups\n",
    "\n",
    "category_map = {'misc.forsale': 'Sales', 'rec.motorcycles': 'Motorcycles','rec.sport.baseball': 'Baseball', \\\n",
    "                'sci.crypt': 'Cryptography','sci.space': 'Space'}\n",
    "\n",
    "training_data = fetch_20newsgroups(subset='train',categories=category_map.keys(), shuffle=True, random_state=7)"
   ]
  },
  {
   "cell_type": "code",
   "execution_count": 35,
   "metadata": {},
   "outputs": [
    {
     "data": {
      "text/plain": [
       "{0, 1, 2, 3, 4}"
      ]
     },
     "execution_count": 35,
     "metadata": {},
     "output_type": "execute_result"
    }
   ],
   "source": [
    "set(training_data.target)"
   ]
  },
  {
   "cell_type": "code",
   "execution_count": 36,
   "metadata": {},
   "outputs": [
    {
     "data": {
      "text/plain": [
       "['misc.forsale',\n",
       " 'rec.motorcycles',\n",
       " 'rec.sport.baseball',\n",
       " 'sci.crypt',\n",
       " 'sci.space']"
      ]
     },
     "execution_count": 36,
     "metadata": {},
     "output_type": "execute_result"
    }
   ],
   "source": [
    "# Target categories to predict\n",
    "\n",
    "[training_data.target_names[i] for i in range(0,5)]"
   ]
  },
  {
   "cell_type": "code",
   "execution_count": 37,
   "metadata": {},
   "outputs": [
    {
     "name": "stdout",
     "output_type": "stream",
     "text": [
      "\n",
      "Dimensions of training data: (2968, 40605)\n"
     ]
    }
   ],
   "source": [
    "# Feature extraction using 'Count vectorizer' and 'TfIdf'\n",
    "from sklearn.feature_extraction.text import CountVectorizer\n",
    "from sklearn.feature_extraction.text import TfidfTransformer\n",
    "\n",
    "vectorizer = CountVectorizer()\n",
    "X_train_termcounts = vectorizer.fit_transform(training_data.data)\n",
    "print(\"\\nDimensions of training data:\", X_train_termcounts.shape)\n",
    "\n",
    "# tf-idf transformer\n",
    "tfidf_transformer = TfidfTransformer()\n",
    "X_train_tfidf = tfidf_transformer.fit_transform(X_train_termcounts)"
   ]
  },
  {
   "cell_type": "code",
   "execution_count": 38,
   "metadata": {},
   "outputs": [
    {
     "name": "stdout",
     "output_type": "stream",
     "text": [
      "Input: The curveballs of right handed pitchers tend to curve to the left \n",
      "Predicted category: Baseball\n",
      "Input: Caesar cipher is an ancient form of encryption \n",
      "Predicted category: Cryptography\n",
      "Input: This two-wheeler is really good on slippery roads \n",
      "Predicted category: Motorcycles\n"
     ]
    }
   ],
   "source": [
    "from sklearn.naive_bayes import MultinomialNB\n",
    "\n",
    "# Multinomial Naive Bayes classifier\n",
    "classifier = MultinomialNB().fit(X_train_tfidf, training_data.target)\n",
    "\n",
    "# Input data for Prediction\n",
    "input_data = [\n",
    "    \"The curveballs of right handed pitchers tend to curve to the left\", \n",
    "    \"Caesar cipher is an ancient form of encryption\",\n",
    "    \"This two-wheeler is really good on slippery roads\"\n",
    "]\n",
    "\n",
    "X_input_termcounts = vectorizer.transform(input_data)\n",
    "X_input_tfidf = tfidf_transformer.transform(X_input_termcounts)\n",
    "\n",
    "# Predict the output categories\n",
    "predicted_categories = classifier.predict(X_input_tfidf)\n",
    "\n",
    "# Print the outputs\n",
    "for sentence, category in zip(input_data, predicted_categories):\n",
    "    print('Input:', sentence, '\\nPredicted category:',category_map[training_data.target_names[category]])"
   ]
  }
 ],
 "metadata": {
  "kernelspec": {
   "display_name": "Python 3",
   "language": "python",
   "name": "python3"
  },
  "language_info": {
   "codemirror_mode": {
    "name": "ipython",
    "version": 3
   },
   "file_extension": ".py",
   "mimetype": "text/x-python",
   "name": "python",
   "nbconvert_exporter": "python",
   "pygments_lexer": "ipython3",
   "version": "3.6.8"
  }
 },
 "nbformat": 4,
 "nbformat_minor": 2
}
