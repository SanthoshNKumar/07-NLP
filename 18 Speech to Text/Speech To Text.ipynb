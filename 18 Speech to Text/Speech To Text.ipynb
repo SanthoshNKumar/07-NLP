{
 "cells": [
  {
   "cell_type": "code",
   "execution_count": 3,
   "metadata": {},
   "outputs": [
    {
     "name": "stdout",
     "output_type": "stream",
     "text": [
      "Kindly Speak\n",
      "unknown error occured\n"
     ]
    }
   ],
   "source": [
    "import speech_recognition as sr\n",
    "import pyttsx3\n",
    "\n",
    "r = sr.Recognizer()\n",
    "\n",
    "\n",
    "def speakText(command):\n",
    "    \n",
    "    engine = pyttsx3.init()\n",
    "    engine.say(command)\n",
    "    engine.runAndWait()\n",
    "    \n",
    "try:\n",
    "    with sr.Microphone() as source2:  # use the microphone as source for input.\n",
    "        r.adjust_for_ambient_noise(source2, duration=0.2)\n",
    "        print(\"Kindly Speak\")\n",
    "        speakText(\"Kindly Speak Now\")\n",
    "\n",
    "        #listens for the user's input \n",
    "        audio2 = r.listen(source2)\n",
    "\n",
    "        # Using ggogle to recognize audio\n",
    "        MyText = r.recognize_google(audio2)\n",
    "        MyText = MyText.lower()\n",
    "\n",
    "        print(\"Did you say \"+MyText)\n",
    "        speakText(MyText)\n",
    "\n",
    "except sr.RequestError as e:\n",
    "        print(\"Could not request results; {0}\".format(e))\n",
    "\n",
    "except sr.UnknownValueError:\n",
    "        print(\"unknown error occured\")"
   ]
  },
  {
   "cell_type": "code",
   "execution_count": null,
   "metadata": {},
   "outputs": [],
   "source": []
  },
  {
   "cell_type": "code",
   "execution_count": 1,
   "metadata": {},
   "outputs": [],
   "source": [
    "# Recognizer instance has seven methods for recognizing speech from an audio source using various APIs.\n",
    "\n",
    "# recognize_bing(): Microsoft Bing Speech\n",
    "# recognize_google(): Google Web Speech API\n",
    "# recognize_google_cloud(): Google Cloud Speech - requires installation of the google-cloud-speech package\n",
    "# recognize_houndify(): Houndify by SoundHound\n",
    "# recognize_ibm(): IBM Speech to Text\n",
    "# recognize_sphinx(): CMU Sphinx - requires installing PocketSphinx\n",
    "# recognize_wit(): Wit.ai"
   ]
  },
  {
   "cell_type": "code",
   "execution_count": null,
   "metadata": {},
   "outputs": [],
   "source": []
  },
  {
   "cell_type": "code",
   "execution_count": 4,
   "metadata": {},
   "outputs": [
    {
     "name": "stdout",
     "output_type": "stream",
     "text": [
      "Converting audio transcripts into text ...\n",
      "hi good evening everyone today Meerut to speak about artificial intelligence a branch of computer science that develops machines and software with human like intelligence artificial intelligence is ability of the computer program or machine to think and learn it is also a field of study which tries to make computer smart\n"
     ]
    }
   ],
   "source": [
    "#import library\n",
    "import speech_recognition as sr\n",
    "\n",
    "# Initialize recognizer class (for recognizing the speech)\n",
    "r = sr.Recognizer()\n",
    "\n",
    "# Reading Audio file as source\n",
    "# listening the audio file and store in audio_text variable\n",
    "\n",
    "with sr.AudioFile(r'C:\\MyWork\\MyLearning\\Career Growth\\ML\\Files\\Videos\\audio123.wav') as source:\n",
    "    \n",
    "    audio_text = r.listen(source)\n",
    "    \n",
    "# recoginize_() method will throw a request error if the API is unreachable, hence using exception handling\n",
    "    try:\n",
    "        \n",
    "        # using google speech recognition\n",
    "        text = r.recognize_google(audio_text)\n",
    "        print('Converting audio transcripts into text ...')\n",
    "        print(text)\n",
    "     \n",
    "    except:\n",
    "         print('Sorry.. run again...')"
   ]
  },
  {
   "cell_type": "code",
   "execution_count": 5,
   "metadata": {},
   "outputs": [
    {
     "data": {
      "text/plain": [
       "speech_recognition.AudioData"
      ]
     },
     "execution_count": 5,
     "metadata": {},
     "output_type": "execute_result"
    }
   ],
   "source": [
    "#import library\n",
    "import speech_recognition as sr\n",
    "\n",
    "# Initialize recognizer class (for recognizing the speech)\n",
    "r = sr.Recognizer()\n",
    "\n",
    "# Using record() to Capture Data From a File\n",
    "\n",
    "harvard = sr.AudioFile(r'C:\\MyWork\\MyLearning\\Career Growth\\ML\\Files\\Videos\\audio123.wav')\n",
    "\n",
    "with harvard as source:\n",
    "    audio = r.record(source)\n",
    "    \n",
    "type(audio)"
   ]
  },
  {
   "cell_type": "code",
   "execution_count": 6,
   "metadata": {},
   "outputs": [
    {
     "data": {
      "text/plain": [
       "\"hi good evening everyone today Meerut to speak about artificial intelligence branch of computer science that develops machines and software with human like intelligence artificial intelligence is the ability of the computer program aur machine to think and it is also a field of study which tries to make computer smart they work on their own without being in contact with commands John mccarthy was came up with name artificial intelligence in 1955 in general use the term artificial intelligence means a machine which mimics human cognition at least some of the things we associate with the other points such as learning problem solving can be done by computers do not in the same way as a way to address capital and Michael Henry define as the system's ability to correctly interrupt external data to learn from such that Tata and to use the learning to achieve specific goal and staff through flexible adaptation and ideal intelligent machine is a flexible edit agent which receives its environment and take action to maximize its chance of success at some cool as muscles become increasing the capable mental facilities one-third to require intelligence or removed from the definition for example optical character recognition is no longer perceived as an example of at artificial intelligence it is just a routine Technology at present we used the term for successful in understanding human speed can tempting at high level in strategy game system self driving Cars interpreting Complex data some people also consider a as a danger to humanity if it is count used to progress at its current affairs and extreme goal of their research is to create computer programs that can learn solve problem think logically in practice however most applications have big on problem with computers can do well searching databases and doing calculations are things computer do better than people on the other hand receiving its environment in any real sense is way beyond present day computing involves many different fields of Computer Science Mathematics linguistics and psychology and neuroscience and philosophy eventually research effort to create a General artificial intelligence which can solve many problems instead of focusing on what on just one researchers are also trying to create creative and emotional AI which can possibly empathise and creator many approaches and tools have been tried borrowing from the management literature\""
      ]
     },
     "execution_count": 6,
     "metadata": {},
     "output_type": "execute_result"
    }
   ],
   "source": [
    "r.recognize_google(audio)"
   ]
  },
  {
   "cell_type": "code",
   "execution_count": 15,
   "metadata": {},
   "outputs": [
    {
     "data": {
      "text/plain": [
       "'hi good evening everyone today I am I have to speak about artificial intelligence'"
      ]
     },
     "execution_count": 15,
     "metadata": {},
     "output_type": "execute_result"
    }
   ],
   "source": [
    "# Capturing Segments With offset and duration\n",
    "\n",
    "#import library\n",
    "import speech_recognition as sr\n",
    "\n",
    "# Initialize recognizer class (for recognizing the speech)\n",
    "r = sr.Recognizer()\n",
    "\n",
    "harvard = sr.AudioFile(r'C:\\MyWork\\MyLearning\\Career Growth\\ML\\Files\\Videos\\audio123.wav')\n",
    "\n",
    "with harvard as source:\n",
    "    audio = r.record(source,duration=5)\n",
    "    \n",
    "r.recognize_google(audio)"
   ]
  },
  {
   "cell_type": "code",
   "execution_count": 7,
   "metadata": {},
   "outputs": [],
   "source": [
    "# #Adding french langauge option\n",
    "\n",
    "# For example, if we want to read a french language audio file, then need to add language option in the recogonize_google.\n",
    "\n",
    "text = r.recognize_google(audio_text, language = \"fr-FR\")"
   ]
  },
  {
   "cell_type": "code",
   "execution_count": null,
   "metadata": {},
   "outputs": [],
   "source": [
    "# Adding \"tamil language\"\n",
    "print(“Text: “+ r.recognize_google(audio_text, language = “ta-IN”))"
   ]
  },
  {
   "cell_type": "code",
   "execution_count": null,
   "metadata": {},
   "outputs": [],
   "source": []
  }
 ],
 "metadata": {
  "kernelspec": {
   "display_name": "Python 3",
   "language": "python",
   "name": "python3"
  },
  "language_info": {
   "codemirror_mode": {
    "name": "ipython",
    "version": 3
   },
   "file_extension": ".py",
   "mimetype": "text/x-python",
   "name": "python",
   "nbconvert_exporter": "python",
   "pygments_lexer": "ipython3",
   "version": "3.7.4"
  }
 },
 "nbformat": 4,
 "nbformat_minor": 2
}
