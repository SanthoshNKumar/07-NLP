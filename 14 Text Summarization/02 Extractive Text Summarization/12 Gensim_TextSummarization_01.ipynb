{
 "cells": [
  {
   "cell_type": "code",
   "execution_count": 15,
   "metadata": {},
   "outputs": [],
   "source": [
    "from gensim.summarization.summarizer import summarize\n"
   ]
  },
  {
   "cell_type": "code",
   "execution_count": 16,
   "metadata": {},
   "outputs": [],
   "source": [
    "text = \"\"\"In an attempt to build an AI-ready workforce, Microsoft announced \n",
    "        Intelligent Cloud Hub which has been launched to empower the next\n",
    "        generation of students with AI-ready skills. Envisioned as a three-year collaborative program, \n",
    "        Intelligent Cloud Hub will support around 100 institutions with AI infrastructure, course content \n",
    "        and curriculum, developer support, development tools and give students access to cloud and AI services. \n",
    "        As part of the program, the Redmond giant which wants to expand its reach and is planning t\n",
    "        o build a strong developer ecosystem in India with the program will set up the core AI \n",
    "        infrastructure and IoT Hub for the selected campuses. The company will provide AI development \n",
    "        tools and Azure AI services such as Microsoft Cognitive Services, Bot Services and Azure Machine \n",
    "        Learning.According to Manish Prakash, Country General Manager-PS, Health and Education, Microsoft \n",
    "        India, said, With AI being the defining technology of our time, it is transforming lives and industry \n",
    "        and the jobs of tomorrow will require a different skillset. This will require more collaborations and \n",
    "        training and working with AI. That’s why it has become more critical than ever for educational institutions \n",
    "        to integrate new cloud and AI technologies. The program is an attempt to ramp up the institutional set-up and \n",
    "        build capabilities among the educators to educate the workforce of tomorrow. The program aims to build up the \n",
    "        cognitive skills and in-depth understanding of developing intelligent cloud connected solutions for applications \n",
    "        across industry. Earlier in April this year, the company announced Microsoft Professional Program In AI as a learning \n",
    "        track open to the public. The program was developed to provide job ready skills to programmers who wanted to hone\n",
    "        their skills in AI and data science with a series of online courses which featured hands-on labs and expert \n",
    "        instructors as well. This program also included developer-focused AI school that provided a bunch of assets \n",
    "        to help build AI skills.\"\"\""
   ]
  },
  {
   "cell_type": "code",
   "execution_count": 17,
   "metadata": {},
   "outputs": [
    {
     "name": "stdout",
     "output_type": "stream",
     "text": [
      "In an attempt to build an AI-ready workforce, Microsoft announced \n",
      "Intelligent Cloud Hub will support around 100 institutions with AI infrastructure, course content \n",
      "o build a strong developer ecosystem in India with the program will set up the core AI \n",
      "cognitive skills and in-depth understanding of developing intelligent cloud connected solutions for applications \n",
      "Earlier in April this year, the company announced Microsoft Professional Program In AI as a learning \n",
      "The program was developed to provide job ready skills to programmers who wanted to hone\n"
     ]
    }
   ],
   "source": [
    "print(summarize(text))"
   ]
  },
  {
   "cell_type": "code",
   "execution_count": null,
   "metadata": {},
   "outputs": [],
   "source": []
  }
 ],
 "metadata": {
  "kernelspec": {
   "display_name": "Python 3",
   "language": "python",
   "name": "python3"
  },
  "language_info": {
   "codemirror_mode": {
    "name": "ipython",
    "version": 3
   },
   "file_extension": ".py",
   "mimetype": "text/x-python",
   "name": "python",
   "nbconvert_exporter": "python",
   "pygments_lexer": "ipython3",
   "version": "3.6.8"
  }
 },
 "nbformat": 4,
 "nbformat_minor": 2
}
