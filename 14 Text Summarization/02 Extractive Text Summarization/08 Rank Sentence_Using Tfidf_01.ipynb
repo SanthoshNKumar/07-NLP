{
 "cells": [
  {
   "cell_type": "code",
   "execution_count": 5,
   "metadata": {},
   "outputs": [],
   "source": [
    "import nltk\n",
    "import os\n",
    "import re\n",
    "import math\n",
    "import operator\n",
    "from nltk.stem import WordNetLemmatizer\n",
    "from nltk.corpus import stopwords\n",
    "from nltk.tokenize import sent_tokenize,word_tokenize\n",
    "#nltk.download('averaged_perceptron_tagger')\n",
    "Stopwords = set(stopwords.words('english'))\n",
    "wordlemmatizer = WordNetLemmatizer()"
   ]
  },
  {
   "cell_type": "code",
   "execution_count": 7,
   "metadata": {},
   "outputs": [
    {
     "name": "stdout",
     "output_type": "stream",
     "text": [
      "In an attempt to build an AI-ready workforce, Microsoft announced Intelligent Cloud Hub which has been launched to empower the next generation of students with AI-ready skills. Envisioned as a three-year collaborative program, Intelligent Cloud Hub will support around 100 institutions with AI infrastructure, course content and curriculum, developer support, development tools and give students access to cloud and AI services. As part of the program, the Redmond giant which wants to expand its reach and is planning to build a strong developer ecosystem in India with the program will set up the core AI infrastructure and IoT Hub for the selected campuses. The company will provide AI development tools and Azure AI services such as Microsoft Cognitive Services, Bot Services and Azure Machine Learning.According to Manish Prakash, Country General Manager-PS, Health and Education, Microsoft India, said, \"With AI being the defining technology of our time, it is transforming lives and industry and the jobs of tomorrow will require a different skillset. This will require more collaborations and training and working with AI. That’s why it has become more critical than ever for educational institutions to integrate new cloud and AI technologies. The program is an attempt to ramp up the institutional set-up and build capabilities among the educators to educate the workforce of tomorrow.\" The program aims to build up the cognitive skills and in-depth understanding of developing intelligent cloud connected solutions for applications across industry. Earlier in April this year, the company announced Microsoft Professional Program In AI as a learning track open to the public. The program was developed to provide job ready skills to programmers who wanted to hone their skills in AI and data science with a series of online courses which featured hands-on labs and expert instructors as well. This program also included developer-focused AI school that provided a bunch of assets to help build AI skills.\n"
     ]
    }
   ],
   "source": [
    "file = 'SampleText01.txt'\n",
    "file = open(file , 'r')\n",
    "text = file.read()\n",
    "print(text)"
   ]
  },
  {
   "cell_type": "code",
   "execution_count": 8,
   "metadata": {},
   "outputs": [
    {
     "name": "stdout",
     "output_type": "stream",
     "text": [
      "length of tokenized senetnce : 11\n",
      "tokenized_sentence = ['In an attempt to build an AI-ready workforce, Microsoft announced Intelligent Cloud Hub which has been launched to empower the next generation of students with AI-ready skills.', 'Envisioned as a three-year collaborative program, Intelligent Cloud Hub will support around 100 institutions with AI infrastructure, course content and curriculum, developer support, development tools and give students access to cloud and AI services.', 'As part of the program, the Redmond giant which wants to expand its reach and is planning to build a strong developer ecosystem in India with the program will set up the core AI infrastructure and IoT Hub for the selected campuses.', 'The company will provide AI development tools and Azure AI services such as Microsoft Cognitive Services, Bot Services and Azure Machine Learning.According to Manish Prakash, Country General Manager-PS, Health and Education, Microsoft India, said, \"With AI being the defining technology of our time, it is transforming lives and industry and the jobs of tomorrow will require a different skillset.', 'This will require more collaborations and training and working with AI.', 'That’s why it has become more critical than ever for educational institutions to integrate new cloud and AI technologies.', 'The program is an attempt to ramp up the institutional set-up and build capabilities among the educators to educate the workforce of tomorrow.\"', 'The program aims to build up the cognitive skills and in-depth understanding of developing intelligent cloud connected solutions for applications across industry.', 'Earlier in April this year, the company announced Microsoft Professional Program In AI as a learning track open to the public.', 'The program was developed to provide job ready skills to programmers who wanted to hone their skills in AI and data science with a series of online courses which featured hands-on labs and expert instructors as well.', 'This program also included developer-focused AI school that provided a bunch of assets to help build AI skills.']\n"
     ]
    }
   ],
   "source": [
    "tokenized_sentence = sent_tokenize(text)\n",
    "\n",
    "print(\"length of tokenized senetnce :\",len(tokenized_sentence))\n",
    "print(\"tokenized_sentence =\",tokenized_sentence)"
   ]
  },
  {
   "cell_type": "code",
   "execution_count": 9,
   "metadata": {},
   "outputs": [],
   "source": [
    "import re\n",
    "\n",
    "def lemmatize_words(words):\n",
    "    lemmatized_words = []\n",
    "    for word in words:\n",
    "       lemmatized_words.append(wordlemmatizer.lemmatize(word))\n",
    "    return lemmatized_words"
   ]
  },
  {
   "cell_type": "code",
   "execution_count": 10,
   "metadata": {},
   "outputs": [],
   "source": [
    "# Preproce the data\n",
    "\n",
    "# 1 .Remove special words\n",
    "text = re.sub(r'[^a-zA-Z0-9\\s]','',text)\n",
    "text = re.sub(r'\\d+', '', text)\n",
    "tokenized_words_with_stopwords = word_tokenize(text)\n",
    "tokenized_words = [word for word in tokenized_words_with_stopwords if word not in Stopwords]\n",
    "tokenized_words = [word for word in tokenized_words if len(word) > 1]\n",
    "tokenized_words = [word.lower() for word in tokenized_words]\n",
    "tokenized_words = lemmatize_words(tokenized_words)"
   ]
  },
  {
   "cell_type": "code",
   "execution_count": 11,
   "metadata": {},
   "outputs": [
    {
     "name": "stdout",
     "output_type": "stream",
     "text": [
      "['in', 'attempt', 'build', 'aiready', 'workforce', 'microsoft', 'announced', 'intelligent', 'cloud', 'hub', 'launched', 'empower', 'next', 'generation', 'student', 'aiready', 'skill', 'envisioned', 'threeyear', 'collaborative', 'program', 'intelligent', 'cloud', 'hub', 'support', 'around', 'institution', 'ai', 'infrastructure', 'course', 'content', 'curriculum', 'developer', 'support', 'development', 'tool', 'give', 'student', 'access', 'cloud', 'ai', 'service', 'a', 'part', 'program', 'redmond', 'giant', 'want', 'expand', 'reach', 'planning', 'build', 'strong', 'developer', 'ecosystem', 'india', 'program', 'set', 'core', 'ai', 'infrastructure', 'iot', 'hub', 'selected', 'campus', 'the', 'company', 'provide', 'ai', 'development', 'tool', 'azure', 'ai', 'service', 'microsoft', 'cognitive', 'service', 'bot', 'service', 'azure', 'machine', 'learningaccording', 'manish', 'prakash', 'country', 'general', 'managerps', 'health', 'education', 'microsoft', 'india', 'said', 'with', 'ai', 'defining', 'technology', 'time', 'transforming', 'life', 'industry', 'job', 'tomorrow', 'require', 'different', 'skillset', 'this', 'require', 'collaboration', 'training', 'working', 'ai', 'thats', 'become', 'critical', 'ever', 'educational', 'institution', 'integrate', 'new', 'cloud', 'ai', 'technology', 'the', 'program', 'attempt', 'ramp', 'institutional', 'setup', 'build', 'capability', 'among', 'educator', 'educate', 'workforce', 'tomorrow', 'the', 'program', 'aim', 'build', 'cognitive', 'skill', 'indepth', 'understanding', 'developing', 'intelligent', 'cloud', 'connected', 'solution', 'application', 'across', 'industry', 'earlier', 'april', 'year', 'company', 'announced', 'microsoft', 'professional', 'program', 'in', 'ai', 'learning', 'track', 'open', 'public', 'the', 'program', 'developed', 'provide', 'job', 'ready', 'skill', 'programmer', 'wanted', 'hone', 'skill', 'ai', 'data', 'science', 'series', 'online', 'course', 'featured', 'handson', 'lab', 'expert', 'instructor', 'well', 'this', 'program', 'also', 'included', 'developerfocused', 'ai', 'school', 'provided', 'bunch', 'asset', 'help', 'build', 'ai', 'skill']\n"
     ]
    }
   ],
   "source": [
    "print(tokenized_words)"
   ]
  },
  {
   "cell_type": "code",
   "execution_count": 12,
   "metadata": {},
   "outputs": [],
   "source": [
    "word_freq = {}\n",
    "\n",
    "for word in tokenized_words:\n",
    "    if word in word_freq:\n",
    "        word_freq[word] +=1\n",
    "    else:\n",
    "        word_freq[word] =1"
   ]
  },
  {
   "cell_type": "code",
   "execution_count": 13,
   "metadata": {},
   "outputs": [],
   "source": [
    "def pos_tagging(text):\n",
    "    pos_tag = nltk.pos_tag(text.split())\n",
    "    pos_tagged_noun_verb = []\n",
    "    for word,tag in pos_tag:\n",
    "        if tag == \"NN\" or tag == \"NNP\" or tag == \"NNS\" or tag == \"VB\" or tag == \"VBD\" or tag == \"VBG\" or tag == \"VBN\" or tag == \"VBP\" or tag == \"VBZ\":\n",
    "             pos_tagged_noun_verb.append(word)\n",
    "    return pos_tagged_noun_verb"
   ]
  },
  {
   "cell_type": "code",
   "execution_count": 14,
   "metadata": {},
   "outputs": [],
   "source": [
    "def getIDF_Score(word,sentences):\n",
    "    N = len(sentences)\n",
    "    no_of_doc_word_exist = 0\n",
    "    for sent in sentences:\n",
    "        sentence = re.sub(r'[^a-zA-Z0-9\\s]','',sent)\n",
    "        sentence = re.sub(r'\\d+', '', sentence)\n",
    "        sentence_tokenized_words_with_stopwords = word_tokenize(sentence)\n",
    "        sentence_tokenized_words = [word for word in sentence_tokenized_words_with_stopwords if word not in Stopwords]\n",
    "        sentence_tokenized_words = [word for word in sentence_tokenized_words if len(word) > 1]\n",
    "        sentence_tokenized_words = [word.lower() for word in sentence_tokenized_words]\n",
    "        sentence_tokenized_words = lemmatize_words(sentence_tokenized_words)\n",
    "        if word in sentence_tokenized_words:\n",
    "            no_of_doc_word_exist = no_of_doc_word_exist +1\n",
    "    idf = math.log10(N/no_of_doc_word_exist)\n",
    "    \n",
    "    return idf "
   ]
  },
  {
   "cell_type": "code",
   "execution_count": 15,
   "metadata": {},
   "outputs": [],
   "source": [
    "sentence_1= tokenized_sentence[0]"
   ]
  },
  {
   "cell_type": "code",
   "execution_count": 16,
   "metadata": {},
   "outputs": [
    {
     "name": "stdout",
     "output_type": "stream",
     "text": [
      "attempt:0.04627266809339024\n",
      "build:0.021401417551387893\n",
      "workforce:0.04627266809339024\n",
      "microsoft:0.03526696440241016\n",
      "announced:0.04627266809339024\n",
      "cloud:0.027458293364391415\n",
      "hub:0.03526696440241016\n",
      "launched:0.06508704282238907\n",
      "generation:0.06508704282238907\n",
      "student:0.04627266809339024\n",
      "aiready:0.13017408564477814\n",
      "skill:0.027458293364391415\n",
      "In an attempt to build an AI-ready workforce, Microsoft announced Intelligent Cloud Hub which has been launched to empower the next generation of students with AI-ready skills.\n",
      "sentenseScore =  0.5922907767481084\n",
      "******************************\n",
      "envisioned:0.041655707406329005\n",
      "program:0.007851785805758727\n",
      "intelligent:0.0225708572175425\n",
      "cloud:0.03514661550642101\n",
      "hub:0.0225708572175425\n",
      "support:0.08331141481265801\n",
      "institution:0.029614507579769755\n",
      "ai:0.011064215853302518\n",
      "infrastructure:0.029614507579769755\n",
      "course:0.029614507579769755\n",
      "content:0.041655707406329005\n",
      "curriculum:0.041655707406329005\n",
      "developer:0.029614507579769755\n",
      "support:0.08331141481265801\n",
      "development:0.029614507579769755\n",
      "tool:0.029614507579769755\n",
      "give:0.041655707406329005\n",
      "student:0.029614507579769755\n",
      "access:0.041655707406329005\n",
      "cloud:0.03514661550642101\n",
      "ai:0.011064215853302518\n",
      "service:0.029614507579769755\n",
      "Envisioned as a three-year collaborative program, Intelligent Cloud Hub will support around 100 institutions with AI infrastructure, course content and curriculum, developer support, development tools and give students access to cloud and AI services.\n",
      "sentenseScore =  0.75723259025541\n",
      "******************************\n",
      "part:0.04733603114355569\n",
      "program:0.017844967740360745\n",
      "redmond:0.04733603114355569\n",
      "giant:0.04733603114355569\n",
      "want:0.04733603114355569\n",
      "expand:0.04733603114355569\n",
      "reach:0.04733603114355569\n",
      "planning:0.04733603114355569\n",
      "build:0.015564667310100287\n",
      "developer:0.03365284952246563\n",
      "ecosystem:0.04733603114355569\n",
      "program:0.017844967740360745\n",
      "set:0.04733603114355569\n",
      "core:0.04733603114355569\n",
      "ai:0.006286486280285521\n",
      "infrastructure:0.03365284952246563\n",
      "iot:0.04733603114355569\n",
      "hub:0.025648701383571025\n",
      "selected:0.04733603114355569\n",
      "campus:0.04733603114355569\n",
      "As part of the program, the Redmond giant which wants to expand its reach and is planning to build a strong developer ecosystem in India with the program will set up the core AI infrastructure and IoT Hub for the selected campuses.\n",
      "sentenseScore =  0.7658638943658334\n",
      "******************************\n",
      "company:0.019483228670901152\n",
      "provide:0.019483228670901152\n",
      "ai:0.010918634065759061\n",
      "development:0.019483228670901152\n",
      "tool:0.019483228670901152\n",
      "azure:0.05481014132411711\n",
      "service:0.058449686012703464\n",
      "service:0.058449686012703464\n",
      "bot:0.027405070662058554\n",
      "service:0.058449686012703464\n",
      "azure:0.05481014132411711\n",
      "machine:0.027405070662058554\n",
      "learningaccording:0.027405070662058554\n",
      "prakash:0.027405070662058554\n",
      "country:0.027405070662058554\n",
      "managerps:0.027405070662058554\n",
      "health:0.027405070662058554\n",
      "education:0.027405070662058554\n",
      "india:0.019483228670901152\n",
      "said:0.027405070662058554\n",
      "defining:0.027405070662058554\n",
      "technology:0.019483228670901152\n",
      "time:0.027405070662058554\n",
      "transforming:0.027405070662058554\n",
      "life:0.027405070662058554\n",
      "industry:0.019483228670901152\n",
      "job:0.019483228670901152\n",
      "tomorrow:0.019483228670901152\n",
      "require:0.019483228670901152\n",
      "skillset:0.027405070662058554\n",
      "The company will provide AI development tools and Azure AI services such as Microsoft Cognitive Services, Bot Services and Azure Machine Learning.According to Manish Prakash, Country General Manager-PS, Health and Education, Microsoft India, said, \"With AI being the defining technology of our time, it is transforming lives and industry and the jobs of tomorrow will require a different skillset.\n",
      "sentenseScore =  0.8743912507299347\n",
      "******************************\n",
      "require:0.14807253789884878\n",
      "collaboration:0.20827853703164503\n",
      "training:0.20827853703164503\n",
      "working:0.20827853703164503\n",
      "ai:0.027660539633256293\n",
      "This will require more collaborations and training and working with AI.\n",
      "sentenseScore =  0.8005686886270401\n",
      "******************************\n",
      "thats:0.09467206228711138\n",
      "become:0.09467206228711138\n",
      "institution:0.06730569904493126\n",
      "integrate:0.09467206228711138\n",
      "cloud:0.03993933580275115\n",
      "ai:0.012572972560571043\n",
      "technology:0.06730569904493126\n",
      "That’s why it has become more critical than ever for educational institutions to integrate new cloud and AI technologies.\n",
      "sentenseScore =  0.4711398933145189\n",
      "******************************\n",
      "program:0.016357887095330682\n",
      "attempt:0.06169689079118699\n",
      "ramp:0.08678272376318542\n",
      "setup:0.08678272376318542\n",
      "capability:0.08678272376318542\n",
      "educate:0.08678272376318542\n",
      "workforce:0.06169689079118699\n",
      "tomorrow:0.06169689079118699\n",
      "The program is an attempt to ramp up the institutional set-up and build capabilities among the educators to educate the workforce of tomorrow.\"\n",
      "sentenseScore =  0.5485794545216334\n",
      "******************************\n",
      "program:0.013086309676264545\n",
      "aim:0.06942617901054834\n",
      "build:0.022828178721480418\n",
      "skill:0.02928884625535084\n",
      "indepth:0.06942617901054834\n",
      "developing:0.06942617901054834\n",
      "cloud:0.02928884625535084\n",
      "connected:0.06942617901054834\n",
      "solution:0.06942617901054834\n",
      "application:0.06942617901054834\n",
      "industry:0.049357512632949595\n",
      "The program aims to build up the cognitive skills and in-depth understanding of developing intelligent cloud connected solutions for applications across industry.\n",
      "sentenseScore =  0.5604067676046863\n",
      "******************************\n",
      "year:0.08010712962755578\n",
      "company:0.05695097611494184\n",
      "announced:0.05695097611494184\n",
      "program:0.015099588087997554\n",
      "ai:0.010638669089713958\n",
      "learning:0.08010712962755578\n",
      "track:0.08010712962755578\n",
      "public:0.08010712962755578\n",
      "Earlier in April this year, the company announced Microsoft Professional Program In AI as a learning track open to the public.\n",
      "sentenseScore =  0.46006872791781833\n",
      "******************************\n",
      "program:0.008922483870180372\n",
      "developed:0.04733603114355569\n",
      "provide:0.03365284952246563\n",
      "job:0.03365284952246563\n",
      "skill:0.03993933580275115\n",
      "wanted:0.04733603114355569\n",
      "hone:0.04733603114355569\n",
      "skill:0.03993933580275115\n",
      "ai:0.006286486280285521\n",
      "data:0.04733603114355569\n",
      "science:0.04733603114355569\n",
      "series:0.04733603114355569\n",
      "online:0.04733603114355569\n",
      "course:0.03365284952246563\n",
      "featured:0.04733603114355569\n",
      "handson:0.04733603114355569\n",
      "lab:0.04733603114355569\n",
      "expert:0.04733603114355569\n",
      "instructor:0.04733603114355569\n",
      "The program was developed to provide job ready skills to programmers who wanted to hone their skills in AI and data science with a series of online courses which featured hands-on labs and expert instructors as well.\n",
      "sentenseScore =  0.7640785640460331\n",
      "******************************\n",
      "program:0.015099588087997554\n",
      "included:0.08010712962755578\n",
      "school:0.08010712962755578\n",
      "provided:0.08010712962755578\n",
      "asset:0.08010712962755578\n",
      "help:0.08010712962755578\n",
      "build:0.026340206217092793\n",
      "ai:0.021277338179427917\n",
      "skill:0.0337948226023279\n",
      "This program also included developer-focused AI school that provided a bunch of assets to help build AI skills.\n",
      "sentenseScore =  0.49704760322462505\n",
      "******************************\n"
     ]
    }
   ],
   "source": [
    "from nltk import ngrams, FreqDist\n",
    "\n",
    "sentenseScore = 0\n",
    "sentence_with_importance = {}\n",
    "\n",
    "for sent in tokenized_sentence:\n",
    "    N = 15\n",
    "    total_number_words = 0\n",
    "    tfscore = 0\n",
    "    idf_score = 0\n",
    "    tf_idf = 0\n",
    "    sentenseScore = 0\n",
    "    \n",
    "    sentence = re.sub(r'[^a-zA-Z0-9\\s]','',sent)\n",
    "    sentence = re.sub(r'\\d+', '', sentence)\n",
    "    sentence = sentence.lower()\n",
    "    sentence_tokenized_words_with_stopwords = word_tokenize(sentence)\n",
    "    sentence_tokenized_words = [word for word in sentence_tokenized_words_with_stopwords if word not in Stopwords]\n",
    "    sentence_tokenized_words = [word for word in sentence_tokenized_words if len(word) > 1]\n",
    "    sentence_tokenized_words = [word.lower() for word in sentence_tokenized_words]\n",
    "    sentence_tokenized_words = lemmatize_words(sentence_tokenized_words)\n",
    "\n",
    "    sentence_tokenized_words = ' '.join([x for x in sentence_tokenized_words])\n",
    "\n",
    "    pos_tagged_sentence = pos_tagging(sentence_tokenized_words)\n",
    "\n",
    "    sent_freq = FreqDist(sentence_tokenized_words.split(' '))\n",
    "\n",
    "    c = 1 \n",
    "    \n",
    "    for word in pos_tagged_sentence:\n",
    "        # compute tf\n",
    "        total_number_words = len(sentence_tokenized_words.split())\n",
    "        tfscore = sent_freq[word] / total_number_words\n",
    "    \n",
    "        # compute idf\n",
    "        idf_score = getIDF_Score(word,tokenized_sentence)\n",
    "    \n",
    "        tf_idf = tfscore * idf_score\n",
    "        print(\"{0}:{1}\".format(word,tf_idf))\n",
    "        \n",
    "        sentenseScore = sentenseScore + tf_idf\n",
    "        \n",
    "        sentence_with_importance[c] = sentenseScore\n",
    "        c = c+1\n",
    "\n",
    "    print(sent)\n",
    "    print(\"sentenseScore = \",sentenseScore)\n",
    "    print(\"******************************\")"
   ]
  },
  {
   "cell_type": "code",
   "execution_count": 17,
   "metadata": {},
   "outputs": [
    {
     "data": {
      "text/plain": [
       "{1: 0.015099588087997554,\n",
       " 2: 0.09520671771555334,\n",
       " 3: 0.17531384734310912,\n",
       " 4: 0.2554209769706649,\n",
       " 5: 0.3355281065982207,\n",
       " 6: 0.41563523622577647,\n",
       " 7: 0.44197544244286924,\n",
       " 8: 0.46325278062229713,\n",
       " 9: 0.49704760322462505,\n",
       " 10: 0.3517374653751222,\n",
       " 11: 0.39907349651867785,\n",
       " 12: 0.4464095276622335,\n",
       " 13: 0.4937455588057892,\n",
       " 14: 0.5273984083282548,\n",
       " 15: 0.5747344394718105,\n",
       " 16: 0.6220704706153661,\n",
       " 17: 0.6694065017589218,\n",
       " 18: 0.7167425329024775,\n",
       " 19: 0.7640785640460331,\n",
       " 20: 0.6399497540651363,\n",
       " 21: 0.6673548247271949,\n",
       " 22: 0.686838053398096,\n",
       " 23: 0.7142431240601546,\n",
       " 24: 0.7416481947222131,\n",
       " 25: 0.7690532653842717,\n",
       " 26: 0.7885364940551728,\n",
       " 27: 0.8080197227260739,\n",
       " 28: 0.827502951396975,\n",
       " 29: 0.8469861800678762,\n",
       " 30: 0.8743912507299347}"
      ]
     },
     "execution_count": 17,
     "metadata": {},
     "output_type": "execute_result"
    }
   ],
   "source": [
    "sentence_with_importance"
   ]
  },
  {
   "cell_type": "code",
   "execution_count": 20,
   "metadata": {},
   "outputs": [],
   "source": [
    "\n",
    "sentss = list(dict(sorted(sentence_with_importance.items(),key=operator.itemgetter(1),reverse=True)).keys())[:4]"
   ]
  },
  {
   "cell_type": "code",
   "execution_count": 23,
   "metadata": {},
   "outputs": [
    {
     "data": {
      "text/plain": [
       "['In an attempt to build an AI-ready workforce, Microsoft announced Intelligent Cloud Hub which has been launched to empower the next generation of students with AI-ready skills.',\n",
       " 'Envisioned as a three-year collaborative program, Intelligent Cloud Hub will support around 100 institutions with AI infrastructure, course content and curriculum, developer support, development tools and give students access to cloud and AI services.',\n",
       " 'As part of the program, the Redmond giant which wants to expand its reach and is planning to build a strong developer ecosystem in India with the program will set up the core AI infrastructure and IoT Hub for the selected campuses.',\n",
       " 'The company will provide AI development tools and Azure AI services such as Microsoft Cognitive Services, Bot Services and Azure Machine Learning.According to Manish Prakash, Country General Manager-PS, Health and Education, Microsoft India, said, \"With AI being the defining technology of our time, it is transforming lives and industry and the jobs of tomorrow will require a different skillset.',\n",
       " 'This will require more collaborations and training and working with AI.',\n",
       " 'That’s why it has become more critical than ever for educational institutions to integrate new cloud and AI technologies.',\n",
       " 'The program is an attempt to ramp up the institutional set-up and build capabilities among the educators to educate the workforce of tomorrow.\"',\n",
       " 'The program aims to build up the cognitive skills and in-depth understanding of developing intelligent cloud connected solutions for applications across industry.',\n",
       " 'Earlier in April this year, the company announced Microsoft Professional Program In AI as a learning track open to the public.',\n",
       " 'The program was developed to provide job ready skills to programmers who wanted to hone their skills in AI and data science with a series of online courses which featured hands-on labs and expert instructors as well.',\n",
       " 'This program also included developer-focused AI school that provided a bunch of assets to help build AI skills.']"
      ]
     },
     "execution_count": 23,
     "metadata": {},
     "output_type": "execute_result"
    }
   ],
   "source": [
    "tokenized_sentence"
   ]
  },
  {
   "cell_type": "code",
   "execution_count": null,
   "metadata": {},
   "outputs": [],
   "source": []
  },
  {
   "cell_type": "code",
   "execution_count": null,
   "metadata": {},
   "outputs": [],
   "source": []
  }
 ],
 "metadata": {
  "kernelspec": {
   "display_name": "Python 3",
   "language": "python",
   "name": "python3"
  },
  "language_info": {
   "codemirror_mode": {
    "name": "ipython",
    "version": 3
   },
   "file_extension": ".py",
   "mimetype": "text/x-python",
   "name": "python",
   "nbconvert_exporter": "python",
   "pygments_lexer": "ipython3",
   "version": "3.6.8"
  }
 },
 "nbformat": 4,
 "nbformat_minor": 2
}
