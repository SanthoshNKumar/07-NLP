{
 "cells": [
  {
   "cell_type": "code",
   "execution_count": null,
   "metadata": {},
   "outputs": [],
   "source": []
  },
  {
   "cell_type": "code",
   "execution_count": 2,
   "metadata": {},
   "outputs": [
    {
     "data": {
      "text/plain": [
       "'In an attempt to build an AI-ready workforce, Microsoft announced Intelligent Cloud Hub which has been launched to empower the next generation of students with AI-ready skills. Envisioned as a three-year collaborative program, Intelligent Cloud Hub will support around 100 institutions with AI infrastructure, course content and curriculum, developer support, development tools and give students access to cloud and AI services. As part of the program, the Redmond giant which wants to expand its reach and is planning to build a strong developer ecosystem in India with the program will set up the core AI infrastructure and IoT Hub for the selected campuses. The company will provide AI development tools and Azure AI services such as Microsoft Cognitive Services, Bot Services and Azure Machine Learning.According to Manish Prakash, Country General Manager-PS, Health and Education, Microsoft India, said, \"With AI being the defining technology of our time, it is transforming lives and industry and the jobs of tomorrow will require a different skillset. This will require more collaborations and training and working with AI. That’s why it has become more critical than ever for educational institutions to integrate new cloud and AI technologies. The program is an attempt to ramp up the institutional set-up and build capabilities among the educators to educate the workforce of tomorrow.\" The program aims to build up the cognitive skills and in-depth understanding of developing intelligent cloud connected solutions for applications across industry. Earlier in April this year, the company announced Microsoft Professional Program In AI as a learning track open to the public. The program was developed to provide job ready skills to programmers who wanted to hone their skills in AI and data science with a series of online courses which featured hands-on labs and expert instructors as well. This program also included developer-focused AI school that provided a bunch of assets to help build AI skills.'"
      ]
     },
     "execution_count": 2,
     "metadata": {},
     "output_type": "execute_result"
    }
   ],
   "source": [
    "# Read text file\n",
    "file = 'SampleText01.txt'\n",
    "\n",
    "file = open(file , 'r')\n",
    "text = file.read()\n",
    "\n",
    "# Print the data\n",
    "text"
   ]
  },
  {
   "cell_type": "code",
   "execution_count": 3,
   "metadata": {},
   "outputs": [
    {
     "data": {
      "text/plain": [
       "'In an attempt to build an AIready workforce Microsoft announced Intelligent Cloud Hub which has been launched to empower the next generation of students with AIready skills Envisioned as a threeyear collaborative program Intelligent Cloud Hub will support around 100 institutions with AI infrastructure course content and curriculum developer support development tools and give students access to cloud and AI services As part of the program the Redmond giant which wants to expand its reach and is planning to build a strong developer ecosystem in India with the program will set up the core AI infrastructure and IoT Hub for the selected campuses The company will provide AI development tools and Azure AI services such as Microsoft Cognitive Services Bot Services and Azure Machine LearningAccording to Manish Prakash Country General ManagerPS Health and Education Microsoft India said With AI being the defining technology of our time it is transforming lives and industry and the jobs of tomorrow will require a different skillset This will require more collaborations and training and working with AI Thats why it has become more critical than ever for educational institutions to integrate new cloud and AI technologies The program is an attempt to ramp up the institutional setup and build capabilities among the educators to educate the workforce of tomorrow The program aims to build up the cognitive skills and indepth understanding of developing intelligent cloud connected solutions for applications across industry Earlier in April this year the company announced Microsoft Professional Program In AI as a learning track open to the public The program was developed to provide job ready skills to programmers who wanted to hone their skills in AI and data science with a series of online courses which featured handson labs and expert instructors as well This program also included developerfocused AI school that provided a bunch of assets to help build AI skills'"
      ]
     },
     "execution_count": 3,
     "metadata": {},
     "output_type": "execute_result"
    }
   ],
   "source": [
    "import re\n",
    "def remove_special_characters(text):\n",
    "    regex = r'[^a-zA-Z0-9\\s]'\n",
    "    text = re.sub(regex,'',text)\n",
    "    return text\n",
    "\n",
    "text = remove_special_characters(str(text))\n",
    "\n",
    "text"
   ]
  },
  {
   "cell_type": "code",
   "execution_count": 4,
   "metadata": {},
   "outputs": [
    {
     "data": {
      "text/plain": [
       "'In an attempt to build an AIready workforce Microsoft announced Intelligent Cloud Hub which has been launched to empower the next generation of students with AIready skills Envisioned as a threeyear collaborative program Intelligent Cloud Hub will support around  institutions with AI infrastructure course content and curriculum developer support development tools and give students access to cloud and AI services As part of the program the Redmond giant which wants to expand its reach and is planning to build a strong developer ecosystem in India with the program will set up the core AI infrastructure and IoT Hub for the selected campuses The company will provide AI development tools and Azure AI services such as Microsoft Cognitive Services Bot Services and Azure Machine LearningAccording to Manish Prakash Country General ManagerPS Health and Education Microsoft India said With AI being the defining technology of our time it is transforming lives and industry and the jobs of tomorrow will require a different skillset This will require more collaborations and training and working with AI Thats why it has become more critical than ever for educational institutions to integrate new cloud and AI technologies The program is an attempt to ramp up the institutional setup and build capabilities among the educators to educate the workforce of tomorrow The program aims to build up the cognitive skills and indepth understanding of developing intelligent cloud connected solutions for applications across industry Earlier in April this year the company announced Microsoft Professional Program In AI as a learning track open to the public The program was developed to provide job ready skills to programmers who wanted to hone their skills in AI and data science with a series of online courses which featured handson labs and expert instructors as well This program also included developerfocused AI school that provided a bunch of assets to help build AI skills'"
      ]
     },
     "execution_count": 4,
     "metadata": {},
     "output_type": "execute_result"
    }
   ],
   "source": [
    "# Remove Digits \n",
    "text = re.sub(r'\\d+', '', text)\n",
    "\n",
    "text"
   ]
  },
  {
   "cell_type": "code",
   "execution_count": 7,
   "metadata": {},
   "outputs": [
    {
     "name": "stdout",
     "output_type": "stream",
     "text": [
      "['In', 'an', 'attempt', 'to', 'build', 'an', 'AIready', 'workforce', 'Microsoft', 'announced', 'Intelligent', 'Cloud', 'Hub', 'which', 'has', 'been', 'launched', 'to', 'empower', 'the', 'next', 'generation', 'of', 'students', 'with', 'AIready', 'skills', 'Envisioned', 'as', 'a', 'threeyear', 'collaborative', 'program', 'Intelligent', 'Cloud', 'Hub', 'will', 'support', 'around', 'institutions', 'with', 'AI', 'infrastructure', 'course', 'content', 'and', 'curriculum', 'developer', 'support', 'development', 'tools', 'and', 'give', 'students', 'access', 'to', 'cloud', 'and', 'AI', 'services', 'As', 'part', 'of', 'the', 'program', 'the', 'Redmond', 'giant', 'which', 'wants', 'to', 'expand', 'its', 'reach', 'and', 'is', 'planning', 'to', 'build', 'a', 'strong', 'developer', 'ecosystem', 'in', 'India', 'with', 'the', 'program', 'will', 'set', 'up', 'the', 'core', 'AI', 'infrastructure', 'and', 'IoT', 'Hub', 'for', 'the', 'selected', 'campuses', 'The', 'company', 'will', 'provide', 'AI', 'development', 'tools', 'and', 'Azure', 'AI', 'services', 'such', 'as', 'Microsoft', 'Cognitive', 'Services', 'Bot', 'Services', 'and', 'Azure', 'Machine', 'LearningAccording', 'to', 'Manish', 'Prakash', 'Country', 'General', 'ManagerPS', 'Health', 'and', 'Education', 'Microsoft', 'India', 'said', 'With', 'AI', 'being', 'the', 'defining', 'technology', 'of', 'our', 'time', 'it', 'is', 'transforming', 'lives', 'and', 'industry', 'and', 'the', 'jobs', 'of', 'tomorrow', 'will', 'require', 'a', 'different', 'skillset', 'This', 'will', 'require', 'more', 'collaborations', 'and', 'training', 'and', 'working', 'with', 'AI', 'Thats', 'why', 'it', 'has', 'become', 'more', 'critical', 'than', 'ever', 'for', 'educational', 'institutions', 'to', 'integrate', 'new', 'cloud', 'and', 'AI', 'technologies', 'The', 'program', 'is', 'an', 'attempt', 'to', 'ramp', 'up', 'the', 'institutional', 'setup', 'and', 'build', 'capabilities', 'among', 'the', 'educators', 'to', 'educate', 'the', 'workforce', 'of', 'tomorrow', 'The', 'program', 'aims', 'to', 'build', 'up', 'the', 'cognitive', 'skills', 'and', 'indepth', 'understanding', 'of', 'developing', 'intelligent', 'cloud', 'connected', 'solutions', 'for', 'applications', 'across', 'industry', 'Earlier', 'in', 'April', 'this', 'year', 'the', 'company', 'announced', 'Microsoft', 'Professional', 'Program', 'In', 'AI', 'as', 'a', 'learning', 'track', 'open', 'to', 'the', 'public', 'The', 'program', 'was', 'developed', 'to', 'provide', 'job', 'ready', 'skills', 'to', 'programmers', 'who', 'wanted', 'to', 'hone', 'their', 'skills', 'in', 'AI', 'and', 'data', 'science', 'with', 'a', 'series', 'of', 'online', 'courses', 'which', 'featured', 'handson', 'labs', 'and', 'expert', 'instructors', 'as', 'well', 'This', 'program', 'also', 'included', 'developerfocused', 'AI', 'school', 'that', 'provided', 'a', 'bunch', 'of', 'assets', 'to', 'help', 'build', 'AI', 'skills']\n"
     ]
    }
   ],
   "source": [
    "from nltk.tokenize import word_tokenize\n",
    "\n",
    "# Tokenize the corpus\n",
    "tokenized_words_with_stopwords = word_tokenize(text)\n",
    "\n",
    "print(tokenized_words_with_stopwords)"
   ]
  },
  {
   "cell_type": "code",
   "execution_count": 8,
   "metadata": {},
   "outputs": [
    {
     "name": "stdout",
     "output_type": "stream",
     "text": [
      "['In', 'attempt', 'build', 'AIready', 'workforce', 'Microsoft', 'announced', 'Intelligent', 'Cloud', 'Hub', 'launched', 'empower', 'next', 'generation', 'students', 'AIready', 'skills', 'Envisioned', 'threeyear', 'collaborative', 'program', 'Intelligent', 'Cloud', 'Hub', 'support', 'around', 'institutions', 'AI', 'infrastructure', 'course', 'content', 'curriculum', 'developer', 'support', 'development', 'tools', 'give', 'students', 'access', 'cloud', 'AI', 'services', 'As', 'part', 'program', 'Redmond', 'giant', 'wants', 'expand', 'reach', 'planning', 'build', 'strong', 'developer', 'ecosystem', 'India', 'program', 'set', 'core', 'AI', 'infrastructure', 'IoT', 'Hub', 'selected', 'campuses', 'The', 'company', 'provide', 'AI', 'development', 'tools', 'Azure', 'AI', 'services', 'Microsoft', 'Cognitive', 'Services', 'Bot', 'Services', 'Azure', 'Machine', 'LearningAccording', 'Manish', 'Prakash', 'Country', 'General', 'ManagerPS', 'Health', 'Education', 'Microsoft', 'India', 'said', 'With', 'AI', 'defining', 'technology', 'time', 'transforming', 'lives', 'industry', 'jobs', 'tomorrow', 'require', 'different', 'skillset', 'This', 'require', 'collaborations', 'training', 'working', 'AI', 'Thats', 'become', 'critical', 'ever', 'educational', 'institutions', 'integrate', 'new', 'cloud', 'AI', 'technologies', 'The', 'program', 'attempt', 'ramp', 'institutional', 'setup', 'build', 'capabilities', 'among', 'educators', 'educate', 'workforce', 'tomorrow', 'The', 'program', 'aims', 'build', 'cognitive', 'skills', 'indepth', 'understanding', 'developing', 'intelligent', 'cloud', 'connected', 'solutions', 'applications', 'across', 'industry', 'Earlier', 'April', 'year', 'company', 'announced', 'Microsoft', 'Professional', 'Program', 'In', 'AI', 'learning', 'track', 'open', 'public', 'The', 'program', 'developed', 'provide', 'job', 'ready', 'skills', 'programmers', 'wanted', 'hone', 'skills', 'AI', 'data', 'science', 'series', 'online', 'courses', 'featured', 'handson', 'labs', 'expert', 'instructors', 'well', 'This', 'program', 'also', 'included', 'developerfocused', 'AI', 'school', 'provided', 'bunch', 'assets', 'help', 'build', 'AI', 'skills']\n"
     ]
    }
   ],
   "source": [
    "from nltk.corpus import stopwords\n",
    "\n",
    "stopwords = set(stopwords.words('english'))\n",
    "\n",
    "tokenized_words = [word for word in tokenized_words_with_stopwords if word not in stopwords]\n",
    "\n",
    "print(tokenized_words)"
   ]
  },
  {
   "cell_type": "code",
   "execution_count": 9,
   "metadata": {},
   "outputs": [
    {
     "name": "stdout",
     "output_type": "stream",
     "text": [
      "['In', 'attempt', 'build', 'AIready', 'workforce', 'Microsoft', 'announced', 'Intelligent', 'Cloud', 'Hub', 'launched', 'empower', 'next', 'generation', 'students', 'AIready', 'skills', 'Envisioned', 'threeyear', 'collaborative', 'program', 'Intelligent', 'Cloud', 'Hub', 'support', 'around', 'institutions', 'AI', 'infrastructure', 'course', 'content', 'curriculum', 'developer', 'support', 'development', 'tools', 'give', 'students', 'access', 'cloud', 'AI', 'services', 'As', 'part', 'program', 'Redmond', 'giant', 'wants', 'expand', 'reach', 'planning', 'build', 'strong', 'developer', 'ecosystem', 'India', 'program', 'set', 'core', 'AI', 'infrastructure', 'IoT', 'Hub', 'selected', 'campuses', 'The', 'company', 'provide', 'AI', 'development', 'tools', 'Azure', 'AI', 'services', 'Microsoft', 'Cognitive', 'Services', 'Bot', 'Services', 'Azure', 'Machine', 'LearningAccording', 'Manish', 'Prakash', 'Country', 'General', 'ManagerPS', 'Health', 'Education', 'Microsoft', 'India', 'said', 'With', 'AI', 'defining', 'technology', 'time', 'transforming', 'lives', 'industry', 'jobs', 'tomorrow', 'require', 'different', 'skillset', 'This', 'require', 'collaborations', 'training', 'working', 'AI', 'Thats', 'become', 'critical', 'ever', 'educational', 'institutions', 'integrate', 'new', 'cloud', 'AI', 'technologies', 'The', 'program', 'attempt', 'ramp', 'institutional', 'setup', 'build', 'capabilities', 'among', 'educators', 'educate', 'workforce', 'tomorrow', 'The', 'program', 'aims', 'build', 'cognitive', 'skills', 'indepth', 'understanding', 'developing', 'intelligent', 'cloud', 'connected', 'solutions', 'applications', 'across', 'industry', 'Earlier', 'April', 'year', 'company', 'announced', 'Microsoft', 'Professional', 'Program', 'In', 'AI', 'learning', 'track', 'open', 'public', 'The', 'program', 'developed', 'provide', 'job', 'ready', 'skills', 'programmers', 'wanted', 'hone', 'skills', 'AI', 'data', 'science', 'series', 'online', 'courses', 'featured', 'handson', 'labs', 'expert', 'instructors', 'well', 'This', 'program', 'also', 'included', 'developerfocused', 'AI', 'school', 'provided', 'bunch', 'assets', 'help', 'build', 'AI', 'skills']\n"
     ]
    }
   ],
   "source": [
    "# Remove One letter words\n",
    "\n",
    "tokenized_words = [word for word in tokenized_words if len(word) > 1]\n",
    "\n",
    "print(tokenized_words)"
   ]
  },
  {
   "cell_type": "code",
   "execution_count": 10,
   "metadata": {},
   "outputs": [
    {
     "name": "stdout",
     "output_type": "stream",
     "text": [
      "['in', 'attempt', 'build', 'aiready', 'workforce', 'microsoft', 'announced', 'intelligent', 'cloud', 'hub', 'launched', 'empower', 'next', 'generation', 'students', 'aiready', 'skills', 'envisioned', 'threeyear', 'collaborative', 'program', 'intelligent', 'cloud', 'hub', 'support', 'around', 'institutions', 'ai', 'infrastructure', 'course', 'content', 'curriculum', 'developer', 'support', 'development', 'tools', 'give', 'students', 'access', 'cloud', 'ai', 'services', 'as', 'part', 'program', 'redmond', 'giant', 'wants', 'expand', 'reach', 'planning', 'build', 'strong', 'developer', 'ecosystem', 'india', 'program', 'set', 'core', 'ai', 'infrastructure', 'iot', 'hub', 'selected', 'campuses', 'the', 'company', 'provide', 'ai', 'development', 'tools', 'azure', 'ai', 'services', 'microsoft', 'cognitive', 'services', 'bot', 'services', 'azure', 'machine', 'learningaccording', 'manish', 'prakash', 'country', 'general', 'managerps', 'health', 'education', 'microsoft', 'india', 'said', 'with', 'ai', 'defining', 'technology', 'time', 'transforming', 'lives', 'industry', 'jobs', 'tomorrow', 'require', 'different', 'skillset', 'this', 'require', 'collaborations', 'training', 'working', 'ai', 'thats', 'become', 'critical', 'ever', 'educational', 'institutions', 'integrate', 'new', 'cloud', 'ai', 'technologies', 'the', 'program', 'attempt', 'ramp', 'institutional', 'setup', 'build', 'capabilities', 'among', 'educators', 'educate', 'workforce', 'tomorrow', 'the', 'program', 'aims', 'build', 'cognitive', 'skills', 'indepth', 'understanding', 'developing', 'intelligent', 'cloud', 'connected', 'solutions', 'applications', 'across', 'industry', 'earlier', 'april', 'year', 'company', 'announced', 'microsoft', 'professional', 'program', 'in', 'ai', 'learning', 'track', 'open', 'public', 'the', 'program', 'developed', 'provide', 'job', 'ready', 'skills', 'programmers', 'wanted', 'hone', 'skills', 'ai', 'data', 'science', 'series', 'online', 'courses', 'featured', 'handson', 'labs', 'expert', 'instructors', 'well', 'this', 'program', 'also', 'included', 'developerfocused', 'ai', 'school', 'provided', 'bunch', 'assets', 'help', 'build', 'ai', 'skills']\n"
     ]
    }
   ],
   "source": [
    "# Lower the case\n",
    "\n",
    "tokenized_words = [word.lower() for word in tokenized_words]\n",
    "\n",
    "print(tokenized_words)"
   ]
  },
  {
   "cell_type": "code",
   "execution_count": 11,
   "metadata": {},
   "outputs": [
    {
     "name": "stdout",
     "output_type": "stream",
     "text": [
      "['in', 'attempt', 'build', 'aiready', 'workforce', 'microsoft', 'announced', 'intelligent', 'cloud', 'hub', 'launched', 'empower', 'next', 'generation', 'student', 'aiready', 'skill', 'envisioned', 'threeyear', 'collaborative', 'program', 'intelligent', 'cloud', 'hub', 'support', 'around', 'institution', 'ai', 'infrastructure', 'course', 'content', 'curriculum', 'developer', 'support', 'development', 'tool', 'give', 'student', 'access', 'cloud', 'ai', 'service', 'a', 'part', 'program', 'redmond', 'giant', 'want', 'expand', 'reach', 'planning', 'build', 'strong', 'developer', 'ecosystem', 'india', 'program', 'set', 'core', 'ai', 'infrastructure', 'iot', 'hub', 'selected', 'campus', 'the', 'company', 'provide', 'ai', 'development', 'tool', 'azure', 'ai', 'service', 'microsoft', 'cognitive', 'service', 'bot', 'service', 'azure', 'machine', 'learningaccording', 'manish', 'prakash', 'country', 'general', 'managerps', 'health', 'education', 'microsoft', 'india', 'said', 'with', 'ai', 'defining', 'technology', 'time', 'transforming', 'life', 'industry', 'job', 'tomorrow', 'require', 'different', 'skillset', 'this', 'require', 'collaboration', 'training', 'working', 'ai', 'thats', 'become', 'critical', 'ever', 'educational', 'institution', 'integrate', 'new', 'cloud', 'ai', 'technology', 'the', 'program', 'attempt', 'ramp', 'institutional', 'setup', 'build', 'capability', 'among', 'educator', 'educate', 'workforce', 'tomorrow', 'the', 'program', 'aim', 'build', 'cognitive', 'skill', 'indepth', 'understanding', 'developing', 'intelligent', 'cloud', 'connected', 'solution', 'application', 'across', 'industry', 'earlier', 'april', 'year', 'company', 'announced', 'microsoft', 'professional', 'program', 'in', 'ai', 'learning', 'track', 'open', 'public', 'the', 'program', 'developed', 'provide', 'job', 'ready', 'skill', 'programmer', 'wanted', 'hone', 'skill', 'ai', 'data', 'science', 'series', 'online', 'course', 'featured', 'handson', 'lab', 'expert', 'instructor', 'well', 'this', 'program', 'also', 'included', 'developerfocused', 'ai', 'school', 'provided', 'bunch', 'asset', 'help', 'build', 'ai', 'skill']\n"
     ]
    }
   ],
   "source": [
    "from nltk.stem import WordNetLemmatizer\n",
    "wordlemmatizer = WordNetLemmatizer()\n",
    "\n",
    "def lemmatize_words(words):\n",
    "    lemmatized_words = []\n",
    "    for word in words:\n",
    "       lemmatized_words.append(wordlemmatizer.lemmatize(word))\n",
    "    return lemmatized_words\n",
    "\n",
    "tokenized_words = lemmatize_words(tokenized_words)\n",
    "\n",
    "print(tokenized_words)"
   ]
  },
  {
   "cell_type": "code",
   "execution_count": 12,
   "metadata": {},
   "outputs": [],
   "source": [
    "import nltk\n",
    "import math\n",
    "from nltk.corpus import stopwords\n",
    "\n",
    "def freq(words):\n",
    "    words = [word.lower() for word in words]\n",
    "    dict_freq = {}\n",
    "    words_unique = []\n",
    "    for word in words:\n",
    "       if word not in words_unique:\n",
    "           words_unique.append(word)\n",
    "    for word in words_unique:\n",
    "       dict_freq[word] = words.count(word)\n",
    "    return dict_freq\n",
    "\n",
    "Stopwords = set(stopwords.words('english'))\n",
    "\n",
    "def tf_score(word,sentence):\n",
    "    freq_sum = 0\n",
    "    word_frequency_in_sentence = 0\n",
    "    len_sentence = len(sentence)\n",
    "    for word_in_sentence in sentence.split():\n",
    "        if word == word_in_sentence:\n",
    "            word_frequency_in_sentence = word_frequency_in_sentence + 1\n",
    "    tf =  word_frequency_in_sentence/ len_sentence\n",
    "    return tf\n",
    "\n",
    "def idf_score(no_of_sentences,word,sentences):\n",
    "    no_of_sentence_containing_word = 0\n",
    "    for sentence in sentences:\n",
    "        sentence = remove_special_characters(str(sentence))\n",
    "        sentence = re.sub(r'\\d+', '', sentence)\n",
    "        sentence = sentence.split()\n",
    "        sentence = [word for word in sentence if word.lower() not in Stopwords and len(word)>1]\n",
    "        sentence = [word.lower() for word in sentence]\n",
    "        sentence = [wordlemmatizer.lemmatize(word) for word in sentence]\n",
    "        if word in sentence:\n",
    "            no_of_sentence_containing_word = no_of_sentence_containing_word + 1\n",
    "    idf = math.log10(no_of_sentences/no_of_sentence_containing_word)\n",
    "    return idf\n",
    "\n",
    "def tf_idf_score(tf,idf):\n",
    "    return tf*idf\n",
    "\n",
    "def word_tfidf(dict_freq,word,sentences,sentence):\n",
    "    word_tfidf = []\n",
    "    tf = tf_score(word,sentence)\n",
    "    #print(\"Word :{0} and tf_score : {1}\".format(word,tf))\n",
    "    idf = idf_score(len(sentences),word,sentences)\n",
    "    #print(\"Word :{0} and idf_Score : {1}\".format(word,idf))\n",
    "    tf_idf = tf_idf_score(tf,idf)\n",
    "    print(\"Word :{0} and tfidf_Score : {1}\".format(word,tf_idf))\n",
    "    return tf_idf\n",
    "\n",
    "def pos_tagging(text):\n",
    "    pos_tag = nltk.pos_tag(text.split())\n",
    "    pos_tagged_noun_verb = []\n",
    "    for word,tag in pos_tag:\n",
    "        if tag == \"NN\" or tag == \"NNP\" or tag == \"NNS\" or tag == \"VB\" or tag == \"VBD\" or tag == \"VBG\" or tag == \"VBN\" or tag == \"VBP\" or tag == \"VBZ\":\n",
    "             pos_tagged_noun_verb.append(word)\n",
    "    #print(pos_tagged_noun_verb)\n",
    "    return pos_tagged_noun_verb\n",
    "\n",
    "def sentence_importance(sentence,dict_freq,sentences):\n",
    "    sentence_score = 0\n",
    "    sentence = remove_special_characters(str(sentence)) \n",
    "    sentence = re.sub(r'\\d+', '', sentence)\n",
    "    pos_tagged_sentence = [] \n",
    "    no_of_sentences = len(sentences)\n",
    "    \n",
    "    _word = []\n",
    "    \n",
    "    pos_tagged_sentence = pos_tagging(sentence)\n",
    "    for word in pos_tagged_sentence:\n",
    "        if word.lower() not in Stopwords and word not in Stopwords and len(word)>1: \n",
    "            word = word.lower()\n",
    "            word = wordlemmatizer.lemmatize(word)\n",
    "            #print(\"Word: {0} = Sentence_score:{1} and tfidf :{2}\".format(word,sentence_score,word_tfidf(dict_freq,word,sentences,sentence)))\n",
    "            #print(\"Old_sentence_score:\",sentence_score)\n",
    "            _word.append(word)\n",
    "            sentence_score = sentence_score + word_tfidf(dict_freq,word,sentences,sentence)\n",
    "            #print(\"New_sentence_score:\",sentence_score)\n",
    "            print(\"sentence_score_{0} =  {1}:\".format(word,sentence_score))\n",
    "        \n",
    "    #print(\"senetnce score for the sentence{0}:{1}\".format(sentence),sentence_score)\n",
    "    #print(\"Taol_sentence_score_complete_Words:\",sentence_score)\n",
    "    print(_word)\n",
    "    print(\"**************************************************\")\n",
    "    \n",
    "    \n",
    "    return sentence_score"
   ]
  },
  {
   "cell_type": "code",
   "execution_count": 13,
   "metadata": {},
   "outputs": [
    {
     "name": "stdout",
     "output_type": "stream",
     "text": [
      "{'in': 2, 'attempt': 2, 'build': 5, 'aiready': 2, 'workforce': 2, 'microsoft': 4, 'announced': 2, 'intelligent': 3, 'cloud': 5, 'hub': 3, 'launched': 1, 'empower': 1, 'next': 1, 'generation': 1, 'student': 2, 'skill': 5, 'envisioned': 1, 'threeyear': 1, 'collaborative': 1, 'program': 8, 'support': 2, 'around': 1, 'institution': 2, 'ai': 12, 'infrastructure': 2, 'course': 2, 'content': 1, 'curriculum': 1, 'developer': 2, 'development': 2, 'tool': 2, 'give': 1, 'access': 1, 'service': 4, 'a': 1, 'part': 1, 'redmond': 1, 'giant': 1, 'want': 1, 'expand': 1, 'reach': 1, 'planning': 1, 'strong': 1, 'ecosystem': 1, 'india': 2, 'set': 1, 'core': 1, 'iot': 1, 'selected': 1, 'campus': 1, 'the': 4, 'company': 2, 'provide': 2, 'azure': 2, 'cognitive': 2, 'bot': 1, 'machine': 1, 'learningaccording': 1, 'manish': 1, 'prakash': 1, 'country': 1, 'general': 1, 'managerps': 1, 'health': 1, 'education': 1, 'said': 1, 'with': 1, 'defining': 1, 'technology': 2, 'time': 1, 'transforming': 1, 'life': 1, 'industry': 2, 'job': 2, 'tomorrow': 2, 'require': 2, 'different': 1, 'skillset': 1, 'this': 2, 'collaboration': 1, 'training': 1, 'working': 1, 'thats': 1, 'become': 1, 'critical': 1, 'ever': 1, 'educational': 1, 'integrate': 1, 'new': 1, 'ramp': 1, 'institutional': 1, 'setup': 1, 'capability': 1, 'among': 1, 'educator': 1, 'educate': 1, 'aim': 1, 'indepth': 1, 'understanding': 1, 'developing': 1, 'connected': 1, 'solution': 1, 'application': 1, 'across': 1, 'earlier': 1, 'april': 1, 'year': 1, 'professional': 1, 'learning': 1, 'track': 1, 'open': 1, 'public': 1, 'developed': 1, 'ready': 1, 'programmer': 1, 'wanted': 1, 'hone': 1, 'data': 1, 'science': 1, 'series': 1, 'online': 1, 'featured': 1, 'handson': 1, 'lab': 1, 'expert': 1, 'instructor': 1, 'well': 1, 'also': 1, 'included': 1, 'developerfocused': 1, 'school': 1, 'provided': 1, 'bunch': 1, 'asset': 1, 'help': 1}\n"
     ]
    }
   ],
   "source": [
    "# Get the Word Frequency\n",
    "word_freq = freq(tokenized_words)\n",
    "\n",
    "print(word_freq)"
   ]
  },
  {
   "cell_type": "code",
   "execution_count": null,
   "metadata": {},
   "outputs": [],
   "source": []
  },
  {
   "cell_type": "code",
   "execution_count": 15,
   "metadata": {},
   "outputs": [
    {
     "data": {
      "text/plain": [
       "['In an attempt to build an AI-ready workforce, Microsoft announced Intelligent Cloud Hub which has been launched to empower the next generation of students with AI-ready skills.',\n",
       " 'Envisioned as a three-year collaborative program, Intelligent Cloud Hub will support around 100 institutions with AI infrastructure, course content and curriculum, developer support, development tools and give students access to cloud and AI services.',\n",
       " 'As part of the program, the Redmond giant which wants to expand its reach and is planning to build a strong developer ecosystem in India with the program will set up the core AI infrastructure and IoT Hub for the selected campuses.',\n",
       " 'The company will provide AI development tools and Azure AI services such as Microsoft Cognitive Services, Bot Services and Azure Machine Learning.According to Manish Prakash, Country General Manager-PS, Health and Education, Microsoft India, said, \"With AI being the defining technology of our time, it is transforming lives and industry and the jobs of tomorrow will require a different skillset.',\n",
       " 'This will require more collaborations and training and working with AI.',\n",
       " 'That’s why it has become more critical than ever for educational institutions to integrate new cloud and AI technologies.',\n",
       " 'The program is an attempt to ramp up the institutional set-up and build capabilities among the educators to educate the workforce of tomorrow.\"',\n",
       " 'The program aims to build up the cognitive skills and in-depth understanding of developing intelligent cloud connected solutions for applications across industry.',\n",
       " 'Earlier in April this year, the company announced Microsoft Professional Program In AI as a learning track open to the public.',\n",
       " 'The program was developed to provide job ready skills to programmers who wanted to hone their skills in AI and data science with a series of online courses which featured hands-on labs and expert instructors as well.',\n",
       " 'This program also included developer-focused AI school that provided a bunch of assets to help build AI skills.']"
      ]
     },
     "execution_count": 15,
     "metadata": {},
     "output_type": "execute_result"
    }
   ],
   "source": [
    "from nltk.tokenize import sent_tokenize\n",
    "\n",
    "# Read text file\n",
    "file = 'SampleText01.txt'\n",
    "\n",
    "text = open(file , 'r').read()\n",
    "\n",
    "# Step 1: This is used only finding the Important Sentence\n",
    "# Sentence Tokenize the Text Data (Corpus )\n",
    "tokenized_sentence = sent_tokenize(text)\n",
    "\n",
    "tokenized_sentence"
   ]
  },
  {
   "cell_type": "code",
   "execution_count": 16,
   "metadata": {},
   "outputs": [
    {
     "name": "stdout",
     "output_type": "stream",
     "text": [
      "Total Senetnces in corpus: 11\n"
     ]
    }
   ],
   "source": [
    "print(\"Total Senetnces in corpus:\",len(tokenized_sentence))"
   ]
  },
  {
   "cell_type": "code",
   "execution_count": 17,
   "metadata": {},
   "outputs": [
    {
     "name": "stdout",
     "output_type": "stream",
     "text": [
      "Percentage of information to retain(in percent):30\n",
      "no_of_sentences: 3\n"
     ]
    }
   ],
   "source": [
    "input_user = int(input('Percentage of information to retain(in percent):'))\n",
    "\n",
    "# Get the number of senetcne based on Percentage Value if it is 100 it will consider all the senetnce\n",
    "no_of_sentences = int((input_user * len(tokenized_sentence))/100)\n",
    "\n",
    "print(\"no_of_sentences:\",no_of_sentences)"
   ]
  },
  {
   "cell_type": "code",
   "execution_count": 18,
   "metadata": {},
   "outputs": [
    {
     "name": "stdout",
     "output_type": "stream",
     "text": [
      "Word :attempt and tfidf_Score : 0.004304434241245604\n",
      "sentence_score_attempt =  0.004304434241245604:\n",
      "Word :build and tfidf_Score : 0.00199082953966399\n",
      "sentence_score_build =  0.006295263780909594:\n",
      "Word :aiready and tfidf_Score : 0.0\n",
      "sentence_score_aiready =  0.006295263780909594:\n",
      "Word :workforce and tfidf_Score : 0.004304434241245604\n",
      "sentence_score_workforce =  0.010599698022155197:\n",
      "Word :microsoft and tfidf_Score : 0.0\n",
      "sentence_score_microsoft =  0.010599698022155197:\n",
      "Word :announced and tfidf_Score : 0.004304434241245604\n",
      "sentence_score_announced =  0.014904132263400802:\n",
      "Word :intelligent and tfidf_Score : 0.0\n",
      "sentence_score_intelligent =  0.014904132263400802:\n",
      "Word :cloud and tfidf_Score : 0.0\n",
      "sentence_score_cloud =  0.014904132263400802:\n",
      "Word :hub and tfidf_Score : 0.0\n",
      "sentence_score_hub =  0.014904132263400802:\n",
      "Word :launched and tfidf_Score : 0.006054608634640844\n",
      "sentence_score_launched =  0.020958740898041645:\n",
      "Word :empower and tfidf_Score : 0.006054608634640844\n",
      "sentence_score_empower =  0.027013349532682487:\n",
      "Word :generation and tfidf_Score : 0.006054608634640844\n",
      "sentence_score_generation =  0.03306795816732333:\n",
      "Word :student and tfidf_Score : 0.0\n",
      "sentence_score_student =  0.03306795816732333:\n",
      "Word :aiready and tfidf_Score : 0.0\n",
      "sentence_score_aiready =  0.03306795816732333:\n",
      "Word :skill and tfidf_Score : 0.0\n",
      "sentence_score_skill =  0.03306795816732333:\n",
      "['attempt', 'build', 'aiready', 'workforce', 'microsoft', 'announced', 'intelligent', 'cloud', 'hub', 'launched', 'empower', 'generation', 'student', 'aiready', 'skill']\n",
      "**************************************************\n",
      "Word :envisioned and tfidf_Score : 0.0\n",
      "sentence_score_envisioned =  0.0:\n",
      "Word :program and tfidf_Score : 0.0008111348972891248\n",
      "sentence_score_program =  0.0008111348972891248:\n",
      "Word :intelligent and tfidf_Score : 0.0\n",
      "sentence_score_intelligent =  0.0008111348972891248:\n",
      "Word :cloud and tfidf_Score : 0.0018154243546705069\n",
      "sentence_score_cloud =  0.0026265592519596316:\n",
      "Word :hub and tfidf_Score : 0.0\n",
      "sentence_score_hub =  0.0026265592519596316:\n",
      "Word :support and tfidf_Score : 0.008606551117010126\n",
      "sentence_score_support =  0.011233110368969759:\n",
      "Word :institution and tfidf_Score : 0.0\n",
      "sentence_score_institution =  0.011233110368969759:\n",
      "Word :ai and tfidf_Score : 0.0\n",
      "sentence_score_ai =  0.011233110368969759:\n",
      "Word :infrastructure and tfidf_Score : 0.003059349956587785\n",
      "sentence_score_infrastructure =  0.014292460325557543:\n",
      "Word :course and tfidf_Score : 0.003059349956587785\n",
      "sentence_score_course =  0.017351810282145327:\n",
      "Word :content and tfidf_Score : 0.004303275558505063\n",
      "sentence_score_content =  0.02165508584065039:\n",
      "Word :curriculum and tfidf_Score : 0.004303275558505063\n",
      "sentence_score_curriculum =  0.025958361399155454:\n",
      "Word :developer and tfidf_Score : 0.003059349956587785\n",
      "sentence_score_developer =  0.02901771135574324:\n",
      "Word :support and tfidf_Score : 0.008606551117010126\n",
      "sentence_score_support =  0.03762426247275336:\n",
      "Word :development and tfidf_Score : 0.003059349956587785\n",
      "sentence_score_development =  0.04068361242934115:\n",
      "Word :tool and tfidf_Score : 0.0\n",
      "sentence_score_tool =  0.04068361242934115:\n",
      "Word :student and tfidf_Score : 0.0\n",
      "sentence_score_student =  0.04068361242934115:\n",
      "Word :access and tfidf_Score : 0.004303275558505063\n",
      "sentence_score_access =  0.04498688798784621:\n",
      "Word :cloud and tfidf_Score : 0.0018154243546705069\n",
      "sentence_score_cloud =  0.046802312342516715:\n",
      "Word :ai and tfidf_Score : 0.0\n",
      "sentence_score_ai =  0.046802312342516715:\n",
      "Word :service and tfidf_Score : 0.0\n",
      "sentence_score_service =  0.046802312342516715:\n",
      "['envisioned', 'program', 'intelligent', 'cloud', 'hub', 'support', 'institution', 'ai', 'infrastructure', 'course', 'content', 'curriculum', 'developer', 'support', 'development', 'tool', 'student', 'access', 'cloud', 'ai', 'service']\n",
      "**************************************************\n",
      "Word :part and tfidf_Score : 0.004547566310734608\n",
      "sentence_score_part =  0.004547566310734608:\n",
      "Word :program and tfidf_Score : 0.0017143637130477571\n",
      "sentence_score_program =  0.006261930023782365:\n",
      "Word :redmond and tfidf_Score : 0.0\n",
      "sentence_score_redmond =  0.006261930023782365:\n",
      "Word :giant and tfidf_Score : 0.004547566310734608\n",
      "sentence_score_giant =  0.010809496334516971:\n",
      "Word :want and tfidf_Score : 0.0\n",
      "sentence_score_want =  0.010809496334516971:\n",
      "Word :expand and tfidf_Score : 0.004547566310734608\n",
      "sentence_score_expand =  0.015357062645251579:\n",
      "Word :reach and tfidf_Score : 0.004547566310734608\n",
      "sentence_score_reach =  0.019904628955986187:\n",
      "Word :planning and tfidf_Score : 0.004547566310734608\n",
      "sentence_score_planning =  0.024452195266720794:\n",
      "Word :build and tfidf_Score : 0.0014952955494419488\n",
      "sentence_score_build =  0.02594749081616274:\n",
      "Word :developer and tfidf_Score : 0.00323302484495303\n",
      "sentence_score_developer =  0.02918051566111577:\n",
      "Word :ecosystem and tfidf_Score : 0.004547566310734608\n",
      "sentence_score_ecosystem =  0.03372808197185038:\n",
      "Word :india and tfidf_Score : 0.0\n",
      "sentence_score_india =  0.03372808197185038:\n",
      "Word :program and tfidf_Score : 0.0017143637130477571\n",
      "sentence_score_program =  0.035442445684898134:\n",
      "Word :set and tfidf_Score : 0.004547566310734608\n",
      "sentence_score_set =  0.03999001199563274:\n",
      "Word :core and tfidf_Score : 0.004547566310734608\n",
      "sentence_score_core =  0.04453757830636735:\n",
      "Word :ai and tfidf_Score : 0.0\n",
      "sentence_score_ai =  0.04453757830636735:\n",
      "Word :infrastructure and tfidf_Score : 0.00323302484495303\n",
      "sentence_score_infrastructure =  0.04777060315132038:\n",
      "Word :iot and tfidf_Score : 0.0\n",
      "sentence_score_iot =  0.04777060315132038:\n",
      "Word :hub and tfidf_Score : 0.0\n",
      "sentence_score_hub =  0.04777060315132038:\n",
      "Word :selected and tfidf_Score : 0.004547566310734608\n",
      "sentence_score_selected =  0.05231816946205499:\n",
      "Word :campus and tfidf_Score : 0.0\n",
      "sentence_score_campus =  0.05231816946205499:\n",
      "['part', 'program', 'redmond', 'giant', 'want', 'expand', 'reach', 'planning', 'build', 'developer', 'ecosystem', 'india', 'program', 'set', 'core', 'ai', 'infrastructure', 'iot', 'hub', 'selected', 'campus']\n",
      "**************************************************\n",
      "Word :company and tfidf_Score : 0.0019180380556845698\n",
      "sentence_score_company =  0.0019180380556845698:\n",
      "Word :provide and tfidf_Score : 0.0019180380556845698\n",
      "sentence_score_provide =  0.0038360761113691395:\n",
      "Word :ai and tfidf_Score : 0.0\n",
      "sentence_score_ai =  0.0038360761113691395:\n",
      "Word :development and tfidf_Score : 0.0019180380556845698\n",
      "sentence_score_development =  0.005754114167053709:\n",
      "Word :tool and tfidf_Score : 0.0\n",
      "sentence_score_tool =  0.005754114167053709:\n",
      "Word :azure and tfidf_Score : 0.0\n",
      "sentence_score_azure =  0.005754114167053709:\n",
      "Word :ai and tfidf_Score : 0.0\n",
      "sentence_score_ai =  0.005754114167053709:\n",
      "Word :service and tfidf_Score : 0.0\n",
      "sentence_score_service =  0.005754114167053709:\n",
      "Word :microsoft and tfidf_Score : 0.0\n",
      "sentence_score_microsoft =  0.005754114167053709:\n",
      "Word :cognitive and tfidf_Score : 0.0\n",
      "sentence_score_cognitive =  0.005754114167053709:\n",
      "Word :bot and tfidf_Score : 0.0\n",
      "sentence_score_bot =  0.005754114167053709:\n",
      "Word :azure and tfidf_Score : 0.0\n",
      "sentence_score_azure =  0.005754114167053709:\n",
      "Word :machine and tfidf_Score : 0.0\n",
      "sentence_score_machine =  0.005754114167053709:\n",
      "Word :learningaccording and tfidf_Score : 0.0\n",
      "sentence_score_learningaccording =  0.005754114167053709:\n",
      "Word :manish and tfidf_Score : 0.0\n",
      "sentence_score_manish =  0.005754114167053709:\n",
      "Word :prakash and tfidf_Score : 0.0\n",
      "sentence_score_prakash =  0.005754114167053709:\n",
      "Word :country and tfidf_Score : 0.0\n",
      "sentence_score_country =  0.005754114167053709:\n",
      "Word :general and tfidf_Score : 0.0\n",
      "sentence_score_general =  0.005754114167053709:\n",
      "Word :managerps and tfidf_Score : 0.0\n",
      "sentence_score_managerps =  0.005754114167053709:\n",
      "Word :health and tfidf_Score : 0.0\n",
      "sentence_score_health =  0.005754114167053709:\n",
      "Word :education and tfidf_Score : 0.0\n",
      "sentence_score_education =  0.005754114167053709:\n",
      "Word :microsoft and tfidf_Score : 0.0\n",
      "sentence_score_microsoft =  0.005754114167053709:\n",
      "Word :india and tfidf_Score : 0.0\n",
      "sentence_score_india =  0.005754114167053709:\n",
      "Word :said and tfidf_Score : 0.002697908510772604\n",
      "sentence_score_said =  0.008452022677826312:\n",
      "Word :ai and tfidf_Score : 0.0\n",
      "sentence_score_ai =  0.008452022677826312:\n",
      "Word :defining and tfidf_Score : 0.002697908510772604\n",
      "sentence_score_defining =  0.011149931188598916:\n",
      "Word :technology and tfidf_Score : 0.0019180380556845698\n",
      "sentence_score_technology =  0.013067969244283486:\n"
     ]
    },
    {
     "name": "stdout",
     "output_type": "stream",
     "text": [
      "Word :time and tfidf_Score : 0.002697908510772604\n",
      "sentence_score_time =  0.01576587775505609:\n",
      "Word :transforming and tfidf_Score : 0.002697908510772604\n",
      "sentence_score_transforming =  0.018463786265828695:\n",
      "Word :life and tfidf_Score : 0.0\n",
      "sentence_score_life =  0.018463786265828695:\n",
      "Word :industry and tfidf_Score : 0.0019180380556845698\n",
      "sentence_score_industry =  0.020381824321513264:\n",
      "Word :job and tfidf_Score : 0.0\n",
      "sentence_score_job =  0.020381824321513264:\n",
      "Word :tomorrow and tfidf_Score : 0.0019180380556845698\n",
      "sentence_score_tomorrow =  0.022299862377197832:\n",
      "Word :require and tfidf_Score : 0.0019180380556845698\n",
      "sentence_score_require =  0.0242179004328824:\n",
      "Word :skillset and tfidf_Score : 0.002697908510772604\n",
      "sentence_score_skillset =  0.026915808943655004:\n",
      "['company', 'provide', 'ai', 'development', 'tool', 'azure', 'ai', 'service', 'microsoft', 'cognitive', 'bot', 'azure', 'machine', 'learningaccording', 'manish', 'prakash', 'country', 'general', 'managerps', 'health', 'education', 'microsoft', 'india', 'said', 'ai', 'defining', 'technology', 'time', 'transforming', 'life', 'industry', 'job', 'tomorrow', 'require', 'skillset']\n",
      "**************************************************\n",
      "Word :require and tfidf_Score : 0.010576609849917769\n",
      "sentence_score_require =  0.010576609849917769:\n",
      "Word :collaboration and tfidf_Score : 0.0\n",
      "sentence_score_collaboration =  0.010576609849917769:\n",
      "Word :training and tfidf_Score : 0.014877038359403216\n",
      "sentence_score_training =  0.025453648209320986:\n",
      "Word :working and tfidf_Score : 0.014877038359403216\n",
      "sentence_score_working =  0.040330686568724204:\n",
      "Word :ai and tfidf_Score : 0.0\n",
      "sentence_score_ai =  0.040330686568724204:\n",
      "['require', 'collaboration', 'training', 'working', 'ai']\n",
      "**************************************************\n",
      "Word :thats and tfidf_Score : 0.0\n",
      "sentence_score_thats =  0.0:\n",
      "Word :become and tfidf_Score : 0.008751199034943069\n",
      "sentence_score_become =  0.008751199034943069:\n",
      "Word :institution and tfidf_Score : 0.0\n",
      "sentence_score_institution =  0.008751199034943069:\n",
      "Word :integrate and tfidf_Score : 0.008751199034943069\n",
      "sentence_score_integrate =  0.017502398069886137:\n",
      "Word :cloud and tfidf_Score : 0.003691871376724896\n",
      "sentence_score_cloud =  0.021194269446611035:\n",
      "Word :ai and tfidf_Score : 0.0\n",
      "sentence_score_ai =  0.021194269446611035:\n",
      "Word :technology and tfidf_Score : 0.0\n",
      "sentence_score_technology =  0.021194269446611035:\n",
      "['thats', 'become', 'institution', 'integrate', 'cloud', 'ai', 'technology']\n",
      "**************************************************\n",
      "Word :program and tfidf_Score : 0.0014021046081712013\n",
      "sentence_score_program =  0.0014021046081712013:\n",
      "Word :attempt and tfidf_Score : 0.005288304924958884\n",
      "sentence_score_attempt =  0.006690409533130086:\n",
      "Word :ramp and tfidf_Score : 0.007438519179701608\n",
      "sentence_score_ramp =  0.014128928712831694:\n",
      "Word :setup and tfidf_Score : 0.007438519179701608\n",
      "sentence_score_setup =  0.0215674478925333:\n",
      "Word :capability and tfidf_Score : 0.0\n",
      "sentence_score_capability =  0.0215674478925333:\n",
      "Word :educator and tfidf_Score : 0.0\n",
      "sentence_score_educator =  0.0215674478925333:\n",
      "Word :educate and tfidf_Score : 0.007438519179701608\n",
      "sentence_score_educate =  0.02900596707223491:\n",
      "Word :workforce and tfidf_Score : 0.005288304924958884\n",
      "sentence_score_workforce =  0.034294271997193794:\n",
      "Word :tomorrow and tfidf_Score : 0.005288304924958884\n",
      "sentence_score_tomorrow =  0.03958257692215268:\n",
      "['program', 'attempt', 'ramp', 'setup', 'capability', 'educator', 'educate', 'workforce', 'tomorrow']\n",
      "**************************************************\n",
      "Word :program and tfidf_Score : 0.0012268415321498012\n",
      "sentence_score_program =  0.0012268415321498012:\n",
      "Word :aim and tfidf_Score : 0.0\n",
      "sentence_score_aim =  0.0012268415321498012:\n",
      "Word :build and tfidf_Score : 0.0021401417551387895\n",
      "sentence_score_build =  0.003366983287288591:\n",
      "Word :skill and tfidf_Score : 0.0\n",
      "sentence_score_skill =  0.003366983287288591:\n",
      "Word :understanding and tfidf_Score : 0.006508704282238907\n",
      "sentence_score_understanding =  0.009875687569527499:\n",
      "Word :developing and tfidf_Score : 0.006508704282238907\n",
      "sentence_score_developing =  0.016384391851766406:\n",
      "Word :cloud and tfidf_Score : 0.0027458293364391417\n",
      "sentence_score_cloud =  0.019130221188205548:\n",
      "Word :connected and tfidf_Score : 0.006508704282238907\n",
      "sentence_score_connected =  0.025638925470444454:\n",
      "Word :solution and tfidf_Score : 0.0\n",
      "sentence_score_solution =  0.025638925470444454:\n",
      "Word :application and tfidf_Score : 0.0\n",
      "sentence_score_application =  0.025638925470444454:\n",
      "Word :industry and tfidf_Score : 0.004627266809339024\n",
      "sentence_score_industry =  0.03026619227978348:\n",
      "['program', 'aim', 'build', 'skill', 'understanding', 'developing', 'cloud', 'connected', 'solution', 'application', 'industry']\n",
      "**************************************************\n",
      "Word :april and tfidf_Score : 0.0\n",
      "sentence_score_april =  0.0:\n",
      "Word :year and tfidf_Score : 0.00839832810611472\n",
      "sentence_score_year =  0.00839832810611472:\n",
      "Word :company and tfidf_Score : 0.005970666850760031\n",
      "sentence_score_company =  0.01436899495687475:\n",
      "Word :announced and tfidf_Score : 0.005970666850760031\n",
      "sentence_score_announced =  0.02033966180763478:\n",
      "Word :microsoft and tfidf_Score : 0.0\n",
      "sentence_score_microsoft =  0.02033966180763478:\n",
      "Word :professional and tfidf_Score : 0.0\n",
      "sentence_score_professional =  0.02033966180763478:\n",
      "Word :program and tfidf_Score : 0.0\n",
      "sentence_score_program =  0.02033966180763478:\n",
      "Word :ai and tfidf_Score : 0.0\n",
      "sentence_score_ai =  0.02033966180763478:\n",
      "Word :learning and tfidf_Score : 0.00839832810611472\n",
      "sentence_score_learning =  0.028737989913749498:\n",
      "Word :track and tfidf_Score : 0.00839832810611472\n",
      "sentence_score_track =  0.037136318019864216:\n",
      "Word :public and tfidf_Score : 0.00839832810611472\n",
      "sentence_score_public =  0.045534646125978934:\n",
      "['april', 'year', 'company', 'announced', 'microsoft', 'professional', 'program', 'ai', 'learning', 'track', 'public']\n",
      "**************************************************\n",
      "Word :program and tfidf_Score : 0.0009172646969344307\n",
      "sentence_score_program =  0.0009172646969344307:\n",
      "Word :developed and tfidf_Score : 0.004866320958683295\n",
      "sentence_score_developed =  0.005783585655617725:\n",
      "Word :provide and tfidf_Score : 0.0034596387359544104\n",
      "sentence_score_provide =  0.009243224391572135:\n",
      "Word :job and tfidf_Score : 0.0034596387359544104\n",
      "sentence_score_job =  0.012702863127526547:\n",
      "Word :skill and tfidf_Score : 0.0\n",
      "sentence_score_skill =  0.012702863127526547:\n",
      "Word :programmer and tfidf_Score : 0.0\n",
      "sentence_score_programmer =  0.012702863127526547:\n",
      "Word :wanted and tfidf_Score : 0.004866320958683295\n",
      "sentence_score_wanted =  0.01756918408620984:\n",
      "Word :hone and tfidf_Score : 0.004866320958683295\n",
      "sentence_score_hone =  0.022435505044893132:\n",
      "Word :skill and tfidf_Score : 0.0\n",
      "sentence_score_skill =  0.022435505044893132:\n",
      "Word :ai and tfidf_Score : 0.0\n",
      "sentence_score_ai =  0.022435505044893132:\n",
      "Word :data and tfidf_Score : 0.004866320958683295\n",
      "sentence_score_data =  0.027301826003576425:\n",
      "Word :science and tfidf_Score : 0.004866320958683295\n",
      "sentence_score_science =  0.03216814696225972:\n",
      "Word :series and tfidf_Score : 0.004866320958683295\n",
      "sentence_score_series =  0.03703446792094301:\n",
      "Word :online and tfidf_Score : 0.004866320958683295\n",
      "sentence_score_online =  0.041900788879626304:\n",
      "Word :course and tfidf_Score : 0.0\n",
      "sentence_score_course =  0.041900788879626304:\n",
      "Word :featured and tfidf_Score : 0.004866320958683295\n",
      "sentence_score_featured =  0.046767109838309597:\n",
      "Word :handson and tfidf_Score : 0.004866320958683295\n",
      "sentence_score_handson =  0.05163343079699289:\n",
      "Word :lab and tfidf_Score : 0.0\n",
      "sentence_score_lab =  0.05163343079699289:\n",
      "Word :instructor and tfidf_Score : 0.0\n",
      "sentence_score_instructor =  0.05163343079699289:\n",
      "['program', 'developed', 'provide', 'job', 'skill', 'programmer', 'wanted', 'hone', 'skill', 'ai', 'data', 'science', 'series', 'online', 'course', 'featured', 'handson', 'lab', 'instructor']\n",
      "**************************************************\n",
      "Word :program and tfidf_Score : 0.0018008683040731028\n",
      "sentence_score_program =  0.0018008683040731028:\n",
      "Word :included and tfidf_Score : 0.009554061331726836\n",
      "sentence_score_included =  0.011354929635799938:\n",
      "Word :ai and tfidf_Score : 0.0\n",
      "sentence_score_ai =  0.011354929635799938:\n",
      "Word :school and tfidf_Score : 0.009554061331726836\n",
      "sentence_score_school =  0.020908990967526776:\n",
      "Word :provided and tfidf_Score : 0.009554061331726836\n",
      "sentence_score_provided =  0.030463052299253612:\n",
      "Word :bunch and tfidf_Score : 0.009554061331726836\n",
      "sentence_score_bunch =  0.04001711363098045:\n",
      "Word :asset and tfidf_Score : 0.0\n",
      "sentence_score_asset =  0.04001711363098045:\n",
      "Word :help and tfidf_Score : 0.009554061331726836\n",
      "sentence_score_help =  0.049571174962707285:\n",
      "Word :build and tfidf_Score : 0.0031414924846073972\n",
      "sentence_score_build =  0.05271266744731468:\n",
      "Word :ai and tfidf_Score : 0.0\n",
      "sentence_score_ai =  0.05271266744731468:\n",
      "Word :skill and tfidf_Score : 0.0\n",
      "sentence_score_skill =  0.05271266744731468:\n",
      "['program', 'included', 'ai', 'school', 'provided', 'bunch', 'asset', 'help', 'build', 'ai', 'skill']\n",
      "**************************************************\n"
     ]
    },
    {
     "data": {
      "text/plain": [
       "{1: 0.03306795816732333,\n",
       " 2: 0.046802312342516715,\n",
       " 3: 0.05231816946205499,\n",
       " 4: 0.026915808943655004,\n",
       " 5: 0.040330686568724204,\n",
       " 6: 0.021194269446611035,\n",
       " 7: 0.03958257692215268,\n",
       " 8: 0.03026619227978348,\n",
       " 9: 0.045534646125978934,\n",
       " 10: 0.05163343079699289,\n",
       " 11: 0.05271266744731468}"
      ]
     },
     "execution_count": 18,
     "metadata": {},
     "output_type": "execute_result"
    }
   ],
   "source": [
    "# :  Flow for finding 'sentence_importance'\n",
    "# 1: \n",
    "\n",
    "c = 1\n",
    "\n",
    "sentence_with_importance = {}\n",
    "\n",
    "for sent in tokenized_sentence:\n",
    "    sentenceimp = sentence_importance(sent,word_freq,tokenized_sentence)\n",
    "    sentence_with_importance[c] = sentenceimp\n",
    "    c = c+1\n",
    "\n",
    "sentence_with_importance"
   ]
  },
  {
   "cell_type": "code",
   "execution_count": 19,
   "metadata": {},
   "outputs": [],
   "source": [
    "import operator\n",
    "\n",
    "sentence_with_importance = sorted(sentence_with_importance.items(), key=operator.itemgetter(1),reverse=True)"
   ]
  },
  {
   "cell_type": "code",
   "execution_count": 20,
   "metadata": {},
   "outputs": [
    {
     "data": {
      "text/plain": [
       "[(11, 0.05271266744731468),\n",
       " (3, 0.05231816946205499),\n",
       " (10, 0.05163343079699289),\n",
       " (2, 0.046802312342516715),\n",
       " (9, 0.045534646125978934),\n",
       " (5, 0.040330686568724204),\n",
       " (7, 0.03958257692215268),\n",
       " (1, 0.03306795816732333),\n",
       " (8, 0.03026619227978348),\n",
       " (4, 0.026915808943655004),\n",
       " (6, 0.021194269446611035)]"
      ]
     },
     "execution_count": 20,
     "metadata": {},
     "output_type": "execute_result"
    }
   ],
   "source": [
    "sentence_with_importance"
   ]
  },
  {
   "cell_type": "code",
   "execution_count": 21,
   "metadata": {},
   "outputs": [],
   "source": [
    "cnt = 0\n",
    "summary = []\n",
    "sentence_no = []\n",
    "\n",
    "for word_prob in sentence_with_importance:\n",
    "    if cnt < no_of_sentences:\n",
    "        sentence_no.append(word_prob[0])\n",
    "        cnt = cnt+1\n",
    "    else:\n",
    "      break\n",
    "sentence_no.sort()\n"
   ]
  },
  {
   "cell_type": "code",
   "execution_count": 22,
   "metadata": {},
   "outputs": [
    {
     "data": {
      "text/plain": [
       "[3, 10, 11]"
      ]
     },
     "execution_count": 22,
     "metadata": {},
     "output_type": "execute_result"
    }
   ],
   "source": [
    "sentence_no"
   ]
  },
  {
   "cell_type": "code",
   "execution_count": 23,
   "metadata": {},
   "outputs": [],
   "source": [
    "cnt = 1\n",
    "\n",
    "for sentence in tokenized_sentence:\n",
    "    if cnt in sentence_no:\n",
    "       summary.append(sentence)\n",
    "    cnt = cnt+1\n",
    "summary = \" \".join(summary)\n"
   ]
  },
  {
   "cell_type": "code",
   "execution_count": 24,
   "metadata": {},
   "outputs": [
    {
     "name": "stdout",
     "output_type": "stream",
     "text": [
      "\n",
      "\n",
      "Summary:\n",
      "As part of the program, the Redmond giant which wants to expand its reach and is planning to build a strong developer ecosystem in India with the program will set up the core AI infrastructure and IoT Hub for the selected campuses. The program was developed to provide job ready skills to programmers who wanted to hone their skills in AI and data science with a series of online courses which featured hands-on labs and expert instructors as well. This program also included developer-focused AI school that provided a bunch of assets to help build AI skills.\n"
     ]
    },
    {
     "data": {
      "text/plain": [
       "560"
      ]
     },
     "execution_count": 24,
     "metadata": {},
     "output_type": "execute_result"
    }
   ],
   "source": [
    "print(\"\\n\")\n",
    "print(\"Summary:\")\n",
    "print(summary)\n",
    "outF = open('summary.txt',\"w\")\n",
    "outF.write(summary)"
   ]
  }
 ],
 "metadata": {
  "kernelspec": {
   "display_name": "Python 3",
   "language": "python",
   "name": "python3"
  },
  "language_info": {
   "codemirror_mode": {
    "name": "ipython",
    "version": 3
   },
   "file_extension": ".py",
   "mimetype": "text/x-python",
   "name": "python",
   "nbconvert_exporter": "python",
   "pygments_lexer": "ipython3",
   "version": "3.6.8"
  }
 },
 "nbformat": 4,
 "nbformat_minor": 2
}
