{
 "cells": [
  {
   "cell_type": "code",
   "execution_count": 1,
   "metadata": {},
   "outputs": [
    {
     "name": "stdout",
     "output_type": "stream",
     "text": [
      "Rice Pudding - Poem by Alan Alexander Milne What is the matter with Mary Jane?\n",
      "I've promised her dolls and a daisy-chain,\n",
      "I've promised her sweets and a ride in the train,\n",
      "And it's lovely rice pudding for dinner again!\n"
     ]
    }
   ],
   "source": [
    "from gensim.summarization.summarizer import summarize\n",
    "\n",
    "text = '''Rice Pudding - Poem by Alan Alexander Milne What is the matter with Mary Jane?\n",
    "    She's crying with all her might and main,\n",
    "    And she won't eat her dinner - rice pudding again -\n",
    "    What is the matter with Mary Jane?\n",
    "    What is the matter with Mary Jane?\n",
    "    I've promised her dolls and a daisy-chain,\n",
    "    And a book about animals - all in vain -\n",
    "    What is the matter with Mary Jane?\n",
    "    What is the matter with Mary Jane?\n",
    "    She's perfectly well, and she hasn't a pain;\n",
    "    But, look at her, now she's beginning again! -\n",
    "    What is the matter with Mary Jane?\n",
    "    What is the matter with Mary Jane?\n",
    "    I've promised her sweets and a ride in the train,\n",
    "    And I've begged her to stop for a bit and explain -\n",
    "    What is the matter with Mary Jane?\n",
    "    What is the matter with Mary Jane?\n",
    "    She's perfectly well and she hasn't a pain,\n",
    "    And it's lovely rice pudding for dinner again!\n",
    "    What is the matter with Mary Jane?'''\n",
    "\n",
    "print(summarize(text))"
   ]
  },
  {
   "cell_type": "code",
   "execution_count": null,
   "metadata": {},
   "outputs": [],
   "source": []
  }
 ],
 "metadata": {
  "kernelspec": {
   "display_name": "Python 3",
   "language": "python",
   "name": "python3"
  },
  "language_info": {
   "codemirror_mode": {
    "name": "ipython",
    "version": 3
   },
   "file_extension": ".py",
   "mimetype": "text/x-python",
   "name": "python",
   "nbconvert_exporter": "python",
   "pygments_lexer": "ipython3",
   "version": "3.7.4"
  }
 },
 "nbformat": 4,
 "nbformat_minor": 2
}
