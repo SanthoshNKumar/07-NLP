{
 "cells": [
  {
   "cell_type": "code",
   "execution_count": 28,
   "metadata": {},
   "outputs": [],
   "source": [
    "import numpy as np\n",
    "from nltk.tokenize import sent_tokenize,word_tokenize\n",
    "from nltk.corpus import stopwords\n",
    "from nltk.cluster.util import cosine_distance\n",
    "stopwords = set(stopwords.words('english'))\n",
    "\n",
    "file = open(\"SampleText01.txt\",'r')\n",
    "\n",
    "text = file.read()\n",
    "\n",
    "\n",
    "# Step 1 - Read text and tokenize\n",
    "\n",
    "# Step 2 - Generate Similary Martix across sentences\n",
    "\n",
    "# Step 3 - Rank sentences in similarity martix\n",
    "\n",
    "# Step 4 - Sort the rank and pick top sentences\n",
    "\n",
    "# Step 5 - Offcourse, output the summarize text\n"
   ]
  },
  {
   "cell_type": "code",
   "execution_count": 30,
   "metadata": {},
   "outputs": [],
   "source": [
    "text = text.replace(\"[^a-zA-z]\",'')\n"
   ]
  },
  {
   "cell_type": "code",
   "execution_count": 31,
   "metadata": {},
   "outputs": [],
   "source": [
    "sentences = sent_tokenize(text)"
   ]
  },
  {
   "cell_type": "code",
   "execution_count": 35,
   "metadata": {},
   "outputs": [],
   "source": [
    "def sentence_similarity(sent1,sent2):\n",
    "    sent1 = word_tokenize(sent1.lower())\n",
    "    sent2 = word_tokenize(sent2.lower())\n",
    "\n",
    "    all_words = list(set(sent1 + sent2))\n",
    "\n",
    "    vector1 = [0] * len(all_words)\n",
    "    vector2 = [0] * len(all_words)\n",
    "    \n",
    "    for w in sent1:\n",
    "        if w in stopwords:\n",
    "            continue\n",
    "        vector1[all_words.index(w)] +=1\n",
    "    \n",
    "    for w in sent2:\n",
    "        if w in stopwords:\n",
    "            continue\n",
    "        vector2[all_words.index(w)] +=1\n",
    "        \n",
    "    return  1 - cosine_distance(vector1,vector2)"
   ]
  },
  {
   "cell_type": "code",
   "execution_count": 36,
   "metadata": {},
   "outputs": [],
   "source": [
    "def build_similarity_matrix(sentences):\n",
    "    similarity_matrix = np.zeros((len(sentences), len(sentences)))\n",
    "    \n",
    "    for idx1 in range(len(sentences)):\n",
    "        for idx2 in range(len(sentences)):\n",
    "            if idx1 == idx2:\n",
    "                continue\n",
    "            similarity_matrix[idx1][idx2] = sentence_similarity(sentences[idx1],sentences[idx2])\n",
    "            \n",
    "    return similarity_matrix"
   ]
  },
  {
   "cell_type": "code",
   "execution_count": 37,
   "metadata": {},
   "outputs": [],
   "source": [
    "sentence_similarity_martix = build_similarity_matrix(sentences)"
   ]
  },
  {
   "cell_type": "code",
   "execution_count": 38,
   "metadata": {},
   "outputs": [
    {
     "data": {
      "text/plain": [
       "array([[0.        , 0.31943828, 0.1754116 , 0.21821789, 0.09128709,\n",
       "        0.12909944, 0.23904572, 0.2795085 , 0.23094011, 0.13416408,\n",
       "        0.1677051 ],\n",
       "       [0.31943828, 0.        , 0.33619909, 0.55765718, 0.17496355,\n",
       "        0.24743583, 0.07636035, 0.17857143, 0.29508445, 0.11428571,\n",
       "        0.21428571],\n",
       "       [0.1754116 , 0.33619909, 0.        , 0.2296677 , 0.16012815,\n",
       "        0.1132277 , 0.20965697, 0.19611614, 0.25318484, 0.15689291,\n",
       "        0.2941742 ],\n",
       "       [0.21821789, 0.55765718, 0.2296677 , 0.        , 0.19920477,\n",
       "        0.11268723, 0.05216405, 0.07319251, 0.35276684, 0.09759001,\n",
       "        0.17078251],\n",
       "       [0.09128709, 0.17496355, 0.16012815, 0.19920477, 0.        ,\n",
       "        0.23570226, 0.10910895, 0.10206207, 0.21081851, 0.16329932,\n",
       "        0.30618622],\n",
       "       [0.12909944, 0.24743583, 0.1132277 , 0.11268723, 0.23570226,\n",
       "        0.        , 0.07715167, 0.14433757, 0.1490712 , 0.11547005,\n",
       "        0.21650635],\n",
       "       [0.23904572, 0.07636035, 0.20965697, 0.05216405, 0.10910895,\n",
       "        0.07715167, 0.        , 0.20044593, 0.13801311, 0.1069045 ,\n",
       "        0.20044593],\n",
       "       [0.2795085 , 0.17857143, 0.19611614, 0.07319251, 0.10206207,\n",
       "        0.14433757, 0.20044593, 0.        , 0.12909944, 0.2       ,\n",
       "        0.25      ],\n",
       "       [0.23094011, 0.29508445, 0.25318484, 0.35276684, 0.21081851,\n",
       "        0.1490712 , 0.13801311, 0.12909944, 0.        , 0.15491933,\n",
       "        0.25819889],\n",
       "       [0.13416408, 0.11428571, 0.15689291, 0.09759001, 0.16329932,\n",
       "        0.11547005, 0.1069045 , 0.2       , 0.15491933, 0.        ,\n",
       "        0.3       ],\n",
       "       [0.1677051 , 0.21428571, 0.2941742 , 0.17078251, 0.30618622,\n",
       "        0.21650635, 0.20044593, 0.25      , 0.25819889, 0.3       ,\n",
       "        0.        ]])"
      ]
     },
     "execution_count": 38,
     "metadata": {},
     "output_type": "execute_result"
    }
   ],
   "source": [
    "sentence_similarity_martix"
   ]
  },
  {
   "cell_type": "code",
   "execution_count": 39,
   "metadata": {},
   "outputs": [
    {
     "data": {
      "text/html": [
       "<div>\n",
       "<style scoped>\n",
       "    .dataframe tbody tr th:only-of-type {\n",
       "        vertical-align: middle;\n",
       "    }\n",
       "\n",
       "    .dataframe tbody tr th {\n",
       "        vertical-align: top;\n",
       "    }\n",
       "\n",
       "    .dataframe thead th {\n",
       "        text-align: right;\n",
       "    }\n",
       "</style>\n",
       "<table border=\"1\" class=\"dataframe\">\n",
       "  <thead>\n",
       "    <tr style=\"text-align: right;\">\n",
       "      <th></th>\n",
       "      <th>0</th>\n",
       "      <th>1</th>\n",
       "      <th>2</th>\n",
       "      <th>3</th>\n",
       "      <th>4</th>\n",
       "      <th>5</th>\n",
       "      <th>6</th>\n",
       "      <th>7</th>\n",
       "      <th>8</th>\n",
       "      <th>9</th>\n",
       "      <th>10</th>\n",
       "    </tr>\n",
       "  </thead>\n",
       "  <tbody>\n",
       "    <tr>\n",
       "      <th>0</th>\n",
       "      <td>0.000000</td>\n",
       "      <td>0.319438</td>\n",
       "      <td>0.175412</td>\n",
       "      <td>0.218218</td>\n",
       "      <td>0.091287</td>\n",
       "      <td>0.129099</td>\n",
       "      <td>0.239046</td>\n",
       "      <td>0.279508</td>\n",
       "      <td>0.230940</td>\n",
       "      <td>0.134164</td>\n",
       "      <td>0.167705</td>\n",
       "    </tr>\n",
       "    <tr>\n",
       "      <th>1</th>\n",
       "      <td>0.319438</td>\n",
       "      <td>0.000000</td>\n",
       "      <td>0.336199</td>\n",
       "      <td>0.557657</td>\n",
       "      <td>0.174964</td>\n",
       "      <td>0.247436</td>\n",
       "      <td>0.076360</td>\n",
       "      <td>0.178571</td>\n",
       "      <td>0.295084</td>\n",
       "      <td>0.114286</td>\n",
       "      <td>0.214286</td>\n",
       "    </tr>\n",
       "    <tr>\n",
       "      <th>2</th>\n",
       "      <td>0.175412</td>\n",
       "      <td>0.336199</td>\n",
       "      <td>0.000000</td>\n",
       "      <td>0.229668</td>\n",
       "      <td>0.160128</td>\n",
       "      <td>0.113228</td>\n",
       "      <td>0.209657</td>\n",
       "      <td>0.196116</td>\n",
       "      <td>0.253185</td>\n",
       "      <td>0.156893</td>\n",
       "      <td>0.294174</td>\n",
       "    </tr>\n",
       "    <tr>\n",
       "      <th>3</th>\n",
       "      <td>0.218218</td>\n",
       "      <td>0.557657</td>\n",
       "      <td>0.229668</td>\n",
       "      <td>0.000000</td>\n",
       "      <td>0.199205</td>\n",
       "      <td>0.112687</td>\n",
       "      <td>0.052164</td>\n",
       "      <td>0.073193</td>\n",
       "      <td>0.352767</td>\n",
       "      <td>0.097590</td>\n",
       "      <td>0.170783</td>\n",
       "    </tr>\n",
       "    <tr>\n",
       "      <th>4</th>\n",
       "      <td>0.091287</td>\n",
       "      <td>0.174964</td>\n",
       "      <td>0.160128</td>\n",
       "      <td>0.199205</td>\n",
       "      <td>0.000000</td>\n",
       "      <td>0.235702</td>\n",
       "      <td>0.109109</td>\n",
       "      <td>0.102062</td>\n",
       "      <td>0.210819</td>\n",
       "      <td>0.163299</td>\n",
       "      <td>0.306186</td>\n",
       "    </tr>\n",
       "    <tr>\n",
       "      <th>5</th>\n",
       "      <td>0.129099</td>\n",
       "      <td>0.247436</td>\n",
       "      <td>0.113228</td>\n",
       "      <td>0.112687</td>\n",
       "      <td>0.235702</td>\n",
       "      <td>0.000000</td>\n",
       "      <td>0.077152</td>\n",
       "      <td>0.144338</td>\n",
       "      <td>0.149071</td>\n",
       "      <td>0.115470</td>\n",
       "      <td>0.216506</td>\n",
       "    </tr>\n",
       "    <tr>\n",
       "      <th>6</th>\n",
       "      <td>0.239046</td>\n",
       "      <td>0.076360</td>\n",
       "      <td>0.209657</td>\n",
       "      <td>0.052164</td>\n",
       "      <td>0.109109</td>\n",
       "      <td>0.077152</td>\n",
       "      <td>0.000000</td>\n",
       "      <td>0.200446</td>\n",
       "      <td>0.138013</td>\n",
       "      <td>0.106904</td>\n",
       "      <td>0.200446</td>\n",
       "    </tr>\n",
       "    <tr>\n",
       "      <th>7</th>\n",
       "      <td>0.279508</td>\n",
       "      <td>0.178571</td>\n",
       "      <td>0.196116</td>\n",
       "      <td>0.073193</td>\n",
       "      <td>0.102062</td>\n",
       "      <td>0.144338</td>\n",
       "      <td>0.200446</td>\n",
       "      <td>0.000000</td>\n",
       "      <td>0.129099</td>\n",
       "      <td>0.200000</td>\n",
       "      <td>0.250000</td>\n",
       "    </tr>\n",
       "    <tr>\n",
       "      <th>8</th>\n",
       "      <td>0.230940</td>\n",
       "      <td>0.295084</td>\n",
       "      <td>0.253185</td>\n",
       "      <td>0.352767</td>\n",
       "      <td>0.210819</td>\n",
       "      <td>0.149071</td>\n",
       "      <td>0.138013</td>\n",
       "      <td>0.129099</td>\n",
       "      <td>0.000000</td>\n",
       "      <td>0.154919</td>\n",
       "      <td>0.258199</td>\n",
       "    </tr>\n",
       "    <tr>\n",
       "      <th>9</th>\n",
       "      <td>0.134164</td>\n",
       "      <td>0.114286</td>\n",
       "      <td>0.156893</td>\n",
       "      <td>0.097590</td>\n",
       "      <td>0.163299</td>\n",
       "      <td>0.115470</td>\n",
       "      <td>0.106904</td>\n",
       "      <td>0.200000</td>\n",
       "      <td>0.154919</td>\n",
       "      <td>0.000000</td>\n",
       "      <td>0.300000</td>\n",
       "    </tr>\n",
       "    <tr>\n",
       "      <th>10</th>\n",
       "      <td>0.167705</td>\n",
       "      <td>0.214286</td>\n",
       "      <td>0.294174</td>\n",
       "      <td>0.170783</td>\n",
       "      <td>0.306186</td>\n",
       "      <td>0.216506</td>\n",
       "      <td>0.200446</td>\n",
       "      <td>0.250000</td>\n",
       "      <td>0.258199</td>\n",
       "      <td>0.300000</td>\n",
       "      <td>0.000000</td>\n",
       "    </tr>\n",
       "  </tbody>\n",
       "</table>\n",
       "</div>"
      ],
      "text/plain": [
       "          0         1         2         3         4         5         6   \\\n",
       "0   0.000000  0.319438  0.175412  0.218218  0.091287  0.129099  0.239046   \n",
       "1   0.319438  0.000000  0.336199  0.557657  0.174964  0.247436  0.076360   \n",
       "2   0.175412  0.336199  0.000000  0.229668  0.160128  0.113228  0.209657   \n",
       "3   0.218218  0.557657  0.229668  0.000000  0.199205  0.112687  0.052164   \n",
       "4   0.091287  0.174964  0.160128  0.199205  0.000000  0.235702  0.109109   \n",
       "5   0.129099  0.247436  0.113228  0.112687  0.235702  0.000000  0.077152   \n",
       "6   0.239046  0.076360  0.209657  0.052164  0.109109  0.077152  0.000000   \n",
       "7   0.279508  0.178571  0.196116  0.073193  0.102062  0.144338  0.200446   \n",
       "8   0.230940  0.295084  0.253185  0.352767  0.210819  0.149071  0.138013   \n",
       "9   0.134164  0.114286  0.156893  0.097590  0.163299  0.115470  0.106904   \n",
       "10  0.167705  0.214286  0.294174  0.170783  0.306186  0.216506  0.200446   \n",
       "\n",
       "          7         8         9         10  \n",
       "0   0.279508  0.230940  0.134164  0.167705  \n",
       "1   0.178571  0.295084  0.114286  0.214286  \n",
       "2   0.196116  0.253185  0.156893  0.294174  \n",
       "3   0.073193  0.352767  0.097590  0.170783  \n",
       "4   0.102062  0.210819  0.163299  0.306186  \n",
       "5   0.144338  0.149071  0.115470  0.216506  \n",
       "6   0.200446  0.138013  0.106904  0.200446  \n",
       "7   0.000000  0.129099  0.200000  0.250000  \n",
       "8   0.129099  0.000000  0.154919  0.258199  \n",
       "9   0.200000  0.154919  0.000000  0.300000  \n",
       "10  0.250000  0.258199  0.300000  0.000000  "
      ]
     },
     "execution_count": 39,
     "metadata": {},
     "output_type": "execute_result"
    }
   ],
   "source": [
    "import pandas as pd\n",
    "pd.DataFrame(sentence_similarity_martix)"
   ]
  },
  {
   "cell_type": "code",
   "execution_count": 40,
   "metadata": {},
   "outputs": [],
   "source": [
    "import networkx as nx\n",
    "\n",
    "sentence_similarity_graph = nx.from_numpy_array(sentence_similarity_martix)\n",
    "scores = nx.pagerank(sentence_similarity_graph)"
   ]
  },
  {
   "cell_type": "code",
   "execution_count": 41,
   "metadata": {},
   "outputs": [
    {
     "data": {
      "text/plain": [
       "{0: 0.0932341018540543,\n",
       " 1: 0.1142002028349824,\n",
       " 2: 0.098682599095267,\n",
       " 3: 0.09550548485868168,\n",
       " 4: 0.08378426108638941,\n",
       " 5: 0.07509688749756942,\n",
       " 6: 0.0699726173275276,\n",
       " 7: 0.0840683871649543,\n",
       " 8: 0.1004920297621552,\n",
       " 9: 0.07536344242939812,\n",
       " 10: 0.10959998608902045}"
      ]
     },
     "execution_count": 41,
     "metadata": {},
     "output_type": "execute_result"
    }
   ],
   "source": [
    "scores"
   ]
  },
  {
   "cell_type": "code",
   "execution_count": 42,
   "metadata": {},
   "outputs": [],
   "source": [
    "ranked_sentence = sorted(((scores[i],s) for i,s in enumerate(sentences)), reverse=True)"
   ]
  },
  {
   "cell_type": "code",
   "execution_count": 43,
   "metadata": {},
   "outputs": [
    {
     "name": "stdout",
     "output_type": "stream",
     "text": [
      "Indexes of top ranked_sentence order are  [(0.1142002028349824, 'Envisioned as a three-year collaborative program, Intelligent Cloud Hub will support around 100 institutions with AI infrastructure, course content and curriculum, developer support, development tools and give students access to cloud and AI services.'), (0.10959998608902045, 'This program also included developer-focused AI school that provided a bunch of assets to help build AI skills.'), (0.1004920297621552, 'Earlier in April this year, the company announced Microsoft Professional Program In AI as a learning track open to the public.'), (0.098682599095267, 'As part of the program, the Redmond giant which wants to expand its reach and is planning to build a strong developer ecosystem in India with the program will set up the core AI infrastructure and IoT Hub for the selected campuses.'), (0.09550548485868168, 'The company will provide AI development tools and Azure AI services such as Microsoft Cognitive Services, Bot Services and Azure Machine Learning.According to Manish Prakash, Country General Manager-PS, Health and Education, Microsoft India, said, \"With AI being the defining technology of our time, it is transforming lives and industry and the jobs of tomorrow will require a different skillset.'), (0.0932341018540543, 'In an attempt to build an AI-ready workforce, Microsoft announced Intelligent Cloud Hub which has been launched to empower the next generation of students with AI-ready skills.'), (0.0840683871649543, 'The program aims to build up the cognitive skills and in-depth understanding of developing intelligent cloud connected solutions for applications across industry.'), (0.08378426108638941, 'This will require more collaborations and training and working with AI.'), (0.07536344242939812, 'The program was developed to provide job ready skills to programmers who wanted to hone their skills in AI and data science with a series of online courses which featured hands-on labs and expert instructors as well.'), (0.07509688749756942, 'That’s why it has become more critical than ever for educational institutions to integrate new cloud and AI technologies.'), (0.0699726173275276, 'The program is an attempt to ramp up the institutional set-up and build capabilities among the educators to educate the workforce of tomorrow.\"')]\n"
     ]
    }
   ],
   "source": [
    "print(\"Indexes of top ranked_sentence order are \", ranked_sentence)"
   ]
  },
  {
   "cell_type": "code",
   "execution_count": 44,
   "metadata": {},
   "outputs": [],
   "source": [
    "summarize_text = []\n",
    "\n",
    "top_n = 5\n",
    "\n",
    "for i in range(top_n):\n",
    "    summarize_text.append(\"\".join(ranked_sentence[i][1]))"
   ]
  },
  {
   "cell_type": "code",
   "execution_count": 45,
   "metadata": {},
   "outputs": [
    {
     "name": "stdout",
     "output_type": "stream",
     "text": [
      "Summarize Text: \n",
      " Envisioned as a three-year collaborative program, Intelligent Cloud Hub will support around 100 institutions with AI infrastructure, course content and curriculum, developer support, development tools and give students access to cloud and AI services.. This program also included developer-focused AI school that provided a bunch of assets to help build AI skills.. Earlier in April this year, the company announced Microsoft Professional Program In AI as a learning track open to the public.. As part of the program, the Redmond giant which wants to expand its reach and is planning to build a strong developer ecosystem in India with the program will set up the core AI infrastructure and IoT Hub for the selected campuses.. The company will provide AI development tools and Azure AI services such as Microsoft Cognitive Services, Bot Services and Azure Machine Learning.According to Manish Prakash, Country General Manager-PS, Health and Education, Microsoft India, said, \"With AI being the defining technology of our time, it is transforming lives and industry and the jobs of tomorrow will require a different skillset.\n"
     ]
    }
   ],
   "source": [
    "# Step 5 - Offcourse, output the summarize texr\n",
    "print(\"Summarize Text: \\n\", \". \".join(summarize_text))"
   ]
  }
 ],
 "metadata": {
  "kernelspec": {
   "display_name": "Python 3",
   "language": "python",
   "name": "python3"
  },
  "language_info": {
   "codemirror_mode": {
    "name": "ipython",
    "version": 3
   },
   "file_extension": ".py",
   "mimetype": "text/x-python",
   "name": "python",
   "nbconvert_exporter": "python",
   "pygments_lexer": "ipython3",
   "version": "3.6.8"
  }
 },
 "nbformat": 4,
 "nbformat_minor": 2
}
