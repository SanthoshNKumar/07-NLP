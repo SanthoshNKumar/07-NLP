{
 "cells": [
  {
   "cell_type": "code",
   "execution_count": null,
   "metadata": {},
   "outputs": [],
   "source": [
    "'''\n",
    "\n",
    "Steps :\n",
    "\n",
    "1. get the Corpus Text\n",
    "2. Preprocess and Tokenize the text\n",
    "3. Text to Integer Conversion\n",
    "4. Building N Gram Sequence\n",
    "5. Generate Padded Sequences\n",
    "    Predictor: padding of the 'N Gram Sequence'\n",
    "    labels : One Hot Encoding of the next word in the Sequence\n",
    "6. Build Keras Model 'Embedding' Layer \n",
    "         "
   ]
  },
  {
   "cell_type": "code",
   "execution_count": 1,
   "metadata": {},
   "outputs": [],
   "source": [
    "corpus = [\"Located on the southern tip of Lake Union\",\"Located in the city's vibrant core\",\n",
    "          \"Located in the heart of downtown Seattle\",\n",
    "          \"Whats near our hotel downtown Seattle location? The better \\nquestion might be what?s not nearby\"]"
   ]
  },
  {
   "cell_type": "code",
   "execution_count": 2,
   "metadata": {},
   "outputs": [
    {
     "name": "stdout",
     "output_type": "stream",
     "text": [
      "['Located on the southern tip of Lake Union', \"Located in the city's vibrant core\", 'Located in the heart of downtown Seattle', 'Whats near our hotel downtown Seattle location? The better \\nquestion might be what?s not nearby']\n"
     ]
    }
   ],
   "source": [
    "print(corpus)"
   ]
  },
  {
   "cell_type": "code",
   "execution_count": 230,
   "metadata": {},
   "outputs": [
    {
     "name": "stdout",
     "output_type": "stream",
     "text": [
      "4\n"
     ]
    }
   ],
   "source": [
    "print(len(corpus))"
   ]
  },
  {
   "cell_type": "code",
   "execution_count": 231,
   "metadata": {},
   "outputs": [
    {
     "data": {
      "text/plain": [
       "['Located on the southern tip of Lake Union',\n",
       " \"Located in the city's vibrant core\",\n",
       " 'Located in the heart of downtown Seattle',\n",
       " 'Whats near our hotel downtown Seattle location? The better \\nquestion might be what?s not nearby']"
      ]
     },
     "execution_count": 231,
     "metadata": {},
     "output_type": "execute_result"
    }
   ],
   "source": [
    "corpus = [x for x in corpus]\n",
    "corpus"
   ]
  },
  {
   "cell_type": "code",
   "execution_count": 232,
   "metadata": {},
   "outputs": [],
   "source": [
    "from tensorflow.keras.preprocessing.text import Tokenizer\n",
    "\n",
    "t = Tokenizer(num_words=None, filters='!\"#$%&()*+,-./:;<=>?@[\\\\]^_`{|}~\\t\\n', lower=True, split=' ', char_level=False, \\\n",
    "              oov_token=None, document_count=0)\n",
    "\n",
    "t.fit_on_texts(corpus)"
   ]
  },
  {
   "cell_type": "code",
   "execution_count": 233,
   "metadata": {},
   "outputs": [],
   "source": [
    "# Tokenization\n",
    "t = Tokenizer(num_words=None, filters='!\"#$%&()*+,-./:;<=>?@[\\\\]^_`{|}~\\t\\n', lower=True, split=' ', char_level=False, \\\n",
    "              oov_token=None, document_count=0)"
   ]
  },
  {
   "cell_type": "code",
   "execution_count": 234,
   "metadata": {},
   "outputs": [],
   "source": [
    "t.fit_on_texts(corpus)"
   ]
  },
  {
   "cell_type": "code",
   "execution_count": 235,
   "metadata": {},
   "outputs": [
    {
     "data": {
      "text/plain": [
       "{'the': 1,\n",
       " 'located': 2,\n",
       " 'of': 3,\n",
       " 'in': 4,\n",
       " 'downtown': 5,\n",
       " 'seattle': 6,\n",
       " 'on': 7,\n",
       " 'southern': 8,\n",
       " 'tip': 9,\n",
       " 'lake': 10,\n",
       " 'union': 11,\n",
       " \"city's\": 12,\n",
       " 'vibrant': 13,\n",
       " 'core': 14,\n",
       " 'heart': 15,\n",
       " 'whats': 16,\n",
       " 'near': 17,\n",
       " 'our': 18,\n",
       " 'hotel': 19,\n",
       " 'location': 20,\n",
       " 'better': 21,\n",
       " 'question': 22,\n",
       " 'might': 23,\n",
       " 'be': 24,\n",
       " 'what': 25,\n",
       " 's': 26,\n",
       " 'not': 27,\n",
       " 'nearby': 28}"
      ]
     },
     "execution_count": 235,
     "metadata": {},
     "output_type": "execute_result"
    }
   ],
   "source": [
    "t.word_index"
   ]
  },
  {
   "cell_type": "code",
   "execution_count": 236,
   "metadata": {},
   "outputs": [
    {
     "data": {
      "text/plain": [
       "{'the': 1,\n",
       " 'located': 2,\n",
       " 'of': 3,\n",
       " 'in': 4,\n",
       " 'downtown': 5,\n",
       " 'seattle': 6,\n",
       " 'on': 7,\n",
       " 'southern': 8,\n",
       " 'tip': 9,\n",
       " 'lake': 10,\n",
       " 'union': 11,\n",
       " \"city's\": 12,\n",
       " 'vibrant': 13,\n",
       " 'core': 14,\n",
       " 'heart': 15,\n",
       " 'whats': 16,\n",
       " 'near': 17,\n",
       " 'our': 18,\n",
       " 'hotel': 19,\n",
       " 'location': 20,\n",
       " 'better': 21,\n",
       " 'question': 22,\n",
       " 'might': 23,\n",
       " 'be': 24,\n",
       " 'what': 25,\n",
       " 's': 26,\n",
       " 'not': 27,\n",
       " 'nearby': 28}"
      ]
     },
     "execution_count": 236,
     "metadata": {},
     "output_type": "execute_result"
    }
   ],
   "source": [
    "word2id = t.word_index\n",
    "\n",
    "word2id"
   ]
  },
  {
   "cell_type": "code",
   "execution_count": 237,
   "metadata": {},
   "outputs": [
    {
     "data": {
      "text/plain": [
       "{1: 'the',\n",
       " 2: 'located',\n",
       " 3: 'of',\n",
       " 4: 'in',\n",
       " 5: 'downtown',\n",
       " 6: 'seattle',\n",
       " 7: 'on',\n",
       " 8: 'southern',\n",
       " 9: 'tip',\n",
       " 10: 'lake',\n",
       " 11: 'union',\n",
       " 12: \"city's\",\n",
       " 13: 'vibrant',\n",
       " 14: 'core',\n",
       " 15: 'heart',\n",
       " 16: 'whats',\n",
       " 17: 'near',\n",
       " 18: 'our',\n",
       " 19: 'hotel',\n",
       " 20: 'location',\n",
       " 21: 'better',\n",
       " 22: 'question',\n",
       " 23: 'might',\n",
       " 24: 'be',\n",
       " 25: 'what',\n",
       " 26: 's',\n",
       " 27: 'not',\n",
       " 28: 'nearby'}"
      ]
     },
     "execution_count": 237,
     "metadata": {},
     "output_type": "execute_result"
    }
   ],
   "source": [
    "id2word = {v:k for k, v in word2id.items()}\n",
    "\n",
    "id2word"
   ]
  },
  {
   "cell_type": "code",
   "execution_count": 238,
   "metadata": {},
   "outputs": [
    {
     "data": {
      "text/plain": [
       "[[2, 7, 1, 8, 9, 3, 10, 11],\n",
       " [2, 4, 1, 12, 13, 14],\n",
       " [2, 4, 1, 15, 3, 5, 6],\n",
       " [16, 17, 18, 19, 5, 6, 20, 1, 21, 22, 23, 24, 25, 26, 27, 28]]"
      ]
     },
     "execution_count": 238,
     "metadata": {},
     "output_type": "execute_result"
    }
   ],
   "source": [
    "token_list = [t.texts_to_sequences([x])[0] for x in corpus]\n",
    "\n",
    "token_list"
   ]
  },
  {
   "cell_type": "code",
   "execution_count": 240,
   "metadata": {},
   "outputs": [
    {
     "data": {
      "text/plain": [
       "[['located', 'on', 'the', 'southern', 'tip', 'of', 'lake', 'union'],\n",
       " ['located', 'in', 'the', \"city's\", 'vibrant', 'core'],\n",
       " ['located', 'in', 'the', 'heart', 'of', 'downtown', 'seattle'],\n",
       " ['whats',\n",
       "  'near',\n",
       "  'our',\n",
       "  'hotel',\n",
       "  'downtown',\n",
       "  'seattle',\n",
       "  'location',\n",
       "  'the',\n",
       "  'better',\n",
       "  'question',\n",
       "  'might',\n",
       "  'be',\n",
       "  'what',\n",
       "  's',\n",
       "  'not',\n",
       "  'nearby']]"
      ]
     },
     "execution_count": 240,
     "metadata": {},
     "output_type": "execute_result"
    }
   ],
   "source": [
    "[[id2word[y] for y in x]for x in token_list]"
   ]
  },
  {
   "cell_type": "code",
   "execution_count": 243,
   "metadata": {},
   "outputs": [
    {
     "data": {
      "text/plain": [
       "29"
      ]
     },
     "execution_count": 243,
     "metadata": {},
     "output_type": "execute_result"
    }
   ],
   "source": [
    "total_words = len(t.word_index) + 1\n",
    "\n",
    "total_words"
   ]
  },
  {
   "cell_type": "code",
   "execution_count": 244,
   "metadata": {},
   "outputs": [
    {
     "data": {
      "text/plain": [
       "[[2, 7, 1, 8, 9, 3, 10, 11],\n",
       " [2, 4, 1, 12, 13, 14],\n",
       " [2, 4, 1, 15, 3, 5, 6],\n",
       " [16, 17, 18, 19, 5, 6, 20, 1, 21, 22, 23, 24, 25, 26, 27, 28]]"
      ]
     },
     "execution_count": 244,
     "metadata": {},
     "output_type": "execute_result"
    }
   ],
   "source": [
    "token_list = [t.texts_to_sequences([x])[0] for x in corpus]\n",
    "\n",
    "token_list"
   ]
  },
  {
   "cell_type": "code",
   "execution_count": null,
   "metadata": {},
   "outputs": [],
   "source": []
  },
  {
   "cell_type": "code",
   "execution_count": 143,
   "metadata": {},
   "outputs": [],
   "source": [
    "def get_sequence_of_tokens(corpus):\n",
    "    t.fit_on_texts(corpus)\n",
    "    total_words = len(t.word_index) + 1\n",
    "    \n",
    "    input_sequences = []\n",
    "    for line in corpus:\n",
    "        token_list = t.texts_to_sequences([line])[0]\n",
    "        #print(token_list)\n",
    "        for i in range(1, len(token_list)):\n",
    "            n_gram_sequence = token_list[:i+1]\n",
    "            #print(n_gram_sequence)\n",
    "            input_sequences.append(n_gram_sequence)\n",
    "        \n",
    "    return input_sequences, total_words\n",
    "\n",
    "input_sequences, total_words = get_sequence_of_tokens(corpus)\n",
    "\n"
   ]
  },
  {
   "cell_type": "code",
   "execution_count": 144,
   "metadata": {},
   "outputs": [
    {
     "data": {
      "text/plain": [
       "[[2, 7],\n",
       " [2, 7, 1],\n",
       " [2, 7, 1, 8],\n",
       " [2, 7, 1, 8, 9],\n",
       " [2, 7, 1, 8, 9, 3],\n",
       " [2, 7, 1, 8, 9, 3, 10],\n",
       " [2, 7, 1, 8, 9, 3, 10, 11],\n",
       " [2, 4],\n",
       " [2, 4, 1],\n",
       " [2, 4, 1, 12],\n",
       " [2, 4, 1, 12, 13],\n",
       " [2, 4, 1, 12, 13, 14],\n",
       " [2, 4],\n",
       " [2, 4, 1],\n",
       " [2, 4, 1, 15],\n",
       " [2, 4, 1, 15, 3],\n",
       " [2, 4, 1, 15, 3, 5],\n",
       " [2, 4, 1, 15, 3, 5, 6],\n",
       " [16, 17],\n",
       " [16, 17, 18],\n",
       " [16, 17, 18, 19],\n",
       " [16, 17, 18, 19, 5],\n",
       " [16, 17, 18, 19, 5, 6],\n",
       " [16, 17, 18, 19, 5, 6, 20],\n",
       " [16, 17, 18, 19, 5, 6, 20, 1],\n",
       " [16, 17, 18, 19, 5, 6, 20, 1, 21],\n",
       " [16, 17, 18, 19, 5, 6, 20, 1, 21, 22],\n",
       " [16, 17, 18, 19, 5, 6, 20, 1, 21, 22, 23],\n",
       " [16, 17, 18, 19, 5, 6, 20, 1, 21, 22, 23, 24],\n",
       " [16, 17, 18, 19, 5, 6, 20, 1, 21, 22, 23, 24, 25],\n",
       " [16, 17, 18, 19, 5, 6, 20, 1, 21, 22, 23, 24, 25, 26],\n",
       " [16, 17, 18, 19, 5, 6, 20, 1, 21, 22, 23, 24, 25, 26, 27],\n",
       " [16, 17, 18, 19, 5, 6, 20, 1, 21, 22, 23, 24, 25, 26, 27, 28]]"
      ]
     },
     "execution_count": 144,
     "metadata": {},
     "output_type": "execute_result"
    }
   ],
   "source": [
    "input_sequences"
   ]
  },
  {
   "cell_type": "code",
   "execution_count": 146,
   "metadata": {},
   "outputs": [
    {
     "data": {
      "text/plain": [
       "{1: 'the',\n",
       " 2: 'located',\n",
       " 3: 'of',\n",
       " 4: 'in',\n",
       " 5: 'downtown',\n",
       " 6: 'seattle',\n",
       " 7: 'on',\n",
       " 8: 'southern',\n",
       " 9: 'tip',\n",
       " 10: 'lake',\n",
       " 11: 'union',\n",
       " 12: \"city's\",\n",
       " 13: 'vibrant',\n",
       " 14: 'core',\n",
       " 15: 'heart',\n",
       " 16: 'whats',\n",
       " 17: 'near',\n",
       " 18: 'our',\n",
       " 19: 'hotel',\n",
       " 20: 'location',\n",
       " 21: 'better',\n",
       " 22: 'question',\n",
       " 23: 'might',\n",
       " 24: 'be',\n",
       " 25: 'what',\n",
       " 26: 's',\n",
       " 27: 'not',\n",
       " 28: 'nearby'}"
      ]
     },
     "execution_count": 146,
     "metadata": {},
     "output_type": "execute_result"
    }
   ],
   "source": [
    "t.index_word"
   ]
  },
  {
   "cell_type": "code",
   "execution_count": 156,
   "metadata": {},
   "outputs": [
    {
     "name": "stdout",
     "output_type": "stream",
     "text": [
      "16\n"
     ]
    }
   ],
   "source": [
    "import numpy as np\n",
    "from tensorflow.keras.preprocessing.sequence import pad_sequences\n",
    "import tensorflow.keras.utils as ku \n",
    "\n",
    "# pad sequences \n",
    "def generate_padded_sequences(input_sequences):\n",
    "    max_sequence_len = max([len(x) for x in input_sequences])\n",
    "    print(max_sequence_len)\n",
    "    input_sequences = np.array(pad_sequences(input_sequences, maxlen = max_sequence_len, padding = 'pre'))\n",
    "    predictors, label = input_sequences[:,:-1],input_sequences[:,-1]\n",
    "    label = ku.to_categorical(label, num_classes = total_words)\n",
    "    \n",
    "    return predictors, label, max_sequence_len\n",
    "\n",
    "predictors, label, max_sequence_len = generate_padded_sequences(input_sequences)"
   ]
  },
  {
   "cell_type": "code",
   "execution_count": 224,
   "metadata": {},
   "outputs": [
    {
     "data": {
      "text/plain": [
       "array([[ 0,  0,  0,  0,  0,  0,  0,  0,  0,  0,  0,  0,  0,  0,  2],\n",
       "       [ 0,  0,  0,  0,  0,  0,  0,  0,  0,  0,  0,  0,  0,  2,  7],\n",
       "       [ 0,  0,  0,  0,  0,  0,  0,  0,  0,  0,  0,  0,  2,  7,  1],\n",
       "       [ 0,  0,  0,  0,  0,  0,  0,  0,  0,  0,  0,  2,  7,  1,  8],\n",
       "       [ 0,  0,  0,  0,  0,  0,  0,  0,  0,  0,  2,  7,  1,  8,  9],\n",
       "       [ 0,  0,  0,  0,  0,  0,  0,  0,  0,  2,  7,  1,  8,  9,  3],\n",
       "       [ 0,  0,  0,  0,  0,  0,  0,  0,  2,  7,  1,  8,  9,  3, 10],\n",
       "       [ 0,  0,  0,  0,  0,  0,  0,  0,  0,  0,  0,  0,  0,  0,  2],\n",
       "       [ 0,  0,  0,  0,  0,  0,  0,  0,  0,  0,  0,  0,  0,  2,  4],\n",
       "       [ 0,  0,  0,  0,  0,  0,  0,  0,  0,  0,  0,  0,  2,  4,  1],\n",
       "       [ 0,  0,  0,  0,  0,  0,  0,  0,  0,  0,  0,  2,  4,  1, 12],\n",
       "       [ 0,  0,  0,  0,  0,  0,  0,  0,  0,  0,  2,  4,  1, 12, 13],\n",
       "       [ 0,  0,  0,  0,  0,  0,  0,  0,  0,  0,  0,  0,  0,  0,  2],\n",
       "       [ 0,  0,  0,  0,  0,  0,  0,  0,  0,  0,  0,  0,  0,  2,  4],\n",
       "       [ 0,  0,  0,  0,  0,  0,  0,  0,  0,  0,  0,  0,  2,  4,  1],\n",
       "       [ 0,  0,  0,  0,  0,  0,  0,  0,  0,  0,  0,  2,  4,  1, 15],\n",
       "       [ 0,  0,  0,  0,  0,  0,  0,  0,  0,  0,  2,  4,  1, 15,  3],\n",
       "       [ 0,  0,  0,  0,  0,  0,  0,  0,  0,  2,  4,  1, 15,  3,  5],\n",
       "       [ 0,  0,  0,  0,  0,  0,  0,  0,  0,  0,  0,  0,  0,  0, 16],\n",
       "       [ 0,  0,  0,  0,  0,  0,  0,  0,  0,  0,  0,  0,  0, 16, 17],\n",
       "       [ 0,  0,  0,  0,  0,  0,  0,  0,  0,  0,  0,  0, 16, 17, 18],\n",
       "       [ 0,  0,  0,  0,  0,  0,  0,  0,  0,  0,  0, 16, 17, 18, 19],\n",
       "       [ 0,  0,  0,  0,  0,  0,  0,  0,  0,  0, 16, 17, 18, 19,  5],\n",
       "       [ 0,  0,  0,  0,  0,  0,  0,  0,  0, 16, 17, 18, 19,  5,  6],\n",
       "       [ 0,  0,  0,  0,  0,  0,  0,  0, 16, 17, 18, 19,  5,  6, 20],\n",
       "       [ 0,  0,  0,  0,  0,  0,  0, 16, 17, 18, 19,  5,  6, 20,  1],\n",
       "       [ 0,  0,  0,  0,  0,  0, 16, 17, 18, 19,  5,  6, 20,  1, 21],\n",
       "       [ 0,  0,  0,  0,  0, 16, 17, 18, 19,  5,  6, 20,  1, 21, 22],\n",
       "       [ 0,  0,  0,  0, 16, 17, 18, 19,  5,  6, 20,  1, 21, 22, 23],\n",
       "       [ 0,  0,  0, 16, 17, 18, 19,  5,  6, 20,  1, 21, 22, 23, 24],\n",
       "       [ 0,  0, 16, 17, 18, 19,  5,  6, 20,  1, 21, 22, 23, 24, 25],\n",
       "       [ 0, 16, 17, 18, 19,  5,  6, 20,  1, 21, 22, 23, 24, 25, 26],\n",
       "       [16, 17, 18, 19,  5,  6, 20,  1, 21, 22, 23, 24, 25, 26, 27]])"
      ]
     },
     "execution_count": 224,
     "metadata": {},
     "output_type": "execute_result"
    }
   ],
   "source": [
    "predictors"
   ]
  },
  {
   "cell_type": "code",
   "execution_count": 225,
   "metadata": {},
   "outputs": [
    {
     "data": {
      "text/plain": [
       "array([[0., 0., 0., 0., 0., 0., 0., 1., 0., 0., 0., 0., 0., 0., 0., 0.,\n",
       "        0., 0., 0., 0., 0., 0., 0., 0., 0., 0., 0., 0., 0.],\n",
       "       [0., 1., 0., 0., 0., 0., 0., 0., 0., 0., 0., 0., 0., 0., 0., 0.,\n",
       "        0., 0., 0., 0., 0., 0., 0., 0., 0., 0., 0., 0., 0.],\n",
       "       [0., 0., 0., 0., 0., 0., 0., 0., 1., 0., 0., 0., 0., 0., 0., 0.,\n",
       "        0., 0., 0., 0., 0., 0., 0., 0., 0., 0., 0., 0., 0.],\n",
       "       [0., 0., 0., 0., 0., 0., 0., 0., 0., 1., 0., 0., 0., 0., 0., 0.,\n",
       "        0., 0., 0., 0., 0., 0., 0., 0., 0., 0., 0., 0., 0.],\n",
       "       [0., 0., 0., 1., 0., 0., 0., 0., 0., 0., 0., 0., 0., 0., 0., 0.,\n",
       "        0., 0., 0., 0., 0., 0., 0., 0., 0., 0., 0., 0., 0.],\n",
       "       [0., 0., 0., 0., 0., 0., 0., 0., 0., 0., 1., 0., 0., 0., 0., 0.,\n",
       "        0., 0., 0., 0., 0., 0., 0., 0., 0., 0., 0., 0., 0.],\n",
       "       [0., 0., 0., 0., 0., 0., 0., 0., 0., 0., 0., 1., 0., 0., 0., 0.,\n",
       "        0., 0., 0., 0., 0., 0., 0., 0., 0., 0., 0., 0., 0.],\n",
       "       [0., 0., 0., 0., 1., 0., 0., 0., 0., 0., 0., 0., 0., 0., 0., 0.,\n",
       "        0., 0., 0., 0., 0., 0., 0., 0., 0., 0., 0., 0., 0.],\n",
       "       [0., 1., 0., 0., 0., 0., 0., 0., 0., 0., 0., 0., 0., 0., 0., 0.,\n",
       "        0., 0., 0., 0., 0., 0., 0., 0., 0., 0., 0., 0., 0.],\n",
       "       [0., 0., 0., 0., 0., 0., 0., 0., 0., 0., 0., 0., 1., 0., 0., 0.,\n",
       "        0., 0., 0., 0., 0., 0., 0., 0., 0., 0., 0., 0., 0.],\n",
       "       [0., 0., 0., 0., 0., 0., 0., 0., 0., 0., 0., 0., 0., 1., 0., 0.,\n",
       "        0., 0., 0., 0., 0., 0., 0., 0., 0., 0., 0., 0., 0.],\n",
       "       [0., 0., 0., 0., 0., 0., 0., 0., 0., 0., 0., 0., 0., 0., 1., 0.,\n",
       "        0., 0., 0., 0., 0., 0., 0., 0., 0., 0., 0., 0., 0.],\n",
       "       [0., 0., 0., 0., 1., 0., 0., 0., 0., 0., 0., 0., 0., 0., 0., 0.,\n",
       "        0., 0., 0., 0., 0., 0., 0., 0., 0., 0., 0., 0., 0.],\n",
       "       [0., 1., 0., 0., 0., 0., 0., 0., 0., 0., 0., 0., 0., 0., 0., 0.,\n",
       "        0., 0., 0., 0., 0., 0., 0., 0., 0., 0., 0., 0., 0.],\n",
       "       [0., 0., 0., 0., 0., 0., 0., 0., 0., 0., 0., 0., 0., 0., 0., 1.,\n",
       "        0., 0., 0., 0., 0., 0., 0., 0., 0., 0., 0., 0., 0.],\n",
       "       [0., 0., 0., 1., 0., 0., 0., 0., 0., 0., 0., 0., 0., 0., 0., 0.,\n",
       "        0., 0., 0., 0., 0., 0., 0., 0., 0., 0., 0., 0., 0.],\n",
       "       [0., 0., 0., 0., 0., 1., 0., 0., 0., 0., 0., 0., 0., 0., 0., 0.,\n",
       "        0., 0., 0., 0., 0., 0., 0., 0., 0., 0., 0., 0., 0.],\n",
       "       [0., 0., 0., 0., 0., 0., 1., 0., 0., 0., 0., 0., 0., 0., 0., 0.,\n",
       "        0., 0., 0., 0., 0., 0., 0., 0., 0., 0., 0., 0., 0.],\n",
       "       [0., 0., 0., 0., 0., 0., 0., 0., 0., 0., 0., 0., 0., 0., 0., 0.,\n",
       "        0., 1., 0., 0., 0., 0., 0., 0., 0., 0., 0., 0., 0.],\n",
       "       [0., 0., 0., 0., 0., 0., 0., 0., 0., 0., 0., 0., 0., 0., 0., 0.,\n",
       "        0., 0., 1., 0., 0., 0., 0., 0., 0., 0., 0., 0., 0.],\n",
       "       [0., 0., 0., 0., 0., 0., 0., 0., 0., 0., 0., 0., 0., 0., 0., 0.,\n",
       "        0., 0., 0., 1., 0., 0., 0., 0., 0., 0., 0., 0., 0.],\n",
       "       [0., 0., 0., 0., 0., 1., 0., 0., 0., 0., 0., 0., 0., 0., 0., 0.,\n",
       "        0., 0., 0., 0., 0., 0., 0., 0., 0., 0., 0., 0., 0.],\n",
       "       [0., 0., 0., 0., 0., 0., 1., 0., 0., 0., 0., 0., 0., 0., 0., 0.,\n",
       "        0., 0., 0., 0., 0., 0., 0., 0., 0., 0., 0., 0., 0.],\n",
       "       [0., 0., 0., 0., 0., 0., 0., 0., 0., 0., 0., 0., 0., 0., 0., 0.,\n",
       "        0., 0., 0., 0., 1., 0., 0., 0., 0., 0., 0., 0., 0.],\n",
       "       [0., 1., 0., 0., 0., 0., 0., 0., 0., 0., 0., 0., 0., 0., 0., 0.,\n",
       "        0., 0., 0., 0., 0., 0., 0., 0., 0., 0., 0., 0., 0.],\n",
       "       [0., 0., 0., 0., 0., 0., 0., 0., 0., 0., 0., 0., 0., 0., 0., 0.,\n",
       "        0., 0., 0., 0., 0., 1., 0., 0., 0., 0., 0., 0., 0.],\n",
       "       [0., 0., 0., 0., 0., 0., 0., 0., 0., 0., 0., 0., 0., 0., 0., 0.,\n",
       "        0., 0., 0., 0., 0., 0., 1., 0., 0., 0., 0., 0., 0.],\n",
       "       [0., 0., 0., 0., 0., 0., 0., 0., 0., 0., 0., 0., 0., 0., 0., 0.,\n",
       "        0., 0., 0., 0., 0., 0., 0., 1., 0., 0., 0., 0., 0.],\n",
       "       [0., 0., 0., 0., 0., 0., 0., 0., 0., 0., 0., 0., 0., 0., 0., 0.,\n",
       "        0., 0., 0., 0., 0., 0., 0., 0., 1., 0., 0., 0., 0.],\n",
       "       [0., 0., 0., 0., 0., 0., 0., 0., 0., 0., 0., 0., 0., 0., 0., 0.,\n",
       "        0., 0., 0., 0., 0., 0., 0., 0., 0., 1., 0., 0., 0.],\n",
       "       [0., 0., 0., 0., 0., 0., 0., 0., 0., 0., 0., 0., 0., 0., 0., 0.,\n",
       "        0., 0., 0., 0., 0., 0., 0., 0., 0., 0., 1., 0., 0.],\n",
       "       [0., 0., 0., 0., 0., 0., 0., 0., 0., 0., 0., 0., 0., 0., 0., 0.,\n",
       "        0., 0., 0., 0., 0., 0., 0., 0., 0., 0., 0., 1., 0.],\n",
       "       [0., 0., 0., 0., 0., 0., 0., 0., 0., 0., 0., 0., 0., 0., 0., 0.,\n",
       "        0., 0., 0., 0., 0., 0., 0., 0., 0., 0., 0., 0., 1.]],\n",
       "      dtype=float32)"
      ]
     },
     "execution_count": 225,
     "metadata": {},
     "output_type": "execute_result"
    }
   ],
   "source": [
    "label"
   ]
  },
  {
   "cell_type": "code",
   "execution_count": 151,
   "metadata": {},
   "outputs": [
    {
     "data": {
      "text/plain": [
       "(33, 15)"
      ]
     },
     "execution_count": 151,
     "metadata": {},
     "output_type": "execute_result"
    }
   ],
   "source": [
    "predictors.shape"
   ]
  },
  {
   "cell_type": "code",
   "execution_count": 226,
   "metadata": {},
   "outputs": [
    {
     "data": {
      "text/plain": [
       "(33, 29)"
      ]
     },
     "execution_count": 226,
     "metadata": {},
     "output_type": "execute_result"
    }
   ],
   "source": [
    "label.shape"
   ]
  },
  {
   "cell_type": "code",
   "execution_count": 227,
   "metadata": {},
   "outputs": [
    {
     "name": "stdout",
     "output_type": "stream",
     "text": [
      "total_words: 29\n",
      "max_sequence_len: 16\n"
     ]
    }
   ],
   "source": [
    "print(\"total_words:\",total_words)\n",
    "print(\"max_sequence_len:\",max_sequence_len)"
   ]
  },
  {
   "cell_type": "code",
   "execution_count": 46,
   "metadata": {},
   "outputs": [
    {
     "name": "stdout",
     "output_type": "stream",
     "text": [
      "Model: \"sequential\"\n",
      "_________________________________________________________________\n",
      "Layer (type)                 Output Shape              Param #   \n",
      "=================================================================\n",
      "embedding (Embedding)        (None, 18, 10)            790       \n",
      "_________________________________________________________________\n",
      "lstm (LSTM)                  (None, 100)               44400     \n",
      "_________________________________________________________________\n",
      "dropout (Dropout)            (None, 100)               0         \n",
      "_________________________________________________________________\n",
      "dense (Dense)                (None, 79)                7979      \n",
      "=================================================================\n",
      "Total params: 53,169\n",
      "Trainable params: 53,169\n",
      "Non-trainable params: 0\n",
      "_________________________________________________________________\n"
     ]
    }
   ],
   "source": [
    "from tensorflow.keras.models import Sequential\n",
    "from tensorflow.keras.layers import Embedding, LSTM, Dense, Dropout\n",
    "\n",
    "def create_model(max_sequence_len, total_words):\n",
    "    model = Sequential()\n",
    "    # Add Input Embedding Layer\n",
    "    model.add(Embedding(total_words, 10, input_length=max_sequence_len - 1))\n",
    "    \n",
    "    # Add Hidden Layer 1 - LSTM Layer\n",
    "    model.add(LSTM(100))\n",
    "    model.add(Dropout(0.1))\n",
    "    \n",
    "    # Add Output Layer\n",
    "    model.add(Dense(total_words, activation='softmax'))\n",
    "\n",
    "    model.compile(loss='categorical_crossentropy', optimizer='adam')\n",
    "    \n",
    "    #model.save(\"Text_Summa\")\n",
    "    \n",
    "    return model\n",
    "\n",
    "model = create_model(max_sequence_len, total_words)\n",
    "model.summary()"
   ]
  },
  {
   "cell_type": "code",
   "execution_count": 47,
   "metadata": {},
   "outputs": [
    {
     "name": "stdout",
     "output_type": "stream",
     "text": [
      "Epoch 1/10\n",
      "Epoch 2/10\n",
      "Epoch 3/10\n",
      "Epoch 4/10\n",
      "Epoch 5/10\n",
      "Epoch 6/10\n",
      "Epoch 7/10\n",
      "Epoch 8/10\n",
      "Epoch 9/10\n",
      "Epoch 10/10\n"
     ]
    },
    {
     "data": {
      "text/plain": [
       "<tensorflow.python.keras.callbacks.History at 0x1874001d160>"
      ]
     },
     "execution_count": 47,
     "metadata": {},
     "output_type": "execute_result"
    }
   ],
   "source": [
    "model.fit(predictors, label, epochs=10, verbose=5)"
   ]
  },
  {
   "cell_type": "code",
   "execution_count": 153,
   "metadata": {},
   "outputs": [],
   "source": [
    "def generate_text(seed_text, next_words, model, max_seq_len):\n",
    "    for _ in range(next_words):\n",
    "        token_list = t.texts_to_sequences([seed_text])[0]\n",
    "        token_list = pad_sequences([token_list], maxlen=max_seq_len-1, padding='pre')\n",
    "        \n",
    "        predicted = model.predict_classes(token_list, verbose=0)\n",
    "        \n",
    "        output_word = ''\n",
    "        \n",
    "        for word,index in t.word_index.items():\n",
    "            if index == predicted:\n",
    "                output_word = word\n",
    "                break\n",
    "                \n",
    "        seed_text = seed_text + \" \" + output_word\n",
    "        \n",
    "    return seed_text.title()"
   ]
  },
  {
   "cell_type": "code",
   "execution_count": 50,
   "metadata": {},
   "outputs": [
    {
     "name": "stdout",
     "output_type": "stream",
     "text": [
      "Hilton Seattle Downtown The The The The The\n",
      "\n",
      "Best Western Seattle Airport Hotel The The The The The The The The The The\n",
      "\n",
      "Located In The Heart Of Downtown Seattle The The The The The The The The The The The The The The The The The The The The\n"
     ]
    }
   ],
   "source": [
    "print(generate_text(\"hilton seattle downtown\", 5, model, max_sequence_len))\n",
    "print()\n",
    "print(generate_text(\"best western seattle airport hotel\", 10, model, max_sequence_len))\n",
    "print()\n",
    "print(generate_text('located in the heart of downtown seattle', 20, model, max_sequence_len))"
   ]
  },
  {
   "cell_type": "code",
   "execution_count": null,
   "metadata": {},
   "outputs": [],
   "source": []
  }
 ],
 "metadata": {
  "kernelspec": {
   "display_name": "Python 3",
   "language": "python",
   "name": "python3"
  },
  "language_info": {
   "codemirror_mode": {
    "name": "ipython",
    "version": 3
   },
   "file_extension": ".py",
   "mimetype": "text/x-python",
   "name": "python",
   "nbconvert_exporter": "python",
   "pygments_lexer": "ipython3",
   "version": "3.6.8"
  }
 },
 "nbformat": 4,
 "nbformat_minor": 2
}
