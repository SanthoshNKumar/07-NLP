{
 "cells": [
  {
   "cell_type": "code",
   "execution_count": 5,
   "metadata": {},
   "outputs": [
    {
     "data": {
      "text/plain": [
       "(152, 3)"
      ]
     },
     "execution_count": 5,
     "metadata": {},
     "output_type": "execute_result"
    }
   ],
   "source": [
    "import pandas as pd\n",
    "\n",
    "hotel_df = pd.read_csv(\"Seattle_Hotels.csv\",encoding=\"latin-1\")\n",
    "\n",
    "hotel_df.shape  # 152 Description"
   ]
  },
  {
   "cell_type": "code",
   "execution_count": 6,
   "metadata": {},
   "outputs": [
    {
     "data": {
      "text/html": [
       "<div>\n",
       "<style scoped>\n",
       "    .dataframe tbody tr th:only-of-type {\n",
       "        vertical-align: middle;\n",
       "    }\n",
       "\n",
       "    .dataframe tbody tr th {\n",
       "        vertical-align: top;\n",
       "    }\n",
       "\n",
       "    .dataframe thead th {\n",
       "        text-align: right;\n",
       "    }\n",
       "</style>\n",
       "<table border=\"1\" class=\"dataframe\">\n",
       "  <thead>\n",
       "    <tr style=\"text-align: right;\">\n",
       "      <th></th>\n",
       "      <th>name</th>\n",
       "      <th>address</th>\n",
       "      <th>desc</th>\n",
       "    </tr>\n",
       "  </thead>\n",
       "  <tbody>\n",
       "    <tr>\n",
       "      <th>0</th>\n",
       "      <td>Hilton Garden Seattle Downtown</td>\n",
       "      <td>1821 Boren Avenue, Seattle Washington 98101 USA</td>\n",
       "      <td>Located on the southern tip of Lake Union, the...</td>\n",
       "    </tr>\n",
       "    <tr>\n",
       "      <th>1</th>\n",
       "      <td>Sheraton Grand Seattle</td>\n",
       "      <td>1400 6th Avenue, Seattle, Washington 98101 USA</td>\n",
       "      <td>Located in the city's vibrant core, the Sherat...</td>\n",
       "    </tr>\n",
       "    <tr>\n",
       "      <th>2</th>\n",
       "      <td>Crowne Plaza Seattle Downtown</td>\n",
       "      <td>1113 6th Ave, Seattle, WA 98101</td>\n",
       "      <td>Located in the heart of downtown Seattle, the ...</td>\n",
       "    </tr>\n",
       "    <tr>\n",
       "      <th>3</th>\n",
       "      <td>Kimpton Hotel Monaco Seattle</td>\n",
       "      <td>1101 4th Ave, Seattle, WA98101</td>\n",
       "      <td>What?s near our hotel downtown Seattle locatio...</td>\n",
       "    </tr>\n",
       "    <tr>\n",
       "      <th>4</th>\n",
       "      <td>The Westin Seattle</td>\n",
       "      <td>1900 5th Avenue, Seattle, Washington 98101 USA</td>\n",
       "      <td>Situated amid incredible shopping and iconic a...</td>\n",
       "    </tr>\n",
       "  </tbody>\n",
       "</table>\n",
       "</div>"
      ],
      "text/plain": [
       "                             name  \\\n",
       "0  Hilton Garden Seattle Downtown   \n",
       "1          Sheraton Grand Seattle   \n",
       "2   Crowne Plaza Seattle Downtown   \n",
       "3   Kimpton Hotel Monaco Seattle    \n",
       "4              The Westin Seattle   \n",
       "\n",
       "                                           address  \\\n",
       "0  1821 Boren Avenue, Seattle Washington 98101 USA   \n",
       "1   1400 6th Avenue, Seattle, Washington 98101 USA   \n",
       "2                  1113 6th Ave, Seattle, WA 98101   \n",
       "3                   1101 4th Ave, Seattle, WA98101   \n",
       "4   1900 5th Avenue, Seattle, Washington 98101 USA   \n",
       "\n",
       "                                                desc  \n",
       "0  Located on the southern tip of Lake Union, the...  \n",
       "1  Located in the city's vibrant core, the Sherat...  \n",
       "2  Located in the heart of downtown Seattle, the ...  \n",
       "3  What?s near our hotel downtown Seattle locatio...  \n",
       "4  Situated amid incredible shopping and iconic a...  "
      ]
     },
     "execution_count": 6,
     "metadata": {},
     "output_type": "execute_result"
    }
   ],
   "source": [
    "hotel_df.head()"
   ]
  },
  {
   "cell_type": "code",
   "execution_count": 7,
   "metadata": {},
   "outputs": [
    {
     "data": {
      "text/plain": [
       "(152, 3)"
      ]
     },
     "execution_count": 7,
     "metadata": {},
     "output_type": "execute_result"
    }
   ],
   "source": [
    "hotel_df.shape"
   ]
  },
  {
   "cell_type": "code",
   "execution_count": 8,
   "metadata": {},
   "outputs": [
    {
     "data": {
      "text/plain": [
       "Index(['name', 'address', 'desc'], dtype='object')"
      ]
     },
     "execution_count": 8,
     "metadata": {},
     "output_type": "execute_result"
    }
   ],
   "source": [
    "hotel_df.columns"
   ]
  },
  {
   "cell_type": "code",
   "execution_count": 9,
   "metadata": {},
   "outputs": [],
   "source": [
    "all_descriptions = list(hotel_df['desc'][:10].values)  # Considering only 10 Description"
   ]
  },
  {
   "cell_type": "code",
   "execution_count": 10,
   "metadata": {},
   "outputs": [
    {
     "data": {
      "text/plain": [
       "152"
      ]
     },
     "execution_count": 10,
     "metadata": {},
     "output_type": "execute_result"
    }
   ],
   "source": [
    "len(list(hotel_df.desc.values))"
   ]
  },
  {
   "cell_type": "code",
   "execution_count": 11,
   "metadata": {},
   "outputs": [
    {
     "data": {
      "text/plain": [
       "[\"Located on the southern tip of Lake Union, the Hilton Garden Inn Seattle Downtown hotel is perfectly located for business and leisure. \\nThe neighborhood is home to numerous major international companies including Amazon, Google and the Bill & Melinda Gates Foundation. A wealth of eclectic restaurants and bars make this area of Seattle one of the most sought out by locals and visitors. Our proximity to Lake Union allows visitors to take in some of the Pacific Northwest's majestic scenery and enjoy outdoor activities like kayaking and sailing. over 2,000 sq. ft. of versatile space and a complimentary business center. State-of-the-art A/V technology and our helpful staff will guarantee your conference, cocktail reception or wedding is a success. Refresh in the sparkling saltwater pool, or energize with the latest equipment in the 24-hour fitness center. Tastefully decorated and flooded with natural light, our guest rooms and suites offer everything you need to relax and stay productive. Unwind in the bar, and enjoy American cuisine for breakfast, lunch and dinner in our restaurant. The 24-hour Pavilion Pantry? stocks a variety of snacks, drinks and sundries.\"]"
      ]
     },
     "execution_count": 11,
     "metadata": {},
     "output_type": "execute_result"
    }
   ],
   "source": [
    "corpus = [x for x in all_descriptions]\n",
    "corpus[:1]"
   ]
  },
  {
   "cell_type": "code",
   "execution_count": 12,
   "metadata": {},
   "outputs": [],
   "source": [
    "from tensorflow.keras.preprocessing.text import Tokenizer\n",
    "\n",
    "t = Tokenizer(num_words=None, filters='!\"#$%&()*+,-./:;<=>?@[\\\\]^_`{|}~\\t\\n', lower=True, split=' ', char_level=False, \\\n",
    "              oov_token=None, document_count=0)\n",
    "\n",
    "t.fit_on_texts(corpus)"
   ]
  },
  {
   "cell_type": "code",
   "execution_count": 13,
   "metadata": {},
   "outputs": [
    {
     "name": "stdout",
     "output_type": "stream",
     "text": [
      "['located', 'on', 'the', 'southern', 'tip', 'of', 'lake', 'union', 'hilton', 'garden']\n",
      "[4, 6, 89, 1, 1, 37, 4, 5, 2, 2]\n"
     ]
    }
   ],
   "source": [
    "print(list(t.word_counts.keys())[:10])\n",
    "print(list(t.word_counts.values())[:10])"
   ]
  },
  {
   "cell_type": "code",
   "execution_count": 14,
   "metadata": {},
   "outputs": [
    {
     "name": "stdout",
     "output_type": "stream",
     "text": [
      "defaultdict(<class 'int'>, {'saltwater': 1, \"northwest's\": 1, 'cuisine': 2, 'restaurant': 4, 'helpful': 1, 'take': 1, 'southern': 1, 'activities': 1, 'cocktail': 2, 'your': 6, 'fitness': 3, 'scenery': 1, 'you': 5, 'google': 1, 'major': 1, 'lunch': 1, 'seattle': 10, 'and': 10, 'area': 2, 'flooded': 1, 'numerous': 1, 'v': 1, 'space': 5, 'light': 2, 'energize': 2, 'complimentary': 2, 'relax': 3, 'international': 1, 'foundation': 1, 'one': 5, 'pacific': 3, 'breakfast': 1, 'natural': 2, 'lake': 3, 'bill': 1, 'with': 6, 'bar': 4, 'over': 1, 'allows': 2, 'sparkling': 1, 'is': 8, 'majestic': 1, 'state': 5, 'technology': 1, 'melinda': 1, 'leisure': 1, 'home': 2, 'versatile': 1, 'stay': 1, 'staff': 1, '2': 1, 'outdoor': 1, 'unwind': 2, 'rooms': 4, 'american': 1, 'tastefully': 1, 'refresh': 2, 'companies': 1, 'dinner': 1, 'or': 5, 'variety': 2, 'stocks': 1, 'like': 3, 'the': 10, 'productive': 1, 'hour': 2, 'in': 10, 'of': 10, 'amazon': 1, 'eclectic': 2, 'hotel': 9, 'some': 1, 'sailing': 1, 'center': 7, 'pavilion': 1, 'wealth': 1, 'equipment': 1, 'out': 4, 'make': 1, 'garden': 2, 'kayaking': 2, 'inn': 1, 'decorated': 2, 'guest': 2, 'pool': 2, 'on': 4, 'latest': 1, 'including': 5, '24': 2, 'need': 1, 'reception': 1, 'for': 3, 'bars': 2, 'offer': 2, 'our': 9, 'snacks': 1, 'everything': 1, 'gates': 1, 'guarantee': 1, 'pantry': 1, 'a': 9, 'will': 2, 'proximity': 1, 'located': 3, 'enjoy': 4, 'restaurants': 3, 'sq': 1, 'tip': 1, 'conference': 2, 'art': 5, 'hilton': 2, 'perfectly': 1, 'wedding': 1, 'drinks': 1, '000': 2, 'neighborhood': 1, 'suites': 2, 'sought': 1, 'by': 6, 'this': 1, 'success': 1, 'sundries': 1, 'most': 2, 'downtown': 9, 'locals': 1, 'to': 10, 'union': 4, 'visitors': 1, 'business': 1, 'ft': 1, 'new': 4, 'spaces': 1, 'north': 1, 'provides': 1, 'beverage': 1, 'america': 1, 'winning': 2, 'artists': 1, 'front': 1, 'event': 2, 'designation': 1, 'needle': 4, 'transformation': 1, 'chef': 1, 'expanded': 1, 'highest': 1, 'club': 1, 'completed': 1, 'gateway': 1, 'gather': 1, 'starbucks': 2, 'as': 3, 'meeting': 1, 'kitchen': 2, 'museum': 4, 'glass': 1, 'sheraton': 1, 'from': 5, 'book': 2, 'several': 1, 'an': 5, 'thierry': 1, 'esteemed': 1, 'market': 7, 'seven': 1, 'james': 1, 'attractions': 3, 'receiving': 1, 'northwest': 2, 'place': 7, 'world': 1, 'step': 2, 'sights': 1, 'options': 2, 'doors': 1, 'while': 3, 'entertainment': 2, 'loulay': 1, 'guests': 2, \"city's\": 1, 'class': 1, 'vibrant': 1, 'available': 1, 'confidently': 1, 'all': 4, 'earn': 1, 'favorite': 1, 'dollar': 1, 'rautureau': 1, 'exciting': 1, 'can': 2, 'lobby': 3, 'hotels': 3, 'experience': 4, 'grand': 1, 'diverse': 2, 'modern': 3, 'iconic': 4, 'sounds': 1, 'offerings': 1, 'beard': 1, 're': 1, 'knowing': 1, 'featuring': 3, 'core': 1, 'enjoying': 1, 'service': 2, 'local': 3, 'features': 1, 'award': 3, 'pike': 7, 'find': 3, 'product': 1, 'private': 2, 'collection': 2, 'shopping': 5, 'recently': 1, 'chihuly': 1, 'they': 1, 'benchmark': 1, 'dining': 2, 'lounge': 3, 'gourmet': 1, 'stylish': 2, 'multimillion': 1, 'only': 1, 'tight': 1, 'specials': 1, '4pm': 1, 'sleep': 1, 'us': 3, 'relaxing': 1, 'emerald': 3, 'spray': 1, 'internet': 1, 'help': 1, 'daily': 1, '7pm': 1, 'cool': 1, 'set': 1, 'savor': 1, 'advantage': 1, 'concierge': 1, 'where': 2, 'invigorating': 1, 'grille': 1, 'heart': 4, 'crowne': 1, 'comfort': 1, 'll': 1, 'marvel': 2, 'expert': 2, 'spa': 1, 'soon': 1, 'suggestions': 1, 'workout': 1, 'monthly': 1, 'regatta': 1, 'get': 1, 'blend': 1, 'style': 3, 'city': 5, 'at': 6, 'rejuvenate': 1, 'plaza': 1, 'comfortable': 2, 'amenities': 2, 'stunning': 1, 'that': 2, 'views': 3, 'inside': 1, 'happy': 1, 'unconventional': 1, 'drink': 1, 'sumptuous': 1, 'lotions': 1, 'apart': 1, 'kits': 1, 'notice': 1, 'touches': 1, 'has': 1, 'beds': 2, 'wireless': 1, 'temple': 1, 'come': 3, 'throughout': 2, 'lights': 1, 'lavender': 1, 'exceptional': 1, 'offers': 1, 'amenity': 1, 'which': 1, 'musical': 1, 'location': 4, 'cruise': 1, 'what': 1, 'sampling': 1, 'might': 1, 'fantastic': 1, 'architectural': 1, 'must': 1, 'nordstrom': 1, 'within': 1, 'stadiums': 1, 'street': 1, 'great': 1, 'sports': 1, 'viewing': 1, 'see': 1, 'central': 3, 'avenue': 2, 'mariners': 1, 'sounders': 1, 'floor': 2, 'seahawks': 1, 's': 1, '73rd': 1, 'being': 1, 'small': 1, '66': 1, 'bell': 1, 'flagship': 1, 'independent': 1, 'half': 1, 'public': 1, 'terminal': 1, 'better': 1, 'tallest': 1, 'washington': 4, 'vuitton': 1, 'be': 2, 'observatory': 1, 'columbia': 1, 'macy': 1, 'library': 1, '5th': 2, 'pioneer': 1, 'sportswear': 1, 'rest': 1, 'view': 1, 'near': 3, 'original': 1, 'sky': 1, 'mississippi': 1, 'mile': 1, 'historic': 1, 'theatre': 1, 'addition': 1, 'nearby': 2, 'west': 2, 'arcteryx': 1, 'wheel': 1, 'square': 2, 'safeco': 1, 'whose': 1, 'oodles': 1, 'pier': 1, 'here': 1, 'field': 2, 'question': 1, 'louis': 1, 'about': 1, 'productions': 1, 'rack': 1, 'convention': 5, 'houses': 1, 'boutiques': 1, 'just': 4, 'centurylink': 2, 'not': 2, 'feet': 1, 'unforgettable': 1, 'westin': 1, 'explore': 2, 'body': 1, 'amid': 1, 'cascade': 1, 'host': 1, 'custom': 1, 'carefully': 1, 'waterfront': 2, 'substance': 1, 'studio': 1, 'comforts': 1, 'recharge': 1, 'mountain': 2, 'contemporary': 2, 'situated': 1, 'gorgeous': 1, 'sound': 1, 'mind': 1, 'newly': 2, 'range': 1, 'than': 2, 'offering': 1, 'crafted': 1, 'signature': 1, 'heavenly®': 1, 'enhanced': 1, 'skyline': 1, 'renovated': 2, 'celebrated': 1, 'puget': 1, 'reflect': 1, 'social': 1, 'westinworkout®': 1, 'meetings': 1, 'spectacular': 1, 'more': 2, 'fifth': 2, 'best': 2, 'sleek': 1, '1900': 1, 'catering': 1, 'accommodations': 1, 'curated': 1, 'planning': 1, 'incredible': 1, 'haven': 1, 'engagements': 1, 'wine': 1, 'welcoming': 1, 'prime': 1, '70': 1, 'designed': 1, 'seating': 1, 'urban': 1, 'distance': 1, 'top': 1, 'downstairs': 1, 'friendly': 1, 'classically': 1, 'simple': 1, 'cozy': 1, 'wood': 1, 'fall': 1, 'good': 1, 'areas': 1, 'boutique': 1, 'luxurious': 1, 'there': 1, 'among': 1, 'appointed': 1, 'dash': 1, 'five': 1, 'feel': 2, 'why': 1, 'you\\x92ll': 2, 'winning\\xa0asian': 1, 'annually': 1, 'many': 1, 'flair': 1, 'love': 1, 'restaurant\\xa0right': 1, 'residence': 1, 'block': 1, 'comfy': 1, 'fireplace': 1, 'paramount': 1, 'are': 2, 'inviting': 1, 'luxury': 1, 'puts': 2, 'walking': 1, 'finishes': 1, 'cafes': 1, 'yours': 1, 'summons': 1, 'reasons': 1, 'company': 1, 'hosts': 1, 'charm': 2, 'ranked': 1, 'elegant': 1, 'warm': 1, 'foodie': 1, 'via': 1, 'visit': 1, 'car': 1, 'town': 1, 'walk': 1, 'redtrees': 1, 'concourse': 1, 'rent': 1, 'wide': 1, 'you\\x92re': 1, 'sightseeing': 1, 'shops': 1, 'if': 1, 'underground': 1, 'hungry': 1, 'satisfy': 1, 'any': 1, 'tour': 1, 'culinary': 1, 'airport': 1, 'adjoining': 1, 'across': 1, 'want': 1, 'sweeping': 1, 'rooftop': 1, 'culture': 2, 'join': 1, 'stroll': 1, 'menus': 1, 'arts': 1, 'infuse': 1, 'surroundings': 1, 'destination': 1, 'rich': 1, 'bounty': 1, 'rail': 1, 'area\\x92s': 1, 'between': 1, 'libation': 1, 'welcome': 2, 'touchstones': 1, 'frolik': 1, 'music': 1, 'everywhere': 1, 'motif': 1, 'reflected': 1, 'steps': 1, 'residences': 1, 'colors': 1, 'region\\x92s': 1, 'hardwoods': 1, 'inspired': 1, 'patio': 1, 'landscape': 1, 'cocktails': 1, 'away': 1, 'monorail': 1, 'setting': 1, 'evergreen': 2, 'lining': 1, 'trends': 1, 'blends': 1, 'mists': 1, 'right': 1, 'anything': 1, 'blocks': 1, 'along': 1, 'district': 1, 'refreshing': 1, 'breeze': 1, 'horizon': 1, 'accommodations\\xa0inspired': 1, 'belltown': 1, 'classic': 1, 'known': 1, 'seaborne': 1, 'expected': 1, 'truly': 1, 'doorstep': 1, '\\x96': 1, 'possible': 1, 'name': 1, 'leading': 1, 'way': 1, 'finding': 1, 'pleasant': 1, '\\xa0located': 1, 'styling': 1, 'hills': 1, 'upbeat': 1, 'surprises': 1, 'that\\x92s': 1, 'warwick': 1, 'boasting\\xa0unique': 1, 'staying': 1, 'covered': 1, 'flavours': 1, 'surrounded': 1, 'peaks': 1, 'bay': 1, 'meet': 1, 'nightfall': 1, 'show': 1, 'it': 1, 'deep': 1, 'snow': 1, 'let': 1, 'craft': 1, 'spend': 1, 'forests': 1, 'head': 1, 'room': 1, 'city\\x92s': 1, 'capped': 1, 'stowell': 1, 'elliott': 1, 'neighbourhoods': 1, 'gleaming': 1, 'favourite': 1, 'swaths': 1, 'day': 1, 'wake': 1, 'mount': 1, 'rainer': 1, 'ethan': 1, 'then': 1, 'cup': 1, 'breweries': 1, 'goldfinch': 1, 'fresh': 1, 'chefs': 1, 'blue': 1, 'tavern': 1, 'coffee': 1, 'side': 1, 'up': 1, 'waters': 1, 'hiking': 1, 'straight': 1, 'delivered': 1, 'another': 1, 'trendy': 1, 'wild': 1})\n"
     ]
    }
   ],
   "source": [
    "# A dictionary of words and how many documents each appeared in.\n",
    "print(t.word_docs)"
   ]
  },
  {
   "cell_type": "code",
   "execution_count": 15,
   "metadata": {},
   "outputs": [
    {
     "name": "stdout",
     "output_type": "stream",
     "text": [
      "10\n"
     ]
    }
   ],
   "source": [
    "# An integer count of the total number of documents that were used to fit the Tokenizer (i.e. total number of documents)\n",
    "print(t.document_count)\n"
   ]
  },
  {
   "cell_type": "code",
   "execution_count": 16,
   "metadata": {},
   "outputs": [
    {
     "name": "stdout",
     "output_type": "stream",
     "text": [
      "{'the': 1, 'and': 2, 'of': 3, 'seattle': 4, 'in': 5, 'our': 6, 'to': 7, 'a': 8, 'hotel': 9, 'is': 10, 'downtown': 11, 'with': 12, 'you': 13, 'at': 14, 'center': 15, 'pike': 16, 'from': 17, 'your': 18, 'place': 19, 'market': 20, 'including': 21, 'enjoy': 22, 'or': 23, 'city': 24, 'on': 25, 'by': 26, 'space': 27, 'an': 28, 'union': 29, 'one': 30, 'state': 31, 'art': 32, 'shopping': 33, 'as': 34, 'experience': 35, 'new': 36, 'heart': 37, 's': 38, 'just': 39, 'washington': 40, 'convention': 41, 'warwick': 42, 'located': 43, 'lake': 44, 'for': 45, 'out': 46, 'hour': 47, 'rooms': 48, 'bar': 49, 'restaurant': 50, 'sheraton': 51, 'iconic': 52, 'local': 53, 'attractions': 54, 'needle': 55, 'museum': 56, 'featuring': 57, 'all': 58, 'lobby': 59, 'us': 60, 'near': 61, 'location': 62, 'home': 63, 'restaurants': 64, 'pacific': 65, 'like': 66, '24': 67, 'fitness': 68, 'relax': 69, 'grand': 70, 'find': 71, 'dining': 72, 'hotels': 73, 'lounge': 74, 'modern': 75, 'while': 76, 'award': 77, 'style': 78, 'that': 79, 'views': 80, 'come': 81, 'emerald': 82, 'central': 83, 'field': 84, 'hilton': 85, 'garden': 86, 'business': 87, 'eclectic': 88, 'bars': 89, 'area': 90, 'most': 91, 'visitors': 92, 'allows': 93, 'kayaking': 94, '000': 95, 'complimentary': 96, 'will': 97, 'conference': 98, 'cocktail': 99, 'refresh': 100, 'pool': 101, 'energize': 102, 'decorated': 103, 'natural': 104, 'light': 105, 'guest': 106, 'suites': 107, 'offer': 108, 'unwind': 109, 'cuisine': 110, 'variety': 111, 'diverse': 112, 'northwest': 113, 'step': 114, 'entertainment': 115, 'guests': 116, 'can': 117, 'book': 118, 'service': 119, 'event': 120, 'stylish': 121, 'private': 122, 'collection': 123, 'starbucks': 124, 'options': 125, 'kitchen': 126, 'winning': 127, 'comfortable': 128, 'marvel': 129, 'sleep': 130, 'beds': 131, 'throughout': 132, 'amenities': 133, 'help': 134, 'expert': 135, 'where': 136, 'what': 137, 'be': 138, 'not': 139, 'nearby': 140, 'columbia': 141, 'floor': 142, 'west': 143, '5th': 144, 'avenue': 145, 'within': 146, 'mile': 147, 'original': 148, 'square': 149, 'nordstrom': 150, 'pier': 151, 'centurylink': 152, 'contemporary': 153, 'haven': 154, 'mountain': 155, 'newly': 156, 'renovated': 157, 'fifth': 158, 'explore': 159, 'waterfront': 160, 'more': 161, 'than': 162, 'best': 163, 'paramount': 164, 'feel': 165, 'you\\x92ll': 166, 'charm': 167, 'puts': 168, 'are': 169, 'welcome': 170, 'culture': 171, 'way': 172, 'evergreen': 173, 'waters': 174, 'southern': 175, 'tip': 176, 'inn': 177, 'perfectly': 178, 'leisure': 179, 'neighborhood': 180, 'numerous': 181, 'major': 182, 'international': 183, 'companies': 184, 'amazon': 185, 'google': 186, 'bill': 187, 'melinda': 188, 'gates': 189, 'foundation': 190, 'wealth': 191, 'make': 192, 'this': 193, 'sought': 194, 'locals': 195, 'proximity': 196, 'take': 197, 'some': 198, \"northwest's\": 199, 'majestic': 200, 'scenery': 201, 'outdoor': 202, 'activities': 203, 'sailing': 204, 'over': 205, '2': 206, 'sq': 207, 'ft': 208, 'versatile': 209, 'v': 210, 'technology': 211, 'helpful': 212, 'staff': 213, 'guarantee': 214, 'reception': 215, 'wedding': 216, 'success': 217, 'sparkling': 218, 'saltwater': 219, 'latest': 220, 'equipment': 221, 'tastefully': 222, 'flooded': 223, 'everything': 224, 'need': 225, 'stay': 226, 'productive': 227, 'american': 228, 'breakfast': 229, 'lunch': 230, 'dinner': 231, 'pavilion': 232, 'pantry': 233, 'stocks': 234, 'snacks': 235, 'drinks': 236, 'sundries': 237, \"city's\": 238, 'vibrant': 239, 'core': 240, 'provides': 241, 'gateway': 242, 'sights': 243, 'sounds': 244, 'front': 245, 'doors': 246, 'gourmet': 247, 'world': 248, 'class': 249, 'exciting': 250, 'chihuly': 251, 'glass': 252, 'only': 253, 'seven': 254, 'north': 255, 'america': 256, 'earn': 257, 'esteemed': 258, 'designation': 259, 'confidently': 260, 'knowing': 261, 'they': 262, 're': 263, 'receiving': 264, 'highest': 265, 'benchmark': 266, 'product': 267, 'offerings': 268, 'available': 269, 'recently': 270, 'completed': 271, 'multimillion': 272, 'dollar': 273, 'transformation': 274, 'expanded': 275, 'club': 276, 'meeting': 277, 'spaces': 278, 'gather': 279, 'artists': 280, 'enjoying': 281, 'favorite': 282, 'beverage': 283, 'features': 284, 'several': 285, 'loulay': 286, 'james': 287, 'beard': 288, 'chef': 289, 'thierry': 290, 'rautureau': 291, 'crowne': 292, 'plaza': 293, 'offers': 294, 'exceptional': 295, 'blend': 296, 'comfort': 297, 'll': 298, 'notice': 299, 'cool': 300, 'unconventional': 301, 'touches': 302, 'set': 303, 'apart': 304, 'soon': 305, 'inside': 306, 'stunning': 307, 'lights': 308, 'relaxing': 309, 'advantage': 310, 'wireless': 311, 'internet': 312, 'temple': 313, 'spa': 314, 'tight': 315, 'amenity': 316, 'kits': 317, 'lavender': 318, 'spray': 319, 'lotions': 320, 'rejuvenate': 321, 'invigorating': 322, 'workout': 323, 'get': 324, 'suggestions': 325, 'concierge': 326, 'savor': 327, 'sumptuous': 328, 'regatta': 329, 'grille': 330, 'happy': 331, 'daily': 332, '4pm': 333, '7pm': 334, 'monthly': 335, 'drink': 336, 'specials': 337, 'has': 338, 'better': 339, 'question': 340, 'might': 341, 'addition': 342, 'being': 343, 'here': 344, 'small': 345, 'sampling': 346, 'rest': 347, 'whose': 348, 'sky': 349, 'view': 350, 'observatory': 351, '73rd': 352, 'tallest': 353, 'public': 354, 'viewing': 355, 'mississippi': 356, 'historic': 357, 'theatre': 358, 'musical': 359, 'productions': 360, 'library': 361, 'architectural': 362, 'half': 363, 'must': 364, 'see': 365, 'which': 366, 'houses': 367, 'pioneer': 368, 'fantastic': 369, 'flagship': 370, 'rack': 371, 'macy': 372, 'sportswear': 373, 'louis': 374, 'vuitton': 375, 'arcteryx': 376, 'oodles': 377, 'independent': 378, 'boutiques': 379, 'great': 380, 'wheel': 381, 'about': 382, 'bell': 383, 'street': 384, 'cruise': 385, 'terminal': 386, '66': 387, 'sports': 388, 'stadiums': 389, 'safeco': 390, 'seahawks': 391, 'mariners': 392, 'sounders': 393, 'situated': 394, 'amid': 395, 'incredible': 396, 'westin': 397, 'prime': 398, 'recharge': 399, 'accommodations': 400, 'comforts': 401, 'signature': 402, 'heavenly®': 403, 'gorgeous': 404, 'skyline': 405, 'puget': 406, 'sound': 407, 'cascade': 408, 'range': 409, '1900': 410, 'offering': 411, 'carefully': 412, 'curated': 413, 'wine': 414, 'crafted': 415, 'spectacular': 416, 'celebrated': 417, 'host': 418, 'unforgettable': 419, 'meetings': 420, 'social': 421, 'engagements': 422, '70': 423, 'feet': 424, 'enhanced': 425, 'planning': 426, 'custom': 427, 'catering': 428, 'mind': 429, 'body': 430, 'sleek': 431, 'westinworkout®': 432, 'studio': 433, 'designed': 434, 'reflect': 435, 'substance': 436, 'welcoming': 437, 'summons': 438, 'cozy': 439, 'elegant': 440, 'luxurious': 441, 'residence': 442, 'friendly': 443, 'hosts': 444, 'winning\\xa0asian': 445, 'restaurant\\xa0right': 446, 'downstairs': 447, 'fall': 448, 'love': 449, 'simple': 450, 'luxury': 451, 'boutique': 452, 'warm': 453, 'inviting': 454, 'wood': 455, 'finishes': 456, 'comfy': 457, 'seating': 458, 'areas': 459, 'fireplace': 460, 'classically': 461, 'appointed': 462, 'dash': 463, 'urban': 464, 'flair': 465, 'good': 466, 'company': 467, 'block': 468, 'walking': 469, 'distance': 470, 'cafes': 471, 'there': 472, 'many': 473, 'reasons': 474, 'annually': 475, 'ranked': 476, 'among': 477, 'top': 478, 'five': 479, 'why': 480, 'yours': 481, 'shops': 482, 'sightseeing': 483, 'tour': 484, 'rent': 485, 'car': 486, 'if': 487, 'you\\x92re': 488, 'town': 489, 'walk': 490, 'via': 491, 'underground': 492, 'concourse': 493, 'hungry': 494, 'visit': 495, 'redtrees': 496, 'wide': 497, 'satisfy': 498, 'any': 499, 'foodie': 500, 'destination': 501, 'steps': 502, 'everywhere': 503, 'want': 504, 'motif': 505, 'libation': 506, 'rooftop': 507, 'across': 508, 'touchstones': 509, 'area\\x92s': 510, 'sweeping': 511, 'landscape': 512, 'rich': 513, 'arts': 514, 'music': 515, 'infuse': 516, 'surroundings': 517, 'residences': 518, 'hardwoods': 519, 'colors': 520, 'inspired': 521, 'region\\x92s': 522, 'culinary': 523, 'bounty': 524, 'reflected': 525, 'menus': 526, 'frolik': 527, 'cocktails': 528, 'adjoining': 529, 'patio': 530, 'join': 531, 'between': 532, 'monorail': 533, 'rail': 534, 'airport': 535, 'stroll': 536, 'away': 537, 'known': 538, 'setting': 539, 'trends': 540, 'leading': 541, '\\xa0located': 542, 'upbeat': 543, 'belltown': 544, 'district': 545, 'blocks': 546, 'blends': 547, 'classic': 548, 'that\\x92s': 549, 'expected': 550, 'name': 551, 'styling': 552, 'boasting\\xa0unique': 553, 'accommodations\\xa0inspired': 554, 'staying': 555, 'truly': 556, 'finding': 557, 'pleasant': 558, 'surprises': 559, 'along': 560, 'refreshing': 561, 'seaborne': 562, 'mists': 563, 'breeze': 564, 'covered': 565, 'hills': 566, 'lining': 567, 'horizon': 568, 'right': 569, 'doorstep': 570, '\\x96': 571, 'anything': 572, 'possible': 573, 'surrounded': 574, 'snow': 575, 'capped': 576, 'peaks': 577, 'deep': 578, 'blue': 579, 'swaths': 580, 'forests': 581, 'wild': 582, 'it': 583, 'trendy': 584, 'city\\x92s': 585, 'side': 586, 'another': 587, 'elliott': 588, 'bay': 589, 'gleaming': 590, 'wake': 591, 'fresh': 592, 'cup': 593, 'coffee': 594, 'delivered': 595, 'straight': 596, 'room': 597, 'then': 598, 'head': 599, 'neighbourhoods': 600, 'craft': 601, 'breweries': 602, 'spend': 603, 'day': 604, 'hiking': 605, 'up': 606, 'mount': 607, 'rainer': 608, 'nightfall': 609, 'meet': 610, 'goldfinch': 611, 'tavern': 612, 'ethan': 613, 'stowell': 614, 'let': 615, 'chefs': 616, 'show': 617, 'flavours': 618, 'favourite': 619}\n"
     ]
    }
   ],
   "source": [
    "# A dictionary of words and their uniquely assigned integers.\n",
    "print(t.word_index)"
   ]
  },
  {
   "cell_type": "code",
   "execution_count": 17,
   "metadata": {},
   "outputs": [
    {
     "name": "stdout",
     "output_type": "stream",
     "text": [
      "Found 619 unique tokens.\n"
     ]
    }
   ],
   "source": [
    "print('Found %s unique tokens.' % len(t.word_index))"
   ]
  },
  {
   "cell_type": "code",
   "execution_count": 18,
   "metadata": {},
   "outputs": [],
   "source": [
    "# Tokenization\n",
    "t = Tokenizer(num_words=None, filters='!\"#$%&()*+,-./:;<=>?@[\\\\]^_`{|}~\\t\\n', lower=True, split=' ', char_level=False, oov_token=None, document_count=0)"
   ]
  },
  {
   "cell_type": "code",
   "execution_count": 19,
   "metadata": {},
   "outputs": [],
   "source": [
    "def get_sequence_of_tokens(corpus):\n",
    "    t.fit_on_texts(corpus)\n",
    "    total_words = len(t.word_index) + 1\n",
    "    \n",
    "    input_sequences = []\n",
    "    for line in corpus:\n",
    "        token_list = t.texts_to_sequences([line])[0]\n",
    "        for i in range(1, len(token_list)):\n",
    "            n_gram_sequence = token_list[:i+1]\n",
    "            input_sequences.append(n_gram_sequence)\n",
    "        \n",
    "    return input_sequences, total_words\n",
    "\n",
    "input_sequences, total_words = get_sequence_of_tokens(corpus)"
   ]
  },
  {
   "cell_type": "code",
   "execution_count": 49,
   "metadata": {},
   "outputs": [
    {
     "name": "stdout",
     "output_type": "stream",
     "text": [
      "190\n"
     ]
    }
   ],
   "source": [
    "import numpy as np\n",
    "from tensorflow.keras.preprocessing.sequence import pad_sequences\n",
    "import tensorflow.keras.utils as ku \n",
    "\n",
    "# pad sequences \n",
    "def generate_padded_sequences(input_sequences):\n",
    "    max_sequence_len = max([len(x) for x in input_sequences])\n",
    "    print(max_sequence_len)\n",
    "    input_sequences = np.array(pad_sequences(input_sequences, maxlen = max_sequence_len, padding = 'pre'))\n",
    "    predictors, label = input_sequences[:,:-1],input_sequences[:,-1]\n",
    "    label = ku.to_categorical(label, num_classes = total_words)\n",
    "    \n",
    "    return predictors, label, max_sequence_len\n",
    "\n",
    "predictors, label, max_sequence_len = generate_padded_sequences(input_sequences)\n"
   ]
  },
  {
   "cell_type": "code",
   "execution_count": 47,
   "metadata": {},
   "outputs": [
    {
     "name": "stdout",
     "output_type": "stream",
     "text": [
      "total_words: 620\n",
      "max_sequence_len: 190\n"
     ]
    }
   ],
   "source": [
    "print(\"total_words:\",total_words)\n",
    "print(\"max_sequence_len:\",max_sequence_len)"
   ]
  },
  {
   "cell_type": "code",
   "execution_count": 26,
   "metadata": {},
   "outputs": [
    {
     "name": "stderr",
     "output_type": "stream",
     "text": [
      "WARNING:absl:Found untraced functions such as lstm_cell_1_layer_call_and_return_conditional_losses, lstm_cell_1_layer_call_fn, lstm_cell_1_layer_call_fn, lstm_cell_1_layer_call_and_return_conditional_losses, lstm_cell_1_layer_call_and_return_conditional_losses while saving (showing 5 of 5). These functions will not be directly callable after loading.\n"
     ]
    },
    {
     "name": "stdout",
     "output_type": "stream",
     "text": [
      "INFO:tensorflow:Assets written to: Text_Summa\\assets\n"
     ]
    },
    {
     "name": "stderr",
     "output_type": "stream",
     "text": [
      "INFO:tensorflow:Assets written to: Text_Summa\\assets\n"
     ]
    },
    {
     "name": "stdout",
     "output_type": "stream",
     "text": [
      "Model: \"sequential_1\"\n",
      "_________________________________________________________________\n",
      "Layer (type)                 Output Shape              Param #   \n",
      "=================================================================\n",
      "embedding_1 (Embedding)      (None, 189, 10)           6200      \n",
      "_________________________________________________________________\n",
      "lstm_1 (LSTM)                (None, 100)               44400     \n",
      "_________________________________________________________________\n",
      "dropout_1 (Dropout)          (None, 100)               0         \n",
      "_________________________________________________________________\n",
      "dense_1 (Dense)              (None, 620)               62620     \n",
      "=================================================================\n",
      "Total params: 113,220\n",
      "Trainable params: 113,220\n",
      "Non-trainable params: 0\n",
      "_________________________________________________________________\n"
     ]
    }
   ],
   "source": [
    "from tensorflow.keras.models import Sequential\n",
    "from tensorflow.keras.layers import Embedding, LSTM, Dense, Dropout\n",
    "\n",
    "def create_model(max_sequence_len, total_words):\n",
    "    model = Sequential()\n",
    "    # Add Input Embedding Layer\n",
    "    model.add(Embedding(total_words, 10, input_length=max_sequence_len - 1))\n",
    "    \n",
    "    # Add Hidden Layer 1 - LSTM Layer\n",
    "    model.add(LSTM(100))\n",
    "    model.add(Dropout(0.1))\n",
    "    \n",
    "    # Add Output Layer\n",
    "    model.add(Dense(total_words, activation='softmax'))\n",
    "\n",
    "    model.compile(loss='categorical_crossentropy', optimizer='adam')\n",
    "    \n",
    "    #model.save(\"Text_Summa\")\n",
    "    \n",
    "    return model\n",
    "\n",
    "model = create_model(max_sequence_len, total_words)\n",
    "model.summary()"
   ]
  },
  {
   "cell_type": "code",
   "execution_count": 25,
   "metadata": {},
   "outputs": [
    {
     "name": "stdout",
     "output_type": "stream",
     "text": [
      "Epoch 1/100\n",
      "Epoch 2/100\n",
      "Epoch 3/100\n",
      "Epoch 4/100\n",
      "Epoch 5/100\n",
      "Epoch 6/100\n",
      "Epoch 7/100\n",
      "Epoch 8/100\n",
      "Epoch 9/100\n",
      "Epoch 10/100\n",
      "Epoch 11/100\n",
      "Epoch 12/100\n",
      "Epoch 13/100\n",
      "Epoch 14/100\n",
      "Epoch 15/100\n",
      "Epoch 16/100\n",
      "Epoch 17/100\n",
      "Epoch 18/100\n",
      "Epoch 19/100\n",
      "Epoch 20/100\n",
      "Epoch 21/100\n",
      "Epoch 22/100\n",
      "Epoch 23/100\n",
      "Epoch 24/100\n",
      "Epoch 25/100\n",
      "Epoch 26/100\n",
      "Epoch 27/100\n",
      "Epoch 28/100\n",
      "Epoch 29/100\n",
      "Epoch 30/100\n",
      "Epoch 31/100\n",
      "Epoch 32/100\n",
      "Epoch 33/100\n",
      "Epoch 34/100\n",
      "Epoch 35/100\n",
      "Epoch 36/100\n",
      "Epoch 37/100\n",
      "Epoch 38/100\n",
      "Epoch 39/100\n",
      "Epoch 40/100\n",
      "Epoch 41/100\n",
      "Epoch 42/100\n",
      "Epoch 43/100\n",
      "Epoch 44/100\n",
      "Epoch 45/100\n",
      "Epoch 46/100\n",
      "Epoch 47/100\n",
      "Epoch 48/100\n",
      "Epoch 49/100\n",
      "Epoch 50/100\n",
      "Epoch 51/100\n",
      "Epoch 52/100\n",
      "Epoch 53/100\n",
      "Epoch 54/100\n",
      "Epoch 55/100\n",
      "Epoch 56/100\n",
      "Epoch 57/100\n",
      "Epoch 58/100\n",
      "Epoch 59/100\n",
      "Epoch 60/100\n",
      "Epoch 61/100\n",
      "Epoch 62/100\n",
      "Epoch 63/100\n",
      "Epoch 64/100\n",
      "Epoch 65/100\n",
      "Epoch 66/100\n",
      "Epoch 67/100\n",
      "Epoch 68/100\n",
      "Epoch 69/100\n",
      "Epoch 70/100\n",
      "Epoch 71/100\n",
      "Epoch 72/100\n",
      "Epoch 73/100\n",
      "Epoch 74/100\n",
      "Epoch 75/100\n",
      "Epoch 76/100\n",
      "Epoch 77/100\n",
      "Epoch 78/100\n",
      "Epoch 79/100\n",
      "Epoch 80/100\n",
      "Epoch 81/100\n",
      "Epoch 82/100\n",
      "Epoch 83/100\n",
      "Epoch 84/100\n",
      "Epoch 85/100\n",
      "Epoch 86/100\n",
      "Epoch 87/100\n",
      "Epoch 88/100\n",
      "Epoch 89/100\n",
      "Epoch 90/100\n",
      "Epoch 91/100\n",
      "Epoch 92/100\n",
      "Epoch 93/100\n",
      "Epoch 94/100\n",
      "Epoch 95/100\n",
      "Epoch 96/100\n",
      "Epoch 97/100\n",
      "Epoch 98/100\n",
      "Epoch 99/100\n",
      "Epoch 100/100\n"
     ]
    },
    {
     "data": {
      "text/plain": [
       "<tensorflow.python.keras.callbacks.History at 0x19d0b7c4be0>"
      ]
     },
     "execution_count": 25,
     "metadata": {},
     "output_type": "execute_result"
    }
   ],
   "source": [
    "model.fit(predictors, label, epochs=100, verbose=5)"
   ]
  },
  {
   "cell_type": "code",
   "execution_count": 28,
   "metadata": {},
   "outputs": [],
   "source": [
    "def generate_text(seed_text, next_words, model, max_seq_len):\n",
    "    for _ in range(next_words):\n",
    "        token_list = t.texts_to_sequences([seed_text])[0]\n",
    "        token_list = pad_sequences([token_list], maxlen=max_seq_len-1, padding='pre')\n",
    "        \n",
    "        predicted = model.predict_classes(token_list, verbose=0)\n",
    "        \n",
    "        output_word = ''\n",
    "        \n",
    "        for word,index in t.word_index.items():\n",
    "            if index == predicted:\n",
    "                output_word = word\n",
    "                break\n",
    "                \n",
    "        seed_text = seed_text + \" \" + output_word\n",
    "        \n",
    "    return seed_text.title()"
   ]
  },
  {
   "cell_type": "code",
   "execution_count": 30,
   "metadata": {},
   "outputs": [
    {
     "name": "stdout",
     "output_type": "stream",
     "text": [
      "Hilton Seattle Downtown Rest Warwick Provides Rest Rest Warwick Will Warwick Swaths Finishes Rooftop Rooftop Attractions Rooftop Attractions Rooftop Attractions Rooftop Attractions Rooftop Attractions Rack Right Right Neighbourhoods Available Accommodations Inspired Want Throughout Want Attractions Rack Rack Rack Artists Rack Here Mount Mount Mount Washington Washington Ranked Oodles Throughout Elegant Rack Rack Mount Mount Washington Pier Washington Ranked City Want Paramount Transformation Paramount Possible Paramount Private Dining Want Paramount Stroll Rack Rack Right Available Temple Social Perfectly Home Beverage 5Th Regatta Seattle Seattle Seattle Private Substance Substance Downstairs Transformation Transformation Rack Artists Rack Rack Bell Mount Mount Washington Washington Ranked City Oodles Throughout Elegant\n",
      "\n",
      "Best Western Seattle Airport Hotel Bay Snacks Artists Via Artists Join Expert Expert Expert Workout Expert Workout Or Workout Or Or Or Urban Central Culture Or Or Via Needle Needle Needle Needle Needle Or Or Or Or Or Finishes Finishes Transformation Transformation Transformation Rack Artists Rack Rack Here Here Here Mount Mount Washington Horizon Ranked Studio Away Refreshing Refreshing Refreshing Refreshing Refreshing Refreshing Refreshing Refreshing Steps Steps Steps Stadiums Rest Pier Steps Steps Stadiums Rest Pier Trends Shopping Trends Shopping Stroll Rooftop Distance New Oodles Throughout Field Public Private Neighbourhoods Field Stroll Mississippi Flooded Right Spray Cascade Options Options Rack Rack Rack Artists Rack Mount Mount Washington Washington Ranked Oodles Throughout Elegant Throughout Rack Rack Mount Mount Washington Pier Washington Throughout Want Paramount Throughout Elegant Rack Rack Mount Mount Washington Pier Washington Paramount Ranked Substance Available Rooftop Attractions Rooftop Attractions Rooftop Attractions Rooftop Attractions Transformation Rack Rack Artists Rack Right Everything Available Here Seattle Seattle Seattle Ranked Attractions Attractions Rack Rack Rack Rack Artists Here Mount Mount Washington Rack Mount Washington Pier Washington Ranked City Oodles Throughout Sampling Oodles Throughout Sampling Pier Want Attractions Transformation Rack Rack Rack Artists Rack Here Mount Mount Washington Rack Mount Washington Pier Substance Substance Viewing City Neighbourhoods Or Or\n",
      "\n",
      "Located In The Heart Of Downtown Seattle Rest Rest Warwick Warwick Swaths Provides An An Finishes Rooftop Rooftop Central Convention Visit Over Washington Relax Relax Relax Engagements Engagements Pioneer Can Sampling Will Pioneer Pier Sampling Want Paramount Reflect Seattle Private Want Paramount Stroll They Engagements Lake Locals Locals Locals Locals Perfectly Perfectly Here Here Perfectly Here Here Pioneer Here Perfectly Here Here Perfectly Here Here Perfectly Here Here Perfectly Here Here Perfectly Here Here Perfectly Here Here Perfectly Here Here Perfectly Here Here Perfectly Here Here Perfectly Here Here Perfectly Here Here Perfectly Here Here Perfectly Here Here Perfectly Here Here Perfectly Here Here Perfectly Here Here Perfectly Here Here Perfectly Here Here Perfectly Here Here Perfectly Here Here Perfectly Here Here Perfectly Here Here Perfectly Here Here Perfectly Here Here Perfectly Here Here Perfectly Here Here Perfectly Here Here Perfectly Here Here Perfectly Here Here Perfectly Here Here Perfectly Here Here Perfectly Here Here Perfectly Here Here Perfectly Here Here Perfectly Here Here Perfectly Here Here Perfectly Here Here Perfectly Here Here Perfectly Here Here Perfectly Here Here Perfectly Here Here Perfectly Here Here Perfectly Here Here Perfectly Here Here Perfectly Here Here Perfectly Here Here Perfectly Here Here Perfectly Here Here Perfectly Here Here Perfectly Here Here Perfectly Here Here Perfectly Here Here Perfectly Here Here Perfectly Here Here Perfectly Here Here Perfectly Here Here Perfectly Here Here Perfectly Here Here Perfectly Here Here Perfectly Here Here Perfectly Here Here Perfectly Here Here Perfectly Here Here Perfectly Here Here Perfectly Here Here Perfectly Here Here Perfectly Here Here Perfectly Here Here Perfectly Here Here Perfectly Here Here Perfectly Here Here Perfectly Here Here Perfectly Here Here Perfectly Here Here Perfectly Here Here Perfectly Here Here Perfectly Here Here Perfectly Here Here Perfectly Here Here Perfectly Here Here Perfectly Here Here Perfectly Here Here Perfectly Here\n"
     ]
    }
   ],
   "source": [
    "print(generate_text(\"hilton seattle downtown\", 100, model, max_sequence_len))\n",
    "print()\n",
    "print(generate_text(\"best western seattle airport hotel\", 200, model, max_sequence_len))\n",
    "print()\n",
    "print(generate_text('located in the heart of downtown seattle', 300, model, max_sequence_len))"
   ]
  },
  {
   "cell_type": "code",
   "execution_count": null,
   "metadata": {},
   "outputs": [],
   "source": []
  },
  {
   "cell_type": "code",
   "execution_count": 41,
   "metadata": {},
   "outputs": [],
   "source": [
    "from tensorflow import keras\n",
    "\n",
    "# It can be used to reconstruct the model identically.\n",
    "reconstructed_model = keras.models.load_model(r\"Text_Summa\")"
   ]
  },
  {
   "cell_type": "code",
   "execution_count": 43,
   "metadata": {},
   "outputs": [
    {
     "name": "stdout",
     "output_type": "stream",
     "text": [
      "Hilton Seattle Downtown Rest Warwick Provides Rest Rest Warwick Will Warwick Swaths Finishes Rooftop Rooftop Attractions Rooftop Attractions Rooftop Attractions Rooftop Attractions Rooftop Attractions Rack Right Right Neighbourhoods Available Accommodations Inspired Want Throughout Want Attractions Rack Rack Rack Artists Rack Here Mount Mount Mount Washington Washington Ranked Oodles Throughout Elegant Rack Rack Mount Mount Washington Pier Washington Ranked City Want Paramount Transformation Paramount Possible Paramount Private Dining Want Paramount Stroll Rack Rack Right Available Temple Social Perfectly Home Beverage 5Th Regatta Seattle Seattle Seattle Private Substance Substance Downstairs Transformation Transformation Rack Artists Rack Rack Bell Mount Mount Washington Washington Ranked City Oodles Throughout Elegant\n",
      "\n",
      "Best Western Seattle Airport Hotel Bay Snacks Artists Via Artists Join Expert Expert Expert Workout Expert Workout Or Workout Or Or Or Urban Central Culture Or Or Via Needle Needle Needle Needle Needle Or Or Or Or Or Finishes Finishes Transformation Transformation Transformation Rack Artists Rack Rack Here Here Here Mount Mount Washington Horizon Ranked Studio Away Refreshing Refreshing Refreshing Refreshing Refreshing Refreshing Refreshing Refreshing Steps Steps Steps Stadiums Rest Pier Steps Steps Stadiums Rest Pier Trends Shopping Trends Shopping Stroll Rooftop Distance New Oodles Throughout Field Public Private Neighbourhoods Field Stroll Mississippi Flooded Right Spray Cascade Options Options Rack Rack Rack Artists Rack Mount Mount Washington Washington Ranked Oodles Throughout Elegant Throughout Rack Rack Mount Mount Washington Pier Washington Throughout Want Paramount Throughout Elegant Rack Rack Mount Mount Washington Pier Washington Paramount Ranked Substance Available Rooftop Attractions Rooftop Attractions Rooftop Attractions Rooftop Attractions Transformation Rack Rack Artists Rack Right Everything Available Here Seattle Seattle Seattle Ranked Attractions Attractions Rack Rack Rack Rack Artists Here Mount Mount Washington Rack Mount Washington Pier Washington Ranked City Oodles Throughout Sampling Oodles Throughout Sampling Pier Want Attractions Transformation Rack Rack Rack Artists Rack Here Mount Mount Washington Rack Mount Washington Pier Substance Substance Viewing City Neighbourhoods Or Or\n",
      "\n",
      "Located In The Heart Of Downtown Seattle Rest Rest Warwick Warwick Swaths Provides An An Finishes Rooftop Rooftop Central Convention Visit Over Washington Relax Relax Relax Engagements Engagements Pioneer Can Sampling Will Pioneer Pier Sampling Want Paramount Reflect Seattle Private Want Paramount Stroll They Engagements Lake Locals Locals Locals Locals Perfectly Perfectly Here Here Perfectly Here Here Pioneer Here Perfectly Here Here Perfectly Here Here Perfectly Here Here Perfectly Here Here Perfectly Here Here Perfectly Here Here Perfectly Here Here Perfectly Here Here Perfectly Here Here Perfectly Here Here Perfectly Here Here Perfectly Here Here Perfectly Here Here Perfectly Here Here Perfectly Here Here Perfectly Here Here Perfectly Here Here Perfectly Here Here Perfectly Here Here Perfectly Here Here Perfectly Here Here Perfectly Here Here Perfectly Here Here Perfectly Here Here Perfectly Here Here Perfectly Here Here Perfectly Here Here Perfectly Here Here Perfectly Here Here Perfectly Here Here Perfectly Here Here Perfectly Here Here Perfectly Here Here Perfectly Here Here Perfectly Here Here Perfectly Here Here Perfectly Here Here Perfectly Here Here Perfectly Here Here Perfectly Here Here Perfectly Here Here Perfectly Here Here Perfectly Here Here Perfectly Here Here Perfectly Here Here Perfectly Here Here Perfectly Here Here Perfectly Here Here Perfectly Here Here Perfectly Here Here Perfectly Here Here Perfectly Here Here Perfectly Here Here Perfectly Here Here Perfectly Here Here Perfectly Here Here Perfectly Here Here Perfectly Here Here Perfectly Here Here Perfectly Here Here Perfectly Here Here Perfectly Here Here Perfectly Here Here Perfectly Here Here Perfectly Here Here Perfectly Here Here Perfectly Here Here Perfectly Here Here Perfectly Here Here Perfectly Here Here Perfectly Here Here Perfectly Here Here Perfectly Here Here Perfectly Here Here Perfectly Here Here Perfectly Here Here Perfectly Here Here Perfectly Here Here Perfectly Here Here Perfectly Here Here Perfectly Here Here Perfectly Here Here Perfectly Here\n"
     ]
    }
   ],
   "source": [
    "print(generate_text(\"hilton seattle downtown\", 100, reconstructed_model, max_sequence_len))\n",
    "print()\n",
    "print(generate_text(\"best western seattle airport hotel\", 200, reconstructed_model, max_sequence_len))\n",
    "print()\n",
    "print(generate_text('located in the heart of downtown seattle', 300, reconstructed_model, max_sequence_len))"
   ]
  },
  {
   "cell_type": "code",
   "execution_count": null,
   "metadata": {},
   "outputs": [],
   "source": []
  }
 ],
 "metadata": {
  "kernelspec": {
   "display_name": "Python 3",
   "language": "python",
   "name": "python3"
  },
  "language_info": {
   "codemirror_mode": {
    "name": "ipython",
    "version": 3
   },
   "file_extension": ".py",
   "mimetype": "text/x-python",
   "name": "python",
   "nbconvert_exporter": "python",
   "pygments_lexer": "ipython3",
   "version": "3.6.8"
  }
 },
 "nbformat": 4,
 "nbformat_minor": 2
}
