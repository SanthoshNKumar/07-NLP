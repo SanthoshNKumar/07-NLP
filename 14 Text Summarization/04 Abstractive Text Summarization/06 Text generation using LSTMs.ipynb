{
 "cells": [
  {
   "cell_type": "code",
   "execution_count": 160,
   "metadata": {},
   "outputs": [],
   "source": [
    "import numpy\n",
    "from tensorflow.keras.models import Sequential\n",
    "from tensorflow.keras.layers import Dense\n",
    "from tensorflow.keras.layers import Dropout\n",
    "from tensorflow.keras.layers import LSTM\n",
    "from keras.utils.np_utils import to_categorical\n",
    "import pandas as pd"
   ]
  },
  {
   "cell_type": "code",
   "execution_count": 161,
   "metadata": {},
   "outputs": [],
   "source": [
    "filename = \"macbeth.txt\"\n",
    "\n",
    "text = (open(filename).read()).lower()"
   ]
  },
  {
   "cell_type": "code",
   "execution_count": 162,
   "metadata": {},
   "outputs": [
    {
     "data": {
      "text/plain": [
       "\"1606\\nthe tragedy of macbeth\\n\\n\\nby william shakespeare\\n\\n\\n\\ndramatis personae\\n\\n  duncan, king of scotland\\n  macbeth, thane of glamis and cawdor, a general in the king's\\narmy\\n  lady macbeth, his wife\\n  macduff, thane of fife, a nobleman of scotland\\n  lady macduff, his wife\\n  malcolm, elder son of duncan\\n  donalbain, younger son of duncan\\n  banquo, thane of lochaber, a general in the king's army\\n  fleance, his son\\n  lennox, nobleman of scotland\\n  ross, nobleman of scotland\\n  menteith nobleman of scotland\\n  angus, nobleman of scotland\\n  caithness, nobleman of scotland\\n  siward, earl of northumberland, general of the english forces\\n  young siward, his son\\n  seyton, attendant to macbeth\\n  hecate, queen of the witches\\n  the three witches\\n  boy, son of macduff \\n  gentlewoman attending on lady macbeth\\n  an english doctor\\n  a scottish doctor\\n  a sergeant\\n  a porter\\n  an old man\\n  the ghost of banquo and other apparitions\\n  lords, gentlemen, officers, soldiers, murtherers, attendants,\\n     and messengers\""
      ]
     },
     "execution_count": 162,
     "metadata": {},
     "output_type": "execute_result"
    }
   ],
   "source": [
    "text"
   ]
  },
  {
   "cell_type": "code",
   "execution_count": 172,
   "metadata": {},
   "outputs": [],
   "source": [
    "text = text.replace(\"\\n\",'')"
   ]
  },
  {
   "cell_type": "code",
   "execution_count": 173,
   "metadata": {},
   "outputs": [
    {
     "data": {
      "text/plain": [
       "\"1606the tragedy of macbethby william shakespearedramatis personae  duncan, king of scotland  macbeth, thane of glamis and cawdor, a general in the king'sarmy  lady macbeth, his wife  macduff, thane of fife, a nobleman of scotland  lady macduff, his wife  malcolm, elder son of duncan  donalbain, younger son of duncan  banquo, thane of lochaber, a general in the king's army  fleance, his son  lennox, nobleman of scotland  ross, nobleman of scotland  menteith nobleman of scotland  angus, nobleman of scotland  caithness, nobleman of scotland  siward, earl of northumberland, general of the english forces  young siward, his son  seyton, attendant to macbeth  hecate, queen of the witches  the three witches  boy, son of macduff   gentlewoman attending on lady macbeth  an english doctor  a scottish doctor  a sergeant  a porter  an old man  the ghost of banquo and other apparitions  lords, gentlemen, officers, soldiers, murtherers, attendants,     and messengers\""
      ]
     },
     "execution_count": 173,
     "metadata": {},
     "output_type": "execute_result"
    }
   ],
   "source": [
    "text"
   ]
  },
  {
   "cell_type": "code",
   "execution_count": 174,
   "metadata": {},
   "outputs": [
    {
     "name": "stdout",
     "output_type": "stream",
     "text": [
      "total unique Charts: 29\n"
     ]
    }
   ],
   "source": [
    "# mapping characters with integers\n",
    "unique_chars = sorted(list(set(text)))\n",
    "\n",
    "print(\"total unique Charts:\",len(unique_chars))"
   ]
  },
  {
   "cell_type": "code",
   "execution_count": 166,
   "metadata": {},
   "outputs": [
    {
     "data": {
      "text/plain": [
       "[' ',\n",
       " \"'\",\n",
       " ',',\n",
       " '0',\n",
       " '1',\n",
       " '6',\n",
       " 'a',\n",
       " 'b',\n",
       " 'c',\n",
       " 'd',\n",
       " 'e',\n",
       " 'f',\n",
       " 'g',\n",
       " 'h',\n",
       " 'i',\n",
       " 'k',\n",
       " 'l',\n",
       " 'm',\n",
       " 'n',\n",
       " 'o',\n",
       " 'p',\n",
       " 'q',\n",
       " 'r',\n",
       " 's',\n",
       " 't',\n",
       " 'u',\n",
       " 'w',\n",
       " 'x',\n",
       " 'y']"
      ]
     },
     "execution_count": 166,
     "metadata": {},
     "output_type": "execute_result"
    }
   ],
   "source": [
    "unique_chars"
   ]
  },
  {
   "cell_type": "code",
   "execution_count": 167,
   "metadata": {},
   "outputs": [],
   "source": [
    "char_to_int = {}\n",
    "int_to_char = {}\n",
    "\n",
    "for i, c in enumerate (unique_chars):\n",
    "    char_to_int.update({c: i})\n",
    "    int_to_char.update({i: c})"
   ]
  },
  {
   "cell_type": "code",
   "execution_count": 168,
   "metadata": {},
   "outputs": [
    {
     "data": {
      "text/plain": [
       "{' ': 0,\n",
       " \"'\": 1,\n",
       " ',': 2,\n",
       " '0': 3,\n",
       " '1': 4,\n",
       " '6': 5,\n",
       " 'a': 6,\n",
       " 'b': 7,\n",
       " 'c': 8,\n",
       " 'd': 9,\n",
       " 'e': 10,\n",
       " 'f': 11,\n",
       " 'g': 12,\n",
       " 'h': 13,\n",
       " 'i': 14,\n",
       " 'k': 15,\n",
       " 'l': 16,\n",
       " 'm': 17,\n",
       " 'n': 18,\n",
       " 'o': 19,\n",
       " 'p': 20,\n",
       " 'q': 21,\n",
       " 'r': 22,\n",
       " 's': 23,\n",
       " 't': 24,\n",
       " 'u': 25,\n",
       " 'w': 26,\n",
       " 'x': 27,\n",
       " 'y': 28}"
      ]
     },
     "execution_count": 168,
     "metadata": {},
     "output_type": "execute_result"
    }
   ],
   "source": [
    "char_to_int"
   ]
  },
  {
   "cell_type": "code",
   "execution_count": 122,
   "metadata": {},
   "outputs": [
    {
     "data": {
      "text/plain": [
       "{0: ' ',\n",
       " 1: \"'\",\n",
       " 2: ',',\n",
       " 3: '0',\n",
       " 4: '1',\n",
       " 5: '6',\n",
       " 6: 'a',\n",
       " 7: 'b',\n",
       " 8: 'c',\n",
       " 9: 'd',\n",
       " 10: 'e',\n",
       " 11: 'f',\n",
       " 12: 'g',\n",
       " 13: 'h',\n",
       " 14: 'i',\n",
       " 15: 'k',\n",
       " 16: 'l',\n",
       " 17: 'm',\n",
       " 18: 'n',\n",
       " 19: 'o',\n",
       " 20: 'p',\n",
       " 21: 'q',\n",
       " 22: 'r',\n",
       " 23: 's',\n",
       " 24: 't',\n",
       " 25: 'u',\n",
       " 26: 'w',\n",
       " 27: 'x',\n",
       " 28: 'y'}"
      ]
     },
     "execution_count": 122,
     "metadata": {},
     "output_type": "execute_result"
    }
   ],
   "source": [
    "int_to_char"
   ]
  },
  {
   "cell_type": "code",
   "execution_count": null,
   "metadata": {},
   "outputs": [],
   "source": [
    "'''\n",
    "Prepare the Training Data as like below\n",
    "\n",
    "Input: 1606\\nthe tragedy of macbeth\\n\\n\\nby william shakespea\n",
    "label : r\n",
    "\n",
    "Input: 606\\nthe tragedy of macbeth\\n\\n\\nby william shakespear\n",
    "label : e\n",
    "\n",
    "Input: 06\\nthe tragedy of macbeth\\n\\n\\nby william shakespeare\\n\n",
    "label : \\n\n",
    "\n",
    "Input: 6\\nthe tragedy of macbeth\\n\\n\\nby william shakespeare\\n\\n\n",
    "Label :\\n\n",
    "\n",
    "Input: \\nthe tragedy of macbeth\\n\\n\\nby william shakespeare\\n\\n\\n\n",
    "label : \\n\n",
    "\n",
    "Input: the tragedy of macbeth\\n\\n\\nby william shakespeare\\n\\n\\n\\n\n",
    "label :d\n",
    "\n",
    "Input: he tragedy of macbeth\\n\\n\\nby william shakespeare\\n\\n\\n\\nd\n",
    "label : r\n",
    "\n",
    "Input : e tragedy of macbeth\\n\\n\\nby william shakespeare\\n\\n\\n\\ndr\n",
    "label : a\n"
   ]
  },
  {
   "cell_type": "code",
   "execution_count": 125,
   "metadata": {},
   "outputs": [],
   "source": [
    "# preparing input and output dataset\n",
    "X = []\n",
    "Y = []\n",
    "\n",
    "for i in range(0, len(text) - 50, 1):\n",
    "    sequence = text[i:i + 50]\n",
    "    label =text[i + 50]\n",
    "    X.append([char_to_int[char] for char in sequence])\n",
    "    Y.append(char_to_int[label])"
   ]
  },
  {
   "cell_type": "code",
   "execution_count": 126,
   "metadata": {},
   "outputs": [
    {
     "name": "stdout",
     "output_type": "stream",
     "text": [
      "Input: [4, 5, 3, 5, 24, 13, 10, 0, 24, 22, 6, 12, 10, 9, 28, 0, 19, 11, 0, 17, 6, 8, 7, 10, 24, 13, 7, 28, 0, 26, 14, 16, 16, 14, 6, 17, 0, 23, 13, 6, 15, 10, 23, 20, 10, 6, 22, 10, 9, 22]\n",
      "Label: 6\n",
      "\n",
      "\n",
      "Input: [5, 3, 5, 24, 13, 10, 0, 24, 22, 6, 12, 10, 9, 28, 0, 19, 11, 0, 17, 6, 8, 7, 10, 24, 13, 7, 28, 0, 26, 14, 16, 16, 14, 6, 17, 0, 23, 13, 6, 15, 10, 23, 20, 10, 6, 22, 10, 9, 22, 6]\n",
      "Label: 17\n",
      "\n",
      "\n",
      "Input: [3, 5, 24, 13, 10, 0, 24, 22, 6, 12, 10, 9, 28, 0, 19, 11, 0, 17, 6, 8, 7, 10, 24, 13, 7, 28, 0, 26, 14, 16, 16, 14, 6, 17, 0, 23, 13, 6, 15, 10, 23, 20, 10, 6, 22, 10, 9, 22, 6, 17]\n",
      "Label: 6\n",
      "\n",
      "\n",
      "Input: [5, 24, 13, 10, 0, 24, 22, 6, 12, 10, 9, 28, 0, 19, 11, 0, 17, 6, 8, 7, 10, 24, 13, 7, 28, 0, 26, 14, 16, 16, 14, 6, 17, 0, 23, 13, 6, 15, 10, 23, 20, 10, 6, 22, 10, 9, 22, 6, 17, 6]\n",
      "Label: 24\n",
      "\n",
      "\n",
      "Input: [24, 13, 10, 0, 24, 22, 6, 12, 10, 9, 28, 0, 19, 11, 0, 17, 6, 8, 7, 10, 24, 13, 7, 28, 0, 26, 14, 16, 16, 14, 6, 17, 0, 23, 13, 6, 15, 10, 23, 20, 10, 6, 22, 10, 9, 22, 6, 17, 6, 24]\n",
      "Label: 14\n",
      "\n",
      "\n"
     ]
    }
   ],
   "source": [
    "# Diaply the Input data for our understanding\n",
    "\n",
    "for i in range(0,5):\n",
    "    print(\"Input:\",[[y for y in x] for x in X][i])\n",
    "    print(\"Label:\",Y[i])\n",
    "    \n",
    "    print(\"\\n\")"
   ]
  },
  {
   "cell_type": "code",
   "execution_count": 127,
   "metadata": {},
   "outputs": [
    {
     "name": "stdout",
     "output_type": "stream",
     "text": [
      "Input: ['1', '6', '0', '6', 't', 'h', 'e', ' ', 't', 'r', 'a', 'g', 'e', 'd', 'y', ' ', 'o', 'f', ' ', 'm', 'a', 'c', 'b', 'e', 't', 'h', 'b', 'y', ' ', 'w', 'i', 'l', 'l', 'i', 'a', 'm', ' ', 's', 'h', 'a', 'k', 'e', 's', 'p', 'e', 'a', 'r', 'e', 'd', 'r']\n",
      "Label: a\n",
      "\n",
      "\n",
      "Input: ['6', '0', '6', 't', 'h', 'e', ' ', 't', 'r', 'a', 'g', 'e', 'd', 'y', ' ', 'o', 'f', ' ', 'm', 'a', 'c', 'b', 'e', 't', 'h', 'b', 'y', ' ', 'w', 'i', 'l', 'l', 'i', 'a', 'm', ' ', 's', 'h', 'a', 'k', 'e', 's', 'p', 'e', 'a', 'r', 'e', 'd', 'r', 'a']\n",
      "Label: m\n",
      "\n",
      "\n",
      "Input: ['0', '6', 't', 'h', 'e', ' ', 't', 'r', 'a', 'g', 'e', 'd', 'y', ' ', 'o', 'f', ' ', 'm', 'a', 'c', 'b', 'e', 't', 'h', 'b', 'y', ' ', 'w', 'i', 'l', 'l', 'i', 'a', 'm', ' ', 's', 'h', 'a', 'k', 'e', 's', 'p', 'e', 'a', 'r', 'e', 'd', 'r', 'a', 'm']\n",
      "Label: a\n",
      "\n",
      "\n",
      "Input: ['6', 't', 'h', 'e', ' ', 't', 'r', 'a', 'g', 'e', 'd', 'y', ' ', 'o', 'f', ' ', 'm', 'a', 'c', 'b', 'e', 't', 'h', 'b', 'y', ' ', 'w', 'i', 'l', 'l', 'i', 'a', 'm', ' ', 's', 'h', 'a', 'k', 'e', 's', 'p', 'e', 'a', 'r', 'e', 'd', 'r', 'a', 'm', 'a']\n",
      "Label: t\n",
      "\n",
      "\n",
      "Input: ['t', 'h', 'e', ' ', 't', 'r', 'a', 'g', 'e', 'd', 'y', ' ', 'o', 'f', ' ', 'm', 'a', 'c', 'b', 'e', 't', 'h', 'b', 'y', ' ', 'w', 'i', 'l', 'l', 'i', 'a', 'm', ' ', 's', 'h', 'a', 'k', 'e', 's', 'p', 'e', 'a', 'r', 'e', 'd', 'r', 'a', 'm', 'a', 't']\n",
      "Label: i\n",
      "\n",
      "\n"
     ]
    }
   ],
   "source": [
    "\n",
    "# Diaply the Input data for our understanding\n",
    "\n",
    "for i in range(0,5):\n",
    "    print(\"Input:\",[[int_to_char[y] for y in x] for x in X][i])\n",
    "    print(\"Label:\",int_to_char[Y[i]])\n",
    "    \n",
    "    print(\"\\n\")"
   ]
  },
  {
   "cell_type": "code",
   "execution_count": 128,
   "metadata": {},
   "outputs": [],
   "source": [
    "# reshaping, normalizing and one hot encoding\n",
    "X_modified = numpy.reshape(X, (len(X), 50, 1))\n",
    "X_modified = X_modified / float(len(unique_chars))\n",
    "Y_modified = to_categorical(Y)"
   ]
  },
  {
   "cell_type": "code",
   "execution_count": 129,
   "metadata": {},
   "outputs": [
    {
     "data": {
      "text/plain": [
       "(916, 50, 1)"
      ]
     },
     "execution_count": 129,
     "metadata": {},
     "output_type": "execute_result"
    }
   ],
   "source": [
    "X_modified.shape"
   ]
  },
  {
   "cell_type": "code",
   "execution_count": 130,
   "metadata": {},
   "outputs": [
    {
     "data": {
      "text/plain": [
       "array([[0.13793103],\n",
       "       [0.17241379],\n",
       "       [0.10344828],\n",
       "       [0.17241379],\n",
       "       [0.82758621],\n",
       "       [0.44827586],\n",
       "       [0.34482759],\n",
       "       [0.        ],\n",
       "       [0.82758621],\n",
       "       [0.75862069],\n",
       "       [0.20689655],\n",
       "       [0.4137931 ],\n",
       "       [0.34482759],\n",
       "       [0.31034483],\n",
       "       [0.96551724],\n",
       "       [0.        ],\n",
       "       [0.65517241],\n",
       "       [0.37931034],\n",
       "       [0.        ],\n",
       "       [0.5862069 ],\n",
       "       [0.20689655],\n",
       "       [0.27586207],\n",
       "       [0.24137931],\n",
       "       [0.34482759],\n",
       "       [0.82758621],\n",
       "       [0.44827586],\n",
       "       [0.24137931],\n",
       "       [0.96551724],\n",
       "       [0.        ],\n",
       "       [0.89655172],\n",
       "       [0.48275862],\n",
       "       [0.55172414],\n",
       "       [0.55172414],\n",
       "       [0.48275862],\n",
       "       [0.20689655],\n",
       "       [0.5862069 ],\n",
       "       [0.        ],\n",
       "       [0.79310345],\n",
       "       [0.44827586],\n",
       "       [0.20689655],\n",
       "       [0.51724138],\n",
       "       [0.34482759],\n",
       "       [0.79310345],\n",
       "       [0.68965517],\n",
       "       [0.34482759],\n",
       "       [0.20689655],\n",
       "       [0.75862069],\n",
       "       [0.34482759],\n",
       "       [0.31034483],\n",
       "       [0.75862069]])"
      ]
     },
     "execution_count": 130,
     "metadata": {},
     "output_type": "execute_result"
    }
   ],
   "source": [
    "X_modified[0]"
   ]
  },
  {
   "cell_type": "code",
   "execution_count": 131,
   "metadata": {},
   "outputs": [],
   "source": [
    "# defining the LSTM model\n",
    "model = Sequential()\n",
    "model.add(LSTM(300, input_shape=(X_modified.shape[1], X_modified.shape[2]), return_sequences=True))\n",
    "model.add(Dropout(0.2))\n",
    "model.add(LSTM(300))\n",
    "model.add(Dropout(0.2))\n",
    "model.add(Dense(Y_modified.shape[1], activation='softmax'))\n",
    "\n",
    "model.compile(loss='categorical_crossentropy', optimizer='adam')"
   ]
  },
  {
   "cell_type": "code",
   "execution_count": 132,
   "metadata": {},
   "outputs": [
    {
     "name": "stdout",
     "output_type": "stream",
     "text": [
      "31/31 [==============================] - 29s 797ms/step - loss: 3.0381\n"
     ]
    },
    {
     "data": {
      "text/plain": [
       "<tensorflow.python.keras.callbacks.History at 0x16f932ef860>"
      ]
     },
     "execution_count": 132,
     "metadata": {},
     "output_type": "execute_result"
    }
   ],
   "source": [
    "# fitting the model\n",
    "model.fit(X_modified, Y_modified, epochs=1, batch_size=30)"
   ]
  },
  {
   "cell_type": "code",
   "execution_count": 133,
   "metadata": {},
   "outputs": [],
   "source": [
    "# picking a random seed\n",
    "start_index = numpy.random.randint(0, len(X)-1)\n",
    "new_string = X[start_index]"
   ]
  },
  {
   "cell_type": "code",
   "execution_count": 153,
   "metadata": {},
   "outputs": [],
   "source": [
    "input = numpy.reshape(X_modified[0], (1, 50, 1))"
   ]
  },
  {
   "cell_type": "code",
   "execution_count": 156,
   "metadata": {},
   "outputs": [
    {
     "data": {
      "text/plain": [
       "0"
      ]
     },
     "execution_count": 156,
     "metadata": {},
     "output_type": "execute_result"
    }
   ],
   "source": [
    "pred_index = numpy.argmax(model.predict(input, verbose=0))\n",
    "\n",
    "pred_index"
   ]
  },
  {
   "cell_type": "code",
   "execution_count": 157,
   "metadata": {},
   "outputs": [
    {
     "data": {
      "text/plain": [
       "' '"
      ]
     },
     "execution_count": 157,
     "metadata": {},
     "output_type": "execute_result"
    }
   ],
   "source": [
    "int_to_char[0]"
   ]
  },
  {
   "cell_type": "code",
   "execution_count": 170,
   "metadata": {},
   "outputs": [],
   "source": [
    "# generating characters\n",
    "for i in range(50):\n",
    "    x = numpy.reshape(X[0], (1, len(X[0]), 1))\n",
    "    x = x / float(len(unique_chars))\n",
    "\n",
    "    #predicting\n",
    "    pred_index = numpy.argmax(model.predict(x, verbose=0))\n",
    "    char_out = int_to_char[pred_index]\n",
    "    seq_in = [int_to_char[value] for value in X[0]]\n",
    "    #print(char_out)\n",
    "\n",
    "    new_string.append(pred_index)\n",
    "    new_string = new_string[1:len(new_string)]"
   ]
  },
  {
   "cell_type": "code",
   "execution_count": 171,
   "metadata": {},
   "outputs": [
    {
     "data": {
      "text/plain": [
       "[]"
      ]
     },
     "execution_count": 171,
     "metadata": {},
     "output_type": "execute_result"
    }
   ],
   "source": [
    "new_string  # It is prediction 0 as integer and respectd character ' ' (space) becasue of less Iteration period"
   ]
  }
 ],
 "metadata": {
  "kernelspec": {
   "display_name": "Python 3",
   "language": "python",
   "name": "python3"
  },
  "language_info": {
   "codemirror_mode": {
    "name": "ipython",
    "version": 3
   },
   "file_extension": ".py",
   "mimetype": "text/x-python",
   "name": "python",
   "nbconvert_exporter": "python",
   "pygments_lexer": "ipython3",
   "version": "3.6.8"
  }
 },
 "nbformat": 4,
 "nbformat_minor": 2
}
