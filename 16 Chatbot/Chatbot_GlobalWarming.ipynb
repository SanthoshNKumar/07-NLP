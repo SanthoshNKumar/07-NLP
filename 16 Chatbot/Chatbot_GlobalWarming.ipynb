{
 "cells": [
  {
   "cell_type": "code",
   "execution_count": 4,
   "metadata": {},
   "outputs": [],
   "source": [
    "import io\n",
    "import nltk\n",
    "from nltk.tokenize import sent_tokenize\n",
    "from nltk.tokenize import word_tokenize\n",
    "import string\n",
    "import random"
   ]
  },
  {
   "cell_type": "code",
   "execution_count": 5,
   "metadata": {},
   "outputs": [],
   "source": [
    "f = open('C:\\\\MyWork\\MyLearning\\\\ML\\Files\\\\Videos\\\\NLP\\\\Chatbot\\\\globalwarming.txt','r',errors ='ignore')"
   ]
  },
  {
   "cell_type": "code",
   "execution_count": 6,
   "metadata": {},
   "outputs": [
    {
     "data": {
      "text/plain": [
       "'it is a major aspect of climate change and has been demonstrated by direct temperature measurements and by measurements of various effects of the warming.'"
      ]
     },
     "execution_count": 6,
     "metadata": {},
     "output_type": "execute_result"
    }
   ],
   "source": [
    "raw = f.read()\n",
    "\n",
    "raw = raw.lower()\n",
    "\n",
    "sent_tokens = sent_tokenize(raw)\n",
    "word_tokens = word_tokenize(raw)\n",
    "\n",
    "sent_tokens[1]"
   ]
  },
  {
   "cell_type": "code",
   "execution_count": 7,
   "metadata": {},
   "outputs": [],
   "source": [
    "# Preprocessing\n",
    "\n",
    "lemmer = nltk.stem.WordNetLemmatizer()\n",
    "\n",
    "def LemTokens(tokens):\n",
    "    return [lemmer.lemmatize(token) for token in tokens]\n",
    "\n",
    "remove_punct_dict = dict((ord(punct),None) for punct in string.punctuation)\n",
    "\n",
    "def LemNormalize(text):\n",
    "    print(\"MyText:\"+text)\n",
    "    return LemTokens(nltk.word_tokenize(text.lower().translate(remove_punct_dict)))"
   ]
  },
  {
   "cell_type": "code",
   "execution_count": 8,
   "metadata": {},
   "outputs": [],
   "source": [
    "# Greeting\n",
    "\n",
    "Greeting_Inputs = (\"hello\",\"hi\",\"greetings\",\"sup\",\"what's up\",\"hey\")\n",
    "greeting_responses = [\"hi\",\"hey\",\"*nods*\",\"hi there\",\"hello\",\"I am glad! You are talking to me\"]\n",
    "\n",
    "def greeting(sentences):\n",
    "    for word in sentences.split():\n",
    "        if word.lower() in Greeting_Inputs:\n",
    "            return random.choice(greeting_responses)\n",
    "        "
   ]
  },
  {
   "cell_type": "code",
   "execution_count": 9,
   "metadata": {},
   "outputs": [],
   "source": [
    "# Vectorizer\n",
    "\n",
    "from sklearn.feature_extraction.text import TfidfVectorizer\n",
    "from sklearn.metrics.pairwise import cosine_similarity\n",
    "\n",
    "def response(user_response):\n",
    "    chatbot_response = ''\n",
    "    sent_tokens.append(user_response)\n",
    "    TfidfVec = TfidfVectorizer(tokenizer=LemNormalize,stop_words='english')\n",
    "    tfidf = TfidfVec.fit_transform(sent_tokens)\n",
    "    vals = cosine_similarity(tfidf[-1],tfidf)\n",
    "    idx = vals.argsort()[0][-2]\n",
    "    flat = vals.flatten()\n",
    "    flat.sort()\n",
    "    req_tfidf=flat[-2]\n",
    "    if(req_tfidf ==0):\n",
    "        chatbot_response = chatbot_response +\"I am sorry! I don't understand you\"\n",
    "        return chatbot_response\n",
    "    else:\n",
    "        chatbot_response = chatbot_response + sent_tokens[idx]\n",
    "        return chatbot_response\n",
    "    \n",
    "# argsort --> Gives the Index of the values"
   ]
  },
  {
   "cell_type": "code",
   "execution_count": null,
   "metadata": {},
   "outputs": [
    {
     "name": "stdout",
     "output_type": "stream",
     "text": [
      "Chatbot: My name is Chatbot. I will answer your queries about chatbots. If you want to exist.Type Bye\n"
     ]
    }
   ],
   "source": [
    "flag = True\n",
    "print(\"Chatbot: My name is Chatbot. I will answer your queries about chatbots. If you want to exist.Type Bye\")\n",
    "while(flag==True):\n",
    "    user_response = input()\n",
    "    user_response = user_response.lower()\n",
    "    if(user_response!='bye'):\n",
    "        if(user_response =='thanks' or user_response=='thank you'):\n",
    "            flag=False\n",
    "            print(\"Chatbot: You are welcome\")\n",
    "        else:\n",
    "            if(greeting(user_response)!=None):\n",
    "                print(\"Chatbot:\" +greeting(user_response))\n",
    "            else:\n",
    "                print(\"Chatbot: \",end=\"\")\n",
    "                print(response(user_response))\n",
    "                sent_tokens.remove(user_response)\n",
    "    else:\n",
    "        flag=False\n",
    "        print(\"Chatbot: Bye! take care..\")"
   ]
  },
  {
   "cell_type": "code",
   "execution_count": null,
   "metadata": {},
   "outputs": [],
   "source": []
  },
  {
   "cell_type": "code",
   "execution_count": null,
   "metadata": {},
   "outputs": [],
   "source": []
  }
 ],
 "metadata": {
  "kernelspec": {
   "display_name": "Python 3",
   "language": "python",
   "name": "python3"
  },
  "language_info": {
   "codemirror_mode": {
    "name": "ipython",
    "version": 3
   },
   "file_extension": ".py",
   "mimetype": "text/x-python",
   "name": "python",
   "nbconvert_exporter": "python",
   "pygments_lexer": "ipython3",
   "version": "3.7.4"
  }
 },
 "nbformat": 4,
 "nbformat_minor": 2
}
